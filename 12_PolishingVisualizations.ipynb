{
 "cells": [
  {
   "cell_type": "code",
   "execution_count": null,
   "id": "a1eff5df-e219-4dc8-8a22-40ce22763213",
   "metadata": {
    "slideshow": {
     "slide_type": "slide"
    },
    "tags": []
   },
   "outputs": [],
   "source": [
    "#Run the following code to print multiple outputs from a cell\n",
    "get_ipython().ast_node_interactivity = 'all'"
   ]
  },
  {
   "cell_type": "markdown",
   "id": "95f0fa0c-294a-483a-b6e5-f82f1ba0e822",
   "metadata": {},
   "source": [
    "# Polishing Visualizations\n",
    "\n",
    "Last class, we looked at the basics for creating graphs with `gglot()`. In general, the layers of a basic `ggplot()` graph are as follows:\n",
    "\n",
    "```\n",
    "(ggplot(df, aes(map variables to the graphical elements)) +\n",
    "   geometric_function())\n",
    "```\n",
    "\n",
    "Today, we're going to look at code to add titles/labels, to customize the graphical elements, and to annotate text, points, or lines. We simply add these layers as follows:\n",
    "\n",
    "```\n",
    "(ggplot(df, aes(map variables to the graphical elements)) +\n",
    "   geometric_function() +\n",
    "   labs(customize titles/labels) +\n",
    "   scale...(customize the graphical elements) +\n",
    "   annotate(add annotations to the graph))\n",
    "```\n",
    "\n",
    "Let's again import `plotnine` as well as the file, \"dataBeatport.csv\": "
   ]
  },
  {
   "cell_type": "code",
   "execution_count": null,
   "id": "9a3f3516-7be8-4b4e-bf29-f4804f38465b",
   "metadata": {},
   "outputs": [],
   "source": [
    "from plotnine import *\n",
    "import pandas as pd\n",
    "df = pd.read_csv(\"dataBeatport.csv\")\n",
    "df"
   ]
  },
  {
   "cell_type": "markdown",
   "id": "5dcf9bf0-1119-4242-a042-370fbae72ad7",
   "metadata": {},
   "source": [
    "## Review of `ggplot()` structure\n",
    "\n",
    "To review what we covered last class, write code to create a scatter plot with the following elements:\n",
    "\n",
    "* \"labelSongs\" is x and \"daysAfterRelease\" is y\n",
    "* color the points by the \"enteredCharts\" variable (remember to use `factor()` to tell `ggplot()` to treat \"enteredCharts\" as a categorical variable)\n",
    "* add \"genre\" as a shape element\n",
    "* add \"twitterFollowers\" as a size element"
   ]
  },
  {
   "cell_type": "code",
   "execution_count": null,
   "id": "1882c086-47af-4b3b-a95c-bb11ad34640e",
   "metadata": {},
   "outputs": [],
   "source": []
  },
  {
   "cell_type": "markdown",
   "id": "06d49d5b-f75e-4665-99ae-dcf5bb46c379",
   "metadata": {},
   "source": [
    "Let's start to customize this graph to make it easier to interpret."
   ]
  },
  {
   "cell_type": "markdown",
   "id": "68aa8637-a204-4f5f-a4a1-b51661a30670",
   "metadata": {},
   "source": [
    "## Titles/Labels\n",
    "\n",
    "Use the `+ labs()` layer to customize your chart title and labels. Below, I've provided the `labs()` layer for the graph above...copy/paste that code to the cell below to include these labels:"
   ]
  },
  {
   "cell_type": "code",
   "execution_count": null,
   "id": "49639e26-58b5-4680-84c8-6d08933a9df7",
   "metadata": {},
   "outputs": [],
   "source": [
    "(  +\n",
    "   labs(title = \"this is a title\",\n",
    "       subtitle = \"this is a subtitle\",\n",
    "       caption = \"this is a caption\",\n",
    "       x = \"this is the x-axis label\",\n",
    "       y = \"this is the y-axis label\",\n",
    "       color = \"this is the color legend\",\n",
    "       shape = \"this is the shape legend\",\n",
    "       size = \"this is the size legend\")\n",
    ")"
   ]
  },
  {
   "cell_type": "markdown",
   "id": "8aa0c647-a7cd-4fb9-a361-5623d92eb790",
   "metadata": {},
   "source": [
    "Copy/paste the code to the cell below and update the titles/labels with the following information:\n",
    "\n",
    "* Title: \"No relationship between Label Songs and Release Days\"\n",
    "* Subtitle: \"Entered vs. Not Entered the Charts\"\n",
    "* Caption: \"Source: dataBeatport.csv\"\n",
    "* x-axis: \"# of Songs from the Label\"\n",
    "* y-axis: \"Days after Release\"\n",
    "* color legend: \"Entered the Charts?\"\n",
    "* shape legend: \"Music Genre\"\n",
    "* size legend: \"# of Twitter Followers\""
   ]
  },
  {
   "cell_type": "code",
   "execution_count": null,
   "id": "2db2511b-7151-458e-8d45-e3483c3a6f21",
   "metadata": {},
   "outputs": [],
   "source": []
  },
  {
   "cell_type": "markdown",
   "id": "54116a47-f690-411c-b2e3-4744da3b34d0",
   "metadata": {},
   "source": [
    "We don't really need the shape legend for Music Genre since the categories make it obvious. Can you figure out how to adjust your code to remove that title?\n",
    "\n",
    "Also, I think the title might look better on 2 lines...to add a line break, you can use \"\\n\" in your title. Add that before the word \"and\" and re-run your code."
   ]
  },
  {
   "cell_type": "markdown",
   "id": "2952aab2-5f51-4529-8389-56f9be77dd38",
   "metadata": {},
   "source": [
    "## Scales\n",
    "\n",
    "Now that we've labeled our graph, we can use scales to adjust the graphical elements for each variable. The structure of the scales layer is as follows:\n",
    "\n",
    "```\n",
    "   + scale_aestheticElement_discreteOrContinuous(settings)\n",
    "```\n",
    "\n",
    "For example: `scale_x_continuous(settings)` or `scale_color_discrete(settings)`, etc.\n",
    "\n",
    "### X and Y scales\n",
    "\n",
    "Let's first look at the x- and y-axes. Both variables are continuous variables, so we'll use `scale_x_continuous()` and `scale_y_continuous()`.\n",
    "\n",
    "Let's change the tick marks for the x axis with the `breaks` setting:"
   ]
  },
  {
   "cell_type": "code",
   "execution_count": null,
   "id": "08a1d35c-26a5-414e-a71d-cc38a46a559d",
   "metadata": {},
   "outputs": [],
   "source": [
    "(ggplot(df, aes(x = \"labelSongs\", y = \"daysAfterRelease\", color = \"factor(enteredCharts)\",\n",
    "               shape = \"genre\", size = \"twitterFollowers\")) +\n",
    "   geom_point()   +\n",
    "   labs(title = \"No relationship between Label Songs \\nand Release Days\",\n",
    "       subtitle = \"Entered vs. Not Entered the Charts\",\n",
    "       caption = \"Source: dataBeatport.csv\",\n",
    "       x = \"# of Songs from the Label\",\n",
    "       y = \"Days after Release\",\n",
    "       color = \"Entered the Charts?\",\n",
    "       shape = \"\",\n",
    "       size = \"# of Twitter Followers\") +\n",
    "   scale_x_continuous(breaks = [0, 2500, 5000, 7500, 10000, 12500, 15000])\n",
    ")"
   ]
  },
  {
   "cell_type": "markdown",
   "id": "3ec76bf2-c832-4477-99f3-c954e54e6a3c",
   "metadata": {},
   "source": [
    "We can also change the tick mark labels using the `label` setting. Let's abbreviate the tick mark labels using \"k\" to indicate thousands:"
   ]
  },
  {
   "cell_type": "code",
   "execution_count": null,
   "id": "de6d872a-65fa-4d3d-8e20-240933b60176",
   "metadata": {},
   "outputs": [],
   "source": [
    "(ggplot(df, aes(x = \"labelSongs\", y = \"daysAfterRelease\", color = \"factor(enteredCharts)\",\n",
    "               shape = \"genre\", size = \"twitterFollowers\")) +\n",
    "   geom_point()   +\n",
    "   labs(title = \"No relationship between Label Songs \\nand Release Days\",\n",
    "       subtitle = \"Entered vs. Not Entered the Charts\",\n",
    "       caption = \"Source: dataBeatport.csv\",\n",
    "       x = \"# of Songs from the Label\",\n",
    "       y = \"Days after Release\",\n",
    "       color = \"Entered the Charts?\",\n",
    "       shape = \"\",\n",
    "       size = \"# of Twitter Followers\") +\n",
    "   scale_x_continuous(breaks = [0, 2500, 5000, 7500, 10000, 12500, 15000],\n",
    "                     labels = [\"0k\", \"2.5k\", \"5k\", \"7.5k\", \"10k\", \"12.5k\", \"15k\"])\n",
    ")"
   ]
  },
  {
   "cell_type": "markdown",
   "id": "4027a493-e6c5-4106-b834-6769a443584b",
   "metadata": {},
   "source": [
    "What if you wanted to filter the \"artistSongs\" variable to only display a subset of data? You can use the `limits` setting:"
   ]
  },
  {
   "cell_type": "code",
   "execution_count": null,
   "id": "d413a36e-df1a-452f-b99e-079db0712c50",
   "metadata": {},
   "outputs": [],
   "source": [
    "(ggplot(df, aes(x = \"labelSongs\", y = \"daysAfterRelease\", color = \"factor(enteredCharts)\",\n",
    "               shape = \"genre\", size = \"twitterFollowers\")) +\n",
    "   geom_point()   +\n",
    "   labs(title = \"No relationship between Label Songs \\nand Release Days\",\n",
    "       subtitle = \"Entered vs. Not Entered the Charts\",\n",
    "       caption = \"Source: dataBeatport.csv\",\n",
    "       x = \"# of Songs from the Label\",\n",
    "       y = \"Days after Release\",\n",
    "       color = \"Entered the Charts?\",\n",
    "       shape = \"\",\n",
    "       size = \"# of Twitter Followers\") +\n",
    "   scale_x_continuous(breaks = [0, 2500, 5000, 7500, 10000, 12500, 15000],\n",
    "                     labels = [\"0k\", \"2.5k\", \"5k\", \"7.5k\", \"10k\", \"12.5k\", \"15k\"],\n",
    "                     limits = [0,10000])\n",
    ")"
   ]
  },
  {
   "cell_type": "markdown",
   "id": "a1ab1e6a-d864-443f-bbff-2a6a02066882",
   "metadata": {},
   "source": [
    "To recap, we used `breaks`, `labels`, and `limits` to customize the x-axis. Now you try...customize the y-axis as follows:\n",
    "\n",
    "* Display data for days 0 to 50 only\n",
    "* Show tick marks for 0, 10, 20, 30, 40, and 50 days"
   ]
  },
  {
   "cell_type": "code",
   "execution_count": null,
   "id": "24654e62-339d-458d-aaee-44675b5cffb5",
   "metadata": {},
   "outputs": [],
   "source": []
  },
  {
   "cell_type": "markdown",
   "id": "18620431-03f4-44be-a8bc-bf9033c06f6a",
   "metadata": {},
   "source": [
    "### Color/Shape/Size Scales\n",
    "\n",
    "We can also use `breaks`, `labels`, and `limits` for color, shape, and size aesthetic elements. The `breaks` set the values that are listed in each legend. For example, let's only show 5,000,000 and 20,000,000 in the size legend:"
   ]
  },
  {
   "cell_type": "code",
   "execution_count": null,
   "id": "330e3d3e-0b94-4795-96a0-a52683ecdb2a",
   "metadata": {},
   "outputs": [],
   "source": [
    "(ggplot(df, aes(x = \"labelSongs\", y = \"daysAfterRelease\", color = \"factor(enteredCharts)\",\n",
    "               shape = \"genre\", size = \"twitterFollowers\")) +\n",
    "   geom_point()   +\n",
    "   labs(title = \"No relationship between Label Songs \\nand Release Days\",\n",
    "       subtitle = \"Entered vs. Not Entered the Charts\",\n",
    "       caption = \"Source: dataBeatport.csv\",\n",
    "       x = \"# of Songs from the Label\",\n",
    "       y = \"Days after Release\",\n",
    "       color = \"Entered the Charts?\",\n",
    "       shape = \"\",\n",
    "       size = \"# of Twitter Followers\") +\n",
    "   scale_x_continuous(breaks = [0, 2500, 5000, 7500, 10000, 12500, 15000],\n",
    "                     labels = [\"0k\", \"2.5k\", \"5k\", \"7.5k\", \"10k\", \"12.5k\", \"15k\"],\n",
    "                     limits = [0,10000]) +\n",
    "   scale_y_continuous(breaks = [0, 10, 20, 30, 40, 50],\n",
    "                     limits = [0,50]) +\n",
    "   scale_size_continuous(breaks = [5000000, 20000000],\n",
    "                        labels = [\"5M\", \"20M\"])\n",
    ")"
   ]
  },
  {
   "cell_type": "markdown",
   "id": "68094f07-c2cb-4c28-a2cf-5fac462906c3",
   "metadata": {},
   "source": [
    "Now you try. For the color legend, let's re-label \"0\" as \"Didn't enter charts\" and \"1\" as \"Entered charts\". Also, since we're labeling the colors, let's remove the legend label."
   ]
  },
  {
   "cell_type": "code",
   "execution_count": null,
   "id": "8f208322-60cf-40ee-af40-f0edcb32a995",
   "metadata": {},
   "outputs": [],
   "source": []
  },
  {
   "cell_type": "markdown",
   "id": "e11f5049-5d56-4ebd-a26f-cc803ad0d5cc",
   "metadata": {},
   "source": [
    "### Updating the Size range\n",
    "\n",
    "An additional setting for the `size` scale is `range`, where you can set the range of the sizes:"
   ]
  },
  {
   "cell_type": "code",
   "execution_count": null,
   "id": "6b817236-47db-4d06-8827-5b6cd22ee7aa",
   "metadata": {},
   "outputs": [],
   "source": [
    "(ggplot(df, aes(x = \"labelSongs\", y = \"daysAfterRelease\", color = \"factor(enteredCharts)\",\n",
    "               shape = \"genre\", size = \"twitterFollowers\")) +\n",
    "   geom_point()   +\n",
    "   labs(title = \"No relationship between Label Songs \\nand Release Days\",\n",
    "       subtitle = \"Entered vs. Not Entered the Charts\",\n",
    "       caption = \"Source: dataBeatport.csv\",\n",
    "       x = \"# of Songs from the Label\",\n",
    "       y = \"Days after Release\",\n",
    "       color = \"\",\n",
    "       shape = \"\",\n",
    "       size = \"# of Twitter Followers\") +\n",
    "   scale_x_continuous(breaks = [0, 2500, 5000, 7500, 10000, 12500, 15000],\n",
    "                     labels = [\"0k\", \"2.5k\", \"5k\", \"7.5k\", \"10k\", \"12.5k\", \"15k\"],\n",
    "                     limits = [0,10000]) +\n",
    "   scale_y_continuous(breaks = [0, 10, 20, 30, 40, 50],\n",
    "                     limits = [0,50]) +\n",
    "   scale_size_continuous(breaks = [5000000, 20000000],\n",
    "                        labels = [\"5M\", \"20M\"],\n",
    "                        range = [1,8]) +\n",
    "   scale_color_discrete(labels = [\"Didn't enter charts\", \"Entered charts\"])\n",
    ")"
   ]
  },
  {
   "cell_type": "markdown",
   "id": "4ac4d721-0adb-4a1e-bb76-72a85a8b0b18",
   "metadata": {},
   "source": [
    "### Updating the Colors\n",
    "\n",
    "For the `color` scale, you can specify the colors you'd like to use with the `values` setting. However, you also need to specifically use `scale_color_manual` when doing this:"
   ]
  },
  {
   "cell_type": "code",
   "execution_count": null,
   "id": "5f528d5f-c876-4f47-b1e2-48274ac638d4",
   "metadata": {},
   "outputs": [],
   "source": [
    "(ggplot(df, aes(x = \"labelSongs\", y = \"daysAfterRelease\", color = \"factor(enteredCharts)\",\n",
    "               shape = \"genre\", size = \"twitterFollowers\")) +\n",
    "   geom_point()   +\n",
    "   labs(title = \"No relationship between Label Songs \\nand Release Days\",\n",
    "       subtitle = \"Entered vs. Not Entered the Charts\",\n",
    "       caption = \"Source: dataBeatport.csv\",\n",
    "       x = \"# of Songs from the Label\",\n",
    "       y = \"Days after Release\",\n",
    "       color = \"\",\n",
    "       shape = \"\",\n",
    "       size = \"# of Twitter Followers\") +\n",
    "   scale_x_continuous(breaks = [0, 2500, 5000, 7500, 10000, 12500, 15000],\n",
    "                     labels = [\"0k\", \"2.5k\", \"5k\", \"7.5k\", \"10k\", \"12.5k\", \"15k\"],\n",
    "                     limits = [0,10000]) +\n",
    "   scale_y_continuous(breaks = [0, 10, 20, 30, 40, 50],\n",
    "                     limits = [0,50]) +\n",
    "   scale_size_continuous(breaks = [5000000, 20000000],\n",
    "                        labels = [\"5M\", \"20M\"],\n",
    "                        range = [1,8]) +\n",
    "   scale_color_manual(labels = [\"Didn't enter charts\", \"Entered charts\"],\n",
    "                       values = [\"tan\", \"maroon\"])\n",
    ")"
   ]
  },
  {
   "cell_type": "markdown",
   "id": "8ce67122-4dce-4012-b02b-412a4ed291d7",
   "metadata": {},
   "source": [
    "You can find codes for other colors here:  https://en.wikipedia.org/wiki/Web_colors."
   ]
  },
  {
   "cell_type": "markdown",
   "id": "e20b7d5f-45cf-49b1-be51-90a5f1a25429",
   "metadata": {},
   "source": [
    "### Changing the Shapes\n",
    "\n",
    "With the `shape` scale, you can specify specific shapes, again with the `values` setting. Let's say we wanted all genres with \"House\" in the name to be represented with circles (\"o\") and everything else with pluses (\"+\"):"
   ]
  },
  {
   "cell_type": "code",
   "execution_count": null,
   "id": "cd21f914-8cc1-4be9-ae8a-9514a7deed7c",
   "metadata": {},
   "outputs": [],
   "source": [
    "(ggplot(df, aes(x = \"labelSongs\", y = \"daysAfterRelease\", color = \"factor(enteredCharts)\",\n",
    "               shape = \"genre\", size = \"twitterFollowers\")) +\n",
    "   geom_point()   +\n",
    "   labs(title = \"No relationship between Label Songs \\nand Release Days\",\n",
    "       subtitle = \"Entered vs. Not Entered the Charts\",\n",
    "       caption = \"Source: dataBeatport.csv\",\n",
    "       x = \"# of Songs from the Label\",\n",
    "       y = \"Days after Release\",\n",
    "       color = \"\",\n",
    "       shape = \"\",\n",
    "       size = \"# of Twitter Followers\") +\n",
    "   scale_x_continuous(breaks = [0, 2500, 5000, 7500, 10000, 12500, 15000],\n",
    "                     labels = [\"0k\", \"2.5k\", \"5k\", \"7.5k\", \"10k\", \"12.5k\", \"15k\"],\n",
    "                     limits = [0,10000]) +\n",
    "   scale_y_continuous(breaks = [0, 10, 20, 30, 40, 50],\n",
    "                     limits = [0,50]) +\n",
    "   scale_size_continuous(breaks = [5000000, 20000000],\n",
    "                        labels = [\"5M\", \"20M\"],\n",
    "                        range = [1,8]) +\n",
    "   scale_color_manual(labels = [\"Didn't enter charts\", \"Entered charts\"],\n",
    "                       values = [\"tan\", \"maroon\"]) +\n",
    "   scale_shape_manual(values = {\"Deep House\": \"o\", \"Dubstep\": \"+\", \"Electro House\": \"o\",\n",
    "                               \"House\": \"o\", \"Progressive House\": \"o\", \"Techno\": \"+\",\n",
    "                               \"Trance\": \"+\"})\n",
    ")"
   ]
  },
  {
   "cell_type": "markdown",
   "id": "78a023cf-aa60-4fc6-ba03-fc6522296fdc",
   "metadata": {},
   "source": [
    "You can find a list of codes for shapes at this link: https://matplotlib.org/stable/api/markers_api.html."
   ]
  },
  {
   "cell_type": "markdown",
   "id": "3fc2811a-21aa-4e1a-8b96-f7004b5aed0f",
   "metadata": {},
   "source": [
    "## Annotations\n",
    "\n",
    "Using `scale` layers allow you to customize the appearance of any graphical elements that are mapped to a variable. What if you want to add an element that is not tied to a variable? You can do this with annotations.\n",
    "\n",
    "The structure of the `annotate` layer is as follows:\n",
    "\n",
    "```\n",
    "  + annotate(\"annotationObject\", x = x_coordinate, y = y_coordinate)\n",
    "```\n",
    "\n",
    "...where the x- and y-coordinates are where you want to center your annotation. You can also add on other settings like `color` and `size`.\n",
    "\n",
    "The three annotation objects we'll cover are \"text\", \"point\", and \"segment\".\n",
    "\n",
    "### Annotate: Text\n",
    "\n",
    "You can use `\"text\"` to annotate text onto your graph. Let's label the point in the lower right corner of the graph as an outlier:"
   ]
  },
  {
   "cell_type": "code",
   "execution_count": null,
   "id": "8a6fa5f8-533e-4ff2-bb0d-14b8924dc764",
   "metadata": {},
   "outputs": [],
   "source": [
    "(ggplot(df, aes(x = \"labelSongs\", y = \"daysAfterRelease\", color = \"factor(enteredCharts)\",\n",
    "               shape = \"genre\", size = \"twitterFollowers\")) +\n",
    "   geom_point()   +\n",
    "   labs(title = \"No relationship between Label Songs \\nand Release Days\",\n",
    "       subtitle = \"Entered vs. Not Entered the Charts\",\n",
    "       caption = \"Source: dataBeatport.csv\",\n",
    "       x = \"# of Songs from the Label\",\n",
    "       y = \"Days after Release\",\n",
    "       color = \"\",\n",
    "       shape = \"\",\n",
    "       size = \"# of Twitter Followers\") +\n",
    "   scale_x_continuous(breaks = [0, 2500, 5000, 7500, 10000, 12500, 15000],\n",
    "                     labels = [\"0k\", \"2.5k\", \"5k\", \"7.5k\", \"10k\", \"12.5k\", \"15k\"],\n",
    "                     limits = [0,10000]) +\n",
    "   scale_y_continuous(breaks = [0, 10, 20, 30, 40, 50],\n",
    "                     limits = [0,50]) +\n",
    "   scale_size_continuous(breaks = [5000000, 20000000],\n",
    "                        labels = [\"5M\", \"20M\"],\n",
    "                        range = [1,8]) +\n",
    "   scale_color_manual(labels = [\"Didn't enter charts\", \"Entered charts\"],\n",
    "                       values = [\"tan\", \"maroon\"]) +\n",
    "   scale_shape_manual(values = {\"Deep House\": \"o\", \"Dubstep\": \"+\", \"Electro House\": \"o\",\n",
    "                               \"House\": \"o\", \"Progressive House\": \"o\", \"Techno\": \"+\",\n",
    "                               \"Trance\": \"+\"}) +\n",
    "   annotate(\"text\", label = \"Outlier\", x = 9000, y = 10, color = \"green\", size = 15)\n",
    ")"
   ]
  },
  {
   "cell_type": "markdown",
   "id": "e8552317-7129-449d-88d6-a94573cd0ce0",
   "metadata": {},
   "source": [
    "### Annotate: Point\n",
    "\n",
    "We can annotate a `\"point\"` onto the graph, once again setting the coordinates for where it should be drawn. Let's label that outlier point with a large green dot:"
   ]
  },
  {
   "cell_type": "code",
   "execution_count": null,
   "id": "4367fd15-6fdb-4bb2-8aa9-7ba50b19af63",
   "metadata": {},
   "outputs": [],
   "source": [
    "(ggplot(df, aes(x = \"labelSongs\", y = \"daysAfterRelease\", color = \"factor(enteredCharts)\",\n",
    "               shape = \"genre\", size = \"twitterFollowers\")) +\n",
    "   geom_point()   +\n",
    "   labs(title = \"No relationship between Label Songs \\nand Release Days\",\n",
    "       subtitle = \"Entered vs. Not Entered the Charts\",\n",
    "       caption = \"Source: dataBeatport.csv\",\n",
    "       x = \"# of Songs from the Label\",\n",
    "       y = \"Days after Release\",\n",
    "       color = \"\",\n",
    "       shape = \"\",\n",
    "       size = \"# of Twitter Followers\") +\n",
    "   scale_x_continuous(breaks = [0, 2500, 5000, 7500, 10000, 12500, 15000],\n",
    "                     labels = [\"0k\", \"2.5k\", \"5k\", \"7.5k\", \"10k\", \"12.5k\", \"15k\"],\n",
    "                     limits = [0,10000]) +\n",
    "   scale_y_continuous(breaks = [0, 10, 20, 30, 40, 50],\n",
    "                     limits = [0,50]) +\n",
    "   scale_size_continuous(breaks = [5000000, 20000000],\n",
    "                        labels = [\"5M\", \"20M\"],\n",
    "                        range = [1,8]) +\n",
    "   scale_color_manual(labels = [\"Didn't enter charts\", \"Entered charts\"],\n",
    "                       values = [\"tan\", \"maroon\"]) +\n",
    "   scale_shape_manual(values = {\"Deep House\": \"o\", \"Dubstep\": \"+\", \"Electro House\": \"o\",\n",
    "                               \"House\": \"o\", \"Progressive House\": \"o\", \"Techno\": \"+\",\n",
    "                               \"Trance\": \"+\"}) +\n",
    "   annotate(\"text\", label = \"Outlier\", x = 9000, y = 10, color = \"green\", size = 15) +\n",
    "   annotate(\"point\", x = 9100, y = 6, color = \"green\", size = 5, shape = \"X\")\n",
    ")"
   ]
  },
  {
   "cell_type": "markdown",
   "id": "421815a1-e680-429a-bd72-99bb1fae130e",
   "metadata": {},
   "source": [
    "### Annotate: Segment\n",
    "\n",
    "To draw a line, you can annotate a `\"segment\"`. Because there's a starting and ending point for both the x- and y-coordinates, you need to specify each. Let's draw a dashed horizontal line for the mean value of \"daysAfterRelease\" (which is 15.4):"
   ]
  },
  {
   "cell_type": "code",
   "execution_count": null,
   "id": "435892ba-db31-4260-a630-b4fc82ea29e0",
   "metadata": {},
   "outputs": [],
   "source": [
    "(ggplot(df, aes(x = \"labelSongs\", y = \"daysAfterRelease\", color = \"factor(enteredCharts)\",\n",
    "               shape = \"genre\", size = \"twitterFollowers\")) +\n",
    "   geom_point()   +\n",
    "   labs(title = \"No relationship between Label Songs \\nand Release Days\",\n",
    "       subtitle = \"Entered vs. Not Entered the Charts\",\n",
    "       caption = \"Source: dataBeatport.csv\",\n",
    "       x = \"# of Songs from the Label\",\n",
    "       y = \"Days after Release\",\n",
    "       color = \"\",\n",
    "       shape = \"\",\n",
    "       size = \"# of Twitter Followers\") +\n",
    "   scale_x_continuous(breaks = [0, 2500, 5000, 7500, 10000, 12500, 15000],\n",
    "                     labels = [\"0k\", \"2.5k\", \"5k\", \"7.5k\", \"10k\", \"12.5k\", \"15k\"],\n",
    "                     limits = [0,10000]) +\n",
    "   scale_y_continuous(breaks = [0, 10, 20, 30, 40, 50],\n",
    "                     limits = [0,50]) +\n",
    "   scale_size_continuous(breaks = [5000000, 20000000],\n",
    "                        labels = [\"5M\", \"20M\"],\n",
    "                        range = [1,8]) +\n",
    "   scale_color_manual(labels = [\"Didn't enter charts\", \"Entered charts\"],\n",
    "                       values = [\"tan\", \"maroon\"]) +\n",
    "   scale_shape_manual(values = {\"Deep House\": \"o\", \"Dubstep\": \"+\", \"Electro House\": \"o\",\n",
    "                               \"House\": \"o\", \"Progressive House\": \"o\", \"Techno\": \"+\",\n",
    "                               \"Trance\": \"+\"}) +\n",
    "   annotate(\"text\", label = \"Outlier\", x = 9000, y = 10, color = \"green\", size = 15) +\n",
    "   annotate(\"point\", x = 9100, y = 6, color = \"green\", size = 5, shape = \"X\") +\n",
    "   annotate(\"segment\", x = 0, xend = 10000, y = 15.4, yend = 15.4, linetype = \"dashed\", \n",
    "           color = \"blue\", size = 1)\n",
    ")"
   ]
  },
  {
   "cell_type": "markdown",
   "id": "2f8a9cac-fd6d-4a11-bb88-a509a5968edc",
   "metadata": {},
   "source": [
    "We probably should label the line. Annotate text onto the graph (above the blue line) to indicate \"Average Days\" and use blue font color:"
   ]
  },
  {
   "cell_type": "code",
   "execution_count": null,
   "id": "946a07c5-755d-4061-a81e-1863058dc0b4",
   "metadata": {},
   "outputs": [],
   "source": []
  },
  {
   "attachments": {
    "6c3481aa-ffc4-4e66-9c25-64f1688e204b.png": {
     "image/png": "[encoded data removed]"
    }
   },
   "cell_type": "markdown",
   "id": "59071794-7d88-413c-a757-80b381020b25",
   "metadata": {},
   "source": [
    "## Practice\n",
    "\n",
    "Re-create the following bar chart:\n",
    "\n",
    "![image.png](attachment:6c3481aa-ffc4-4e66-9c25-64f1688e204b.png)\n",
    "\n",
    "The following are hints that might help you:\n",
    "\n",
    "* The variables I used are \"genre\" and \"enteredCharts\"\n",
    "* Remember to use `factor()` to convert \"enteredCharts\" to categorical\n",
    "* Similar to `scale_color_manual()`, there's also a `scale_fill_manual()` and the colors I used are \"yellow\" and \"green\"\n",
    "* For the dashed line, x = 0 and xend = 8"
   ]
  },
  {
   "cell_type": "code",
   "execution_count": null,
   "id": "796ab2dd-d810-484f-8e3c-58cdc7e14c5b",
   "metadata": {},
   "outputs": [],
   "source": []
  },
  {
   "cell_type": "markdown",
   "id": "71562c95-1bc0-4872-abc0-6232bc15b9c1",
   "metadata": {},
   "source": [
    "## Going Further...Themes\n",
    "\n",
    "There's even more that you can do to customize the appearance of your graph. Adding `theme` layers allows you to adjust the overall appearance. For example, here's a revised version of the graph we've been working with:"
   ]
  },
  {
   "cell_type": "code",
   "execution_count": null,
   "id": "303be150-bc5d-4fe1-afdf-4403c9bfe599",
   "metadata": {},
   "outputs": [],
   "source": [
    "(ggplot(df, aes(x = \"labelSongs\", y = \"daysAfterRelease\", color = \"factor(enteredCharts)\",\n",
    "               shape = \"genre\", size = \"twitterFollowers\")) +\n",
    "   geom_point()   +\n",
    "   labs(title = \"No relationship between Label Songs \\nand Release Days\",\n",
    "       subtitle = \"Entered vs. Not Entered the Charts\",\n",
    "       caption = \"Source: dataBeatport.csv\",\n",
    "       x = \"# of Songs from the Label\",\n",
    "       y = \"Days after Release\",\n",
    "       color = \"\",\n",
    "       shape = \"\",\n",
    "       size = \"# of Twitter Followers\") +\n",
    "   scale_x_continuous(breaks = [0, 2500, 5000, 7500, 10000, 12500, 15000],\n",
    "                     labels = [\"0k\", \"2.5k\", \"5k\", \"7.5k\", \"10k\", \"12.5k\", \"15k\"],\n",
    "                     limits = [0,10000]) +\n",
    "   scale_y_continuous(breaks = [0, 10, 20, 30, 40, 50],\n",
    "                     limits = [0,50]) +\n",
    "   scale_size_continuous(breaks = [5000000, 20000000],\n",
    "                        labels = [\"5M\", \"20M\"],\n",
    "                        range = [1,8]) +\n",
    "   scale_color_manual(labels = [\"Didn't enter charts\", \"Entered charts\"],\n",
    "                       values = [\"tan\", \"maroon\"]) +\n",
    "   scale_shape_manual(values = {\"Deep House\": \"o\", \"Dubstep\": \"+\", \"Electro House\": \"o\",\n",
    "                               \"House\": \"o\", \"Progressive House\": \"o\", \"Techno\": \"+\",\n",
    "                               \"Trance\": \"+\"}) +\n",
    "   annotate(\"text\", label = \"Outlier\", x = 9000, y = 10, color = \"green\", size = 15) +\n",
    "   annotate(\"point\", x = 9100, y = 6, color = \"green\", size = 5, shape = \"X\") +\n",
    "   annotate(\"segment\", x = 0, xend = 10000, y = 15.4, yend = 15.4, linetype = \"dashed\", \n",
    "           color = \"blue\", size = 1) +\n",
    "   annotate(\"text\", label = \"Average Days\", x = 8500, y = 17, color = \"blue\") +\n",
    "   theme_minimal() +\n",
    "   theme(text = element_text(color = \"green\"),\n",
    "        panel_grid_minor = element_blank())\n",
    ")"
   ]
  },
  {
   "cell_type": "markdown",
   "id": "be98e0d0-4532-4c09-80aa-1ca7d7c24773",
   "metadata": {},
   "source": [
    "The syntax of `theme` layers are a bit more complicated. However, if you're interested in going further, here's a link to the plotnine documentation: https://plotnine.org/reference/#themes"
   ]
  }
 ],
 "metadata": {
  "kernelspec": {
   "display_name": "Python 3 (ipykernel)",
   "language": "python",
   "name": "python3"
  },
  "language_info": {
   "codemirror_mode": {
    "name": "ipython",
    "version": 3
   },
   "file_extension": ".py",
   "mimetype": "text/x-python",
   "name": "python",
   "nbconvert_exporter": "python",
   "pygments_lexer": "ipython3",
   "version": "3.10.10"
  }
 },
 "nbformat": 4,
 "nbformat_minor": 5
}
