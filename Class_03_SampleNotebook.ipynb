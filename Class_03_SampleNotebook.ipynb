{
 "cells": [
  {
   "cell_type": "markdown",
   "id": "ccab2fdc-bc31-4593-842f-a411d62c93d2",
   "metadata": {},
   "source": [
    "# Class 3\n",
    "\n",
    "Profiling data"
   ]
  },
  {
   "cell_type": "markdown",
   "id": "6b1f0a5f-53c1-4a11-9275-5ac0e2dcd541",
   "metadata": {},
   "source": [
    "## Getting data into Python"
   ]
  },
  {
   "cell_type": "code",
   "execution_count": 1,
   "id": "ea21834c-4930-4d65-a589-a9433baaeb93",
   "metadata": {},
   "outputs": [],
   "source": [
    "import pandas\n",
    "\n",
    "df = pandas.read_csv( \"StrikeReportsPartial.csv\" )"
   ]
  },
  {
   "cell_type": "markdown",
   "id": "143face4-5010-489c-86f3-b57ddc9f661f",
   "metadata": {},
   "source": [
    "## Initial checking"
   ]
  },
  {
   "cell_type": "code",
   "execution_count": 2,
   "id": "91c06354-a736-47e3-b858-2220b7f2e7e5",
   "metadata": {},
   "outputs": [
    {
     "data": {
      "text/plain": [
       "(157527, 17)"
      ]
     },
     "execution_count": 2,
     "metadata": {},
     "output_type": "execute_result"
    }
   ],
   "source": [
    "df.shape    "
   ]
  },
  {
   "cell_type": "code",
   "execution_count": 3,
   "id": "a1373daf-7466-4bfd-9051-7c09bbf93582",
   "metadata": {},
   "outputs": [
    {
     "data": {
      "text/plain": [
       "INDEX_NR             int64\n",
       "OPID                object\n",
       "ATYPE               object\n",
       "AC_MASS            float64\n",
       "INCIDENT_DATE       object\n",
       "TIME_OF_DAY         object\n",
       "AIRPORT_ID          object\n",
       "SPEED              float64\n",
       "DISTANCE           float64\n",
       "PHASE_OF_FLT        object\n",
       "DAMAGE              object\n",
       "SKY                 object\n",
       "PRECIP              object\n",
       "NR_INJURIES        float64\n",
       "NR_FATALITIES      float64\n",
       "NR_INJURIES_0        int64\n",
       "NR_FATALITIES_0      int64\n",
       "dtype: object"
      ]
     },
     "execution_count": 3,
     "metadata": {},
     "output_type": "execute_result"
    }
   ],
   "source": [
    "df.dtypes"
   ]
  },
  {
   "cell_type": "code",
   "execution_count": 4,
   "id": "66407416-6309-445e-a35e-5fb9dc4391b1",
   "metadata": {},
   "outputs": [
    {
     "data": {
      "text/html": [
       "<div>\n",
       "<style scoped>\n",
       "    .dataframe tbody tr th:only-of-type {\n",
       "        vertical-align: middle;\n",
       "    }\n",
       "\n",
       "    .dataframe tbody tr th {\n",
       "        vertical-align: top;\n",
       "    }\n",
       "\n",
       "    .dataframe thead th {\n",
       "        text-align: right;\n",
       "    }\n",
       "</style>\n",
       "<table border=\"1\" class=\"dataframe\">\n",
       "  <thead>\n",
       "    <tr style=\"text-align: right;\">\n",
       "      <th></th>\n",
       "      <th>INDEX_NR</th>\n",
       "      <th>OPID</th>\n",
       "      <th>ATYPE</th>\n",
       "      <th>AC_MASS</th>\n",
       "      <th>INCIDENT_DATE</th>\n",
       "      <th>TIME_OF_DAY</th>\n",
       "      <th>AIRPORT_ID</th>\n",
       "      <th>SPEED</th>\n",
       "      <th>DISTANCE</th>\n",
       "      <th>PHASE_OF_FLT</th>\n",
       "      <th>DAMAGE</th>\n",
       "      <th>SKY</th>\n",
       "      <th>PRECIP</th>\n",
       "      <th>NR_INJURIES</th>\n",
       "      <th>NR_FATALITIES</th>\n",
       "      <th>NR_INJURIES_0</th>\n",
       "      <th>NR_FATALITIES_0</th>\n",
       "    </tr>\n",
       "  </thead>\n",
       "  <tbody>\n",
       "    <tr>\n",
       "      <th>0</th>\n",
       "      <td>260720</td>\n",
       "      <td>PHM</td>\n",
       "      <td>SIKORSKY S-76</td>\n",
       "      <td>2.0</td>\n",
       "      <td>2009-01-04</td>\n",
       "      <td>Day</td>\n",
       "      <td>UNKN</td>\n",
       "      <td>135.0</td>\n",
       "      <td>NaN</td>\n",
       "      <td>En Route</td>\n",
       "      <td>D</td>\n",
       "      <td>Some Cloud</td>\n",
       "      <td>NaN</td>\n",
       "      <td>1.0</td>\n",
       "      <td>8.0</td>\n",
       "      <td>1</td>\n",
       "      <td>8</td>\n",
       "    </tr>\n",
       "    <tr>\n",
       "      <th>1</th>\n",
       "      <td>260583</td>\n",
       "      <td>BUS</td>\n",
       "      <td>CITATION</td>\n",
       "      <td>2.0</td>\n",
       "      <td>2008-03-04</td>\n",
       "      <td>Day</td>\n",
       "      <td>KPWA</td>\n",
       "      <td>NaN</td>\n",
       "      <td>4.0</td>\n",
       "      <td>Climb</td>\n",
       "      <td>D</td>\n",
       "      <td>No Cloud</td>\n",
       "      <td>None</td>\n",
       "      <td>NaN</td>\n",
       "      <td>5.0</td>\n",
       "      <td>0</td>\n",
       "      <td>5</td>\n",
       "    </tr>\n",
       "    <tr>\n",
       "      <th>2</th>\n",
       "      <td>128423</td>\n",
       "      <td>PVT</td>\n",
       "      <td>PA-23 APACHE</td>\n",
       "      <td>1.0</td>\n",
       "      <td>1998-03-04</td>\n",
       "      <td>Day</td>\n",
       "      <td>UNKN</td>\n",
       "      <td>146.0</td>\n",
       "      <td>NaN</td>\n",
       "      <td>En Route</td>\n",
       "      <td>D</td>\n",
       "      <td>No Cloud</td>\n",
       "      <td>None</td>\n",
       "      <td>NaN</td>\n",
       "      <td>2.0</td>\n",
       "      <td>0</td>\n",
       "      <td>2</td>\n",
       "    </tr>\n",
       "    <tr>\n",
       "      <th>3</th>\n",
       "      <td>221264</td>\n",
       "      <td>BUS</td>\n",
       "      <td>C-172</td>\n",
       "      <td>1.0</td>\n",
       "      <td>2003-07-08</td>\n",
       "      <td>Day</td>\n",
       "      <td>UNKN</td>\n",
       "      <td>110.0</td>\n",
       "      <td>NaN</td>\n",
       "      <td>En Route</td>\n",
       "      <td>D</td>\n",
       "      <td>Some Cloud</td>\n",
       "      <td>None</td>\n",
       "      <td>NaN</td>\n",
       "      <td>2.0</td>\n",
       "      <td>0</td>\n",
       "      <td>2</td>\n",
       "    </tr>\n",
       "    <tr>\n",
       "      <th>4</th>\n",
       "      <td>251781</td>\n",
       "      <td>BUS</td>\n",
       "      <td>PA-44 SEMINOLE</td>\n",
       "      <td>2.0</td>\n",
       "      <td>2007-10-23</td>\n",
       "      <td>Night</td>\n",
       "      <td>UNKN</td>\n",
       "      <td>150.0</td>\n",
       "      <td>NaN</td>\n",
       "      <td>En Route</td>\n",
       "      <td>D</td>\n",
       "      <td>No Cloud</td>\n",
       "      <td>NaN</td>\n",
       "      <td>NaN</td>\n",
       "      <td>2.0</td>\n",
       "      <td>0</td>\n",
       "      <td>2</td>\n",
       "    </tr>\n",
       "  </tbody>\n",
       "</table>\n",
       "</div>"
      ],
      "text/plain": [
       "   INDEX_NR OPID           ATYPE  AC_MASS INCIDENT_DATE TIME_OF_DAY  \\\n",
       "0    260720  PHM   SIKORSKY S-76      2.0    2009-01-04         Day   \n",
       "1    260583  BUS        CITATION      2.0    2008-03-04         Day   \n",
       "2    128423  PVT    PA-23 APACHE      1.0    1998-03-04         Day   \n",
       "3    221264  BUS           C-172      1.0    2003-07-08         Day   \n",
       "4    251781  BUS  PA-44 SEMINOLE      2.0    2007-10-23       Night   \n",
       "\n",
       "  AIRPORT_ID  SPEED  DISTANCE PHASE_OF_FLT DAMAGE         SKY PRECIP  \\\n",
       "0       UNKN  135.0       NaN     En Route      D  Some Cloud    NaN   \n",
       "1       KPWA    NaN       4.0        Climb      D    No Cloud   None   \n",
       "2       UNKN  146.0       NaN     En Route      D    No Cloud   None   \n",
       "3       UNKN  110.0       NaN     En Route      D  Some Cloud   None   \n",
       "4       UNKN  150.0       NaN     En Route      D    No Cloud    NaN   \n",
       "\n",
       "   NR_INJURIES  NR_FATALITIES  NR_INJURIES_0  NR_FATALITIES_0  \n",
       "0          1.0            8.0              1                8  \n",
       "1          NaN            5.0              0                5  \n",
       "2          NaN            2.0              0                2  \n",
       "3          NaN            2.0              0                2  \n",
       "4          NaN            2.0              0                2  "
      ]
     },
     "execution_count": 4,
     "metadata": {},
     "output_type": "execute_result"
    }
   ],
   "source": [
    "df.head()"
   ]
  },
  {
   "cell_type": "code",
   "execution_count": 5,
   "id": "eb015b55-bad7-4491-a3e6-21b3777908d1",
   "metadata": {},
   "outputs": [
    {
     "data": {
      "text/html": [
       "<div>\n",
       "<style scoped>\n",
       "    .dataframe tbody tr th:only-of-type {\n",
       "        vertical-align: middle;\n",
       "    }\n",
       "\n",
       "    .dataframe tbody tr th {\n",
       "        vertical-align: top;\n",
       "    }\n",
       "\n",
       "    .dataframe thead th {\n",
       "        text-align: right;\n",
       "    }\n",
       "</style>\n",
       "<table border=\"1\" class=\"dataframe\">\n",
       "  <thead>\n",
       "    <tr style=\"text-align: right;\">\n",
       "      <th></th>\n",
       "      <th>INDEX_NR</th>\n",
       "      <th>OPID</th>\n",
       "      <th>ATYPE</th>\n",
       "      <th>AC_MASS</th>\n",
       "      <th>INCIDENT_DATE</th>\n",
       "      <th>TIME_OF_DAY</th>\n",
       "      <th>AIRPORT_ID</th>\n",
       "      <th>SPEED</th>\n",
       "      <th>DISTANCE</th>\n",
       "      <th>PHASE_OF_FLT</th>\n",
       "      <th>DAMAGE</th>\n",
       "      <th>SKY</th>\n",
       "      <th>PRECIP</th>\n",
       "      <th>NR_INJURIES</th>\n",
       "      <th>NR_FATALITIES</th>\n",
       "      <th>NR_INJURIES_0</th>\n",
       "      <th>NR_FATALITIES_0</th>\n",
       "    </tr>\n",
       "  </thead>\n",
       "  <tbody>\n",
       "    <tr>\n",
       "      <th>157522</th>\n",
       "      <td>358804</td>\n",
       "      <td>UNK</td>\n",
       "      <td>UNKNOWN</td>\n",
       "      <td>NaN</td>\n",
       "      <td>2015-03-30</td>\n",
       "      <td>NaN</td>\n",
       "      <td>KUES</td>\n",
       "      <td>NaN</td>\n",
       "      <td>0.0</td>\n",
       "      <td>NaN</td>\n",
       "      <td>NaN</td>\n",
       "      <td>NaN</td>\n",
       "      <td>NaN</td>\n",
       "      <td>NaN</td>\n",
       "      <td>NaN</td>\n",
       "      <td>0</td>\n",
       "      <td>0</td>\n",
       "    </tr>\n",
       "    <tr>\n",
       "      <th>157523</th>\n",
       "      <td>358805</td>\n",
       "      <td>UNK</td>\n",
       "      <td>UNKNOWN</td>\n",
       "      <td>NaN</td>\n",
       "      <td>2015-03-31</td>\n",
       "      <td>NaN</td>\n",
       "      <td>KCMA</td>\n",
       "      <td>NaN</td>\n",
       "      <td>0.0</td>\n",
       "      <td>NaN</td>\n",
       "      <td>NaN</td>\n",
       "      <td>NaN</td>\n",
       "      <td>NaN</td>\n",
       "      <td>NaN</td>\n",
       "      <td>NaN</td>\n",
       "      <td>0</td>\n",
       "      <td>0</td>\n",
       "    </tr>\n",
       "    <tr>\n",
       "      <th>157524</th>\n",
       "      <td>358806</td>\n",
       "      <td>UNK</td>\n",
       "      <td>UNKNOWN</td>\n",
       "      <td>NaN</td>\n",
       "      <td>2015-03-31</td>\n",
       "      <td>NaN</td>\n",
       "      <td>KMCI</td>\n",
       "      <td>NaN</td>\n",
       "      <td>0.0</td>\n",
       "      <td>NaN</td>\n",
       "      <td>NaN</td>\n",
       "      <td>NaN</td>\n",
       "      <td>NaN</td>\n",
       "      <td>NaN</td>\n",
       "      <td>NaN</td>\n",
       "      <td>0</td>\n",
       "      <td>0</td>\n",
       "    </tr>\n",
       "    <tr>\n",
       "      <th>157525</th>\n",
       "      <td>358807</td>\n",
       "      <td>UNK</td>\n",
       "      <td>UNKNOWN</td>\n",
       "      <td>NaN</td>\n",
       "      <td>2015-03-31</td>\n",
       "      <td>NaN</td>\n",
       "      <td>KMFE</td>\n",
       "      <td>NaN</td>\n",
       "      <td>0.0</td>\n",
       "      <td>NaN</td>\n",
       "      <td>NaN</td>\n",
       "      <td>NaN</td>\n",
       "      <td>NaN</td>\n",
       "      <td>NaN</td>\n",
       "      <td>NaN</td>\n",
       "      <td>0</td>\n",
       "      <td>0</td>\n",
       "    </tr>\n",
       "    <tr>\n",
       "      <th>157526</th>\n",
       "      <td>358808</td>\n",
       "      <td>UNK</td>\n",
       "      <td>UNKNOWN</td>\n",
       "      <td>NaN</td>\n",
       "      <td>2015-03-31</td>\n",
       "      <td>NaN</td>\n",
       "      <td>KMIV</td>\n",
       "      <td>NaN</td>\n",
       "      <td>0.0</td>\n",
       "      <td>NaN</td>\n",
       "      <td>NaN</td>\n",
       "      <td>NaN</td>\n",
       "      <td>NaN</td>\n",
       "      <td>NaN</td>\n",
       "      <td>NaN</td>\n",
       "      <td>0</td>\n",
       "      <td>0</td>\n",
       "    </tr>\n",
       "  </tbody>\n",
       "</table>\n",
       "</div>"
      ],
      "text/plain": [
       "        INDEX_NR OPID    ATYPE  AC_MASS INCIDENT_DATE TIME_OF_DAY AIRPORT_ID  \\\n",
       "157522    358804  UNK  UNKNOWN      NaN    2015-03-30         NaN       KUES   \n",
       "157523    358805  UNK  UNKNOWN      NaN    2015-03-31         NaN       KCMA   \n",
       "157524    358806  UNK  UNKNOWN      NaN    2015-03-31         NaN       KMCI   \n",
       "157525    358807  UNK  UNKNOWN      NaN    2015-03-31         NaN       KMFE   \n",
       "157526    358808  UNK  UNKNOWN      NaN    2015-03-31         NaN       KMIV   \n",
       "\n",
       "        SPEED  DISTANCE PHASE_OF_FLT DAMAGE  SKY PRECIP  NR_INJURIES  \\\n",
       "157522    NaN       0.0          NaN    NaN  NaN    NaN          NaN   \n",
       "157523    NaN       0.0          NaN    NaN  NaN    NaN          NaN   \n",
       "157524    NaN       0.0          NaN    NaN  NaN    NaN          NaN   \n",
       "157525    NaN       0.0          NaN    NaN  NaN    NaN          NaN   \n",
       "157526    NaN       0.0          NaN    NaN  NaN    NaN          NaN   \n",
       "\n",
       "        NR_FATALITIES  NR_INJURIES_0  NR_FATALITIES_0  \n",
       "157522            NaN              0                0  \n",
       "157523            NaN              0                0  \n",
       "157524            NaN              0                0  \n",
       "157525            NaN              0                0  \n",
       "157526            NaN              0                0  "
      ]
     },
     "execution_count": 5,
     "metadata": {},
     "output_type": "execute_result"
    }
   ],
   "source": [
    "df.tail()"
   ]
  },
  {
   "cell_type": "markdown",
   "id": "04fce2ec-46b8-422b-a5c1-ac0cb9439c51",
   "metadata": {},
   "source": [
    "## Summary statistics"
   ]
  },
  {
   "cell_type": "code",
   "execution_count": 6,
   "id": "8d15482f-92c4-4111-8b32-fb862c672620",
   "metadata": {},
   "outputs": [
    {
     "data": {
      "text/html": [
       "<div>\n",
       "<style scoped>\n",
       "    .dataframe tbody tr th:only-of-type {\n",
       "        vertical-align: middle;\n",
       "    }\n",
       "\n",
       "    .dataframe tbody tr th {\n",
       "        vertical-align: top;\n",
       "    }\n",
       "\n",
       "    .dataframe thead th {\n",
       "        text-align: right;\n",
       "    }\n",
       "</style>\n",
       "<table border=\"1\" class=\"dataframe\">\n",
       "  <thead>\n",
       "    <tr style=\"text-align: right;\">\n",
       "      <th></th>\n",
       "      <th>INDEX_NR</th>\n",
       "      <th>AC_MASS</th>\n",
       "      <th>SPEED</th>\n",
       "      <th>DISTANCE</th>\n",
       "      <th>NR_INJURIES</th>\n",
       "      <th>NR_FATALITIES</th>\n",
       "      <th>NR_INJURIES_0</th>\n",
       "      <th>NR_FATALITIES_0</th>\n",
       "    </tr>\n",
       "  </thead>\n",
       "  <tbody>\n",
       "    <tr>\n",
       "      <th>count</th>\n",
       "      <td>157527.000000</td>\n",
       "      <td>119586.000000</td>\n",
       "      <td>63387.000000</td>\n",
       "      <td>90694.000000</td>\n",
       "      <td>226.000000</td>\n",
       "      <td>12.000000</td>\n",
       "      <td>157527.000000</td>\n",
       "      <td>157527.000000</td>\n",
       "    </tr>\n",
       "    <tr>\n",
       "      <th>mean</th>\n",
       "      <td>246417.848185</td>\n",
       "      <td>3.517360</td>\n",
       "      <td>141.638680</td>\n",
       "      <td>0.658376</td>\n",
       "      <td>1.318584</td>\n",
       "      <td>2.166667</td>\n",
       "      <td>0.001892</td>\n",
       "      <td>0.000165</td>\n",
       "    </tr>\n",
       "    <tr>\n",
       "      <th>std</th>\n",
       "      <td>78440.809372</td>\n",
       "      <td>0.873351</td>\n",
       "      <td>46.019708</td>\n",
       "      <td>3.307637</td>\n",
       "      <td>0.813940</td>\n",
       "      <td>2.167249</td>\n",
       "      <td>0.058627</td>\n",
       "      <td>0.026183</td>\n",
       "    </tr>\n",
       "    <tr>\n",
       "      <th>min</th>\n",
       "      <td>100000.000000</td>\n",
       "      <td>1.000000</td>\n",
       "      <td>0.000000</td>\n",
       "      <td>0.000000</td>\n",
       "      <td>1.000000</td>\n",
       "      <td>1.000000</td>\n",
       "      <td>0.000000</td>\n",
       "      <td>0.000000</td>\n",
       "    </tr>\n",
       "    <tr>\n",
       "      <th>25%</th>\n",
       "      <td>209260.500000</td>\n",
       "      <td>3.000000</td>\n",
       "      <td>120.000000</td>\n",
       "      <td>0.000000</td>\n",
       "      <td>1.000000</td>\n",
       "      <td>1.000000</td>\n",
       "      <td>0.000000</td>\n",
       "      <td>0.000000</td>\n",
       "    </tr>\n",
       "    <tr>\n",
       "      <th>50%</th>\n",
       "      <td>248788.000000</td>\n",
       "      <td>4.000000</td>\n",
       "      <td>136.000000</td>\n",
       "      <td>0.000000</td>\n",
       "      <td>1.000000</td>\n",
       "      <td>1.000000</td>\n",
       "      <td>0.000000</td>\n",
       "      <td>0.000000</td>\n",
       "    </tr>\n",
       "    <tr>\n",
       "      <th>75%</th>\n",
       "      <td>318105.500000</td>\n",
       "      <td>4.000000</td>\n",
       "      <td>160.000000</td>\n",
       "      <td>0.000000</td>\n",
       "      <td>1.000000</td>\n",
       "      <td>2.000000</td>\n",
       "      <td>0.000000</td>\n",
       "      <td>0.000000</td>\n",
       "    </tr>\n",
       "    <tr>\n",
       "      <th>max</th>\n",
       "      <td>358808.000000</td>\n",
       "      <td>5.000000</td>\n",
       "      <td>380.000000</td>\n",
       "      <td>150.000000</td>\n",
       "      <td>7.000000</td>\n",
       "      <td>8.000000</td>\n",
       "      <td>7.000000</td>\n",
       "      <td>8.000000</td>\n",
       "    </tr>\n",
       "  </tbody>\n",
       "</table>\n",
       "</div>"
      ],
      "text/plain": [
       "            INDEX_NR        AC_MASS         SPEED      DISTANCE  NR_INJURIES  \\\n",
       "count  157527.000000  119586.000000  63387.000000  90694.000000   226.000000   \n",
       "mean   246417.848185       3.517360    141.638680      0.658376     1.318584   \n",
       "std     78440.809372       0.873351     46.019708      3.307637     0.813940   \n",
       "min    100000.000000       1.000000      0.000000      0.000000     1.000000   \n",
       "25%    209260.500000       3.000000    120.000000      0.000000     1.000000   \n",
       "50%    248788.000000       4.000000    136.000000      0.000000     1.000000   \n",
       "75%    318105.500000       4.000000    160.000000      0.000000     1.000000   \n",
       "max    358808.000000       5.000000    380.000000    150.000000     7.000000   \n",
       "\n",
       "       NR_FATALITIES  NR_INJURIES_0  NR_FATALITIES_0  \n",
       "count      12.000000  157527.000000    157527.000000  \n",
       "mean        2.166667       0.001892         0.000165  \n",
       "std         2.167249       0.058627         0.026183  \n",
       "min         1.000000       0.000000         0.000000  \n",
       "25%         1.000000       0.000000         0.000000  \n",
       "50%         1.000000       0.000000         0.000000  \n",
       "75%         2.000000       0.000000         0.000000  \n",
       "max         8.000000       7.000000         8.000000  "
      ]
     },
     "execution_count": 6,
     "metadata": {},
     "output_type": "execute_result"
    }
   ],
   "source": [
    "df.describe()"
   ]
  },
  {
   "cell_type": "markdown",
   "id": "ca50e420-c179-4529-bad8-57eecf7e50f9",
   "metadata": {},
   "source": [
    "## Missing values?"
   ]
  },
  {
   "cell_type": "code",
   "execution_count": 7,
   "id": "4b2a9a90-6073-4e8b-b2f2-fe1dc42aab52",
   "metadata": {},
   "outputs": [
    {
     "data": {
      "text/plain": [
       "INDEX_NR                0\n",
       "OPID                    0\n",
       "ATYPE                   0\n",
       "AC_MASS             37941\n",
       "INCIDENT_DATE           0\n",
       "TIME_OF_DAY         58690\n",
       "AIRPORT_ID              0\n",
       "SPEED               94140\n",
       "DISTANCE            66833\n",
       "PHASE_OF_FLT        51766\n",
       "DAMAGE              44859\n",
       "SKY                 71916\n",
       "PRECIP              74679\n",
       "NR_INJURIES        157301\n",
       "NR_FATALITIES      157515\n",
       "NR_INJURIES_0           0\n",
       "NR_FATALITIES_0         0\n",
       "dtype: int64"
      ]
     },
     "execution_count": 7,
     "metadata": {},
     "output_type": "execute_result"
    }
   ],
   "source": [
    "df.isna().sum()"
   ]
  },
  {
   "cell_type": "code",
   "execution_count": 8,
   "id": "3672192f-dba8-4f3f-af87-280a65b7cb9b",
   "metadata": {},
   "outputs": [
    {
     "data": {
      "text/plain": [
       "INDEX_NR           157527\n",
       "OPID               157527\n",
       "ATYPE              157527\n",
       "AC_MASS            157527\n",
       "INCIDENT_DATE      157527\n",
       "TIME_OF_DAY        157527\n",
       "AIRPORT_ID         157527\n",
       "SPEED              157527\n",
       "DISTANCE           157527\n",
       "PHASE_OF_FLT       157527\n",
       "DAMAGE             157527\n",
       "SKY                157527\n",
       "PRECIP             157527\n",
       "NR_INJURIES        157527\n",
       "NR_FATALITIES      157527\n",
       "NR_INJURIES_0      157527\n",
       "NR_FATALITIES_0    157527\n",
       "dtype: int64"
      ]
     },
     "execution_count": 8,
     "metadata": {},
     "output_type": "execute_result"
    }
   ],
   "source": [
    "df.isna().count()"
   ]
  },
  {
   "cell_type": "markdown",
   "id": "2aa2e254-e905-4176-9a10-700fc369a0ee",
   "metadata": {},
   "source": [
    "## Working with fewer columns"
   ]
  },
  {
   "cell_type": "code",
   "execution_count": 9,
   "id": "b8ff51f9-702b-4b0e-b396-269ebaaac8cc",
   "metadata": {},
   "outputs": [
    {
     "data": {
      "text/plain": [
       "0           Day\n",
       "1           Day\n",
       "2           Day\n",
       "3           Day\n",
       "4         Night\n",
       "          ...  \n",
       "157522      NaN\n",
       "157523      NaN\n",
       "157524      NaN\n",
       "157525      NaN\n",
       "157526      NaN\n",
       "Name: TIME_OF_DAY, Length: 157527, dtype: object"
      ]
     },
     "execution_count": 9,
     "metadata": {},
     "output_type": "execute_result"
    }
   ],
   "source": [
    "df['TIME_OF_DAY']"
   ]
  },
  {
   "cell_type": "code",
   "execution_count": 10,
   "id": "21bff6f9-0132-4f85-bb65-c438f25714a2",
   "metadata": {},
   "outputs": [
    {
     "data": {
      "text/html": [
       "<div>\n",
       "<style scoped>\n",
       "    .dataframe tbody tr th:only-of-type {\n",
       "        vertical-align: middle;\n",
       "    }\n",
       "\n",
       "    .dataframe tbody tr th {\n",
       "        vertical-align: top;\n",
       "    }\n",
       "\n",
       "    .dataframe thead th {\n",
       "        text-align: right;\n",
       "    }\n",
       "</style>\n",
       "<table border=\"1\" class=\"dataframe\">\n",
       "  <thead>\n",
       "    <tr style=\"text-align: right;\">\n",
       "      <th></th>\n",
       "      <th>TIME_OF_DAY</th>\n",
       "      <th>DAMAGE</th>\n",
       "    </tr>\n",
       "  </thead>\n",
       "  <tbody>\n",
       "    <tr>\n",
       "      <th>0</th>\n",
       "      <td>Day</td>\n",
       "      <td>D</td>\n",
       "    </tr>\n",
       "    <tr>\n",
       "      <th>1</th>\n",
       "      <td>Day</td>\n",
       "      <td>D</td>\n",
       "    </tr>\n",
       "    <tr>\n",
       "      <th>2</th>\n",
       "      <td>Day</td>\n",
       "      <td>D</td>\n",
       "    </tr>\n",
       "    <tr>\n",
       "      <th>3</th>\n",
       "      <td>Day</td>\n",
       "      <td>D</td>\n",
       "    </tr>\n",
       "    <tr>\n",
       "      <th>4</th>\n",
       "      <td>Night</td>\n",
       "      <td>D</td>\n",
       "    </tr>\n",
       "    <tr>\n",
       "      <th>...</th>\n",
       "      <td>...</td>\n",
       "      <td>...</td>\n",
       "    </tr>\n",
       "    <tr>\n",
       "      <th>157522</th>\n",
       "      <td>NaN</td>\n",
       "      <td>NaN</td>\n",
       "    </tr>\n",
       "    <tr>\n",
       "      <th>157523</th>\n",
       "      <td>NaN</td>\n",
       "      <td>NaN</td>\n",
       "    </tr>\n",
       "    <tr>\n",
       "      <th>157524</th>\n",
       "      <td>NaN</td>\n",
       "      <td>NaN</td>\n",
       "    </tr>\n",
       "    <tr>\n",
       "      <th>157525</th>\n",
       "      <td>NaN</td>\n",
       "      <td>NaN</td>\n",
       "    </tr>\n",
       "    <tr>\n",
       "      <th>157526</th>\n",
       "      <td>NaN</td>\n",
       "      <td>NaN</td>\n",
       "    </tr>\n",
       "  </tbody>\n",
       "</table>\n",
       "<p>157527 rows × 2 columns</p>\n",
       "</div>"
      ],
      "text/plain": [
       "       TIME_OF_DAY DAMAGE\n",
       "0              Day      D\n",
       "1              Day      D\n",
       "2              Day      D\n",
       "3              Day      D\n",
       "4            Night      D\n",
       "...            ...    ...\n",
       "157522         NaN    NaN\n",
       "157523         NaN    NaN\n",
       "157524         NaN    NaN\n",
       "157525         NaN    NaN\n",
       "157526         NaN    NaN\n",
       "\n",
       "[157527 rows x 2 columns]"
      ]
     },
     "execution_count": 10,
     "metadata": {},
     "output_type": "execute_result"
    }
   ],
   "source": [
    "df[ ['TIME_OF_DAY', 'DAMAGE'] ]"
   ]
  },
  {
   "cell_type": "code",
   "execution_count": 11,
   "id": "dd1e9e67-2a66-4518-959c-8517535f6903",
   "metadata": {},
   "outputs": [
    {
     "data": {
      "text/plain": [
       "0          SIKORSKY S-76\n",
       "1               CITATION\n",
       "2           PA-23 APACHE\n",
       "3                  C-172\n",
       "4         PA-44 SEMINOLE\n",
       "               ...      \n",
       "157522           UNKNOWN\n",
       "157523           UNKNOWN\n",
       "157524           UNKNOWN\n",
       "157525           UNKNOWN\n",
       "157526           UNKNOWN\n",
       "Name: ATYPE, Length: 157527, dtype: object"
      ]
     },
     "execution_count": 11,
     "metadata": {},
     "output_type": "execute_result"
    }
   ],
   "source": [
    "df['ATYPE']"
   ]
  },
  {
   "cell_type": "code",
   "execution_count": 12,
   "id": "5cefc20d-20e6-423c-b5ca-e7631b975bd4",
   "metadata": {},
   "outputs": [
    {
     "data": {
      "text/html": [
       "<div>\n",
       "<style scoped>\n",
       "    .dataframe tbody tr th:only-of-type {\n",
       "        vertical-align: middle;\n",
       "    }\n",
       "\n",
       "    .dataframe tbody tr th {\n",
       "        vertical-align: top;\n",
       "    }\n",
       "\n",
       "    .dataframe thead th {\n",
       "        text-align: right;\n",
       "    }\n",
       "</style>\n",
       "<table border=\"1\" class=\"dataframe\">\n",
       "  <thead>\n",
       "    <tr style=\"text-align: right;\">\n",
       "      <th></th>\n",
       "      <th>ATYPE</th>\n",
       "      <th>AC_MASS</th>\n",
       "    </tr>\n",
       "  </thead>\n",
       "  <tbody>\n",
       "    <tr>\n",
       "      <th>0</th>\n",
       "      <td>SIKORSKY S-76</td>\n",
       "      <td>2.0</td>\n",
       "    </tr>\n",
       "    <tr>\n",
       "      <th>1</th>\n",
       "      <td>CITATION</td>\n",
       "      <td>2.0</td>\n",
       "    </tr>\n",
       "    <tr>\n",
       "      <th>2</th>\n",
       "      <td>PA-23 APACHE</td>\n",
       "      <td>1.0</td>\n",
       "    </tr>\n",
       "    <tr>\n",
       "      <th>3</th>\n",
       "      <td>C-172</td>\n",
       "      <td>1.0</td>\n",
       "    </tr>\n",
       "    <tr>\n",
       "      <th>4</th>\n",
       "      <td>PA-44 SEMINOLE</td>\n",
       "      <td>2.0</td>\n",
       "    </tr>\n",
       "    <tr>\n",
       "      <th>...</th>\n",
       "      <td>...</td>\n",
       "      <td>...</td>\n",
       "    </tr>\n",
       "    <tr>\n",
       "      <th>157522</th>\n",
       "      <td>UNKNOWN</td>\n",
       "      <td>NaN</td>\n",
       "    </tr>\n",
       "    <tr>\n",
       "      <th>157523</th>\n",
       "      <td>UNKNOWN</td>\n",
       "      <td>NaN</td>\n",
       "    </tr>\n",
       "    <tr>\n",
       "      <th>157524</th>\n",
       "      <td>UNKNOWN</td>\n",
       "      <td>NaN</td>\n",
       "    </tr>\n",
       "    <tr>\n",
       "      <th>157525</th>\n",
       "      <td>UNKNOWN</td>\n",
       "      <td>NaN</td>\n",
       "    </tr>\n",
       "    <tr>\n",
       "      <th>157526</th>\n",
       "      <td>UNKNOWN</td>\n",
       "      <td>NaN</td>\n",
       "    </tr>\n",
       "  </tbody>\n",
       "</table>\n",
       "<p>157527 rows × 2 columns</p>\n",
       "</div>"
      ],
      "text/plain": [
       "                 ATYPE  AC_MASS\n",
       "0        SIKORSKY S-76      2.0\n",
       "1             CITATION      2.0\n",
       "2         PA-23 APACHE      1.0\n",
       "3                C-172      1.0\n",
       "4       PA-44 SEMINOLE      2.0\n",
       "...                ...      ...\n",
       "157522         UNKNOWN      NaN\n",
       "157523         UNKNOWN      NaN\n",
       "157524         UNKNOWN      NaN\n",
       "157525         UNKNOWN      NaN\n",
       "157526         UNKNOWN      NaN\n",
       "\n",
       "[157527 rows x 2 columns]"
      ]
     },
     "execution_count": 12,
     "metadata": {},
     "output_type": "execute_result"
    }
   ],
   "source": [
    "df[ [ 'ATYPE', 'AC_MASS' ] ]"
   ]
  },
  {
   "cell_type": "code",
   "execution_count": 13,
   "id": "73b4813a-f253-4c07-b97c-66b627ac56a5",
   "metadata": {},
   "outputs": [
    {
     "data": {
      "text/plain": [
       "58690"
      ]
     },
     "execution_count": 13,
     "metadata": {},
     "output_type": "execute_result"
    }
   ],
   "source": [
    "df['TIME_OF_DAY'].isna().sum()"
   ]
  },
  {
   "cell_type": "code",
   "execution_count": 14,
   "id": "5996adef-d060-48ea-91ad-7bdf05b74dc5",
   "metadata": {},
   "outputs": [
    {
     "data": {
      "text/plain": [
       "26.0"
      ]
     },
     "execution_count": 14,
     "metadata": {},
     "output_type": "execute_result"
    }
   ],
   "source": [
    "df['NR_FATALITIES'].sum()"
   ]
  },
  {
   "cell_type": "code",
   "execution_count": 15,
   "id": "6fbdc9d2-dea8-4d2e-8c2a-9dcbea0de69e",
   "metadata": {},
   "outputs": [
    {
     "data": {
      "text/plain": [
       "157301"
      ]
     },
     "execution_count": 15,
     "metadata": {},
     "output_type": "execute_result"
    }
   ],
   "source": [
    "df['NR_INJURIES'].isna().sum()"
   ]
  },
  {
   "cell_type": "code",
   "execution_count": 16,
   "id": "f76e03c0-0ef8-426d-a8e2-ff4b59ba505b",
   "metadata": {},
   "outputs": [
    {
     "data": {
      "text/plain": [
       "298.0"
      ]
     },
     "execution_count": 16,
     "metadata": {},
     "output_type": "execute_result"
    }
   ],
   "source": [
    "df['NR_INJURIES'].sum()"
   ]
  },
  {
   "cell_type": "markdown",
   "id": "55df2211-e590-4a5d-96c9-73533ca2932e",
   "metadata": {},
   "source": [
    "## Frequency tables"
   ]
  },
  {
   "cell_type": "code",
   "execution_count": 17,
   "id": "55122902-7194-4fa1-bb2a-4ad392e0106d",
   "metadata": {},
   "outputs": [
    {
     "data": {
      "text/plain": [
       "Day      60963\n",
       "Night    30164\n",
       "Dusk      4355\n",
       "Dawn      3353\n",
       "NIGHT        1\n",
       "DAY          1\n",
       "Name: TIME_OF_DAY, dtype: int64"
      ]
     },
     "execution_count": 17,
     "metadata": {},
     "output_type": "execute_result"
    }
   ],
   "source": [
    "df['TIME_OF_DAY'].value_counts()"
   ]
  },
  {
   "cell_type": "code",
   "execution_count": 18,
   "id": "0f1d2ada-66d3-4639-8952-2d60c2664a90",
   "metadata": {},
   "outputs": [
    {
     "data": {
      "text/plain": [
       "N     98523\n",
       "M      7553\n",
       "S      3775\n",
       "M?     2751\n",
       "D        66\n",
       "Name: DAMAGE, dtype: int64"
      ]
     },
     "execution_count": 18,
     "metadata": {},
     "output_type": "execute_result"
    }
   ],
   "source": [
    "df['DAMAGE'].value_counts()"
   ]
  },
  {
   "cell_type": "code",
   "execution_count": 19,
   "id": "ac547f57-c3da-41fc-953f-68b85a21d6c3",
   "metadata": {},
   "outputs": [
    {
     "data": {
      "text/plain": [
       "Day      0.616803\n",
       "Night    0.305189\n",
       "Dusk     0.044062\n",
       "Dawn     0.033925\n",
       "NIGHT    0.000010\n",
       "DAY      0.000010\n",
       "Name: TIME_OF_DAY, dtype: float64"
      ]
     },
     "execution_count": 19,
     "metadata": {},
     "output_type": "execute_result"
    }
   ],
   "source": [
    "df['TIME_OF_DAY'].value_counts( normalize=True )"
   ]
  },
  {
   "cell_type": "code",
   "execution_count": 20,
   "id": "ea76c280-c620-4b6f-95a2-12f5b0176ad0",
   "metadata": {},
   "outputs": [
    {
     "data": {
      "text/plain": [
       "Day      0.387000\n",
       "NaN      0.372571\n",
       "Night    0.191485\n",
       "Dusk     0.027646\n",
       "Dawn     0.021285\n",
       "NIGHT    0.000006\n",
       "DAY      0.000006\n",
       "Name: TIME_OF_DAY, dtype: float64"
      ]
     },
     "execution_count": 20,
     "metadata": {},
     "output_type": "execute_result"
    }
   ],
   "source": [
    "df['TIME_OF_DAY'].value_counts( normalize=True, dropna= False )"
   ]
  },
  {
   "cell_type": "code",
   "execution_count": 21,
   "id": "637ad6e6-8b1a-47ed-97e9-b95b6055d104",
   "metadata": {},
   "outputs": [
    {
     "data": {
      "text/plain": [
       "Day      0.62\n",
       "Night    0.31\n",
       "Dusk     0.04\n",
       "Dawn     0.03\n",
       "NIGHT    0.00\n",
       "DAY      0.00\n",
       "Name: TIME_OF_DAY, dtype: float64"
      ]
     },
     "execution_count": 21,
     "metadata": {},
     "output_type": "execute_result"
    }
   ],
   "source": [
    "round( df['TIME_OF_DAY'].value_counts( normalize=True ), 2 )"
   ]
  },
  {
   "cell_type": "code",
   "execution_count": 22,
   "id": "9aa23d7d-1416-4478-b0c0-1ce92d234151",
   "metadata": {},
   "outputs": [
    {
     "data": {
      "text/plain": [
       "Day      0.39\n",
       "NaN      0.37\n",
       "Night    0.19\n",
       "Dusk     0.03\n",
       "Dawn     0.02\n",
       "NIGHT    0.00\n",
       "DAY      0.00\n",
       "Name: TIME_OF_DAY, dtype: float64"
      ]
     },
     "execution_count": 22,
     "metadata": {},
     "output_type": "execute_result"
    }
   ],
   "source": [
    "round( df['TIME_OF_DAY'].value_counts( normalize=True, dropna= False ), 2 )"
   ]
  },
  {
   "cell_type": "code",
   "execution_count": 23,
   "id": "f0ec7ce5-520e-4121-8478-d8bb7edae614",
   "metadata": {},
   "outputs": [
    {
     "data": {
      "text/plain": [
       "N     0.87\n",
       "M     0.07\n",
       "S     0.03\n",
       "M?    0.02\n",
       "D     0.00\n",
       "Name: DAMAGE, dtype: float64"
      ]
     },
     "execution_count": 23,
     "metadata": {},
     "output_type": "execute_result"
    }
   ],
   "source": [
    "round( df['DAMAGE'].value_counts( normalize=True ), 2 )"
   ]
  },
  {
   "cell_type": "code",
   "execution_count": 24,
   "id": "13bd4281-3a85-4aa3-bb93-525013170205",
   "metadata": {},
   "outputs": [
    {
     "data": {
      "text/plain": [
       "N      0.63\n",
       "NaN    0.28\n",
       "M      0.05\n",
       "S      0.02\n",
       "M?     0.02\n",
       "D      0.00\n",
       "Name: DAMAGE, dtype: float64"
      ]
     },
     "execution_count": 24,
     "metadata": {},
     "output_type": "execute_result"
    }
   ],
   "source": [
    "round( df['DAMAGE'].value_counts( normalize=True, dropna= False ), 2 )"
   ]
  },
  {
   "cell_type": "markdown",
   "id": "384a4f8c-0d39-40b0-9c15-34ad25782010",
   "metadata": {},
   "source": [
    "## Contingency tables"
   ]
  },
  {
   "cell_type": "code",
   "execution_count": 25,
   "id": "6188f6e5-ff43-4a42-b12a-9a85eba122b1",
   "metadata": {},
   "outputs": [
    {
     "data": {
      "text/html": [
       "<div>\n",
       "<style scoped>\n",
       "    .dataframe tbody tr th:only-of-type {\n",
       "        vertical-align: middle;\n",
       "    }\n",
       "\n",
       "    .dataframe tbody tr th {\n",
       "        vertical-align: top;\n",
       "    }\n",
       "\n",
       "    .dataframe thead th {\n",
       "        text-align: right;\n",
       "    }\n",
       "</style>\n",
       "<table border=\"1\" class=\"dataframe\">\n",
       "  <thead>\n",
       "    <tr style=\"text-align: right;\">\n",
       "      <th>TIME_OF_DAY</th>\n",
       "      <th>DAY</th>\n",
       "      <th>Dawn</th>\n",
       "      <th>Day</th>\n",
       "      <th>Dusk</th>\n",
       "      <th>NIGHT</th>\n",
       "      <th>Night</th>\n",
       "    </tr>\n",
       "    <tr>\n",
       "      <th>DAMAGE</th>\n",
       "      <th></th>\n",
       "      <th></th>\n",
       "      <th></th>\n",
       "      <th></th>\n",
       "      <th></th>\n",
       "      <th></th>\n",
       "    </tr>\n",
       "  </thead>\n",
       "  <tbody>\n",
       "    <tr>\n",
       "      <th>D</th>\n",
       "      <td>0</td>\n",
       "      <td>1</td>\n",
       "      <td>42</td>\n",
       "      <td>3</td>\n",
       "      <td>0</td>\n",
       "      <td>17</td>\n",
       "    </tr>\n",
       "    <tr>\n",
       "      <th>M</th>\n",
       "      <td>0</td>\n",
       "      <td>176</td>\n",
       "      <td>3388</td>\n",
       "      <td>347</td>\n",
       "      <td>0</td>\n",
       "      <td>2244</td>\n",
       "    </tr>\n",
       "    <tr>\n",
       "      <th>M?</th>\n",
       "      <td>0</td>\n",
       "      <td>75</td>\n",
       "      <td>1431</td>\n",
       "      <td>109</td>\n",
       "      <td>0</td>\n",
       "      <td>710</td>\n",
       "    </tr>\n",
       "    <tr>\n",
       "      <th>N</th>\n",
       "      <td>1</td>\n",
       "      <td>2675</td>\n",
       "      <td>48638</td>\n",
       "      <td>3394</td>\n",
       "      <td>1</td>\n",
       "      <td>25036</td>\n",
       "    </tr>\n",
       "    <tr>\n",
       "      <th>S</th>\n",
       "      <td>0</td>\n",
       "      <td>123</td>\n",
       "      <td>1796</td>\n",
       "      <td>180</td>\n",
       "      <td>0</td>\n",
       "      <td>933</td>\n",
       "    </tr>\n",
       "  </tbody>\n",
       "</table>\n",
       "</div>"
      ],
      "text/plain": [
       "TIME_OF_DAY  DAY  Dawn    Day  Dusk  NIGHT  Night\n",
       "DAMAGE                                           \n",
       "D              0     1     42     3      0     17\n",
       "M              0   176   3388   347      0   2244\n",
       "M?             0    75   1431   109      0    710\n",
       "N              1  2675  48638  3394      1  25036\n",
       "S              0   123   1796   180      0    933"
      ]
     },
     "execution_count": 25,
     "metadata": {},
     "output_type": "execute_result"
    }
   ],
   "source": [
    "pandas.crosstab( df[ 'DAMAGE' ], df[ 'TIME_OF_DAY' ] )"
   ]
  },
  {
   "cell_type": "code",
   "execution_count": 26,
   "id": "b4030d29-4018-4290-89b2-0bcc84098b24",
   "metadata": {},
   "outputs": [
    {
     "data": {
      "text/html": [
       "<div>\n",
       "<style scoped>\n",
       "    .dataframe tbody tr th:only-of-type {\n",
       "        vertical-align: middle;\n",
       "    }\n",
       "\n",
       "    .dataframe tbody tr th {\n",
       "        vertical-align: top;\n",
       "    }\n",
       "\n",
       "    .dataframe thead th {\n",
       "        text-align: right;\n",
       "    }\n",
       "</style>\n",
       "<table border=\"1\" class=\"dataframe\">\n",
       "  <thead>\n",
       "    <tr style=\"text-align: right;\">\n",
       "      <th>TIME_OF_DAY</th>\n",
       "      <th>DAY</th>\n",
       "      <th>Dawn</th>\n",
       "      <th>Day</th>\n",
       "      <th>Dusk</th>\n",
       "      <th>NIGHT</th>\n",
       "      <th>Night</th>\n",
       "      <th>All</th>\n",
       "    </tr>\n",
       "    <tr>\n",
       "      <th>DAMAGE</th>\n",
       "      <th></th>\n",
       "      <th></th>\n",
       "      <th></th>\n",
       "      <th></th>\n",
       "      <th></th>\n",
       "      <th></th>\n",
       "      <th></th>\n",
       "    </tr>\n",
       "  </thead>\n",
       "  <tbody>\n",
       "    <tr>\n",
       "      <th>D</th>\n",
       "      <td>0</td>\n",
       "      <td>1</td>\n",
       "      <td>42</td>\n",
       "      <td>3</td>\n",
       "      <td>0</td>\n",
       "      <td>17</td>\n",
       "      <td>63</td>\n",
       "    </tr>\n",
       "    <tr>\n",
       "      <th>M</th>\n",
       "      <td>0</td>\n",
       "      <td>176</td>\n",
       "      <td>3388</td>\n",
       "      <td>347</td>\n",
       "      <td>0</td>\n",
       "      <td>2244</td>\n",
       "      <td>6155</td>\n",
       "    </tr>\n",
       "    <tr>\n",
       "      <th>M?</th>\n",
       "      <td>0</td>\n",
       "      <td>75</td>\n",
       "      <td>1431</td>\n",
       "      <td>109</td>\n",
       "      <td>0</td>\n",
       "      <td>710</td>\n",
       "      <td>2325</td>\n",
       "    </tr>\n",
       "    <tr>\n",
       "      <th>N</th>\n",
       "      <td>1</td>\n",
       "      <td>2675</td>\n",
       "      <td>48638</td>\n",
       "      <td>3394</td>\n",
       "      <td>1</td>\n",
       "      <td>25036</td>\n",
       "      <td>79745</td>\n",
       "    </tr>\n",
       "    <tr>\n",
       "      <th>S</th>\n",
       "      <td>0</td>\n",
       "      <td>123</td>\n",
       "      <td>1796</td>\n",
       "      <td>180</td>\n",
       "      <td>0</td>\n",
       "      <td>933</td>\n",
       "      <td>3032</td>\n",
       "    </tr>\n",
       "    <tr>\n",
       "      <th>All</th>\n",
       "      <td>1</td>\n",
       "      <td>3050</td>\n",
       "      <td>55295</td>\n",
       "      <td>4033</td>\n",
       "      <td>1</td>\n",
       "      <td>28940</td>\n",
       "      <td>91320</td>\n",
       "    </tr>\n",
       "  </tbody>\n",
       "</table>\n",
       "</div>"
      ],
      "text/plain": [
       "TIME_OF_DAY  DAY  Dawn    Day  Dusk  NIGHT  Night    All\n",
       "DAMAGE                                                  \n",
       "D              0     1     42     3      0     17     63\n",
       "M              0   176   3388   347      0   2244   6155\n",
       "M?             0    75   1431   109      0    710   2325\n",
       "N              1  2675  48638  3394      1  25036  79745\n",
       "S              0   123   1796   180      0    933   3032\n",
       "All            1  3050  55295  4033      1  28940  91320"
      ]
     },
     "execution_count": 26,
     "metadata": {},
     "output_type": "execute_result"
    }
   ],
   "source": [
    "pandas.crosstab( df[ 'DAMAGE' ], df[ 'TIME_OF_DAY' ], margins = True )"
   ]
  },
  {
   "cell_type": "code",
   "execution_count": 27,
   "id": "9cee9047-8afa-4cd4-8d7d-ddcd69eba00f",
   "metadata": {},
   "outputs": [
    {
     "data": {
      "text/html": [
       "<div>\n",
       "<style scoped>\n",
       "    .dataframe tbody tr th:only-of-type {\n",
       "        vertical-align: middle;\n",
       "    }\n",
       "\n",
       "    .dataframe tbody tr th {\n",
       "        vertical-align: top;\n",
       "    }\n",
       "\n",
       "    .dataframe thead th {\n",
       "        text-align: right;\n",
       "    }\n",
       "</style>\n",
       "<table border=\"1\" class=\"dataframe\">\n",
       "  <thead>\n",
       "    <tr style=\"text-align: right;\">\n",
       "      <th>PRECIP</th>\n",
       "      <th>Fog</th>\n",
       "      <th>Fog, Rain</th>\n",
       "      <th>Fog, Rain, Snow</th>\n",
       "      <th>Fog, Snow</th>\n",
       "      <th>NoNe</th>\n",
       "      <th>None</th>\n",
       "      <th>Rain</th>\n",
       "      <th>Rain, Snow</th>\n",
       "      <th>Snow</th>\n",
       "      <th>All</th>\n",
       "    </tr>\n",
       "    <tr>\n",
       "      <th>TIME_OF_DAY</th>\n",
       "      <th></th>\n",
       "      <th></th>\n",
       "      <th></th>\n",
       "      <th></th>\n",
       "      <th></th>\n",
       "      <th></th>\n",
       "      <th></th>\n",
       "      <th></th>\n",
       "      <th></th>\n",
       "      <th></th>\n",
       "    </tr>\n",
       "  </thead>\n",
       "  <tbody>\n",
       "    <tr>\n",
       "      <th>Dawn</th>\n",
       "      <td>251</td>\n",
       "      <td>19</td>\n",
       "      <td>0</td>\n",
       "      <td>0</td>\n",
       "      <td>0</td>\n",
       "      <td>2358</td>\n",
       "      <td>222</td>\n",
       "      <td>1</td>\n",
       "      <td>15</td>\n",
       "      <td>2866</td>\n",
       "    </tr>\n",
       "    <tr>\n",
       "      <th>Day</th>\n",
       "      <td>1215</td>\n",
       "      <td>156</td>\n",
       "      <td>3</td>\n",
       "      <td>6</td>\n",
       "      <td>1</td>\n",
       "      <td>45645</td>\n",
       "      <td>3391</td>\n",
       "      <td>11</td>\n",
       "      <td>194</td>\n",
       "      <td>50622</td>\n",
       "    </tr>\n",
       "    <tr>\n",
       "      <th>Dusk</th>\n",
       "      <td>61</td>\n",
       "      <td>9</td>\n",
       "      <td>0</td>\n",
       "      <td>0</td>\n",
       "      <td>0</td>\n",
       "      <td>3498</td>\n",
       "      <td>229</td>\n",
       "      <td>3</td>\n",
       "      <td>17</td>\n",
       "      <td>3817</td>\n",
       "    </tr>\n",
       "    <tr>\n",
       "      <th>NIGHT</th>\n",
       "      <td>0</td>\n",
       "      <td>0</td>\n",
       "      <td>0</td>\n",
       "      <td>0</td>\n",
       "      <td>0</td>\n",
       "      <td>1</td>\n",
       "      <td>0</td>\n",
       "      <td>0</td>\n",
       "      <td>0</td>\n",
       "      <td>1</td>\n",
       "    </tr>\n",
       "    <tr>\n",
       "      <th>Night</th>\n",
       "      <td>337</td>\n",
       "      <td>46</td>\n",
       "      <td>2</td>\n",
       "      <td>6</td>\n",
       "      <td>0</td>\n",
       "      <td>21152</td>\n",
       "      <td>1024</td>\n",
       "      <td>4</td>\n",
       "      <td>65</td>\n",
       "      <td>22636</td>\n",
       "    </tr>\n",
       "    <tr>\n",
       "      <th>All</th>\n",
       "      <td>1864</td>\n",
       "      <td>230</td>\n",
       "      <td>5</td>\n",
       "      <td>12</td>\n",
       "      <td>1</td>\n",
       "      <td>72654</td>\n",
       "      <td>4866</td>\n",
       "      <td>19</td>\n",
       "      <td>291</td>\n",
       "      <td>79942</td>\n",
       "    </tr>\n",
       "  </tbody>\n",
       "</table>\n",
       "</div>"
      ],
      "text/plain": [
       "PRECIP        Fog  Fog, Rain  Fog, Rain, Snow  Fog, Snow  NoNe   None  Rain  \\\n",
       "TIME_OF_DAY                                                                   \n",
       "Dawn          251         19                0          0     0   2358   222   \n",
       "Day          1215        156                3          6     1  45645  3391   \n",
       "Dusk           61          9                0          0     0   3498   229   \n",
       "NIGHT           0          0                0          0     0      1     0   \n",
       "Night         337         46                2          6     0  21152  1024   \n",
       "All          1864        230                5         12     1  72654  4866   \n",
       "\n",
       "PRECIP       Rain, Snow  Snow    All  \n",
       "TIME_OF_DAY                           \n",
       "Dawn                  1    15   2866  \n",
       "Day                  11   194  50622  \n",
       "Dusk                  3    17   3817  \n",
       "NIGHT                 0     0      1  \n",
       "Night                 4    65  22636  \n",
       "All                  19   291  79942  "
      ]
     },
     "execution_count": 27,
     "metadata": {},
     "output_type": "execute_result"
    }
   ],
   "source": [
    "pandas.crosstab( df[ 'TIME_OF_DAY' ], df[ 'PRECIP' ], margins = True )"
   ]
  },
  {
   "cell_type": "code",
   "execution_count": 28,
   "id": "49dd3b1e-a7ce-4903-a41e-a4fa0ac79d93",
   "metadata": {},
   "outputs": [
    {
     "data": {
      "text/html": [
       "<div>\n",
       "<style scoped>\n",
       "    .dataframe tbody tr th:only-of-type {\n",
       "        vertical-align: middle;\n",
       "    }\n",
       "\n",
       "    .dataframe tbody tr th {\n",
       "        vertical-align: top;\n",
       "    }\n",
       "\n",
       "    .dataframe thead th {\n",
       "        text-align: right;\n",
       "    }\n",
       "</style>\n",
       "<table border=\"1\" class=\"dataframe\">\n",
       "  <thead>\n",
       "    <tr style=\"text-align: right;\">\n",
       "      <th>TIME_OF_DAY</th>\n",
       "      <th>DAY</th>\n",
       "      <th>Dawn</th>\n",
       "      <th>Day</th>\n",
       "      <th>Dusk</th>\n",
       "      <th>NIGHT</th>\n",
       "      <th>Night</th>\n",
       "      <th>All</th>\n",
       "    </tr>\n",
       "    <tr>\n",
       "      <th>DAMAGE</th>\n",
       "      <th></th>\n",
       "      <th></th>\n",
       "      <th></th>\n",
       "      <th></th>\n",
       "      <th></th>\n",
       "      <th></th>\n",
       "      <th></th>\n",
       "    </tr>\n",
       "  </thead>\n",
       "  <tbody>\n",
       "    <tr>\n",
       "      <th>D</th>\n",
       "      <td>0.000000</td>\n",
       "      <td>0.000011</td>\n",
       "      <td>0.000460</td>\n",
       "      <td>0.000033</td>\n",
       "      <td>0.000000</td>\n",
       "      <td>0.000186</td>\n",
       "      <td>0.000690</td>\n",
       "    </tr>\n",
       "    <tr>\n",
       "      <th>M</th>\n",
       "      <td>0.000000</td>\n",
       "      <td>0.001927</td>\n",
       "      <td>0.037100</td>\n",
       "      <td>0.003800</td>\n",
       "      <td>0.000000</td>\n",
       "      <td>0.024573</td>\n",
       "      <td>0.067400</td>\n",
       "    </tr>\n",
       "    <tr>\n",
       "      <th>M?</th>\n",
       "      <td>0.000000</td>\n",
       "      <td>0.000821</td>\n",
       "      <td>0.015670</td>\n",
       "      <td>0.001194</td>\n",
       "      <td>0.000000</td>\n",
       "      <td>0.007775</td>\n",
       "      <td>0.025460</td>\n",
       "    </tr>\n",
       "    <tr>\n",
       "      <th>N</th>\n",
       "      <td>0.000011</td>\n",
       "      <td>0.029293</td>\n",
       "      <td>0.532611</td>\n",
       "      <td>0.037166</td>\n",
       "      <td>0.000011</td>\n",
       "      <td>0.274157</td>\n",
       "      <td>0.873248</td>\n",
       "    </tr>\n",
       "    <tr>\n",
       "      <th>S</th>\n",
       "      <td>0.000000</td>\n",
       "      <td>0.001347</td>\n",
       "      <td>0.019667</td>\n",
       "      <td>0.001971</td>\n",
       "      <td>0.000000</td>\n",
       "      <td>0.010217</td>\n",
       "      <td>0.033202</td>\n",
       "    </tr>\n",
       "    <tr>\n",
       "      <th>All</th>\n",
       "      <td>0.000011</td>\n",
       "      <td>0.033399</td>\n",
       "      <td>0.605508</td>\n",
       "      <td>0.044163</td>\n",
       "      <td>0.000011</td>\n",
       "      <td>0.316908</td>\n",
       "      <td>1.000000</td>\n",
       "    </tr>\n",
       "  </tbody>\n",
       "</table>\n",
       "</div>"
      ],
      "text/plain": [
       "TIME_OF_DAY       DAY      Dawn       Day      Dusk     NIGHT     Night  \\\n",
       "DAMAGE                                                                    \n",
       "D            0.000000  0.000011  0.000460  0.000033  0.000000  0.000186   \n",
       "M            0.000000  0.001927  0.037100  0.003800  0.000000  0.024573   \n",
       "M?           0.000000  0.000821  0.015670  0.001194  0.000000  0.007775   \n",
       "N            0.000011  0.029293  0.532611  0.037166  0.000011  0.274157   \n",
       "S            0.000000  0.001347  0.019667  0.001971  0.000000  0.010217   \n",
       "All          0.000011  0.033399  0.605508  0.044163  0.000011  0.316908   \n",
       "\n",
       "TIME_OF_DAY       All  \n",
       "DAMAGE                 \n",
       "D            0.000690  \n",
       "M            0.067400  \n",
       "M?           0.025460  \n",
       "N            0.873248  \n",
       "S            0.033202  \n",
       "All          1.000000  "
      ]
     },
     "execution_count": 28,
     "metadata": {},
     "output_type": "execute_result"
    }
   ],
   "source": [
    "pandas.crosstab( df[ 'DAMAGE' ], df[ 'TIME_OF_DAY' ], margins=True, normalize =\"all\" )"
   ]
  },
  {
   "cell_type": "code",
   "execution_count": 29,
   "id": "886c6699-07eb-4284-89f8-a347cd45a38b",
   "metadata": {},
   "outputs": [
    {
     "data": {
      "text/html": [
       "<div>\n",
       "<style scoped>\n",
       "    .dataframe tbody tr th:only-of-type {\n",
       "        vertical-align: middle;\n",
       "    }\n",
       "\n",
       "    .dataframe tbody tr th {\n",
       "        vertical-align: top;\n",
       "    }\n",
       "\n",
       "    .dataframe thead th {\n",
       "        text-align: right;\n",
       "    }\n",
       "</style>\n",
       "<table border=\"1\" class=\"dataframe\">\n",
       "  <thead>\n",
       "    <tr style=\"text-align: right;\">\n",
       "      <th>PRECIP</th>\n",
       "      <th>Fog</th>\n",
       "      <th>Fog, Rain</th>\n",
       "      <th>Fog, Rain, Snow</th>\n",
       "      <th>Fog, Snow</th>\n",
       "      <th>NoNe</th>\n",
       "      <th>None</th>\n",
       "      <th>Rain</th>\n",
       "      <th>Rain, Snow</th>\n",
       "      <th>Snow</th>\n",
       "      <th>All</th>\n",
       "    </tr>\n",
       "    <tr>\n",
       "      <th>TIME_OF_DAY</th>\n",
       "      <th></th>\n",
       "      <th></th>\n",
       "      <th></th>\n",
       "      <th></th>\n",
       "      <th></th>\n",
       "      <th></th>\n",
       "      <th></th>\n",
       "      <th></th>\n",
       "      <th></th>\n",
       "      <th></th>\n",
       "    </tr>\n",
       "  </thead>\n",
       "  <tbody>\n",
       "    <tr>\n",
       "      <th>Dawn</th>\n",
       "      <td>0.003140</td>\n",
       "      <td>0.000238</td>\n",
       "      <td>0.000000</td>\n",
       "      <td>0.000000</td>\n",
       "      <td>0.000000</td>\n",
       "      <td>0.029496</td>\n",
       "      <td>0.002777</td>\n",
       "      <td>0.000013</td>\n",
       "      <td>0.000188</td>\n",
       "      <td>0.035851</td>\n",
       "    </tr>\n",
       "    <tr>\n",
       "      <th>Day</th>\n",
       "      <td>0.015199</td>\n",
       "      <td>0.001951</td>\n",
       "      <td>0.000038</td>\n",
       "      <td>0.000075</td>\n",
       "      <td>0.000013</td>\n",
       "      <td>0.570976</td>\n",
       "      <td>0.042418</td>\n",
       "      <td>0.000138</td>\n",
       "      <td>0.002427</td>\n",
       "      <td>0.633234</td>\n",
       "    </tr>\n",
       "    <tr>\n",
       "      <th>Dusk</th>\n",
       "      <td>0.000763</td>\n",
       "      <td>0.000113</td>\n",
       "      <td>0.000000</td>\n",
       "      <td>0.000000</td>\n",
       "      <td>0.000000</td>\n",
       "      <td>0.043757</td>\n",
       "      <td>0.002865</td>\n",
       "      <td>0.000038</td>\n",
       "      <td>0.000213</td>\n",
       "      <td>0.047747</td>\n",
       "    </tr>\n",
       "    <tr>\n",
       "      <th>NIGHT</th>\n",
       "      <td>0.000000</td>\n",
       "      <td>0.000000</td>\n",
       "      <td>0.000000</td>\n",
       "      <td>0.000000</td>\n",
       "      <td>0.000000</td>\n",
       "      <td>0.000013</td>\n",
       "      <td>0.000000</td>\n",
       "      <td>0.000000</td>\n",
       "      <td>0.000000</td>\n",
       "      <td>0.000013</td>\n",
       "    </tr>\n",
       "    <tr>\n",
       "      <th>Night</th>\n",
       "      <td>0.004216</td>\n",
       "      <td>0.000575</td>\n",
       "      <td>0.000025</td>\n",
       "      <td>0.000075</td>\n",
       "      <td>0.000000</td>\n",
       "      <td>0.264592</td>\n",
       "      <td>0.012809</td>\n",
       "      <td>0.000050</td>\n",
       "      <td>0.000813</td>\n",
       "      <td>0.283155</td>\n",
       "    </tr>\n",
       "    <tr>\n",
       "      <th>All</th>\n",
       "      <td>0.023317</td>\n",
       "      <td>0.002877</td>\n",
       "      <td>0.000063</td>\n",
       "      <td>0.000150</td>\n",
       "      <td>0.000013</td>\n",
       "      <td>0.908834</td>\n",
       "      <td>0.060869</td>\n",
       "      <td>0.000238</td>\n",
       "      <td>0.003640</td>\n",
       "      <td>1.000000</td>\n",
       "    </tr>\n",
       "  </tbody>\n",
       "</table>\n",
       "</div>"
      ],
      "text/plain": [
       "PRECIP            Fog  Fog, Rain  Fog, Rain, Snow  Fog, Snow      NoNe  \\\n",
       "TIME_OF_DAY                                                              \n",
       "Dawn         0.003140   0.000238         0.000000   0.000000  0.000000   \n",
       "Day          0.015199   0.001951         0.000038   0.000075  0.000013   \n",
       "Dusk         0.000763   0.000113         0.000000   0.000000  0.000000   \n",
       "NIGHT        0.000000   0.000000         0.000000   0.000000  0.000000   \n",
       "Night        0.004216   0.000575         0.000025   0.000075  0.000000   \n",
       "All          0.023317   0.002877         0.000063   0.000150  0.000013   \n",
       "\n",
       "PRECIP           None      Rain  Rain, Snow      Snow       All  \n",
       "TIME_OF_DAY                                                      \n",
       "Dawn         0.029496  0.002777    0.000013  0.000188  0.035851  \n",
       "Day          0.570976  0.042418    0.000138  0.002427  0.633234  \n",
       "Dusk         0.043757  0.002865    0.000038  0.000213  0.047747  \n",
       "NIGHT        0.000013  0.000000    0.000000  0.000000  0.000013  \n",
       "Night        0.264592  0.012809    0.000050  0.000813  0.283155  \n",
       "All          0.908834  0.060869    0.000238  0.003640  1.000000  "
      ]
     },
     "execution_count": 29,
     "metadata": {},
     "output_type": "execute_result"
    }
   ],
   "source": [
    "pandas.crosstab( df[ 'TIME_OF_DAY' ], df[ 'PRECIP' ], margins = True, normalize =\"all\" )"
   ]
  },
  {
   "cell_type": "code",
   "execution_count": 30,
   "id": "135e8768-6f87-453f-935d-0c1ea0979f10",
   "metadata": {},
   "outputs": [
    {
     "data": {
      "text/html": [
       "<div>\n",
       "<style scoped>\n",
       "    .dataframe tbody tr th:only-of-type {\n",
       "        vertical-align: middle;\n",
       "    }\n",
       "\n",
       "    .dataframe tbody tr th {\n",
       "        vertical-align: top;\n",
       "    }\n",
       "\n",
       "    .dataframe thead th {\n",
       "        text-align: right;\n",
       "    }\n",
       "</style>\n",
       "<table border=\"1\" class=\"dataframe\">\n",
       "  <thead>\n",
       "    <tr style=\"text-align: right;\">\n",
       "      <th>TIME_OF_DAY</th>\n",
       "      <th>DAY</th>\n",
       "      <th>Dawn</th>\n",
       "      <th>Day</th>\n",
       "      <th>Dusk</th>\n",
       "      <th>NIGHT</th>\n",
       "      <th>Night</th>\n",
       "    </tr>\n",
       "    <tr>\n",
       "      <th>DAMAGE</th>\n",
       "      <th></th>\n",
       "      <th></th>\n",
       "      <th></th>\n",
       "      <th></th>\n",
       "      <th></th>\n",
       "      <th></th>\n",
       "    </tr>\n",
       "  </thead>\n",
       "  <tbody>\n",
       "    <tr>\n",
       "      <th>D</th>\n",
       "      <td>0.000000</td>\n",
       "      <td>0.015873</td>\n",
       "      <td>0.666667</td>\n",
       "      <td>0.047619</td>\n",
       "      <td>0.000000</td>\n",
       "      <td>0.269841</td>\n",
       "    </tr>\n",
       "    <tr>\n",
       "      <th>M</th>\n",
       "      <td>0.000000</td>\n",
       "      <td>0.028595</td>\n",
       "      <td>0.550447</td>\n",
       "      <td>0.056377</td>\n",
       "      <td>0.000000</td>\n",
       "      <td>0.364582</td>\n",
       "    </tr>\n",
       "    <tr>\n",
       "      <th>M?</th>\n",
       "      <td>0.000000</td>\n",
       "      <td>0.032258</td>\n",
       "      <td>0.615484</td>\n",
       "      <td>0.046882</td>\n",
       "      <td>0.000000</td>\n",
       "      <td>0.305376</td>\n",
       "    </tr>\n",
       "    <tr>\n",
       "      <th>N</th>\n",
       "      <td>0.000013</td>\n",
       "      <td>0.033544</td>\n",
       "      <td>0.609919</td>\n",
       "      <td>0.042561</td>\n",
       "      <td>0.000013</td>\n",
       "      <td>0.313951</td>\n",
       "    </tr>\n",
       "    <tr>\n",
       "      <th>S</th>\n",
       "      <td>0.000000</td>\n",
       "      <td>0.040567</td>\n",
       "      <td>0.592348</td>\n",
       "      <td>0.059367</td>\n",
       "      <td>0.000000</td>\n",
       "      <td>0.307718</td>\n",
       "    </tr>\n",
       "    <tr>\n",
       "      <th>All</th>\n",
       "      <td>0.000011</td>\n",
       "      <td>0.033399</td>\n",
       "      <td>0.605508</td>\n",
       "      <td>0.044163</td>\n",
       "      <td>0.000011</td>\n",
       "      <td>0.316908</td>\n",
       "    </tr>\n",
       "  </tbody>\n",
       "</table>\n",
       "</div>"
      ],
      "text/plain": [
       "TIME_OF_DAY       DAY      Dawn       Day      Dusk     NIGHT     Night\n",
       "DAMAGE                                                                 \n",
       "D            0.000000  0.015873  0.666667  0.047619  0.000000  0.269841\n",
       "M            0.000000  0.028595  0.550447  0.056377  0.000000  0.364582\n",
       "M?           0.000000  0.032258  0.615484  0.046882  0.000000  0.305376\n",
       "N            0.000013  0.033544  0.609919  0.042561  0.000013  0.313951\n",
       "S            0.000000  0.040567  0.592348  0.059367  0.000000  0.307718\n",
       "All          0.000011  0.033399  0.605508  0.044163  0.000011  0.316908"
      ]
     },
     "execution_count": 30,
     "metadata": {},
     "output_type": "execute_result"
    }
   ],
   "source": [
    "pandas.crosstab( df[ 'DAMAGE' ], df[ 'TIME_OF_DAY' ], margins=True, normalize =\"index\" )"
   ]
  },
  {
   "cell_type": "code",
   "execution_count": 31,
   "id": "0277dfe8-16fc-4a3d-b0f4-3925dd9f70f2",
   "metadata": {},
   "outputs": [
    {
     "data": {
      "text/html": [
       "<div>\n",
       "<style scoped>\n",
       "    .dataframe tbody tr th:only-of-type {\n",
       "        vertical-align: middle;\n",
       "    }\n",
       "\n",
       "    .dataframe tbody tr th {\n",
       "        vertical-align: top;\n",
       "    }\n",
       "\n",
       "    .dataframe thead th {\n",
       "        text-align: right;\n",
       "    }\n",
       "</style>\n",
       "<table border=\"1\" class=\"dataframe\">\n",
       "  <thead>\n",
       "    <tr style=\"text-align: right;\">\n",
       "      <th>TIME_OF_DAY</th>\n",
       "      <th>DAY</th>\n",
       "      <th>Dawn</th>\n",
       "      <th>Day</th>\n",
       "      <th>Dusk</th>\n",
       "      <th>NIGHT</th>\n",
       "      <th>Night</th>\n",
       "      <th>All</th>\n",
       "    </tr>\n",
       "    <tr>\n",
       "      <th>DAMAGE</th>\n",
       "      <th></th>\n",
       "      <th></th>\n",
       "      <th></th>\n",
       "      <th></th>\n",
       "      <th></th>\n",
       "      <th></th>\n",
       "      <th></th>\n",
       "    </tr>\n",
       "  </thead>\n",
       "  <tbody>\n",
       "    <tr>\n",
       "      <th>D</th>\n",
       "      <td>0.0</td>\n",
       "      <td>0.000328</td>\n",
       "      <td>0.000760</td>\n",
       "      <td>0.000744</td>\n",
       "      <td>0.0</td>\n",
       "      <td>0.000587</td>\n",
       "      <td>0.000690</td>\n",
       "    </tr>\n",
       "    <tr>\n",
       "      <th>M</th>\n",
       "      <td>0.0</td>\n",
       "      <td>0.057705</td>\n",
       "      <td>0.061271</td>\n",
       "      <td>0.086040</td>\n",
       "      <td>0.0</td>\n",
       "      <td>0.077540</td>\n",
       "      <td>0.067400</td>\n",
       "    </tr>\n",
       "    <tr>\n",
       "      <th>M?</th>\n",
       "      <td>0.0</td>\n",
       "      <td>0.024590</td>\n",
       "      <td>0.025879</td>\n",
       "      <td>0.027027</td>\n",
       "      <td>0.0</td>\n",
       "      <td>0.024534</td>\n",
       "      <td>0.025460</td>\n",
       "    </tr>\n",
       "    <tr>\n",
       "      <th>N</th>\n",
       "      <td>1.0</td>\n",
       "      <td>0.877049</td>\n",
       "      <td>0.879609</td>\n",
       "      <td>0.841557</td>\n",
       "      <td>1.0</td>\n",
       "      <td>0.865100</td>\n",
       "      <td>0.873248</td>\n",
       "    </tr>\n",
       "    <tr>\n",
       "      <th>S</th>\n",
       "      <td>0.0</td>\n",
       "      <td>0.040328</td>\n",
       "      <td>0.032480</td>\n",
       "      <td>0.044632</td>\n",
       "      <td>0.0</td>\n",
       "      <td>0.032239</td>\n",
       "      <td>0.033202</td>\n",
       "    </tr>\n",
       "  </tbody>\n",
       "</table>\n",
       "</div>"
      ],
      "text/plain": [
       "TIME_OF_DAY  DAY      Dawn       Day      Dusk  NIGHT     Night       All\n",
       "DAMAGE                                                                   \n",
       "D            0.0  0.000328  0.000760  0.000744    0.0  0.000587  0.000690\n",
       "M            0.0  0.057705  0.061271  0.086040    0.0  0.077540  0.067400\n",
       "M?           0.0  0.024590  0.025879  0.027027    0.0  0.024534  0.025460\n",
       "N            1.0  0.877049  0.879609  0.841557    1.0  0.865100  0.873248\n",
       "S            0.0  0.040328  0.032480  0.044632    0.0  0.032239  0.033202"
      ]
     },
     "execution_count": 31,
     "metadata": {},
     "output_type": "execute_result"
    }
   ],
   "source": [
    "pandas.crosstab( df[ 'DAMAGE' ], df[ 'TIME_OF_DAY' ], margins=True, normalize =\"columns\" )"
   ]
  },
  {
   "cell_type": "markdown",
   "id": "f1ea617a-5505-451f-91d8-d86d2006a464",
   "metadata": {},
   "source": [
    "## Visualizations"
   ]
  },
  {
   "cell_type": "code",
   "execution_count": 32,
   "id": "5dbace02-7b52-485d-8a1a-e51b17423d6d",
   "metadata": {},
   "outputs": [
    {
     "data": {
      "image/png": "[encoded data removed]",
      "text/plain": [
       "<Figure size 432x288 with 1 Axes>"
      ]
     },
     "metadata": {
      "needs_background": "light"
     },
     "output_type": "display_data"
    }
   ],
   "source": [
    "hist=df[ 'NR_INJURIES' ].plot.hist()"
   ]
  },
  {
   "cell_type": "code",
   "execution_count": 33,
   "id": "50ef0848-dbfd-4089-94e0-6acf3ea05016",
   "metadata": {},
   "outputs": [
    {
     "data": {
      "image/png": "[encoded data removed]",
      "text/plain": [
       "<Figure size 432x288 with 1 Axes>"
      ]
     },
     "metadata": {
      "needs_background": "light"
     },
     "output_type": "display_data"
    }
   ],
   "source": [
    "hist=df[ 'NR_INJURIES_0' ].plot.hist()"
   ]
  },
  {
   "cell_type": "code",
   "execution_count": 34,
   "id": "db489092-0b90-4270-a771-0b36f4492c8b",
   "metadata": {},
   "outputs": [
    {
     "data": {
      "image/png": "[encoded data removed]",
      "text/plain": [
       "<Figure size 432x288 with 1 Axes>"
      ]
     },
     "metadata": {
      "needs_background": "light"
     },
     "output_type": "display_data"
    }
   ],
   "source": [
    "hist=df[ 'NR_FATALITIES' ].plot.hist()"
   ]
  },
  {
   "cell_type": "code",
   "execution_count": 35,
   "id": "a30b1788-e781-4b9f-a484-3102285d6d9d",
   "metadata": {},
   "outputs": [
    {
     "data": {
      "image/png": "[encoded data removed]",
      "text/plain": [
       "<Figure size 432x288 with 1 Axes>"
      ]
     },
     "metadata": {
      "needs_background": "light"
     },
     "output_type": "display_data"
    }
   ],
   "source": [
    "plot = df['TIME_OF_DAY'].value_counts().plot.bar()"
   ]
  },
  {
   "cell_type": "code",
   "execution_count": 36,
   "id": "046554bc-e6ab-4614-9132-53abd7e52e60",
   "metadata": {},
   "outputs": [
    {
     "data": {
      "image/png": "[encoded data removed]",
      "text/plain": [
       "<Figure size 432x288 with 1 Axes>"
      ]
     },
     "metadata": {
      "needs_background": "light"
     },
     "output_type": "display_data"
    }
   ],
   "source": [
    "plot = df['TIME_OF_DAY'].value_counts( normalize = True ).plot.bar()"
   ]
  },
  {
   "cell_type": "code",
   "execution_count": 37,
   "id": "3fdd36f1-a7de-429b-9584-694336b871d9",
   "metadata": {},
   "outputs": [
    {
     "data": {
      "image/png": "[encoded data removed]",
      "text/plain": [
       "<Figure size 432x288 with 1 Axes>"
      ]
     },
     "metadata": {
      "needs_background": "light"
     },
     "output_type": "display_data"
    }
   ],
   "source": [
    "plot = df['DAMAGE'].value_counts( normalize = True ).plot.bar()"
   ]
  },
  {
   "cell_type": "code",
   "execution_count": 38,
   "id": "c6999890-7ee0-4b89-9efb-84e72d6e00c8",
   "metadata": {},
   "outputs": [
    {
     "data": {
      "image/png": "[encoded data removed]",
      "text/plain": [
       "<Figure size 432x288 with 1 Axes>"
      ]
     },
     "metadata": {
      "needs_background": "light"
     },
     "output_type": "display_data"
    }
   ],
   "source": [
    "plot = df.plot.scatter( x = \"AC_MASS\", y = \"NR_INJURIES\" )"
   ]
  },
  {
   "cell_type": "code",
   "execution_count": 39,
   "id": "ad334418-0d36-42ad-a0b3-30eb038edc39",
   "metadata": {},
   "outputs": [
    {
     "data": {
      "image/png": "[encoded data removed]",
      "text/plain": [
       "<Figure size 432x288 with 1 Axes>"
      ]
     },
     "metadata": {
      "needs_background": "light"
     },
     "output_type": "display_data"
    }
   ],
   "source": [
    "plot = df.boxplot( column=['SPEED' ], by = [ 'DAMAGE' ] )"
   ]
  },
  {
   "cell_type": "code",
   "execution_count": null,
   "id": "e5abfc1e-3367-4b99-b698-8b7437949428",
   "metadata": {},
   "outputs": [],
   "source": []
  }
 ],
 "metadata": {
  "kernelspec": {
   "display_name": "Python 3",
   "language": "python",
   "name": "python3"
  },
  "language_info": {
   "codemirror_mode": {
    "name": "ipython",
    "version": 3
   },
   "file_extension": ".py",
   "mimetype": "text/x-python",
   "name": "python",
   "nbconvert_exporter": "python",
   "pygments_lexer": "ipython3",
   "version": "3.9.5"
  }
 },
 "nbformat": 4,
 "nbformat_minor": 5
}
