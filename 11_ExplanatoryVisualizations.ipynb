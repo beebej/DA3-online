{
 "cells": [
  {
   "cell_type": "code",
   "execution_count": null,
   "id": "a1eff5df-e219-4dc8-8a22-40ce22763213",
   "metadata": {
    "slideshow": {
     "slide_type": "slide"
    },
    "tags": []
   },
   "outputs": [],
   "source": [
    "#Run the following code to print multiple outputs from a cell\n",
    "get_ipython().ast_node_interactivity = 'all'"
   ]
  },
  {
   "cell_type": "markdown",
   "id": "95f0fa0c-294a-483a-b6e5-f82f1ba0e822",
   "metadata": {},
   "source": [
    "# Explanatory Visualizations\n",
    "\n",
    "In the class on Profiling, we learned how to create basic visualizations using matplotlib. These were *exploratory* visualizations, intended to help us understand our data before building models.\n",
    "\n",
    "Over the next 2 class sessions, we'll be looking at how to create *explanatory* visualizations, which are graphs intended to convey a message about your analysis. To do this, we will be using the `plotnine` package, which is based on the structure of `ggplot()` graphs from R.\n",
    "\n",
    "In this first worksheet, we will cover the following topics:\n",
    "\n",
    "* the structure of `ggplot()` commands\n",
    "* how to create basic visualizations (e.g., histograms, boxplots, bar charts, & scatter plots)\n",
    "\n",
    "In the next worksheet, we will look at how to polish your graphs with title, axis labels, customized graph elements, and annotations.\n",
    "\n",
    "First, let's import the file, \"dataBeatport.csv\", and save it in a variable called `df`. "
   ]
  },
  {
   "cell_type": "code",
   "execution_count": null,
   "id": "9a3f3516-7be8-4b4e-bf29-f4804f38465b",
   "metadata": {},
   "outputs": [],
   "source": [
    "import pandas as pd\n",
    "df = pd.read_csv(\"dataBeatport.csv\")\n",
    "df"
   ]
  },
  {
   "cell_type": "markdown",
   "id": "5dcf9bf0-1119-4242-a042-370fbae72ad7",
   "metadata": {},
   "source": [
    "## Structure of `ggplot()`\n",
    "\n",
    "The graphs we will be building with `ggplot()` come from the `plotnine` package. Let's first import the package:"
   ]
  },
  {
   "cell_type": "code",
   "execution_count": null,
   "id": "ab817d86-f846-4371-8a0f-1a34e23e2ac7",
   "metadata": {},
   "outputs": [],
   "source": [
    "# imports everything from plotnine\n",
    "from plotnine import *"
   ]
  },
  {
   "cell_type": "markdown",
   "id": "06d49d5b-f75e-4665-99ae-dcf5bb46c379",
   "metadata": {},
   "source": [
    "Graphs in `ggplot()` are built in layers. Let's take a look at a basic scatter plot and break it down layer by layer:"
   ]
  },
  {
   "cell_type": "code",
   "execution_count": null,
   "id": "c934b30a-2d5e-4e03-93df-c8334e634a9d",
   "metadata": {},
   "outputs": [],
   "source": [
    "(ggplot(df, aes(x = \"artistSongs\", y = \"twitterFollowers\")) +\n",
    "   geom_point() +\n",
    "   labs(title = \"Songs Released by Artists vs. # of Twitter Followers\",\n",
    "       x = \"# of songs released by the artist\",\n",
    "       y = \"# of Twitter followers (in millions)\") +\n",
    "   scale_y_continuous(breaks = [5000000, 10000000, 15000000, 20000000],\n",
    "       labels = [\"5M\", \"10M\", \"15M\", \"20M\"]) +\n",
    "   annotate(\"text\", x = 500, y = 20000000, label = \"This is an Electro House artist\"))"
   ]
  },
  {
   "cell_type": "markdown",
   "id": "68aa8637-a204-4f5f-a4a1-b51661a30670",
   "metadata": {},
   "source": [
    "As you can see, each layer is separated with a `+` symbol. To avoid typing `\\` to break each line, if you contain the entire code in `()`s, you can continue on to separate lines.\n",
    "\n",
    "### 1. Aesthetic Mappings\n",
    "\n",
    "Run the following code to see what the first layer does:"
   ]
  },
  {
   "cell_type": "code",
   "execution_count": null,
   "id": "49639e26-58b5-4680-84c8-6d08933a9df7",
   "metadata": {},
   "outputs": [],
   "source": [
    "(ggplot(df, aes(x = \"artistSongs\", y = \"twitterFollowers\")))"
   ]
  },
  {
   "cell_type": "markdown",
   "id": "8aa0c647-a7cd-4fb9-a361-5623d92eb790",
   "metadata": {},
   "source": [
    "In the first layer, you set up the graph, stating which variables map to which element of your graph. Here, we're indicating which variables will be on the x- and y-axes."
   ]
  },
  {
   "cell_type": "markdown",
   "id": "2952aab2-5f51-4529-8389-56f9be77dd38",
   "metadata": {},
   "source": [
    "### 2. Geometric Function\n",
    "\n",
    "In the next layer, we indicate the type of graph we'll be drawing. Here, we've indicated that we want to draw points on our graph (i.e., a scatter plot):"
   ]
  },
  {
   "cell_type": "code",
   "execution_count": null,
   "id": "08a1d35c-26a5-414e-a71d-cc38a46a559d",
   "metadata": {},
   "outputs": [],
   "source": [
    "(ggplot(df, aes(x = \"artistSongs\", y = \"twitterFollowers\")) +\n",
    "   geom_point())"
   ]
  },
  {
   "cell_type": "markdown",
   "id": "3ec76bf2-c832-4477-99f3-c954e54e6a3c",
   "metadata": {},
   "source": [
    "The main types of graphs you can create are:\n",
    "\n",
    "* `geom_point()` - scatter plot\n",
    "* `geom_histogram()` - histogram\n",
    "* `geom_density()` - density histogram\n",
    "* `geom_boxplot()` - boxplot\n",
    "* `geom_bar()` - bar chart\n",
    "* `geom_line()` - line graph\n",
    "* `geom_smooth()` - smoothed line (e.g., a regression line)"
   ]
  },
  {
   "cell_type": "markdown",
   "id": "18620431-03f4-44be-a8bc-bf9033c06f6a",
   "metadata": {},
   "source": [
    "### 3. Labels and Scales\n",
    "\n",
    "Next, we can customize the graph with labels using `lab()`:"
   ]
  },
  {
   "cell_type": "code",
   "execution_count": null,
   "id": "330e3d3e-0b94-4795-96a0-a52683ecdb2a",
   "metadata": {},
   "outputs": [],
   "source": [
    "(ggplot(df, aes(x = \"artistSongs\", y = \"twitterFollowers\")) +\n",
    "   geom_point() +\n",
    "   labs(title = \"Songs Released by Artists vs. # of Twitter Followers\",\n",
    "       x = \"# of songs released by the artist\",\n",
    "       y = \"# of Twitter followers (in millions)\"))"
   ]
  },
  {
   "cell_type": "markdown",
   "id": "8ce67122-4dce-4012-b02b-412a4ed291d7",
   "metadata": {},
   "source": [
    "You can also customize your axes using `scales...()`. Here, we're adjusting the y-axis break points and labels:"
   ]
  },
  {
   "cell_type": "code",
   "execution_count": null,
   "id": "cd21f914-8cc1-4be9-ae8a-9514a7deed7c",
   "metadata": {},
   "outputs": [],
   "source": [
    "(ggplot(df, aes(x = \"artistSongs\", y = \"twitterFollowers\")) +\n",
    "   geom_point() +\n",
    "   labs(title = \"Songs Released by Artists vs. # of Twitter Followers\",\n",
    "       x = \"# of songs released by the artist\",\n",
    "       y = \"# of Twitter followers (in millions)\") +\n",
    "   scale_y_continuous(breaks = [5000000, 10000000, 15000000, 20000000],\n",
    "       labels = [\"5M\", \"10M\", \"15M\", \"20M\"]))"
   ]
  },
  {
   "cell_type": "markdown",
   "id": "3fc2811a-21aa-4e1a-8b96-f7004b5aed0f",
   "metadata": {},
   "source": [
    "### 4. Annotations\n",
    "\n",
    "Finally, you can add annotations onto the graph. Here, we're adding some text to call out the outlier:"
   ]
  },
  {
   "cell_type": "code",
   "execution_count": null,
   "id": "4367fd15-6fdb-4bb2-8aa9-7ba50b19af63",
   "metadata": {},
   "outputs": [],
   "source": [
    "(ggplot(df, aes(x = \"artistSongs\", y = \"twitterFollowers\")) +\n",
    "   geom_point() +\n",
    "   labs(title = \"Songs Released by Artists vs. # of Twitter Followers\",\n",
    "       x = \"# of songs released by the artist\",\n",
    "       y = \"# of Twitter followers (in millions)\") +\n",
    "   scale_y_continuous(breaks = [5000000, 10000000, 15000000, 20000000],\n",
    "       labels = [\"5M\", \"10M\", \"15M\", \"20M\"]) +\n",
    "   annotate(\"text\", x = 500, y = 20000000, label = \"This is an Electro House artist\"))"
   ]
  },
  {
   "cell_type": "markdown",
   "id": "421815a1-e680-429a-bd72-99bb1fae130e",
   "metadata": {},
   "source": [
    "There are a number of different annotations you can add to the graph, including \"text\", \"point\", and \"segment\" (which is a line)."
   ]
  },
  {
   "cell_type": "markdown",
   "id": "59071794-7d88-413c-a757-80b381020b25",
   "metadata": {},
   "source": [
    "## Basic Graphs\n",
    "\n",
    "### Graphs for Numeric Data\n",
    "\n",
    "Remember, the 2 most common graphs to display numeric data are ***histograms*** and ***boxplots***. If you want to see 2 numeric variables compared to each other, a ***scatter plot*** is best.\n",
    "\n",
    "#### Histograms\n",
    "\n",
    "Let's look at a histogram of the \"twitterFollowers\" variable:"
   ]
  },
  {
   "cell_type": "code",
   "execution_count": null,
   "id": "796ab2dd-d810-484f-8e3c-58cdc7e14c5b",
   "metadata": {},
   "outputs": [],
   "source": [
    "(ggplot(df, aes(x = \"daysAfterRelease\")) +\n",
    "   geom_histogram())"
   ]
  },
  {
   "cell_type": "markdown",
   "id": "f35170af-dfb4-4239-97a9-9b1c9a2e7ad3",
   "metadata": {},
   "source": [
    "Notice the warning about bin sizes. You can customize the number or width of the bins with `bins =` or `binwidth =`:"
   ]
  },
  {
   "cell_type": "code",
   "execution_count": null,
   "id": "518d8e30-49ad-4055-b27c-922dbd2488fa",
   "metadata": {},
   "outputs": [],
   "source": [
    "(ggplot(df, aes(x = \"daysAfterRelease\")) +\n",
    "   geom_histogram(bins = 20))"
   ]
  },
  {
   "cell_type": "code",
   "execution_count": null,
   "id": "768cfef5-5eb8-433a-ab5a-c61b0ce4218e",
   "metadata": {},
   "outputs": [],
   "source": [
    "(ggplot(df, aes(x = \"daysAfterRelease\")) +\n",
    "   geom_histogram(binwidth = 10))"
   ]
  },
  {
   "cell_type": "markdown",
   "id": "3652027d-7308-4ba1-84a6-1b478652bf1a",
   "metadata": {},
   "source": [
    "If you'd like to show proportions on the y-axis instead of counts, you can use `geom_density()`:"
   ]
  },
  {
   "cell_type": "code",
   "execution_count": null,
   "id": "74ffe73f-caf0-4ddb-8bca-5fc5eb4434d4",
   "metadata": {},
   "outputs": [],
   "source": [
    "((ggplot(df, aes(x = \"daysAfterRelease\")) +\n",
    "   geom_density()))"
   ]
  },
  {
   "cell_type": "markdown",
   "id": "6dee3eed-006f-4f81-8824-21d0ff9959af",
   "metadata": {},
   "source": [
    "Density histograms are good for showing the distribution of a numeric variable broken out by a categorical variable. For this, you'd include the categorical variable in your aesthetic layer as `color=`:"
   ]
  },
  {
   "cell_type": "code",
   "execution_count": null,
   "id": "1966e668-e138-47dd-a0c4-522c8cc6af73",
   "metadata": {},
   "outputs": [],
   "source": [
    "(ggplot(df, aes(x = \"daysAfterRelease\", color = \"genre\")) +\n",
    "   geom_density())"
   ]
  },
  {
   "cell_type": "markdown",
   "id": "30e04b8d-3499-48fd-b68d-1f71226c659a",
   "metadata": {},
   "source": [
    "Now you try...create a histogram for the `artistSongs` variable, using a bin width of 250:"
   ]
  },
  {
   "cell_type": "code",
   "execution_count": null,
   "id": "40d7050e-2e83-403b-840c-196121b864cd",
   "metadata": {},
   "outputs": [],
   "source": []
  },
  {
   "cell_type": "markdown",
   "id": "ff078fa7-db53-4e35-a220-5c4efb91e33a",
   "metadata": {},
   "source": [
    "#### Boxplots\n",
    "\n",
    "Another good visualization for numeric data is the boxplot. Unlike a histogram, where the variable goes on the x-axis, you need to put the variable on the y-axis for a boxplot:"
   ]
  },
  {
   "cell_type": "code",
   "execution_count": null,
   "id": "9dc350ff-5340-4fcf-8d1c-253aeefdc36a",
   "metadata": {},
   "outputs": [],
   "source": [
    "(ggplot(df, aes(y = \"daysAfterRelease\")) +\n",
    "   geom_boxplot())"
   ]
  },
  {
   "cell_type": "markdown",
   "id": "eb67d136-4c9f-4280-8904-328c9d29965a",
   "metadata": {},
   "source": [
    "Although the variable needs to go on the y-axis, you can use `+ coord_flip()` to rotate the axis 90 degrees:"
   ]
  },
  {
   "cell_type": "code",
   "execution_count": null,
   "id": "4ee5b79d-82f7-458b-8b6a-b056cb97e3ba",
   "metadata": {},
   "outputs": [],
   "source": [
    "(ggplot(df, aes(y = \"daysAfterRelease\")) +\n",
    "   geom_boxplot() +\n",
    "   coord_flip())"
   ]
  },
  {
   "cell_type": "markdown",
   "id": "34fb64b1-01d3-4438-b4e6-a4d215015d00",
   "metadata": {},
   "source": [
    "I like this orientation because it makes it easier to compare the histogram vs. boxplot:"
   ]
  },
  {
   "cell_type": "code",
   "execution_count": null,
   "id": "5a160e7f-56c5-4c42-bd7e-d186e7ae291a",
   "metadata": {},
   "outputs": [],
   "source": [
    "(ggplot(df, aes(y = \"daysAfterRelease\")) +\n",
    "   geom_boxplot() +\n",
    "   coord_flip())\n",
    "(ggplot(df, aes(x = \"daysAfterRelease\")) +\n",
    "   geom_histogram(bins = 20))"
   ]
  },
  {
   "cell_type": "markdown",
   "id": "347a33c1-868f-4428-9a28-bd6071a5a80f",
   "metadata": {},
   "source": [
    "The histogram clearly shows where the modes are, while the boxplot shows the outliers.\n",
    "\n",
    "Just as with density histograms, you can also break a boxplot out by categories by using `x=`:"
   ]
  },
  {
   "cell_type": "code",
   "execution_count": null,
   "id": "aad50447-e419-4b67-8433-02be830c7842",
   "metadata": {},
   "outputs": [],
   "source": [
    "(ggplot(df, aes(y = \"daysAfterRelease\", x = \"genre\")) +\n",
    "   geom_boxplot())"
   ]
  },
  {
   "cell_type": "markdown",
   "id": "1f6b5189-0cc6-4006-9d17-5f68093ce560",
   "metadata": {},
   "source": [
    "Or with the axes flipped..."
   ]
  },
  {
   "cell_type": "code",
   "execution_count": null,
   "id": "1051f5d7-48dd-4d92-8d86-2b1ef794c607",
   "metadata": {},
   "outputs": [],
   "source": [
    "(ggplot(df, aes(y = \"daysAfterRelease\", x = \"genre\")) +\n",
    "   geom_boxplot() +\n",
    "   coord_flip())"
   ]
  },
  {
   "cell_type": "markdown",
   "id": "0148f57a-d005-4bc9-ae51-c22f7a4c520f",
   "metadata": {},
   "source": [
    "Now you try...create a boxplot for the \"artistSongs\" variable:"
   ]
  },
  {
   "cell_type": "code",
   "execution_count": null,
   "id": "7dc5788c-445e-41bf-9ef9-e1e63426dc7f",
   "metadata": {},
   "outputs": [],
   "source": []
  },
  {
   "cell_type": "markdown",
   "id": "c11d2bb8-0e12-4a99-a86e-0550bcdce155",
   "metadata": {},
   "source": [
    "Now split the \"artistSongs\" variable by \"genre\" and display your boxplots horizontally:"
   ]
  },
  {
   "cell_type": "code",
   "execution_count": null,
   "id": "351ce750-d195-4df2-b03c-40b8cb048a1f",
   "metadata": {},
   "outputs": [],
   "source": []
  },
  {
   "cell_type": "markdown",
   "id": "7b84dddc-8a4e-43db-8d4d-bd4b7a927d51",
   "metadata": {},
   "source": [
    "#### Scatter Plots\n",
    "\n",
    "To view the relationship between 2 numeric variables, a scatter plot is best. As we've already seen, you use `geom_point()` to draw a scatter plot. For example:"
   ]
  },
  {
   "cell_type": "code",
   "execution_count": null,
   "id": "ff4a7247-ed74-4fb9-beab-80f18f19bdc9",
   "metadata": {},
   "outputs": [],
   "source": [
    "(ggplot(df, aes(x = \"daysAfterRelease\", y = \"artistSongs\")) +\n",
    "   geom_point())"
   ]
  },
  {
   "cell_type": "markdown",
   "id": "95f4f2bb-317a-41ea-9039-aeae1667d239",
   "metadata": {},
   "source": [
    "Given the large amount of data, it's hard to see how many points are overlapping. To adjust this, you can include `alpha=` in your `geom_point()` layer...alpha ranges from 0 to 1, which 0 being transparent and 1 being solid.\n",
    "\n",
    "Here, I've used an alpha of 0.3 to show some transparency:"
   ]
  },
  {
   "cell_type": "code",
   "execution_count": null,
   "id": "22956b28-a6d8-4cdc-9001-f965caf9f121",
   "metadata": {},
   "outputs": [],
   "source": [
    "(ggplot(df, aes(x = \"daysAfterRelease\", y = \"artistSongs\")) +\n",
    "   geom_point(alpha = 0.3))"
   ]
  },
  {
   "cell_type": "markdown",
   "id": "0e916499-958b-45e5-8eac-e2a21e76b8e8",
   "metadata": {},
   "source": [
    "You can add other variables using `color`, `size`, or `shape`. Here, I've mapped the `genre` variable to the `color` attribute:"
   ]
  },
  {
   "cell_type": "code",
   "execution_count": null,
   "id": "56a5c6fc-9d1a-4c49-8785-eec8241ed4c4",
   "metadata": {},
   "outputs": [],
   "source": [
    "(ggplot(df, aes(x = \"daysAfterRelease\", y = \"artistSongs\", color = \"genre\")) +\n",
    "   geom_point(alpha = 0.3))"
   ]
  },
  {
   "cell_type": "markdown",
   "id": "2c15737b-faa2-4453-9e3c-ee960cb16b25",
   "metadata": {},
   "source": [
    "Copy/paste the code for the above graph and see if you can figure out how to add \"enteredCharts\" as a `size` attribute:"
   ]
  },
  {
   "cell_type": "code",
   "execution_count": null,
   "id": "b51413c3-00db-4e54-a33f-0ed17c48ba29",
   "metadata": {},
   "outputs": [],
   "source": []
  },
  {
   "cell_type": "markdown",
   "id": "b63b870f-c6e0-4bae-b41d-f340cedf8c9c",
   "metadata": {},
   "source": [
    "The \"enteredCharts\" variable only has 2 values: 0 for \"did not enter the charts\" and 1 for \"entered the charts\". If this is the case, why did the `size` attribute display with values between 0 and 1?\n",
    "\n",
    "When you have a numerically coded variable that you want graphed as categorical, you can use `factor()`...e.g., `factor(enteredCharts)`. Revise your code to re-draw the graph so that it only shows sizes for 0 and 1:"
   ]
  },
  {
   "cell_type": "code",
   "execution_count": null,
   "id": "b4cdb04f-086e-4907-8c47-b1395ee388d8",
   "metadata": {},
   "outputs": [],
   "source": []
  },
  {
   "cell_type": "markdown",
   "id": "4c01ebb4-2295-47ce-b067-f30da0ea3950",
   "metadata": {},
   "source": [
    "Notice the warning message...`size` is typically reserved for numeric variables. Update your graph to map `factor(enteredCharts)` to `shape` instead of `size`:"
   ]
  },
  {
   "cell_type": "code",
   "execution_count": null,
   "id": "3cb8bb16-a6fd-4a1d-990d-388ddea0da89",
   "metadata": {},
   "outputs": [],
   "source": []
  },
  {
   "cell_type": "markdown",
   "id": "dd494bd7-5ca7-43ac-af11-004a4dbdd03e",
   "metadata": {},
   "source": [
    "Based on the visualization principles we discussed, this is definitely an example of \"design variation not showing data variation\". There's too much going on in this graph to be able to make any sense of the data. The point here is that, just because you *can* graph 5 variables to a scatter plot doesn't mean you should.\n",
    "\n",
    "Let's re-draw the scatter plot removing \"genre\" and using the `color` attribute for whether or not a song entered the charts:"
   ]
  },
  {
   "cell_type": "code",
   "execution_count": null,
   "id": "97634b2b-166b-46e8-a67a-1d3e58f41db1",
   "metadata": {},
   "outputs": [],
   "source": []
  },
  {
   "cell_type": "markdown",
   "id": "54458372-e04d-4e3a-bdbf-f4b20c071d36",
   "metadata": {},
   "source": [
    "Now, what can you say about the data based on this graph?"
   ]
  },
  {
   "cell_type": "markdown",
   "id": "6487eea7-89ca-48b2-a7c8-5b582caba151",
   "metadata": {},
   "source": [
    "#### Smoothed lines\n",
    "\n",
    "It's often useful to include regression lines on a scatter plot. You can use `geom_smooth()` to do this. For a linear regression line, you would include `method = \"lm\"` as follows:"
   ]
  },
  {
   "cell_type": "code",
   "execution_count": null,
   "id": "40b5b662-236f-4c5e-a352-e529a5b494ab",
   "metadata": {},
   "outputs": [],
   "source": [
    "(ggplot(df, aes(x = \"artistSongs\", y = \"labelSongs\")) +\n",
    "   geom_point(alpha = 0.3) +\n",
    "   geom_smooth(method = \"lm\"))"
   ]
  },
  {
   "cell_type": "markdown",
   "id": "a4169ffe-4a60-4674-9249-47ad578b6661",
   "metadata": {},
   "source": [
    "### Categorical Variables\n",
    "\n",
    "As we've previously discussed, the best visualization for a categorical variable is a ***bar chart***.\n",
    "\n",
    "#### Bar Chart\n",
    "\n",
    "Unlike charts in `matplotlib`, you do not need to use `value_counts()` when creating bar charts for categorical variables. To draw a bar chart, you can simply use `geom_bar()` as follows:"
   ]
  },
  {
   "cell_type": "code",
   "execution_count": null,
   "id": "c4ec3982-99c5-4c56-bb96-0b7225190d2d",
   "metadata": {},
   "outputs": [],
   "source": [
    "(ggplot(df, aes(x = \"genre\")) +\n",
    "   geom_bar())"
   ]
  },
  {
   "cell_type": "markdown",
   "id": "55079da8-bc09-4075-a044-5b4841fee4ef",
   "metadata": {},
   "source": [
    "What if you want to display the relationship between 2 categorical variables? Once again, a stacked bar chart makes the most sense. You can do this by adding a `fill=` attribute:"
   ]
  },
  {
   "cell_type": "code",
   "execution_count": null,
   "id": "364d33ff-f5b9-4e72-9c53-2f5c63eb1495",
   "metadata": {},
   "outputs": [],
   "source": [
    "(ggplot(df, aes(x = \"genre\", fill = \"factor(enteredCharts)\")) +\n",
    "   geom_bar())"
   ]
  },
  {
   "cell_type": "markdown",
   "id": "3bd6622b-ac7c-43b5-b3c7-d0d64235a298",
   "metadata": {},
   "source": [
    "Notice that the x-axis labels are now overlapping, making them hard to read. See if you can figure out how to fix this based on code we've already reviewed:"
   ]
  },
  {
   "cell_type": "code",
   "execution_count": null,
   "id": "a7b5d8c4-17aa-4f41-8616-6103bbec47e7",
   "metadata": {},
   "outputs": [],
   "source": []
  },
  {
   "cell_type": "markdown",
   "id": "33b118f0-d065-4588-8835-f3984733b433",
   "metadata": {},
   "source": [
    "Because of the imbalance between genre categories, it's difficult to compare the proportion of songs that did or did not enter the charts. To display the proportions instead of counts and to extend each bar to 100%, use `position = \"fill\"` in the `geom_bar()` layer:"
   ]
  },
  {
   "cell_type": "code",
   "execution_count": null,
   "id": "ed372e96-d6ae-4492-849a-116ed82d90da",
   "metadata": {},
   "outputs": [],
   "source": []
  },
  {
   "cell_type": "markdown",
   "id": "3efa8221-7ce4-4770-8df4-82d61b814758",
   "metadata": {},
   "source": [
    "Relatively speaking, which genre has the highest proportion of songs that entered the charts?\n",
    "\n",
    "Now you try...draw a bar chart showing only 2 bars for whether or not a song entered the charts, segmented by genre, and make sure your bars extend to 100%:"
   ]
  },
  {
   "cell_type": "code",
   "execution_count": null,
   "id": "12a29efc-47c3-4015-b89f-06f3e18f1f45",
   "metadata": {},
   "outputs": [],
   "source": []
  },
  {
   "cell_type": "markdown",
   "id": "eaba0fa6-0c1a-4256-b0cf-f1136b48c702",
   "metadata": {},
   "source": [
    "## Saving Your Graph\n",
    "\n",
    "You can save your graph as an image file by using `ggsave()`.\n",
    "\n",
    "First, save your graph to a variable:"
   ]
  },
  {
   "cell_type": "code",
   "execution_count": null,
   "id": "facbc594-31c5-4e47-8ed4-761f681a519c",
   "metadata": {},
   "outputs": [],
   "source": [
    "p = (ggplot(df, aes(x = \"genre\")) +\n",
    "   geom_bar())"
   ]
  },
  {
   "cell_type": "markdown",
   "id": "14a9d55c-9ea3-4333-acc2-41d680d20bb8",
   "metadata": {},
   "source": [
    "Then, use `ggsave()`, with the first parameter being the name of your variable and the second parameter being the name you're giving your image file in quotes. For example:"
   ]
  },
  {
   "cell_type": "code",
   "execution_count": null,
   "id": "e1b30044-0dd3-4f5e-b76e-e485ff495a34",
   "metadata": {},
   "outputs": [],
   "source": [
    "ggsave(p, \"examplegraph.png\")"
   ]
  },
  {
   "cell_type": "markdown",
   "id": "10cdb6e9-cc94-49a5-a812-cb3a45cbe267",
   "metadata": {},
   "source": [
    "Note: you need to include the file extension (e.g., .png, .jpg, .svc)."
   ]
  },
  {
   "cell_type": "markdown",
   "id": "724b6d1d-fc4c-4043-afe3-90c0cdf6379c",
   "metadata": {},
   "source": [
    "## Practice\n",
    "\n",
    "Read in the \"creditCardDefaultReduced.csv\" data file and call it `df2`:"
   ]
  },
  {
   "cell_type": "code",
   "execution_count": null,
   "id": "484ac5fa-a0c6-4029-8b71-a47a93e9bb2e",
   "metadata": {},
   "outputs": [],
   "source": []
  },
  {
   "cell_type": "markdown",
   "id": "0b29757c-65a8-43e7-bbe9-1952b92a4bfa",
   "metadata": {},
   "source": [
    "#### 1. Create a histogram of the \"Bill_Amt1\" variable, using 30 bins:"
   ]
  },
  {
   "cell_type": "code",
   "execution_count": null,
   "id": "cc790175-25c3-4778-84fe-cbb3139dfcab",
   "metadata": {},
   "outputs": [],
   "source": []
  },
  {
   "cell_type": "markdown",
   "id": "7850950a-161c-448f-8ad2-f64f5fa7e3d4",
   "metadata": {},
   "source": [
    "Are there any anomalies in the data you notice from this histogram?"
   ]
  },
  {
   "cell_type": "markdown",
   "id": "f4126d6e-b5aa-4b61-96d1-f663d57293b0",
   "metadata": {},
   "source": [
    "#### 2. Draw a side-by-side boxplot, showing the distribution of \"Limit_Bal\" broken out by \"Education\". Display the boxplots horizontally:"
   ]
  },
  {
   "cell_type": "code",
   "execution_count": null,
   "id": "a4e63a0c-3c33-4218-8ab0-11b1f3af603a",
   "metadata": {},
   "outputs": [],
   "source": []
  },
  {
   "cell_type": "markdown",
   "id": "2da01b49-0775-4129-852d-ece96859a604",
   "metadata": {},
   "source": [
    "#### 3. Create a scatter plot of \"Age\" (x) vs. \"Limit_Bal\" (y) using color to show the differences between \"Education\" levels...also include regression lines (use an alpha = 0.2):"
   ]
  },
  {
   "cell_type": "code",
   "execution_count": null,
   "id": "1435f319-4d0d-413c-8264-f41015abf9de",
   "metadata": {},
   "outputs": [],
   "source": []
  },
  {
   "cell_type": "markdown",
   "id": "6be2b95e-0d93-46f8-ae5c-647418823a04",
   "metadata": {},
   "source": [
    "What conclusions could you make when comparing the regression line for high schoolers vs. those who attended graduate school?"
   ]
  },
  {
   "cell_type": "markdown",
   "id": "f93b3c03-9804-45cb-b688-f201f506ce18",
   "metadata": {},
   "source": [
    "#### 4. Create a stacked bar chart of \"Education\" broken out by whether or not someone paid (\"Payment\"). Make sure the bars extend to 100%:"
   ]
  },
  {
   "cell_type": "code",
   "execution_count": null,
   "id": "1e5650d1-e2d4-4fd6-b98a-c45b63e0b99d",
   "metadata": {},
   "outputs": [],
   "source": []
  },
  {
   "cell_type": "markdown",
   "id": "8e5809e2-c80d-4739-a3a3-6d93afff9a84",
   "metadata": {},
   "source": [
    "#### 5. Now save the previous graph in an image file called \"mygraph.png\":"
   ]
  },
  {
   "cell_type": "code",
   "execution_count": null,
   "id": "f620d17a-689e-4ae4-a3a9-5c5769437378",
   "metadata": {},
   "outputs": [],
   "source": []
  }
 ],
 "metadata": {
  "kernelspec": {
   "display_name": "Python 3 (ipykernel)",
   "language": "python",
   "name": "python3"
  },
  "language_info": {
   "codemirror_mode": {
    "name": "ipython",
    "version": 3
   },
   "file_extension": ".py",
   "mimetype": "text/x-python",
   "name": "python",
   "nbconvert_exporter": "python",
   "pygments_lexer": "ipython3",
   "version": "3.10.10"
  }
 },
 "nbformat": 4,
 "nbformat_minor": 5
}
