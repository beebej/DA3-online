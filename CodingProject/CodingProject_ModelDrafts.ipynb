{
 "cells": [
  {
   "cell_type": "code",
   "execution_count": null,
   "id": "cf28da6b-300e-45fe-9f86-0412372d8b57",
   "metadata": {},
   "outputs": [],
   "source": [
    "#Run the following code to print multiple outputs from a cell\n",
    "get_ipython().ast_node_interactivity = 'all'"
   ]
  },
  {
   "cell_type": "markdown",
   "id": "cc893957-2b69-4b76-86c8-46feca8b3ba8",
   "metadata": {},
   "source": [
    "# Coding Project 2: Model Draft\n",
    "\n",
    "In this assignment, you will get practice using Python to clean the data set, *discount.csv*, and to build several models.\n",
    "\n",
    "You have a dataset of user transactions from the Chinese online retailer, JD.com. Each row in the data represents a bought item across the following dimensions:\n",
    "* discount: whether or not the item had a discount ( = 1 when had a discount) \n",
    "* gender: the gender of the buyer\n",
    "* age: the age group of the buyer \n",
    "* marital_status: the marital status of the buyer (S: single, M: married, U: unknown) \n",
    "* education: customer's education level (1: less than high school, 2: high school diploma or equivalent, 3: Bachelor’s degree, 4: post-graduate degree, −1: unknown)\n",
    "* city_level:  the city level of the customer; it takes values ranging between 1 and 5. Level 1 corresponds to highly industrialized cities such as Beijing and Shanghai; level 2 cities correspond to provincial capitals; level 3 to 5 cities are smaller cities; if there are no data then the value is −1.\n",
    "* purchase_power:  user’s estimated purchase power (ranging from 1 to 5 with 1 being the highest purchase power; −1 if there is no estimation).\n",
    "* original_unit_price: the price of the bought product in Chinese Yuan."
   ]
  },
  {
   "cell_type": "markdown",
   "id": "1802a99a-ab9b-4b53-aa6e-042592343e28",
   "metadata": {},
   "source": [
    "Use the following code cell to read in the data set:"
   ]
  },
  {
   "cell_type": "code",
   "execution_count": null,
   "id": "acd37056-8e4a-4ee3-9f3c-031d649b332f",
   "metadata": {},
   "outputs": [],
   "source": [
    "import pandas as pd\n",
    "df = pd.read_csv(\"discount.csv\")\n",
    "df"
   ]
  },
  {
   "cell_type": "markdown",
   "id": "83864e65-8d4e-46e7-af4a-ac2ca6553982",
   "metadata": {},
   "source": [
    "## Feature Engineering"
   ]
  },
  {
   "cell_type": "markdown",
   "id": "1b388175-02f3-434e-ab7e-c2b3602b82bc",
   "metadata": {},
   "source": [
    "#### Q1. Create a new column called `price2` that is a copy of the `original_unit_price` column. You can use `.copy()` to do this (e.g., `df[\"columnname\"].copy()`).\n",
    "\n",
    "No explanation needed for this question"
   ]
  },
  {
   "cell_type": "code",
   "execution_count": null,
   "id": "ce719a88-5b00-42e9-983b-f8ca567bf1a8",
   "metadata": {},
   "outputs": [],
   "source": [
    "# Enter your code here\n"
   ]
  },
  {
   "cell_type": "markdown",
   "id": "690a3b68-bcff-4e07-898b-8384f75feaba",
   "metadata": {},
   "source": [
    "#### Q2. There are 6,094 transactions in the dataset with an `original_unit_price` of 0. Unfortunately, this is due to a data entry error and there is no way to obtain the actual unit price for those sales at this point. Update `price2` to replace any values of 0 with the median of 93.5.\n",
    "\n",
    "#### What is the mean of the `price2` variable after this change (round to 3 decimals)?\n",
    "\n",
    "*[Type your answer here]*"
   ]
  },
  {
   "cell_type": "code",
   "execution_count": null,
   "id": "e0683c94-5828-455e-b11c-0dd688a056c8",
   "metadata": {},
   "outputs": [],
   "source": [
    "# Enter your code here\n"
   ]
  },
  {
   "cell_type": "markdown",
   "id": "f4a32865-39b6-4a60-96ad-49d1b78dfd89",
   "metadata": {},
   "source": [
    "#### Q3. The variables -- `education`, `city_level`, and `purchase_power` -- have values of -1 to represent missing data. The variable -- `marital_status` -- also has missing data represented with a value of \"U\". Update these variables to replace any missing data with a value of `NaN`. (You do not need to create copies of these variables since we're not changing data, but simply correcting it.) \n",
    "\n",
    "#### How many missing values are there now for each of these 4 variables?\n",
    "\n",
    "*[Type your answer here]*"
   ]
  },
  {
   "cell_type": "code",
   "execution_count": null,
   "id": "2e4811bc-9144-4c74-ab47-2beb44f83201",
   "metadata": {},
   "outputs": [],
   "source": [
    "# Enter your code here\n",
    "                                                                 "
   ]
  },
  {
   "cell_type": "markdown",
   "id": "b3c0747c-c0e8-4ff4-9c0d-b7135ce02e31",
   "metadata": {},
   "source": [
    "#### Q4. Also, because `education`, `city_level`, and `purchase_power` are coded with numbers, when you run your models, these will be incorrectly treated as quantitative variables. Update the data type of these 3 variables using `.astype(object)`. An example of how this would work is as follows: `df[variablename] = df[variablename].astype(object)`.\n",
    "\n",
    "#### Run the code to view the data types for the `df` dataframe to ensure you've correctly updated the data types.\n",
    "\n",
    "No explanation needed for this question"
   ]
  },
  {
   "cell_type": "code",
   "execution_count": null,
   "id": "a4893cc2-53fc-4ad5-a834-2f6e17cf32ff",
   "metadata": {},
   "outputs": [],
   "source": [
    "# Enter your code here\n"
   ]
  },
  {
   "cell_type": "markdown",
   "id": "9c6b188f-b7bb-45cb-a70a-e9593fd25218",
   "metadata": {},
   "source": [
    "#### Q5. For your predictive model, you would like to predict whether an item to be purchased is above or below the median. Create a variable called `high_price` that is `True` if `original_unit_price` is greater than or equal to 93.5 and `False` otherwise.\n",
    "\n",
    "#### What % of transactions are `True` for `high_price`?"
   ]
  },
  {
   "cell_type": "code",
   "execution_count": null,
   "id": "8a0ffd3c-4ea4-45f4-8a05-90e72d1ca528",
   "metadata": {},
   "outputs": [],
   "source": [
    "# Enter your code here\n"
   ]
  },
  {
   "cell_type": "markdown",
   "id": "b1dfbdd2-43e2-47a5-ac17-3216e73e04a4",
   "metadata": {},
   "source": [
    "## Inferential Modeling"
   ]
  },
  {
   "cell_type": "markdown",
   "id": "83ea309c-aaf1-4a46-99d7-635dc8f9e7e2",
   "metadata": {},
   "source": [
    "#### Q6. Before building a predictive model, you want to understand what factors result in transactions with a higher unit price. Build an OLS model with `price2` as your dependent variable and all other variables (except `original_unit_price` and `high_price`) as your independent variables. \n",
    "\n",
    "No explanation needed for this question"
   ]
  },
  {
   "cell_type": "code",
   "execution_count": null,
   "id": "2ff86604-30ef-4ee4-9467-15c7b12fd1eb",
   "metadata": {},
   "outputs": [],
   "source": [
    "# Enter your code here\n"
   ]
  },
  {
   "cell_type": "markdown",
   "id": "7c0d4448-1502-4da3-b1cd-a31b125b3206",
   "metadata": {},
   "source": [
    "#### Q7. Based on your OLS model, how strong is the model? Be sure to quantify the strength of the model, rather than just state that the model is \"strong\" or \"weak\".\n",
    "\n",
    "*[Type your answer here]*"
   ]
  },
  {
   "cell_type": "markdown",
   "id": "3a9e3591-1d35-4309-a761-a8b88ad30e65",
   "metadata": {},
   "source": [
    "#### Q8. Based on your OLS model, do males or females appear to purchase higher priced items?\n",
    "\n",
    "*[Type your answer here]*"
   ]
  },
  {
   "cell_type": "markdown",
   "id": "ac022441-9d32-4f61-abf5-4b63ed8e5b6a",
   "metadata": {},
   "source": [
    "#### Q9. Based on your OLS model, which age group purchases the highest priced items on average?\n",
    "\n",
    "*[Type your answer here]*"
   ]
  },
  {
   "cell_type": "markdown",
   "id": "5328602b-27d0-42fe-85f6-e2d9d2f90b01",
   "metadata": {},
   "source": [
    "#### Q10. Based on your OLS model, does marital status appear to have an effect on the unit price? Why or why not?\n",
    "\n",
    "*[Type your answer here]*"
   ]
  },
  {
   "cell_type": "markdown",
   "id": "7add869e-58ce-4ac7-8ae2-e805841d58ad",
   "metadata": {},
   "source": [
    "#### Q11. Interpret the regression coefficient for the discount variable in non-technical language. (E.g., if a transaction has a discount vs. does not have a discount, what's the difference in average price of the item being purchased.) \n",
    "\n",
    "#### Also, JD.com would only like to continue offering discounts if it is driving sales for items with higher unit prices. Does their discount program appear to be working currently?\n",
    "\n",
    "*[Type your answer here]*"
   ]
  },
  {
   "cell_type": "markdown",
   "id": "90daa562-6a98-45b1-9763-d0dcf1b34743",
   "metadata": {},
   "source": [
    "#### Q12. As you know from the Profiling assignment, `original_unit_price` (and `price2` by extension) is heavily skewed. What would be an appropriate transformation on the `price2` variable to reduce the skew. (There is no need to run another model for this question...just state what transformation might make sense here.)\n",
    "\n",
    "*[Type your answer here]*"
   ]
  },
  {
   "cell_type": "markdown",
   "id": "def00fd2-e7b0-4fdd-a75a-82b5750bf4c8",
   "metadata": {},
   "source": [
    "## Predictive Modeling"
   ]
  },
  {
   "cell_type": "markdown",
   "id": "d6b8833e-676f-4d04-ba56-6c2c792b9f93",
   "metadata": {},
   "source": [
    "#### In this section, you are going to build a predictive model to determine whether a transaction will be for a high or low priced item, based on characteristics of the buyer. You hope to use this model -- if it's accurate enough -- to help decide when to offer a discount. (If a buyer is likely to purchase a higher priced item, you would offer them a discount.)\n",
    "\n",
    "#### The machine learning models from sklearn will not run correctly if there are `NaN` values in your data set. Run the following code to create a copy of the dataframe dropping any rows with a missing value. **For all remaining questions, use `df2` to run your models.**"
   ]
  },
  {
   "cell_type": "code",
   "execution_count": null,
   "id": "0d8e9da3-d00d-4321-9663-135e1bc46fd1",
   "metadata": {},
   "outputs": [],
   "source": [
    "df2 = df.copy()\n",
    "df2 = df2.dropna()\n",
    "df2.isna().sum()"
   ]
  },
  {
   "cell_type": "markdown",
   "id": "a9f8118a-4f58-4cfc-9c0d-27608f0fec6d",
   "metadata": {},
   "source": [
    "#### Q13. You will be creating a model to predict whether a transaction was for a high priced item. Create an `outcome` variable for `high_price` and create a `features` variable that includes `gender`, `age`, `marital_status`, `education`, `city_level`, and `purchase_power`. Be sure to convert the categorical variables into a form that the models can interpret. \n",
    "\n",
    "Do NOT include `original_unit_price` or `price2` in your model since `high_price` is correlated with these variables. Also do NOT include `discount` since you would like to use the model to determine whether or not to offer a discount on the sale.\n",
    "\n",
    "No explanation needed for this question"
   ]
  },
  {
   "cell_type": "code",
   "execution_count": null,
   "id": "c2157500-341f-4051-9934-30aeda1e037f",
   "metadata": {},
   "outputs": [],
   "source": [
    "# Enter your code here\n"
   ]
  },
  {
   "cell_type": "markdown",
   "id": "55d2c111-2ca6-45a2-a4bd-070f55e5a858",
   "metadata": {},
   "source": [
    "#### Q14. Now partition your `outcome` and `features` variables into training and test data sets, with 70% training and 30% test. Set the `random_state` to a value of 42.\n",
    "\n",
    "No explanation needed for this question"
   ]
  },
  {
   "cell_type": "code",
   "execution_count": null,
   "id": "090ceac5-a861-48d0-bdfd-a1ecfaa4018b",
   "metadata": {},
   "outputs": [],
   "source": [
    "# Enter your code here\n"
   ]
  },
  {
   "cell_type": "markdown",
   "id": "88eb1320-a134-4af3-875f-c89f2f568660",
   "metadata": {},
   "source": [
    "#### Q15. Build a Random Forest model to predict your `outcome` variable from the `features`. Set the `random_state` to 42.\n",
    "\n",
    "#### Overall, how strong is the model on predicting *new* data? Be sure to quantify your answer.\n",
    "\n",
    "*[Type your answer here]*"
   ]
  },
  {
   "cell_type": "code",
   "execution_count": null,
   "id": "18b4ef38-d4c3-4da7-ad46-551817d2a986",
   "metadata": {},
   "outputs": [],
   "source": [
    "# Enter your code here\n"
   ]
  },
  {
   "cell_type": "markdown",
   "id": "975e357a-32eb-4857-b0f9-76046748d97a",
   "metadata": {},
   "source": [
    "#### Q16. Now build a Support Vector Machine model using the same `outcome` and `features` variables. Again, use a `random_state` of 42. \n",
    "\n",
    "#### If it's more important to correctly predict that a purchase price will be high (i.e., `True`), would you prefer to use the Random Forest or Support Vector Machine model? Why?\n",
    "\n",
    "*[type your response here]*"
   ]
  },
  {
   "cell_type": "code",
   "execution_count": null,
   "id": "7f51eff3-d7eb-4fe6-9cbf-e725da6e9a56",
   "metadata": {},
   "outputs": [],
   "source": [
    "# Enter your code here\n"
   ]
  }
 ],
 "metadata": {
  "kernelspec": {
   "display_name": "Python 3 (ipykernel)",
   "language": "python",
   "name": "python3"
  },
  "language_info": {
   "codemirror_mode": {
    "name": "ipython",
    "version": 3
   },
   "file_extension": ".py",
   "mimetype": "text/x-python",
   "name": "python",
   "nbconvert_exporter": "python",
   "pygments_lexer": "ipython3",
   "version": "3.10.10"
  }
 },
 "nbformat": 4,
 "nbformat_minor": 5
}
