{
 "cells": [
  {
   "cell_type": "code",
   "execution_count": null,
   "id": "cf28da6b-300e-45fe-9f86-0412372d8b57",
   "metadata": {},
   "outputs": [],
   "source": [
    "#Run the following code to print multiple outputs from a cell\n",
    "get_ipython().ast_node_interactivity = 'all'"
   ]
  },
  {
   "cell_type": "markdown",
   "id": "cc893957-2b69-4b76-86c8-46feca8b3ba8",
   "metadata": {},
   "source": [
    "# Coding Project Assignment 1: Profiling\n",
    "\n",
    "In this assignment, you will get practice using Python to profile the data set, *discount.csv*.\n",
    "\n",
    "You have a dataset of user transactions from the Chinese online retailer, JD.com. Each row in the data represents a bought item across the following dimensions:\n",
    "* discount: whether or not the item had a discount ( = 1 when had a discount) \n",
    "* gender: the gender of the buyer\n",
    "* age: the age group of the buyer \n",
    "* marital_status: the marital status of the buyer (S: single, M: married, U: unknown) \n",
    "* education: customer's education level (1: less than high school, 2: high school diploma or equivalent, 3: Bachelor’s degree, 4: post-graduate degree, −1: unknown)\n",
    "* city_level:  the city level of the customer; it takes values ranging between 1 and 5. Level 1 corresponds to highly industrialized cities such as Beijing and Shanghai; level 2 cities correspond to provincial capitals; level 3 to 5 cities are smaller cities; if there are no data then the value is −1.\n",
    "* purchase_power:  user’s estimated purchase power (ranging from 1 to 5 with 1 being the highest purchase power; −1 if there is no estimation).\n",
    "* original_unit_price: the price of the bought product. "
   ]
  },
  {
   "cell_type": "markdown",
   "id": "83864e65-8d4e-46e7-af4a-ac2ca6553982",
   "metadata": {},
   "source": [
    "## Importing the Data & Initial Data Checks"
   ]
  },
  {
   "cell_type": "markdown",
   "id": "690a3b68-bcff-4e07-898b-8384f75feaba",
   "metadata": {},
   "source": [
    "### Q1. Read in the data set, *discount.csv* and save it as a variable called `df`.\n",
    "No explanation needed for this question"
   ]
  },
  {
   "cell_type": "code",
   "execution_count": null,
   "id": "e0683c94-5828-455e-b11c-0dd688a056c8",
   "metadata": {},
   "outputs": [],
   "source": [
    "# Enter your code here\n",
    "\n"
   ]
  },
  {
   "cell_type": "markdown",
   "id": "b7635baf-3661-4294-accc-ce4d743e21f4",
   "metadata": {},
   "source": [
    "### Q2. Check the data types -- which variables are numeric and which variables are categorical? Does it appear that all variables are being read in correctly? If not, please explain.\n",
    "*[type your response here]*"
   ]
  },
  {
   "cell_type": "code",
   "execution_count": null,
   "id": "2e4811bc-9144-4c74-ab47-2beb44f83201",
   "metadata": {},
   "outputs": [],
   "source": [
    "# Enter your code here\n",
    "\n"
   ]
  },
  {
   "cell_type": "markdown",
   "id": "90daa562-6a98-45b1-9763-d0dcf1b34743",
   "metadata": {},
   "source": [
    "### Q3. Are there any missing values and, if so, how many and for which variable(s)? Based on the description of each variable provided above, do you believe this is accurate?\n",
    "*[type your response here]*"
   ]
  },
  {
   "cell_type": "code",
   "execution_count": null,
   "id": "69afc536-a9e8-4739-a980-dcfa56dcd072",
   "metadata": {},
   "outputs": [],
   "source": [
    "# Enter your code here\n",
    "\n"
   ]
  },
  {
   "cell_type": "markdown",
   "id": "bb563fd7-b4f1-451e-a25c-0e94675be041",
   "metadata": {},
   "source": [
    "## Profiling: Numeric Variables"
   ]
  },
  {
   "cell_type": "markdown",
   "id": "2a8aa162-2b3d-44d1-a31b-916769948a66",
   "metadata": {},
   "source": [
    "### Q4. Get the summary statistics for the numeric variables in this data set.\n",
    "No explanation needed for this question."
   ]
  },
  {
   "cell_type": "code",
   "execution_count": null,
   "id": "98fb0f19-7a13-41fe-9db7-65208b6c8e86",
   "metadata": {},
   "outputs": [],
   "source": [
    "# Enter your code here\n",
    "\n"
   ]
  },
  {
   "cell_type": "markdown",
   "id": "3ec5f692-0571-4b38-ba6e-4e628da3cd16",
   "metadata": {},
   "source": [
    "### Q5. Based on the summary statistics, describe the distribution of the `original_unit_price` variable. Be sure to give a measure of center and spread in your description. Also, based on the summary stats alone, do you think the distribution is roughly symmetric or skewed? (Do not create a graph for this question.)\n",
    "*[type your response here]*"
   ]
  },
  {
   "cell_type": "markdown",
   "id": "242c04b1-fe10-4203-b37b-ae65eea212df",
   "metadata": {},
   "source": [
    "### Q6. Given that the `discount` variable only has values of 0 or 1, how would you interpret the mean for this variable?\n",
    "*[type your response here]*"
   ]
  },
  {
   "cell_type": "markdown",
   "id": "77080b75-e7f7-45b4-80e7-e8eb2fbc0234",
   "metadata": {},
   "source": [
    "## Profiling: Categorical Variables"
   ]
  },
  {
   "cell_type": "markdown",
   "id": "7d8f108d-a297-4da7-8513-c484c103291b",
   "metadata": {},
   "source": [
    "### Q7. How many rows of data have a `gender` of \"F\"?\n",
    "*[type your response here]*"
   ]
  },
  {
   "cell_type": "code",
   "execution_count": null,
   "id": "acc4aa49-8e85-49d6-bdce-43ff6caafcf2",
   "metadata": {},
   "outputs": [],
   "source": [
    "# Enter your code here\n",
    "\n"
   ]
  },
  {
   "cell_type": "markdown",
   "id": "11b5fa98-3f6d-4eae-b3fc-bda91973995a",
   "metadata": {},
   "source": [
    "### Q8. What % of rows in the data set have a `gender` of \"F\"? Be sure to round your answer to 2 decimals in both the response as well as the code.\n",
    "*[type your response here]*"
   ]
  },
  {
   "cell_type": "code",
   "execution_count": null,
   "id": "bcad6ccc-4e55-48fc-916d-fb2d896417d0",
   "metadata": {},
   "outputs": [],
   "source": [
    "# Enter your code here\n",
    "\n"
   ]
  },
  {
   "cell_type": "markdown",
   "id": "8a56bf7d-36b6-4151-9e68-13edf425310e",
   "metadata": {},
   "source": [
    "### Q9. Create a contingency table to show the relative counts between the `age` and `gender` variables. Be sure to include row and column totals.\n",
    "No explanation needed for this question."
   ]
  },
  {
   "cell_type": "code",
   "execution_count": null,
   "id": "d2bcf1f5-56c6-4623-b4ff-d20cf95e7154",
   "metadata": {},
   "outputs": [],
   "source": [
    "# Enter your code here\n",
    "\n"
   ]
  },
  {
   "cell_type": "markdown",
   "id": "a7944ab8-249a-4684-8c34-ba9ba2a388f2",
   "metadata": {},
   "source": [
    "### Q10. Create the same table as in question 9, but show the relative %'s out of the total. Which age group has the highest % of females?\n",
    "*[type your response here]*"
   ]
  },
  {
   "cell_type": "code",
   "execution_count": null,
   "id": "a401ba9b-690e-4ad7-82cf-e85dfb294d32",
   "metadata": {},
   "outputs": [],
   "source": [
    "# Enter your code here\n",
    "\n"
   ]
  },
  {
   "cell_type": "markdown",
   "id": "2deedc62-4b10-4e3d-816c-fed2780de7e8",
   "metadata": {},
   "source": [
    "## Basic Visualizations"
   ]
  },
  {
   "cell_type": "markdown",
   "id": "f3c8234f-b187-4804-99ba-6ae4e6805ff5",
   "metadata": {},
   "source": [
    "### Q11. Create a graph to show the distribution of the `original_unit_price` variable. Based on your graph, does it look like the variable is roughly symmetric or skewed?\n",
    "*[type your response here]*"
   ]
  },
  {
   "cell_type": "code",
   "execution_count": null,
   "id": "0af3b3ef-2125-4db7-962e-bfdb5ceaf7ba",
   "metadata": {
    "jp-MarkdownHeadingCollapsed": true
   },
   "outputs": [],
   "source": [
    "# Enter your code here\n",
    "\n"
   ]
  },
  {
   "cell_type": "markdown",
   "id": "9e816788-4c86-4776-be63-1812b771faf9",
   "metadata": {},
   "source": [
    "### Q12. Create a scatter plot to show the relationship between `original_unit_price` (on the x-axis) and `discount` (on the y-axis). What might you hypothesize about the relationship between discounts and unit price based on this graph?\n",
    "*[type your response here]*"
   ]
  },
  {
   "cell_type": "code",
   "execution_count": null,
   "id": "942f8191-1f5c-4884-b818-391d039c90a8",
   "metadata": {},
   "outputs": [],
   "source": [
    "# Enter your code here\n",
    "\n"
   ]
  },
  {
   "cell_type": "markdown",
   "id": "a3cf5cc0-e343-4c8d-a209-249b5426269a",
   "metadata": {},
   "source": [
    "### Q13. Create a stacked bar chart showing the breakdown of each `age` category by `gender`. The bar chart should show the `age` categories on the x-axis and each bar split up by color according to `gender`. The bar chart should also show relative %'s, with each bar equaling 100%.\n",
    "No explanation needed for this question."
   ]
  },
  {
   "cell_type": "code",
   "execution_count": null,
   "id": "a7e1cd6a-3b74-4daf-a078-c4166efc2a6f",
   "metadata": {},
   "outputs": [],
   "source": [
    "# Enter your code here\n",
    "\n"
   ]
  },
  {
   "cell_type": "markdown",
   "id": "2de34bd6-8131-4c59-a895-121c2a37f4a8",
   "metadata": {},
   "source": [
    "### Q14. Create a side-by-side box plot of `original_unit_price` broken out by `age`. Based on your box plot, which age group appears to have the highest unit price in the data?\n",
    "*[type your response here]*"
   ]
  },
  {
   "cell_type": "code",
   "execution_count": null,
   "id": "c9c6215f-1c10-4f56-9e30-f9d7099aa0d3",
   "metadata": {},
   "outputs": [],
   "source": [
    "# Enter your code here\n",
    "\n"
   ]
  }
 ],
 "metadata": {
  "kernelspec": {
   "display_name": "Python 3 (ipykernel)",
   "language": "python",
   "name": "python3"
  },
  "language_info": {
   "codemirror_mode": {
    "name": "ipython",
    "version": 3
   },
   "file_extension": ".py",
   "mimetype": "text/x-python",
   "name": "python",
   "nbconvert_exporter": "python",
   "pygments_lexer": "ipython3",
   "version": "3.10.10"
  }
 },
 "nbformat": 4,
 "nbformat_minor": 5
}
