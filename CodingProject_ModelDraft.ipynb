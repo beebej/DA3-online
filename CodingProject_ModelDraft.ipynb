{
 "cells": [
  {
   "cell_type": "code",
   "execution_count": null,
   "id": "cf28da6b-300e-45fe-9f86-0412372d8b57",
   "metadata": {},
   "outputs": [],
   "source": [
    "#Run the following code to print multiple outputs from a cell\n",
    "get_ipython().ast_node_interactivity = 'all'"
   ]
  },
  {
   "cell_type": "markdown",
   "id": "cc893957-2b69-4b76-86c8-46feca8b3ba8",
   "metadata": {},
   "source": [
    "# Coding Project: Model Draft\n",
    "\n",
    "#### Now that you've profiled your data, use the techniques from our feature engineering and modeling sessions to learn more about the relationships in your data and to make predictions. "
   ]
  },
  {
   "cell_type": "markdown",
   "id": "83864e65-8d4e-46e7-af4a-ac2ca6553982",
   "metadata": {},
   "source": [
    "## Importing the Data\n",
    "\n",
    "#### 1. In the code cell below, read in your data set"
   ]
  },
  {
   "cell_type": "code",
   "execution_count": null,
   "id": "725b674c-7f87-48e1-9fbe-9a9e10920508",
   "metadata": {},
   "outputs": [],
   "source": [
    "# Enter your code here\n"
   ]
  },
  {
   "cell_type": "markdown",
   "id": "1faefdd8-3422-410c-8fd3-83344ede1d71",
   "metadata": {},
   "source": [
    "#### 2. Run the command to get a scatterplot matrix (`pandas.plotting.scatter_matrix()`)"
   ]
  },
  {
   "cell_type": "code",
   "execution_count": null,
   "id": "b41f0bd2-028a-421c-93f8-542b59f70f1c",
   "metadata": {},
   "outputs": [],
   "source": [
    "# Enter your code here\n"
   ]
  },
  {
   "cell_type": "markdown",
   "id": "b3a63725-3d1a-41a9-a067-ca41f0885e08",
   "metadata": {},
   "source": [
    "## Feature Engineering\n",
    "\n",
    "#### 3. Do some feature engineering with your data...I'd like you to do at least 2 of the following:\n",
    "#####    - Fix the data type if any of your variables were read in incorrectly (e.g., a categorical variable is being read in as an integer/float or a date being read in as an object)\n",
    "#####    - Transform variables as needed (e.g., create a squared term if there is curvature in a scatterplot, log a variable that is positive and skewed)\n",
    "#####    - Create an interaction term if you believe it makes sense to combine 2 variables\n",
    "#####    - Create a categorical variable from a numeric variable (e.g., create True/False categories or use `numpy.select()` to create bins)\n",
    "\n",
    "####  Add as many code cells as needed and write a few sentences below to explain why you're making these changes"
   ]
  },
  {
   "cell_type": "markdown",
   "id": "9269b16e-3e88-4596-ae73-78539c7ab89e",
   "metadata": {},
   "source": [
    "[Double-click to type your answer here]"
   ]
  },
  {
   "cell_type": "code",
   "execution_count": null,
   "id": "f070a672-6147-48f7-b45b-f4b371785bfc",
   "metadata": {},
   "outputs": [],
   "source": [
    "# Enter your code here\n"
   ]
  },
  {
   "cell_type": "markdown",
   "id": "5bf9f227-4891-4761-90cc-7fb2ee568763",
   "metadata": {},
   "source": [
    "## Inferential Modeling"
   ]
  },
  {
   "cell_type": "markdown",
   "id": "28cfce45-bd36-48dd-9c14-aa7170e14133",
   "metadata": {},
   "source": [
    "#### 4. Build a regression model (either OLS, Logistic, or Poisson) explaining the relationships between 1 dependent variable of interest and 2 or more independent variables...be sure to build the appropriate model type based on your dependent variable"
   ]
  },
  {
   "cell_type": "code",
   "execution_count": null,
   "id": "ffa5f95e-e65c-4199-827b-cab8fe14aa7d",
   "metadata": {},
   "outputs": [],
   "source": [
    "# Enter your code here\n"
   ]
  },
  {
   "cell_type": "markdown",
   "id": "951f44f3-53aa-4edc-bf71-3f787a1cb6a1",
   "metadata": {},
   "source": [
    "#### 5. Based on your model output, interpret the coefficients for at least 2 statistically significant variables, making sure to quantify the relationships between those variables and your dependent variable. If you don't have 2 statistically significant variables in your model, provide an explanation of what you expected would be significant and any theories as to why it might not be significant in your model"
   ]
  },
  {
   "cell_type": "markdown",
   "id": "919e306f-c04f-4f0e-9103-56165db87528",
   "metadata": {},
   "source": [
    "[Double-click to type your answer here]"
   ]
  },
  {
   "cell_type": "markdown",
   "id": "c97bde5a-a755-4c84-85e9-12fba253b76c",
   "metadata": {},
   "source": [
    "#### 6. Write a few sentences about your conclusions from the model. What was interesting or surprising about your results? Does your model confirm any hypotheses you might have had about your data? Does it change any of your hypotheses?"
   ]
  },
  {
   "cell_type": "markdown",
   "id": "3529c646-3ef6-4762-bdc5-d11fca576f11",
   "metadata": {},
   "source": [
    "[Double-click to type your answer here]"
   ]
  },
  {
   "cell_type": "markdown",
   "id": "8b438edd-9017-40cd-bc6d-f2ac96a192d1",
   "metadata": {},
   "source": [
    "## Predictive Modeling\n",
    "\n",
    "#### 7. Pick 1 variable that you'd like to make predictions with. Create an `outcome` variable for this data"
   ]
  },
  {
   "cell_type": "code",
   "execution_count": null,
   "id": "7dd947d5-1fe4-45b2-8a06-d5fa10fa1621",
   "metadata": {},
   "outputs": [],
   "source": [
    "# Enter your code here\n"
   ]
  },
  {
   "cell_type": "markdown",
   "id": "31ff461d-6dca-47bd-9beb-e4dc84369b96",
   "metadata": {},
   "source": [
    "#### 8. Pick at least 5 other variables to include as features in your model. Create a `features` variable, making sure to create dummy variables for any categorical data you're including...add as many code cells as needed below"
   ]
  },
  {
   "cell_type": "code",
   "execution_count": null,
   "id": "b00c9216-4e98-4983-9829-c331473f14b1",
   "metadata": {},
   "outputs": [],
   "source": [
    "# Enter your code here\n"
   ]
  },
  {
   "cell_type": "markdown",
   "id": "df19f694-a0b5-462a-ae09-186a9dbd9469",
   "metadata": {},
   "source": [
    "#### 9. Partition your data into training and test data"
   ]
  },
  {
   "cell_type": "code",
   "execution_count": null,
   "id": "3a5847d0-8c4a-4f71-a476-2abed3f8ba7f",
   "metadata": {},
   "outputs": [],
   "source": [
    "# Enter your code here\n"
   ]
  },
  {
   "cell_type": "markdown",
   "id": "ee9238b8-f836-4a3f-8228-1ba8fd9471e5",
   "metadata": {},
   "source": [
    "#### 10. Build 1 predictive machine learning model (Decision Tree, Random Forest, or Support Vector Machine) predicting your outcome variable from the features you've selected. If your outcome variable is categorical, you should use one of the Classifier models covered in the Week 8 hands-on videos. If your outcome variable is numeric, you should use a Regressor model...refer to the *ML_RegressorModels.ipynb* file in Jupyter Hub for that code"
   ]
  },
  {
   "cell_type": "code",
   "execution_count": null,
   "id": "b0f082df-c1a6-4930-afa2-8bb0402a3628",
   "metadata": {},
   "outputs": [],
   "source": [
    "# Enter your code here\n"
   ]
  },
  {
   "cell_type": "markdown",
   "id": "b78b9b1f-d833-40b8-a985-76549ae9a6ec",
   "metadata": {},
   "source": [
    "#### 11. Assess the strength of your model on the training vs. test data. For classifier models, you should assess the models using the accuracy %. For regressor models, you should use root mean squared error (RMSE) as shown in the *ML_RegressorModels.ipynb* file referenced above.\n",
    "\n",
    "#### Write a few sentences quantifying your model's strength...in your explanation, be sure to address whether or not you see evidence of overfitting"
   ]
  },
  {
   "cell_type": "markdown",
   "id": "bb2cb0d9-67b6-426a-a593-0b8532ad2e50",
   "metadata": {},
   "source": [
    "[Double-click to type your answer here]"
   ]
  },
  {
   "cell_type": "markdown",
   "id": "0f8e2619-d47b-45b7-9450-bd45d7d0f3af",
   "metadata": {},
   "source": [
    "## Next Steps\n",
    "\n",
    "#### 12. Based on your model results, what do you think your next steps would be? Does the model seem strong enough to implement as is? Does it make sense to try other models? Do you think other data might strengthen your models if you had access to it?\n",
    "\n",
    "#### Note: you do not need to create additional models for this assignment. But, prior to submitting your final memo, you should try out other models to see if you can build a stronger model."
   ]
  },
  {
   "cell_type": "markdown",
   "id": "402a8b7c-7263-4994-941e-4c7bc678f53b",
   "metadata": {},
   "source": [
    "[Double-click to type your answer here]"
   ]
  },
  {
   "cell_type": "markdown",
   "id": "fb61fdd6-8219-42ab-8379-6b27db967cfd",
   "metadata": {},
   "source": [
    "## Once you've finished, save and export your notebook as an HTML file and upload it to the Canvas assignment.\n",
    "\n",
    "## From the File menu, click \"Save and Export Notebook As\" and then select HTML. "
   ]
  }
 ],
 "metadata": {
  "kernelspec": {
   "display_name": "Python 3 (ipykernel)",
   "language": "python",
   "name": "python3"
  },
  "language_info": {
   "codemirror_mode": {
    "name": "ipython",
    "version": 3
   },
   "file_extension": ".py",
   "mimetype": "text/x-python",
   "name": "python",
   "nbconvert_exporter": "python",
   "pygments_lexer": "ipython3",
   "version": "3.10.10"
  }
 },
 "nbformat": 4,
 "nbformat_minor": 5
}
