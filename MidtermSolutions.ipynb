{
 "cells": [
  {
   "cell_type": "markdown",
   "id": "2780c720-f87b-46e8-be4c-0a8b51c44c3c",
   "metadata": {},
   "source": [
    "## Midterm Exam Solutions - Questions 6 - 25"
   ]
  },
  {
   "cell_type": "code",
   "execution_count": 1,
   "id": "6ce06af8-f316-469b-9995-35efa68c9b4d",
   "metadata": {},
   "outputs": [
    {
     "data": {
      "text/html": [
       "<div>\n",
       "<style scoped>\n",
       "    .dataframe tbody tr th:only-of-type {\n",
       "        vertical-align: middle;\n",
       "    }\n",
       "\n",
       "    .dataframe tbody tr th {\n",
       "        vertical-align: top;\n",
       "    }\n",
       "\n",
       "    .dataframe thead th {\n",
       "        text-align: right;\n",
       "    }\n",
       "</style>\n",
       "<table border=\"1\" class=\"dataframe\">\n",
       "  <thead>\n",
       "    <tr style=\"text-align: right;\">\n",
       "      <th></th>\n",
       "      <th>product</th>\n",
       "      <th>country</th>\n",
       "      <th>date</th>\n",
       "      <th>sales</th>\n",
       "      <th>expenses</th>\n",
       "    </tr>\n",
       "  </thead>\n",
       "  <tbody>\n",
       "    <tr>\n",
       "      <th>0</th>\n",
       "      <td>d</td>\n",
       "      <td>Germany</td>\n",
       "      <td>2020-01-31</td>\n",
       "      <td>919.387861</td>\n",
       "      <td>690.821430</td>\n",
       "    </tr>\n",
       "    <tr>\n",
       "      <th>1</th>\n",
       "      <td>j</td>\n",
       "      <td>japan</td>\n",
       "      <td>2020-10-27</td>\n",
       "      <td>923.908909</td>\n",
       "      <td>731.135011</td>\n",
       "    </tr>\n",
       "    <tr>\n",
       "      <th>2</th>\n",
       "      <td>c</td>\n",
       "      <td>Canada</td>\n",
       "      <td>2020-02-02</td>\n",
       "      <td>936.079916</td>\n",
       "      <td>697.273355</td>\n",
       "    </tr>\n",
       "    <tr>\n",
       "      <th>3</th>\n",
       "      <td>c</td>\n",
       "      <td>Germany</td>\n",
       "      <td>2020-10-20</td>\n",
       "      <td>921.434384</td>\n",
       "      <td>664.835960</td>\n",
       "    </tr>\n",
       "    <tr>\n",
       "      <th>4</th>\n",
       "      <td>g</td>\n",
       "      <td>Canada</td>\n",
       "      <td>2020-11-22</td>\n",
       "      <td>947.494772</td>\n",
       "      <td>728.473220</td>\n",
       "    </tr>\n",
       "    <tr>\n",
       "      <th>...</th>\n",
       "      <td>...</td>\n",
       "      <td>...</td>\n",
       "      <td>...</td>\n",
       "      <td>...</td>\n",
       "      <td>...</td>\n",
       "    </tr>\n",
       "    <tr>\n",
       "      <th>10682</th>\n",
       "      <td>i</td>\n",
       "      <td>Germany</td>\n",
       "      <td>2020-06-02</td>\n",
       "      <td>923.301366</td>\n",
       "      <td>723.241429</td>\n",
       "    </tr>\n",
       "    <tr>\n",
       "      <th>10683</th>\n",
       "      <td>d</td>\n",
       "      <td>Canada</td>\n",
       "      <td>2020-05-09</td>\n",
       "      <td>913.015379</td>\n",
       "      <td>749.446776</td>\n",
       "    </tr>\n",
       "    <tr>\n",
       "      <th>10684</th>\n",
       "      <td>f</td>\n",
       "      <td>Canada</td>\n",
       "      <td>2020-09-18</td>\n",
       "      <td>908.875748</td>\n",
       "      <td>702.361053</td>\n",
       "    </tr>\n",
       "    <tr>\n",
       "      <th>10685</th>\n",
       "      <td>f</td>\n",
       "      <td>Germany</td>\n",
       "      <td>2020-07-25</td>\n",
       "      <td>931.785320</td>\n",
       "      <td>719.262556</td>\n",
       "    </tr>\n",
       "    <tr>\n",
       "      <th>10686</th>\n",
       "      <td>g</td>\n",
       "      <td>Germany</td>\n",
       "      <td>2020-12-20</td>\n",
       "      <td>917.849432</td>\n",
       "      <td>752.378649</td>\n",
       "    </tr>\n",
       "  </tbody>\n",
       "</table>\n",
       "<p>10687 rows × 5 columns</p>\n",
       "</div>"
      ],
      "text/plain": [
       "      product  country        date       sales    expenses\n",
       "0           d  Germany  2020-01-31  919.387861  690.821430\n",
       "1           j    japan  2020-10-27  923.908909  731.135011\n",
       "2           c   Canada  2020-02-02  936.079916  697.273355\n",
       "3           c  Germany  2020-10-20  921.434384  664.835960\n",
       "4           g   Canada  2020-11-22  947.494772  728.473220\n",
       "...       ...      ...         ...         ...         ...\n",
       "10682       i  Germany  2020-06-02  923.301366  723.241429\n",
       "10683       d   Canada  2020-05-09  913.015379  749.446776\n",
       "10684       f   Canada  2020-09-18  908.875748  702.361053\n",
       "10685       f  Germany  2020-07-25  931.785320  719.262556\n",
       "10686       g  Germany  2020-12-20  917.849432  752.378649\n",
       "\n",
       "[10687 rows x 5 columns]"
      ]
     },
     "execution_count": 1,
     "metadata": {},
     "output_type": "execute_result"
    }
   ],
   "source": [
    "import pandas as pd\n",
    "df = pd.read_csv(\"Midterm_20231012f.csv\")\n",
    "df"
   ]
  },
  {
   "cell_type": "code",
   "execution_count": 2,
   "id": "e740db2a-4e37-49a5-a27e-9c74c7dea07d",
   "metadata": {},
   "outputs": [
    {
     "data": {
      "text/plain": [
       "(10687, 5)"
      ]
     },
     "execution_count": 2,
     "metadata": {},
     "output_type": "execute_result"
    }
   ],
   "source": [
    "#Question 6 - How many rows in the dataset - 10687\n",
    "#Question 7 - How many variables in the dataset - 5\n",
    "df.shape"
   ]
  },
  {
   "cell_type": "code",
   "execution_count": 3,
   "id": "08124e2e-5bfa-4487-9ea1-faf353e86a96",
   "metadata": {},
   "outputs": [
    {
     "data": {
      "text/plain": [
       "product      object\n",
       "country      object\n",
       "date         object\n",
       "sales       float64\n",
       "expenses    float64\n",
       "dtype: object"
      ]
     },
     "execution_count": 3,
     "metadata": {},
     "output_type": "execute_result"
    }
   ],
   "source": [
    "#Question 8 - Data type for date variable - object\n",
    "df.dtypes"
   ]
  },
  {
   "cell_type": "code",
   "execution_count": 4,
   "id": "db246025-e8c8-430b-8db7-2bc484d05cff",
   "metadata": {},
   "outputs": [
    {
     "data": {
      "text/plain": [
       "product      0\n",
       "country      0\n",
       "date         0\n",
       "sales       92\n",
       "expenses     0\n",
       "dtype: int64"
      ]
     },
     "execution_count": 4,
     "metadata": {},
     "output_type": "execute_result"
    }
   ],
   "source": [
    "#Question 9 - Missing values for sales - 92\n",
    "df.isna().sum()"
   ]
  },
  {
   "cell_type": "code",
   "execution_count": 5,
   "id": "a85a35d1-4f20-4a17-a724-b7d72b8c538c",
   "metadata": {},
   "outputs": [
    {
     "data": {
      "text/plain": [
       "7660576.38"
      ]
     },
     "execution_count": 5,
     "metadata": {},
     "output_type": "execute_result"
    }
   ],
   "source": [
    "#Question 10 - sum of all the expenses - 7660576.38\n",
    "df[\"expenses\"].sum().round(2)"
   ]
  },
  {
   "cell_type": "code",
   "execution_count": 6,
   "id": "3ef623bd-5180-4d18-8784-f82a4a128835",
   "metadata": {},
   "outputs": [
    {
     "data": {
      "text/plain": [
       "product\n",
       "g    1096\n",
       "c    1095\n",
       "f    1086\n",
       "j    1066\n",
       "b    1065\n",
       "d    1064\n",
       "i    1064\n",
       "a    1062\n",
       "h    1050\n",
       "e    1039\n",
       "Name: count, dtype: int64"
      ]
     },
     "execution_count": 6,
     "metadata": {},
     "output_type": "execute_result"
    }
   ],
   "source": [
    "#Question 11 - which product has the most records - g\n",
    "df[\"product\"].value_counts()"
   ]
  },
  {
   "cell_type": "code",
   "execution_count": 7,
   "id": "e8c6b772-8464-4d51-994a-eb0a51c3fb9c",
   "metadata": {},
   "outputs": [
    {
     "data": {
      "text/plain": [
       "country\n",
       "japan      282\n",
       "Germany    264\n",
       "Canada     260\n",
       "US         256\n",
       "Name: count, dtype: int64"
      ]
     },
     "execution_count": 7,
     "metadata": {},
     "output_type": "execute_result"
    }
   ],
   "source": [
    "#Question 12 - which country has most records for product a - japan\n",
    "df.query(\"product == 'a'\")[\"country\"].value_counts()"
   ]
  },
  {
   "cell_type": "code",
   "execution_count": 8,
   "id": "9ba8a877-1c7d-4366-bdc7-e4049ae9a435",
   "metadata": {},
   "outputs": [
    {
     "data": {
      "text/plain": [
       "product\n",
       "b    284\n",
       "a    282\n",
       "f    273\n",
       "j    271\n",
       "c    270\n",
       "i    269\n",
       "h    267\n",
       "d    266\n",
       "g    263\n",
       "e    244\n",
       "Name: count, dtype: int64"
      ]
     },
     "execution_count": 8,
     "metadata": {},
     "output_type": "execute_result"
    }
   ],
   "source": [
    "#Question 13 - which product has most records for japan - b\n",
    "df.query(\"country == 'japan'\")[\"product\"].value_counts()"
   ]
  },
  {
   "cell_type": "code",
   "execution_count": 9,
   "id": "dbcaf5a6-0b41-4907-920f-0c53573a21c3",
   "metadata": {},
   "outputs": [
    {
     "data": {
      "text/plain": [
       "product     266\n",
       "country     266\n",
       "date        266\n",
       "sales       263\n",
       "expenses    266\n",
       "dtype: int64"
      ]
     },
     "execution_count": 9,
     "metadata": {},
     "output_type": "execute_result"
    }
   ],
   "source": [
    "#Question 14 - how many records from US for product j - 266\n",
    "df.query(\"country == 'US' & product == 'j'\").count()"
   ]
  },
  {
   "cell_type": "code",
   "execution_count": 10,
   "id": "958fdde5-6fd8-4328-8427-61766b8f061f",
   "metadata": {},
   "outputs": [
    {
     "data": {
      "text/html": [
       "<div>\n",
       "<style scoped>\n",
       "    .dataframe tbody tr th:only-of-type {\n",
       "        vertical-align: middle;\n",
       "    }\n",
       "\n",
       "    .dataframe tbody tr th {\n",
       "        vertical-align: top;\n",
       "    }\n",
       "\n",
       "    .dataframe thead th {\n",
       "        text-align: right;\n",
       "    }\n",
       "</style>\n",
       "<table border=\"1\" class=\"dataframe\">\n",
       "  <thead>\n",
       "    <tr style=\"text-align: right;\">\n",
       "      <th>product</th>\n",
       "      <th>a</th>\n",
       "      <th>b</th>\n",
       "      <th>c</th>\n",
       "      <th>d</th>\n",
       "      <th>e</th>\n",
       "      <th>f</th>\n",
       "      <th>g</th>\n",
       "      <th>h</th>\n",
       "      <th>i</th>\n",
       "      <th>j</th>\n",
       "    </tr>\n",
       "    <tr>\n",
       "      <th>country</th>\n",
       "      <th></th>\n",
       "      <th></th>\n",
       "      <th></th>\n",
       "      <th></th>\n",
       "      <th></th>\n",
       "      <th></th>\n",
       "      <th></th>\n",
       "      <th></th>\n",
       "      <th></th>\n",
       "      <th></th>\n",
       "    </tr>\n",
       "  </thead>\n",
       "  <tbody>\n",
       "    <tr>\n",
       "      <th>Canada</th>\n",
       "      <td>0.024</td>\n",
       "      <td>0.025</td>\n",
       "      <td>0.025</td>\n",
       "      <td>0.024</td>\n",
       "      <td>0.025</td>\n",
       "      <td>0.025</td>\n",
       "      <td>0.027</td>\n",
       "      <td>0.025</td>\n",
       "      <td>0.026</td>\n",
       "      <td>0.025</td>\n",
       "    </tr>\n",
       "    <tr>\n",
       "      <th>Germany</th>\n",
       "      <td>0.025</td>\n",
       "      <td>0.024</td>\n",
       "      <td>0.025</td>\n",
       "      <td>0.025</td>\n",
       "      <td>0.024</td>\n",
       "      <td>0.025</td>\n",
       "      <td>0.027</td>\n",
       "      <td>0.023</td>\n",
       "      <td>0.024</td>\n",
       "      <td>0.024</td>\n",
       "    </tr>\n",
       "    <tr>\n",
       "      <th>US</th>\n",
       "      <td>0.024</td>\n",
       "      <td>0.024</td>\n",
       "      <td>0.027</td>\n",
       "      <td>0.026</td>\n",
       "      <td>0.026</td>\n",
       "      <td>0.026</td>\n",
       "      <td>0.025</td>\n",
       "      <td>0.025</td>\n",
       "      <td>0.025</td>\n",
       "      <td>0.025</td>\n",
       "    </tr>\n",
       "    <tr>\n",
       "      <th>japan</th>\n",
       "      <td>0.026</td>\n",
       "      <td>0.027</td>\n",
       "      <td>0.025</td>\n",
       "      <td>0.025</td>\n",
       "      <td>0.023</td>\n",
       "      <td>0.026</td>\n",
       "      <td>0.025</td>\n",
       "      <td>0.025</td>\n",
       "      <td>0.025</td>\n",
       "      <td>0.025</td>\n",
       "    </tr>\n",
       "  </tbody>\n",
       "</table>\n",
       "</div>"
      ],
      "text/plain": [
       "product      a      b      c      d      e      f      g      h      i      j\n",
       "country                                                                      \n",
       "Canada   0.024  0.025  0.025  0.024  0.025  0.025  0.027  0.025  0.026  0.025\n",
       "Germany  0.025  0.024  0.025  0.025  0.024  0.025  0.027  0.023  0.024  0.024\n",
       "US       0.024  0.024  0.027  0.026  0.026  0.026  0.025  0.025  0.025  0.025\n",
       "japan    0.026  0.027  0.025  0.025  0.023  0.026  0.025  0.025  0.025  0.025"
      ]
     },
     "execution_count": 10,
     "metadata": {},
     "output_type": "execute_result"
    }
   ],
   "source": [
    "#Question 15 - out of all records, what % from Germany for product f - 0.025\n",
    "pd.crosstab(df[\"country\"], df[\"product\"], normalize = \"all\").round(3)"
   ]
  },
  {
   "cell_type": "code",
   "execution_count": 11,
   "id": "61f9e640-84c6-438a-bf1f-627b0a2da95c",
   "metadata": {},
   "outputs": [
    {
     "data": {
      "text/plain": [
       "395542.1"
      ]
     },
     "execution_count": 11,
     "metadata": {},
     "output_type": "execute_result"
    }
   ],
   "source": [
    "#Question 16 - sum of the expenses for product f from either US or japan - 395542.1\n",
    "df.query(\"(country == 'US' | country == 'japan') & product == 'f'\")[\"expenses\"].sum().round(1)"
   ]
  },
  {
   "cell_type": "code",
   "execution_count": 12,
   "id": "225bcb16-769f-4880-8760-ee05d492313a",
   "metadata": {},
   "outputs": [
    {
     "data": {
      "text/plain": [
       "923.3"
      ]
     },
     "execution_count": 12,
     "metadata": {},
     "output_type": "execute_result"
    }
   ],
   "source": [
    "#Question 17 - average sales for rows with expenses > 700 - 923.3\n",
    "df.query(\"expenses > 700\")[\"sales\"].mean().round(1)"
   ]
  },
  {
   "cell_type": "code",
   "execution_count": 13,
   "id": "aa18e53c-cd3f-49a7-8503-e4a2b61c4ece",
   "metadata": {},
   "outputs": [
    {
     "data": {
      "text/plain": [
       "count    1048.0\n",
       "mean      923.0\n",
       "std        16.9\n",
       "min       873.0\n",
       "25%       911.7\n",
       "50%       923.1\n",
       "75%       934.0\n",
       "max       977.3\n",
       "Name: sales, dtype: float64"
      ]
     },
     "execution_count": 13,
     "metadata": {},
     "output_type": "execute_result"
    }
   ],
   "source": [
    "#Question 18 - standard deviation for sales of product d - 16.9\n",
    "df.query(\"product == 'd'\")[\"sales\"].describe().round(1)"
   ]
  },
  {
   "cell_type": "code",
   "execution_count": 14,
   "id": "7b848be8-6b40-456c-853e-92f578e51aab",
   "metadata": {},
   "outputs": [
    {
     "data": {
      "text/plain": [
       "<Axes: xlabel='sales', ylabel='expenses'>"
      ]
     },
     "execution_count": 14,
     "metadata": {},
     "output_type": "execute_result"
    },
    {
     "data": {
      "image/png": "[encoded data removed]",
      "text/plain": [
       "<Figure size 640x480 with 1 Axes>"
      ]
     },
     "metadata": {},
     "output_type": "display_data"
    }
   ],
   "source": [
    "#Question 19 - scatterplot of sales vs. expenses\n",
    "df.plot.scatter(x = \"sales\", y = \"expenses\")"
   ]
  },
  {
   "cell_type": "code",
   "execution_count": 15,
   "id": "e8ec785d-5020-4a58-b92a-002f93a7eb75",
   "metadata": {},
   "outputs": [
    {
     "data": {
      "text/plain": [
       "<Axes: ylabel='Frequency'>"
      ]
     },
     "execution_count": 15,
     "metadata": {},
     "output_type": "execute_result"
    },
    {
     "data": {
      "image/png": "[encoded data removed]",
      "text/plain": [
       "<Figure size 640x480 with 1 Axes>"
      ]
     },
     "metadata": {},
     "output_type": "display_data"
    }
   ],
   "source": [
    "#Question 20 - histogram of sales\n",
    "df[\"sales\"].plot.hist()"
   ]
  },
  {
   "cell_type": "code",
   "execution_count": 16,
   "id": "fbe6745c-9921-4c0a-b30a-06ef5605a39e",
   "metadata": {},
   "outputs": [
    {
     "data": {
      "image/png": "[encoded data removed]",
      "text/plain": [
       "<Figure size 640x480 with 1 Axes>"
      ]
     },
     "metadata": {
      "image/png": {
       "height": 480,
       "width": 640
      }
     },
     "output_type": "display_data"
    },
    {
     "data": {
      "text/plain": [
       "<Figure Size: (640 x 480)>"
      ]
     },
     "execution_count": 16,
     "metadata": {},
     "output_type": "execute_result"
    }
   ],
   "source": [
    "#Question 21 - recreate ggplot\n",
    "from plotnine import *\n",
    "p = (ggplot(df) + aes(x = \"product\", fill = \"country\") + \n",
    " geom_bar(position = \"fill\") +\n",
    " labs(x = \"Product Type\", y = \"% of Total\", fill = \"Country\", \n",
    "     title = \"Products Segmented by Country\"))\n",
    "p"
   ]
  },
  {
   "cell_type": "code",
   "execution_count": 17,
   "id": "e4278740-7ec6-4230-96ae-98af3f25f59c",
   "metadata": {},
   "outputs": [
    {
     "name": "stderr",
     "output_type": "stream",
     "text": [
      "/opt/tljh/user/lib/python3.10/site-packages/plotnine/ggplot.py:587: PlotnineWarning: Saving 6.4 x 4.8 in image.\n",
      "/opt/tljh/user/lib/python3.10/site-packages/plotnine/ggplot.py:588: PlotnineWarning: Filename: MidtermQ21.png\n"
     ]
    }
   ],
   "source": [
    "ggsave(p, filename = \"MidtermQ21.png\")"
   ]
  },
  {
   "cell_type": "code",
   "execution_count": 18,
   "id": "66c6d28f-bfe6-48ee-bd91-a9e6e6f7e0cf",
   "metadata": {},
   "outputs": [
    {
     "data": {
      "text/plain": [
       "count    10687.00\n",
       "mean        11.57\n",
       "std          0.04\n",
       "min         11.44\n",
       "25%         11.55\n",
       "50%         11.57\n",
       "75%         11.60\n",
       "max         11.70\n",
       "Name: expenses, dtype: float64"
      ]
     },
     "execution_count": 18,
     "metadata": {},
     "output_type": "execute_result"
    }
   ],
   "source": [
    "#Question 22 - replace expenses = log(expenses) + 5 ...what is mean - 11.57\n",
    "import numpy as np\n",
    "df[\"expenses\"] = np.log(df[\"expenses\"]) + 5\n",
    "df[\"expenses\"].describe().round(2)"
   ]
  },
  {
   "cell_type": "code",
   "execution_count": 19,
   "id": "8967dce0-7fa6-4508-a049-9e2b436b5b4a",
   "metadata": {},
   "outputs": [
    {
     "data": {
      "text/plain": [
       "product\n",
       "c    1017\n",
       "g    1005\n",
       "f    1001\n",
       "b     990\n",
       "j     986\n",
       "d     973\n",
       "i     966\n",
       "e     965\n",
       "a     958\n",
       "h     952\n",
       "Name: count, dtype: int64"
      ]
     },
     "execution_count": 19,
     "metadata": {},
     "output_type": "execute_result"
    }
   ],
   "source": [
    "#Question 23 - assign NaN to product if sales < 900 ...how many rows for product c - 1017\n",
    "df.loc[df[\"sales\"]<900, \"product\"] = np.NaN\n",
    "df[\"product\"].value_counts()"
   ]
  },
  {
   "cell_type": "code",
   "execution_count": 20,
   "id": "18c4d404-4b48-41a6-9aac-af59388c01a9",
   "metadata": {},
   "outputs": [
    {
     "data": {
      "text/plain": [
       "count     10595.00\n",
       "mean     852715.89\n",
       "std       31005.72\n",
       "min      741362.28\n",
       "25%      831539.83\n",
       "50%      852402.49\n",
       "75%      873255.67\n",
       "max      982085.51\n",
       "Name: sales2, dtype: float64"
      ]
     },
     "execution_count": 20,
     "metadata": {},
     "output_type": "execute_result"
    }
   ],
   "source": [
    "#Question 24 - create sales2 as square of sales ...what is mean of sales2 - 852715.89\n",
    "df[\"sales2\"] = df[\"sales\"]**2\n",
    "df[\"sales2\"].describe().round(2)"
   ]
  },
  {
   "cell_type": "code",
   "execution_count": 21,
   "id": "12db44b8-cf9e-49fb-a7d2-720bad0c3f80",
   "metadata": {},
   "outputs": [
    {
     "data": {
      "text/plain": [
       "count    10595.0\n",
       "mean      1382.2\n",
       "std        462.2\n",
       "min        861.0\n",
       "25%        923.5\n",
       "50%        967.4\n",
       "75%       1845.8\n",
       "max       1961.5\n",
       "Name: sales, dtype: float64"
      ]
     },
     "execution_count": 21,
     "metadata": {},
     "output_type": "execute_result"
    }
   ],
   "source": [
    "#Question 25 - replace sales with sales*2 if country is Canada or Germany ...mean of sales - 1382.2\n",
    "df.loc[(df[\"country\"] == \"Canada\") | (df[\"country\"] == \"Germany\"), \"sales\"] = df[\"sales\"]*2\n",
    "df[\"sales\"].describe().round(1)"
   ]
  }
 ],
 "metadata": {
  "kernelspec": {
   "display_name": "Python 3 (ipykernel)",
   "language": "python",
   "name": "python3"
  },
  "language_info": {
   "codemirror_mode": {
    "name": "ipython",
    "version": 3
   },
   "file_extension": ".py",
   "mimetype": "text/x-python",
   "name": "python",
   "nbconvert_exporter": "python",
   "pygments_lexer": "ipython3",
   "version": "3.10.10"
  }
 },
 "nbformat": 4,
 "nbformat_minor": 5
}
