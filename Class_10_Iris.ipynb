{
 "cells": [
  {
   "cell_type": "markdown",
   "id": "ccab2fdc-bc31-4593-842f-a411d62c93d2",
   "metadata": {},
   "source": [
    "# Class 8: Machine Learning\n",
    "\n",
    "Iris models"
   ]
  },
  {
   "cell_type": "markdown",
   "id": "6b1f0a5f-53c1-4a11-9275-5ac0e2dcd541",
   "metadata": {},
   "source": [
    "## Getting data into Python"
   ]
  },
  {
   "cell_type": "code",
   "execution_count": 2,
   "id": "ea21834c-4930-4d65-a589-a9433baaeb93",
   "metadata": {},
   "outputs": [],
   "source": [
    "import pandas\n",
    "df = pandas.read_csv( \"Iris.csv\" )"
   ]
  },
  {
   "cell_type": "markdown",
   "id": "143face4-5010-489c-86f3-b57ddc9f661f",
   "metadata": {},
   "source": [
    "## Initial checking"
   ]
  },
  {
   "cell_type": "code",
   "execution_count": 3,
   "id": "91c06354-a736-47e3-b858-2220b7f2e7e5",
   "metadata": {},
   "outputs": [
    {
     "data": {
      "text/plain": [
       "(150, 6)"
      ]
     },
     "execution_count": 3,
     "metadata": {},
     "output_type": "execute_result"
    }
   ],
   "source": [
    "df.shape"
   ]
  },
  {
   "cell_type": "code",
   "execution_count": 3,
   "id": "a1373daf-7466-4bfd-9051-7c09bbf93582",
   "metadata": {},
   "outputs": [
    {
     "data": {
      "text/plain": [
       "Sepal.Length    float64\n",
       "Sepal.Width     float64\n",
       "Petal.Length    float64\n",
       "Petal.Width     float64\n",
       "Species          object\n",
       "Petal.Shape      object\n",
       "dtype: object"
      ]
     },
     "execution_count": 3,
     "metadata": {},
     "output_type": "execute_result"
    }
   ],
   "source": [
    "df.dtypes"
   ]
  },
  {
   "cell_type": "code",
   "execution_count": 4,
   "id": "66407416-6309-445e-a35e-5fb9dc4391b1",
   "metadata": {},
   "outputs": [
    {
     "data": {
      "text/html": [
       "<div>\n",
       "<style scoped>\n",
       "    .dataframe tbody tr th:only-of-type {\n",
       "        vertical-align: middle;\n",
       "    }\n",
       "\n",
       "    .dataframe tbody tr th {\n",
       "        vertical-align: top;\n",
       "    }\n",
       "\n",
       "    .dataframe thead th {\n",
       "        text-align: right;\n",
       "    }\n",
       "</style>\n",
       "<table border=\"1\" class=\"dataframe\">\n",
       "  <thead>\n",
       "    <tr style=\"text-align: right;\">\n",
       "      <th></th>\n",
       "      <th>Sepal.Length</th>\n",
       "      <th>Sepal.Width</th>\n",
       "      <th>Petal.Length</th>\n",
       "      <th>Petal.Width</th>\n",
       "      <th>Species</th>\n",
       "      <th>Petal.Shape</th>\n",
       "    </tr>\n",
       "  </thead>\n",
       "  <tbody>\n",
       "    <tr>\n",
       "      <th>0</th>\n",
       "      <td>5.1</td>\n",
       "      <td>3.5</td>\n",
       "      <td>1.4</td>\n",
       "      <td>0.2</td>\n",
       "      <td>setosa</td>\n",
       "      <td>round</td>\n",
       "    </tr>\n",
       "    <tr>\n",
       "      <th>1</th>\n",
       "      <td>4.9</td>\n",
       "      <td>3.0</td>\n",
       "      <td>1.4</td>\n",
       "      <td>0.2</td>\n",
       "      <td>setosa</td>\n",
       "      <td>pointy</td>\n",
       "    </tr>\n",
       "    <tr>\n",
       "      <th>2</th>\n",
       "      <td>4.7</td>\n",
       "      <td>3.2</td>\n",
       "      <td>1.3</td>\n",
       "      <td>0.2</td>\n",
       "      <td>setosa</td>\n",
       "      <td>pointy</td>\n",
       "    </tr>\n",
       "    <tr>\n",
       "      <th>3</th>\n",
       "      <td>4.6</td>\n",
       "      <td>3.1</td>\n",
       "      <td>1.5</td>\n",
       "      <td>0.2</td>\n",
       "      <td>setosa</td>\n",
       "      <td>round</td>\n",
       "    </tr>\n",
       "    <tr>\n",
       "      <th>4</th>\n",
       "      <td>5.0</td>\n",
       "      <td>3.6</td>\n",
       "      <td>1.4</td>\n",
       "      <td>0.2</td>\n",
       "      <td>setosa</td>\n",
       "      <td>round</td>\n",
       "    </tr>\n",
       "  </tbody>\n",
       "</table>\n",
       "</div>"
      ],
      "text/plain": [
       "   Sepal.Length  Sepal.Width  Petal.Length  Petal.Width Species Petal.Shape\n",
       "0           5.1          3.5           1.4          0.2  setosa       round\n",
       "1           4.9          3.0           1.4          0.2  setosa      pointy\n",
       "2           4.7          3.2           1.3          0.2  setosa      pointy\n",
       "3           4.6          3.1           1.5          0.2  setosa       round\n",
       "4           5.0          3.6           1.4          0.2  setosa       round"
      ]
     },
     "execution_count": 4,
     "metadata": {},
     "output_type": "execute_result"
    }
   ],
   "source": [
    "df.head()"
   ]
  },
  {
   "cell_type": "code",
   "execution_count": 5,
   "id": "eb015b55-bad7-4491-a3e6-21b3777908d1",
   "metadata": {},
   "outputs": [
    {
     "data": {
      "text/html": [
       "<div>\n",
       "<style scoped>\n",
       "    .dataframe tbody tr th:only-of-type {\n",
       "        vertical-align: middle;\n",
       "    }\n",
       "\n",
       "    .dataframe tbody tr th {\n",
       "        vertical-align: top;\n",
       "    }\n",
       "\n",
       "    .dataframe thead th {\n",
       "        text-align: right;\n",
       "    }\n",
       "</style>\n",
       "<table border=\"1\" class=\"dataframe\">\n",
       "  <thead>\n",
       "    <tr style=\"text-align: right;\">\n",
       "      <th></th>\n",
       "      <th>Sepal.Length</th>\n",
       "      <th>Sepal.Width</th>\n",
       "      <th>Petal.Length</th>\n",
       "      <th>Petal.Width</th>\n",
       "      <th>Species</th>\n",
       "      <th>Petal.Shape</th>\n",
       "    </tr>\n",
       "  </thead>\n",
       "  <tbody>\n",
       "    <tr>\n",
       "      <th>145</th>\n",
       "      <td>6.7</td>\n",
       "      <td>3.0</td>\n",
       "      <td>5.2</td>\n",
       "      <td>2.3</td>\n",
       "      <td>virginica</td>\n",
       "      <td>pointy</td>\n",
       "    </tr>\n",
       "    <tr>\n",
       "      <th>146</th>\n",
       "      <td>6.3</td>\n",
       "      <td>2.5</td>\n",
       "      <td>5.0</td>\n",
       "      <td>1.9</td>\n",
       "      <td>virginica</td>\n",
       "      <td>pointy</td>\n",
       "    </tr>\n",
       "    <tr>\n",
       "      <th>147</th>\n",
       "      <td>6.5</td>\n",
       "      <td>3.0</td>\n",
       "      <td>5.2</td>\n",
       "      <td>2.0</td>\n",
       "      <td>virginica</td>\n",
       "      <td>round</td>\n",
       "    </tr>\n",
       "    <tr>\n",
       "      <th>148</th>\n",
       "      <td>6.2</td>\n",
       "      <td>3.4</td>\n",
       "      <td>5.4</td>\n",
       "      <td>2.3</td>\n",
       "      <td>virginica</td>\n",
       "      <td>round</td>\n",
       "    </tr>\n",
       "    <tr>\n",
       "      <th>149</th>\n",
       "      <td>5.9</td>\n",
       "      <td>3.0</td>\n",
       "      <td>5.1</td>\n",
       "      <td>1.8</td>\n",
       "      <td>virginica</td>\n",
       "      <td>pointy</td>\n",
       "    </tr>\n",
       "  </tbody>\n",
       "</table>\n",
       "</div>"
      ],
      "text/plain": [
       "     Sepal.Length  Sepal.Width  Petal.Length  Petal.Width    Species  \\\n",
       "145           6.7          3.0           5.2          2.3  virginica   \n",
       "146           6.3          2.5           5.0          1.9  virginica   \n",
       "147           6.5          3.0           5.2          2.0  virginica   \n",
       "148           6.2          3.4           5.4          2.3  virginica   \n",
       "149           5.9          3.0           5.1          1.8  virginica   \n",
       "\n",
       "    Petal.Shape  \n",
       "145      pointy  \n",
       "146      pointy  \n",
       "147       round  \n",
       "148       round  \n",
       "149      pointy  "
      ]
     },
     "execution_count": 5,
     "metadata": {},
     "output_type": "execute_result"
    }
   ],
   "source": [
    "df.tail()"
   ]
  },
  {
   "cell_type": "code",
   "execution_count": 6,
   "id": "8d15482f-92c4-4111-8b32-fb862c672620",
   "metadata": {},
   "outputs": [
    {
     "data": {
      "text/html": [
       "<div>\n",
       "<style scoped>\n",
       "    .dataframe tbody tr th:only-of-type {\n",
       "        vertical-align: middle;\n",
       "    }\n",
       "\n",
       "    .dataframe tbody tr th {\n",
       "        vertical-align: top;\n",
       "    }\n",
       "\n",
       "    .dataframe thead th {\n",
       "        text-align: right;\n",
       "    }\n",
       "</style>\n",
       "<table border=\"1\" class=\"dataframe\">\n",
       "  <thead>\n",
       "    <tr style=\"text-align: right;\">\n",
       "      <th></th>\n",
       "      <th>Sepal.Length</th>\n",
       "      <th>Sepal.Width</th>\n",
       "      <th>Petal.Length</th>\n",
       "      <th>Petal.Width</th>\n",
       "    </tr>\n",
       "  </thead>\n",
       "  <tbody>\n",
       "    <tr>\n",
       "      <th>count</th>\n",
       "      <td>150.000000</td>\n",
       "      <td>150.000000</td>\n",
       "      <td>150.000000</td>\n",
       "      <td>150.000000</td>\n",
       "    </tr>\n",
       "    <tr>\n",
       "      <th>mean</th>\n",
       "      <td>5.843333</td>\n",
       "      <td>3.057333</td>\n",
       "      <td>3.758000</td>\n",
       "      <td>1.199333</td>\n",
       "    </tr>\n",
       "    <tr>\n",
       "      <th>std</th>\n",
       "      <td>0.828066</td>\n",
       "      <td>0.435866</td>\n",
       "      <td>1.765298</td>\n",
       "      <td>0.762238</td>\n",
       "    </tr>\n",
       "    <tr>\n",
       "      <th>min</th>\n",
       "      <td>4.300000</td>\n",
       "      <td>2.000000</td>\n",
       "      <td>1.000000</td>\n",
       "      <td>0.100000</td>\n",
       "    </tr>\n",
       "    <tr>\n",
       "      <th>25%</th>\n",
       "      <td>5.100000</td>\n",
       "      <td>2.800000</td>\n",
       "      <td>1.600000</td>\n",
       "      <td>0.300000</td>\n",
       "    </tr>\n",
       "    <tr>\n",
       "      <th>50%</th>\n",
       "      <td>5.800000</td>\n",
       "      <td>3.000000</td>\n",
       "      <td>4.350000</td>\n",
       "      <td>1.300000</td>\n",
       "    </tr>\n",
       "    <tr>\n",
       "      <th>75%</th>\n",
       "      <td>6.400000</td>\n",
       "      <td>3.300000</td>\n",
       "      <td>5.100000</td>\n",
       "      <td>1.800000</td>\n",
       "    </tr>\n",
       "    <tr>\n",
       "      <th>max</th>\n",
       "      <td>7.900000</td>\n",
       "      <td>4.400000</td>\n",
       "      <td>6.900000</td>\n",
       "      <td>2.500000</td>\n",
       "    </tr>\n",
       "  </tbody>\n",
       "</table>\n",
       "</div>"
      ],
      "text/plain": [
       "       Sepal.Length  Sepal.Width  Petal.Length  Petal.Width\n",
       "count    150.000000   150.000000    150.000000   150.000000\n",
       "mean       5.843333     3.057333      3.758000     1.199333\n",
       "std        0.828066     0.435866      1.765298     0.762238\n",
       "min        4.300000     2.000000      1.000000     0.100000\n",
       "25%        5.100000     2.800000      1.600000     0.300000\n",
       "50%        5.800000     3.000000      4.350000     1.300000\n",
       "75%        6.400000     3.300000      5.100000     1.800000\n",
       "max        7.900000     4.400000      6.900000     2.500000"
      ]
     },
     "execution_count": 6,
     "metadata": {},
     "output_type": "execute_result"
    }
   ],
   "source": [
    "df.describe()"
   ]
  },
  {
   "cell_type": "code",
   "execution_count": 7,
   "id": "4b2a9a90-6073-4e8b-b2f2-fe1dc42aab52",
   "metadata": {},
   "outputs": [
    {
     "data": {
      "text/plain": [
       "Sepal.Length    0\n",
       "Sepal.Width     0\n",
       "Petal.Length    0\n",
       "Petal.Width     0\n",
       "Species         0\n",
       "Petal.Shape     0\n",
       "dtype: int64"
      ]
     },
     "execution_count": 7,
     "metadata": {},
     "output_type": "execute_result"
    }
   ],
   "source": [
    "df.isna().sum()"
   ]
  },
  {
   "cell_type": "code",
   "execution_count": 8,
   "id": "c6a1a392-816c-4fcf-ab11-d2b2abd23d76",
   "metadata": {},
   "outputs": [
    {
     "data": {
      "image/png": "[encoded data removed]",
      "text/plain": [
       "<Figure size 432x288 with 1 Axes>"
      ]
     },
     "metadata": {
      "needs_background": "light"
     },
     "output_type": "display_data"
    }
   ],
   "source": [
    "hist = df[ \"Sepal.Length\" ].plot.hist( bins = 30 )"
   ]
  },
  {
   "cell_type": "code",
   "execution_count": 9,
   "id": "d6a631f1-79b0-48a9-a8d3-259c2d4ce2ed",
   "metadata": {},
   "outputs": [
    {
     "data": {
      "image/png": "[encoded data removed]",
      "text/plain": [
       "<Figure size 432x288 with 1 Axes>"
      ]
     },
     "metadata": {
      "needs_background": "light"
     },
     "output_type": "display_data"
    }
   ],
   "source": [
    "hist = df[ \"Sepal.Width\" ].plot.hist( bins = 30 )"
   ]
  },
  {
   "cell_type": "code",
   "execution_count": 10,
   "id": "7e7338a4-7afa-4beb-beaf-8345d15a9ffe",
   "metadata": {},
   "outputs": [
    {
     "data": {
      "image/png": "[encoded data removed]",
      "text/plain": [
       "<Figure size 432x288 with 1 Axes>"
      ]
     },
     "metadata": {
      "needs_background": "light"
     },
     "output_type": "display_data"
    }
   ],
   "source": [
    "hist = df[ \"Petal.Length\" ].plot.hist( bins = 30 )"
   ]
  },
  {
   "cell_type": "code",
   "execution_count": 11,
   "id": "15e661c2-e01d-41d3-8663-28c7dce3cd31",
   "metadata": {},
   "outputs": [
    {
     "data": {
      "image/png": "[encoded data removed]",
      "text/plain": [
       "<Figure size 432x288 with 1 Axes>"
      ]
     },
     "metadata": {
      "needs_background": "light"
     },
     "output_type": "display_data"
    }
   ],
   "source": [
    "hist = df[ \"Petal.Width\" ].plot.hist( bins = 30 )"
   ]
  },
  {
   "cell_type": "code",
   "execution_count": 12,
   "id": "f48a03bf-8000-4a4e-89fc-777ca269cc26",
   "metadata": {},
   "outputs": [
    {
     "data": {
      "text/plain": [
       "round     79\n",
       "pointy    71\n",
       "Name: Petal.Shape, dtype: int64"
      ]
     },
     "execution_count": 12,
     "metadata": {},
     "output_type": "execute_result"
    }
   ],
   "source": [
    "df[ \"Petal.Shape\" ].value_counts()"
   ]
  },
  {
   "cell_type": "code",
   "execution_count": 13,
   "id": "572284ac-7a5d-4c1b-9e6c-087907c7c901",
   "metadata": {},
   "outputs": [
    {
     "data": {
      "text/plain": [
       "setosa        50\n",
       "versicolor    50\n",
       "virginica     50\n",
       "Name: Species, dtype: int64"
      ]
     },
     "execution_count": 13,
     "metadata": {},
     "output_type": "execute_result"
    }
   ],
   "source": [
    "df[ \"Species\" ].value_counts()"
   ]
  },
  {
   "cell_type": "markdown",
   "id": "5915761c-6026-4855-857c-c0c525e44aa3",
   "metadata": {},
   "source": [
    "# Setup"
   ]
  },
  {
   "cell_type": "code",
   "execution_count": 5,
   "id": "d8dc801c-0723-461f-b907-5ce882a7003e",
   "metadata": {},
   "outputs": [
    {
     "name": "stderr",
     "output_type": "stream",
     "text": [
      "C:\\Users\\karpovsk\\Miniconda3\\lib\\site-packages\\scipy\\__init__.py:146: UserWarning: A NumPy version >=1.16.5 and <1.23.0 is required for this version of SciPy (detected version 1.23.1\n",
      "  warnings.warn(f\"A NumPy version >={np_minversion} and <{np_maxversion}\"\n"
     ]
    }
   ],
   "source": [
    "import sklearn\n",
    "import sklearn.model_selection \n",
    "import sklearn.metrics\n",
    "import numpy\n",
    "numpy.random.seed( 28 )\n"
   ]
  },
  {
   "cell_type": "code",
   "execution_count": 6,
   "id": "fff02124-eb65-46d1-aec5-f4b930fb25a4",
   "metadata": {},
   "outputs": [],
   "source": [
    "outcome = df['Species']"
   ]
  },
  {
   "cell_type": "code",
   "execution_count": 16,
   "id": "20f50dde-11bc-4910-ae23-5a871c68c88f",
   "metadata": {},
   "outputs": [
    {
     "data": {
      "text/plain": [
       "0        Missed\n",
       "1        Missed\n",
       "2          Paid\n",
       "3          Paid\n",
       "4          Paid\n",
       "          ...  \n",
       "29995      Paid\n",
       "29996      Paid\n",
       "29997    Missed\n",
       "29998    Missed\n",
       "29999    Missed\n",
       "Name: Payment, Length: 30000, dtype: object"
      ]
     },
     "execution_count": 16,
     "metadata": {},
     "output_type": "execute_result"
    }
   ],
   "source": [
    "outcome"
   ]
  },
  {
   "cell_type": "code",
   "execution_count": 7,
   "id": "90a236fa-303c-4bee-b3bb-df3b70b2a844",
   "metadata": {},
   "outputs": [],
   "source": [
    "numericFeatures = df[ [ 'Sepal.Length', 'Sepal.Width', 'Petal.Length', 'Petal.Width' ] ]"
   ]
  },
  {
   "cell_type": "code",
   "execution_count": 4,
   "id": "f1a88f00-9abe-4b7c-9af4-699d232a98dc",
   "metadata": {},
   "outputs": [
    {
     "data": {
      "text/plain": [
       "round     79\n",
       "pointy    71\n",
       "Name: Petal.Shape, dtype: int64"
      ]
     },
     "execution_count": 4,
     "metadata": {},
     "output_type": "execute_result"
    }
   ],
   "source": [
    "df['Petal.Shape'].value_counts()"
   ]
  },
  {
   "cell_type": "code",
   "execution_count": 8,
   "id": "60c54716-a12a-4b0d-9a52-54f1f550c375",
   "metadata": {},
   "outputs": [],
   "source": [
    "dummiesShape = pandas.get_dummies( df['Petal.Shape'], prefix=\"Shape\", drop_first=True )"
   ]
  },
  {
   "cell_type": "code",
   "execution_count": 19,
   "id": "160a7207-243e-460f-b413-374fb0226e7c",
   "metadata": {},
   "outputs": [
    {
     "data": {
      "text/html": [
       "<div>\n",
       "<style scoped>\n",
       "    .dataframe tbody tr th:only-of-type {\n",
       "        vertical-align: middle;\n",
       "    }\n",
       "\n",
       "    .dataframe tbody tr th {\n",
       "        vertical-align: top;\n",
       "    }\n",
       "\n",
       "    .dataframe thead th {\n",
       "        text-align: right;\n",
       "    }\n",
       "</style>\n",
       "<table border=\"1\" class=\"dataframe\">\n",
       "  <thead>\n",
       "    <tr style=\"text-align: right;\">\n",
       "      <th></th>\n",
       "      <th>Shape_round</th>\n",
       "    </tr>\n",
       "  </thead>\n",
       "  <tbody>\n",
       "    <tr>\n",
       "      <th>0</th>\n",
       "      <td>1</td>\n",
       "    </tr>\n",
       "    <tr>\n",
       "      <th>1</th>\n",
       "      <td>0</td>\n",
       "    </tr>\n",
       "    <tr>\n",
       "      <th>2</th>\n",
       "      <td>0</td>\n",
       "    </tr>\n",
       "    <tr>\n",
       "      <th>3</th>\n",
       "      <td>1</td>\n",
       "    </tr>\n",
       "    <tr>\n",
       "      <th>4</th>\n",
       "      <td>1</td>\n",
       "    </tr>\n",
       "    <tr>\n",
       "      <th>...</th>\n",
       "      <td>...</td>\n",
       "    </tr>\n",
       "    <tr>\n",
       "      <th>145</th>\n",
       "      <td>0</td>\n",
       "    </tr>\n",
       "    <tr>\n",
       "      <th>146</th>\n",
       "      <td>0</td>\n",
       "    </tr>\n",
       "    <tr>\n",
       "      <th>147</th>\n",
       "      <td>1</td>\n",
       "    </tr>\n",
       "    <tr>\n",
       "      <th>148</th>\n",
       "      <td>1</td>\n",
       "    </tr>\n",
       "    <tr>\n",
       "      <th>149</th>\n",
       "      <td>0</td>\n",
       "    </tr>\n",
       "  </tbody>\n",
       "</table>\n",
       "<p>150 rows × 1 columns</p>\n",
       "</div>"
      ],
      "text/plain": [
       "     Shape_round\n",
       "0              1\n",
       "1              0\n",
       "2              0\n",
       "3              1\n",
       "4              1\n",
       "..           ...\n",
       "145            0\n",
       "146            0\n",
       "147            1\n",
       "148            1\n",
       "149            0\n",
       "\n",
       "[150 rows x 1 columns]"
      ]
     },
     "execution_count": 19,
     "metadata": {},
     "output_type": "execute_result"
    }
   ],
   "source": [
    "dummiesShape"
   ]
  },
  {
   "cell_type": "code",
   "execution_count": 21,
   "id": "d5b2f182-7358-4957-aa24-93359a4983a0",
   "metadata": {},
   "outputs": [
    {
     "data": {
      "text/plain": [
       "Shape_round    79\n",
       "dtype: int64"
      ]
     },
     "execution_count": 21,
     "metadata": {},
     "output_type": "execute_result"
    }
   ],
   "source": [
    "dummiesShape.sum()"
   ]
  },
  {
   "cell_type": "code",
   "execution_count": 9,
   "id": "6ef99917-71ca-418b-bcac-51c6d365f5b5",
   "metadata": {},
   "outputs": [],
   "source": [
    "features = pandas.concat( [ numericFeatures, dummiesShape ], axis=1 )"
   ]
  },
  {
   "cell_type": "code",
   "execution_count": 23,
   "id": "81fcde79-d208-4d2a-9b24-4bf5a8807db7",
   "metadata": {},
   "outputs": [
    {
     "data": {
      "text/html": [
       "<div>\n",
       "<style scoped>\n",
       "    .dataframe tbody tr th:only-of-type {\n",
       "        vertical-align: middle;\n",
       "    }\n",
       "\n",
       "    .dataframe tbody tr th {\n",
       "        vertical-align: top;\n",
       "    }\n",
       "\n",
       "    .dataframe thead th {\n",
       "        text-align: right;\n",
       "    }\n",
       "</style>\n",
       "<table border=\"1\" class=\"dataframe\">\n",
       "  <thead>\n",
       "    <tr style=\"text-align: right;\">\n",
       "      <th></th>\n",
       "      <th>Sepal.Length</th>\n",
       "      <th>Sepal.Width</th>\n",
       "      <th>Petal.Length</th>\n",
       "      <th>Petal.Width</th>\n",
       "      <th>Shape_round</th>\n",
       "    </tr>\n",
       "  </thead>\n",
       "  <tbody>\n",
       "    <tr>\n",
       "      <th>0</th>\n",
       "      <td>5.1</td>\n",
       "      <td>3.5</td>\n",
       "      <td>1.4</td>\n",
       "      <td>0.2</td>\n",
       "      <td>1</td>\n",
       "    </tr>\n",
       "    <tr>\n",
       "      <th>1</th>\n",
       "      <td>4.9</td>\n",
       "      <td>3.0</td>\n",
       "      <td>1.4</td>\n",
       "      <td>0.2</td>\n",
       "      <td>0</td>\n",
       "    </tr>\n",
       "    <tr>\n",
       "      <th>2</th>\n",
       "      <td>4.7</td>\n",
       "      <td>3.2</td>\n",
       "      <td>1.3</td>\n",
       "      <td>0.2</td>\n",
       "      <td>0</td>\n",
       "    </tr>\n",
       "    <tr>\n",
       "      <th>3</th>\n",
       "      <td>4.6</td>\n",
       "      <td>3.1</td>\n",
       "      <td>1.5</td>\n",
       "      <td>0.2</td>\n",
       "      <td>1</td>\n",
       "    </tr>\n",
       "    <tr>\n",
       "      <th>4</th>\n",
       "      <td>5.0</td>\n",
       "      <td>3.6</td>\n",
       "      <td>1.4</td>\n",
       "      <td>0.2</td>\n",
       "      <td>1</td>\n",
       "    </tr>\n",
       "    <tr>\n",
       "      <th>...</th>\n",
       "      <td>...</td>\n",
       "      <td>...</td>\n",
       "      <td>...</td>\n",
       "      <td>...</td>\n",
       "      <td>...</td>\n",
       "    </tr>\n",
       "    <tr>\n",
       "      <th>145</th>\n",
       "      <td>6.7</td>\n",
       "      <td>3.0</td>\n",
       "      <td>5.2</td>\n",
       "      <td>2.3</td>\n",
       "      <td>0</td>\n",
       "    </tr>\n",
       "    <tr>\n",
       "      <th>146</th>\n",
       "      <td>6.3</td>\n",
       "      <td>2.5</td>\n",
       "      <td>5.0</td>\n",
       "      <td>1.9</td>\n",
       "      <td>0</td>\n",
       "    </tr>\n",
       "    <tr>\n",
       "      <th>147</th>\n",
       "      <td>6.5</td>\n",
       "      <td>3.0</td>\n",
       "      <td>5.2</td>\n",
       "      <td>2.0</td>\n",
       "      <td>1</td>\n",
       "    </tr>\n",
       "    <tr>\n",
       "      <th>148</th>\n",
       "      <td>6.2</td>\n",
       "      <td>3.4</td>\n",
       "      <td>5.4</td>\n",
       "      <td>2.3</td>\n",
       "      <td>1</td>\n",
       "    </tr>\n",
       "    <tr>\n",
       "      <th>149</th>\n",
       "      <td>5.9</td>\n",
       "      <td>3.0</td>\n",
       "      <td>5.1</td>\n",
       "      <td>1.8</td>\n",
       "      <td>0</td>\n",
       "    </tr>\n",
       "  </tbody>\n",
       "</table>\n",
       "<p>150 rows × 5 columns</p>\n",
       "</div>"
      ],
      "text/plain": [
       "     Sepal.Length  Sepal.Width  Petal.Length  Petal.Width  Shape_round\n",
       "0             5.1          3.5           1.4          0.2            1\n",
       "1             4.9          3.0           1.4          0.2            0\n",
       "2             4.7          3.2           1.3          0.2            0\n",
       "3             4.6          3.1           1.5          0.2            1\n",
       "4             5.0          3.6           1.4          0.2            1\n",
       "..            ...          ...           ...          ...          ...\n",
       "145           6.7          3.0           5.2          2.3            0\n",
       "146           6.3          2.5           5.0          1.9            0\n",
       "147           6.5          3.0           5.2          2.0            1\n",
       "148           6.2          3.4           5.4          2.3            1\n",
       "149           5.9          3.0           5.1          1.8            0\n",
       "\n",
       "[150 rows x 5 columns]"
      ]
     },
     "execution_count": 23,
     "metadata": {},
     "output_type": "execute_result"
    }
   ],
   "source": [
    "features"
   ]
  },
  {
   "cell_type": "code",
   "execution_count": 10,
   "id": "23623051-1cc1-4c2d-856d-252b9edffa1a",
   "metadata": {},
   "outputs": [],
   "source": [
    "featuresTrain, featuresTest, outcomeTrain, outcomeTest = sklearn.model_selection.train_test_split( features, outcome, test_size=0.33 )"
   ]
  },
  {
   "cell_type": "code",
   "execution_count": 25,
   "id": "c11c5f9d-9390-44b0-ab79-f089cd828c21",
   "metadata": {},
   "outputs": [
    {
     "data": {
      "text/plain": [
       "(100, 5)"
      ]
     },
     "execution_count": 25,
     "metadata": {},
     "output_type": "execute_result"
    }
   ],
   "source": [
    "featuresTrain.shape"
   ]
  },
  {
   "cell_type": "code",
   "execution_count": 26,
   "id": "c0fd8f80-644e-4d4c-b4f9-6f1097638770",
   "metadata": {},
   "outputs": [
    {
     "data": {
      "text/plain": [
       "(50, 5)"
      ]
     },
     "execution_count": 26,
     "metadata": {},
     "output_type": "execute_result"
    }
   ],
   "source": [
    "featuresTest.shape"
   ]
  },
  {
   "cell_type": "code",
   "execution_count": 27,
   "id": "2f9185c0-fa50-44f2-8d1d-b100ee79e04e",
   "metadata": {},
   "outputs": [
    {
     "data": {
      "text/plain": [
       "(100,)"
      ]
     },
     "execution_count": 27,
     "metadata": {},
     "output_type": "execute_result"
    }
   ],
   "source": [
    "outcomeTrain.shape"
   ]
  },
  {
   "cell_type": "code",
   "execution_count": 28,
   "id": "617edb12-9e88-4661-a899-dfb1af4f194e",
   "metadata": {},
   "outputs": [
    {
     "data": {
      "text/plain": [
       "(50,)"
      ]
     },
     "execution_count": 28,
     "metadata": {},
     "output_type": "execute_result"
    }
   ],
   "source": [
    "outcomeTest.shape"
   ]
  },
  {
   "cell_type": "markdown",
   "id": "71e98c3f-d8d5-4bce-9028-b11f620460c1",
   "metadata": {},
   "source": [
    "## k-Nearest Neighbors"
   ]
  },
  {
   "cell_type": "code",
   "execution_count": 29,
   "id": "84fb4aa3-46d0-42ba-b132-867ae6383a51",
   "metadata": {},
   "outputs": [],
   "source": [
    "import sklearn.neighbors"
   ]
  },
  {
   "cell_type": "code",
   "execution_count": 30,
   "id": "9d4601be-b7a0-46b5-8a59-7bd6d7278433",
   "metadata": {},
   "outputs": [],
   "source": [
    "modelKnn = sklearn.neighbors.KNeighborsClassifier()"
   ]
  },
  {
   "cell_type": "code",
   "execution_count": 31,
   "id": "2086ae95-b34f-4562-8ee3-627d60051664",
   "metadata": {},
   "outputs": [],
   "source": [
    "resultKnn = modelKnn.fit( featuresTrain, outcomeTrain )"
   ]
  },
  {
   "cell_type": "code",
   "execution_count": 32,
   "id": "ed412737-b392-4024-aba0-c8d8434ec176",
   "metadata": {},
   "outputs": [],
   "source": [
    "predKnnTrain = modelKnn.predict( featuresTrain )"
   ]
  },
  {
   "cell_type": "code",
   "execution_count": 33,
   "id": "017ac8e3-dd6c-4638-bff0-b185e115f550",
   "metadata": {},
   "outputs": [],
   "source": [
    "cmKnnTrain = sklearn.metrics.confusion_matrix( outcomeTrain, predKnnTrain )"
   ]
  },
  {
   "cell_type": "code",
   "execution_count": 34,
   "id": "4e3e26ba-c25c-439b-bb8c-a116d0719cc3",
   "metadata": {},
   "outputs": [
    {
     "name": "stdout",
     "output_type": "stream",
     "text": [
      "[[36  0  0]\n",
      " [ 0 29  2]\n",
      " [ 0  3 30]]\n"
     ]
    }
   ],
   "source": [
    "print( cmKnnTrain )"
   ]
  },
  {
   "cell_type": "code",
   "execution_count": 35,
   "id": "164a5831-ab84-4fc2-8110-6ac67df9ea72",
   "metadata": {},
   "outputs": [
    {
     "data": {
      "image/png": "[encoded data removed]",
      "text/plain": [
       "<Figure size 432x288 with 2 Axes>"
      ]
     },
     "metadata": {
      "needs_background": "light"
     },
     "output_type": "display_data"
    }
   ],
   "source": [
    "temp = sklearn.metrics.ConfusionMatrixDisplay( cmKnnTrain, display_labels=modelKnn.classes_ ).plot()"
   ]
  },
  {
   "cell_type": "code",
   "execution_count": 37,
   "id": "2352d6a6-986a-4282-a8e4-019968aafa14",
   "metadata": {},
   "outputs": [
    {
     "data": {
      "image/png": "[encoded data removed]",
      "text/plain": [
       "<Figure size 432x288 with 2 Axes>"
      ]
     },
     "metadata": {
      "needs_background": "light"
     },
     "output_type": "display_data"
    }
   ],
   "source": [
    "import matplotlib.pyplot\n",
    "sklearn.metrics.ConfusionMatrixDisplay( cmKnnTrain, display_labels=modelKnn.classes_ ).plot()\n",
    "matplotlib.pyplot.savefig( \"iris_KnnTrain.pdf\", orientation='landscape', transparent=True, pad_inches=0.0 )"
   ]
  },
  {
   "cell_type": "code",
   "execution_count": 38,
   "id": "aaa63793-8c1a-410d-b877-41ece0a0b7f4",
   "metadata": {},
   "outputs": [
    {
     "data": {
      "text/plain": [
       "0.95"
      ]
     },
     "execution_count": 38,
     "metadata": {},
     "output_type": "execute_result"
    }
   ],
   "source": [
    "sklearn.metrics.accuracy_score( outcomeTrain, predKnnTrain )"
   ]
  },
  {
   "cell_type": "code",
   "execution_count": 39,
   "id": "bf1b8975-f17e-442b-a2c4-e80d0c489977",
   "metadata": {},
   "outputs": [],
   "source": [
    "predKnnTest = modelKnn.predict(featuresTest)"
   ]
  },
  {
   "cell_type": "code",
   "execution_count": 40,
   "id": "91d5526d-5f4a-42b7-9473-e4db14d55798",
   "metadata": {},
   "outputs": [],
   "source": [
    "cmKnnTest = sklearn.metrics.confusion_matrix( outcomeTest, predKnnTest  )"
   ]
  },
  {
   "cell_type": "code",
   "execution_count": 41,
   "id": "8c7a54d8-8e5b-4210-9b9a-ad1077bd9758",
   "metadata": {},
   "outputs": [
    {
     "data": {
      "image/png": "[encoded data removed]",
      "text/plain": [
       "<Figure size 432x288 with 2 Axes>"
      ]
     },
     "metadata": {
      "needs_background": "light"
     },
     "output_type": "display_data"
    }
   ],
   "source": [
    "temp = sklearn.metrics.ConfusionMatrixDisplay( cmKnnTest, display_labels=modelKnn.classes_ ).plot()"
   ]
  },
  {
   "cell_type": "code",
   "execution_count": 42,
   "id": "5837ea02-3191-4ba8-ab7e-5d85509108d5",
   "metadata": {},
   "outputs": [
    {
     "data": {
      "image/png": "[encoded data removed]",
      "text/plain": [
       "<Figure size 432x288 with 2 Axes>"
      ]
     },
     "metadata": {
      "needs_background": "light"
     },
     "output_type": "display_data"
    }
   ],
   "source": [
    "import matplotlib.pyplot\n",
    "sklearn.metrics.ConfusionMatrixDisplay( cmKnnTest, display_labels=modelKnn.classes_ ).plot()\n",
    "matplotlib.pyplot.savefig( \"iris_KnnTest.pdf\", orientation='landscape', transparent=True, pad_inches=0.0 )"
   ]
  },
  {
   "cell_type": "code",
   "execution_count": 43,
   "id": "1f823b7d-2cd9-475b-8e50-3fe807be75c7",
   "metadata": {},
   "outputs": [
    {
     "data": {
      "text/plain": [
       "0.9"
      ]
     },
     "execution_count": 43,
     "metadata": {},
     "output_type": "execute_result"
    }
   ],
   "source": [
    "sklearn.metrics.accuracy_score( outcomeTest, predKnnTest )"
   ]
  },
  {
   "cell_type": "markdown",
   "id": "80f7f211-16ed-4048-bc50-9e95358c9161",
   "metadata": {},
   "source": [
    "## Decision Tree"
   ]
  },
  {
   "cell_type": "code",
   "execution_count": 44,
   "id": "419def3e-e83e-4a81-b72a-e7d7bc537891",
   "metadata": {},
   "outputs": [],
   "source": [
    "import sklearn.tree"
   ]
  },
  {
   "cell_type": "code",
   "execution_count": 45,
   "id": "fe691b7e-6e03-4b87-87ea-28b6355dcac4",
   "metadata": {},
   "outputs": [],
   "source": [
    "modelTree = sklearn.tree.DecisionTreeClassifier()"
   ]
  },
  {
   "cell_type": "code",
   "execution_count": 46,
   "id": "466cb6eb-86e1-4c9f-86bd-ccebb86b464c",
   "metadata": {},
   "outputs": [],
   "source": [
    "resultTree = modelTree.fit( featuresTrain, outcomeTrain )"
   ]
  },
  {
   "cell_type": "code",
   "execution_count": 47,
   "id": "4630adcd-bdcd-4ea9-8614-724501ab9f61",
   "metadata": {},
   "outputs": [],
   "source": [
    "predTreeTrain = modelTree.predict( featuresTrain )"
   ]
  },
  {
   "cell_type": "code",
   "execution_count": 48,
   "id": "53a18810-25ea-4e61-9ace-075f1d434021",
   "metadata": {},
   "outputs": [],
   "source": [
    "cmTreeTrain = sklearn.metrics.confusion_matrix( outcomeTrain, predTreeTrain  )"
   ]
  },
  {
   "cell_type": "code",
   "execution_count": 49,
   "id": "2bda3505-fa0a-4afc-bc63-892269fdea09",
   "metadata": {},
   "outputs": [
    {
     "data": {
      "image/png": "[encoded data removed]",
      "text/plain": [
       "<Figure size 432x288 with 2 Axes>"
      ]
     },
     "metadata": {
      "needs_background": "light"
     },
     "output_type": "display_data"
    }
   ],
   "source": [
    "temp = sklearn.metrics.ConfusionMatrixDisplay( cmTreeTrain, display_labels=modelTree.classes_ ).plot()"
   ]
  },
  {
   "cell_type": "code",
   "execution_count": 50,
   "id": "78b29171-3e78-4a18-a0c2-57e2440bfd4e",
   "metadata": {},
   "outputs": [
    {
     "data": {
      "image/png": "[encoded data removed]",
      "text/plain": [
       "<Figure size 432x288 with 2 Axes>"
      ]
     },
     "metadata": {
      "needs_background": "light"
     },
     "output_type": "display_data"
    }
   ],
   "source": [
    "sklearn.metrics.ConfusionMatrixDisplay( cmTreeTrain, display_labels=modelTree.classes_ ).plot()\n",
    "matplotlib.pyplot.savefig( \"iris_TreeTrain.pdf\", orientation='landscape', transparent=True, pad_inches=0.0 )"
   ]
  },
  {
   "cell_type": "code",
   "execution_count": 51,
   "id": "b8579fe9-50e2-4d84-a24b-71a2c29bdc63",
   "metadata": {},
   "outputs": [
    {
     "data": {
      "text/plain": [
       "1.0"
      ]
     },
     "execution_count": 51,
     "metadata": {},
     "output_type": "execute_result"
    }
   ],
   "source": [
    "sklearn.metrics.accuracy_score( outcomeTrain, predTreeTrain )"
   ]
  },
  {
   "cell_type": "code",
   "execution_count": 52,
   "id": "026f7c8a-d1d4-41a3-bdcd-3993afeaf51b",
   "metadata": {},
   "outputs": [],
   "source": [
    "predTreeTest = modelTree.predict(featuresTest)"
   ]
  },
  {
   "cell_type": "code",
   "execution_count": 53,
   "id": "9c567d8f-caff-449e-b554-fa306d714621",
   "metadata": {},
   "outputs": [],
   "source": [
    "cmTreeTest = sklearn.metrics.confusion_matrix( outcomeTest, predTreeTest  )"
   ]
  },
  {
   "cell_type": "code",
   "execution_count": 54,
   "id": "94ae1dd1-8f39-41b9-8ee6-ae0fd30f0f65",
   "metadata": {},
   "outputs": [
    {
     "data": {
      "image/png": "[encoded data removed]",
      "text/plain": [
       "<Figure size 432x288 with 2 Axes>"
      ]
     },
     "metadata": {
      "needs_background": "light"
     },
     "output_type": "display_data"
    }
   ],
   "source": [
    "temp = sklearn.metrics.ConfusionMatrixDisplay( cmTreeTest, display_labels=modelTree.classes_ ).plot()"
   ]
  },
  {
   "cell_type": "code",
   "execution_count": 55,
   "id": "407871f5-e424-46cc-b508-0520f0cde454",
   "metadata": {},
   "outputs": [
    {
     "data": {
      "image/png": "[encoded data removed]",
      "text/plain": [
       "<Figure size 432x288 with 2 Axes>"
      ]
     },
     "metadata": {
      "needs_background": "light"
     },
     "output_type": "display_data"
    }
   ],
   "source": [
    "sklearn.metrics.ConfusionMatrixDisplay( cmTreeTest, display_labels=modelTree.classes_ ).plot()\n",
    "matplotlib.pyplot.savefig( \"iris_TreeTest.pdf\", orientation='landscape', transparent=True, pad_inches=0.0 )"
   ]
  },
  {
   "cell_type": "code",
   "execution_count": 56,
   "id": "d8a1a91c-f5e6-43d0-98c1-bcc1332aad51",
   "metadata": {},
   "outputs": [
    {
     "data": {
      "text/plain": [
       "0.92"
      ]
     },
     "execution_count": 56,
     "metadata": {},
     "output_type": "execute_result"
    }
   ],
   "source": [
    "sklearn.metrics.accuracy_score( outcomeTest, predTreeTest )"
   ]
  },
  {
   "cell_type": "code",
   "execution_count": 57,
   "id": "c941e89e-0ca5-481d-a355-bccf524bd837",
   "metadata": {},
   "outputs": [
    {
     "data": {
      "image/png": "[encoded data removed]",
      "text/plain": [
       "<Figure size 432x288 with 1 Axes>"
      ]
     },
     "metadata": {
      "needs_background": "light"
     },
     "output_type": "display_data"
    }
   ],
   "source": [
    "temp = sklearn.tree.plot_tree( resultTree, feature_names=list( features), filled=True, class_names=modelTree.classes_, max_depth=2 )"
   ]
  },
  {
   "cell_type": "code",
   "execution_count": 58,
   "id": "d29e8acf-5dfa-4174-add0-cda468c8d4cd",
   "metadata": {},
   "outputs": [
    {
     "data": {
      "image/png": "[encoded data removed]",
      "text/plain": [
       "<Figure size 432x288 with 1 Axes>"
      ]
     },
     "metadata": {
      "needs_background": "light"
     },
     "output_type": "display_data"
    }
   ],
   "source": [
    "sklearn.tree.plot_tree( resultTree, feature_names=list( features), filled=True, class_names=modelTree.classes_, max_depth=2 )\n",
    "matplotlib.pyplot.savefig( \"iris_tree.pdf\", orientation='landscape', transparent=True, pad_inches=0.0 )"
   ]
  },
  {
   "cell_type": "markdown",
   "id": "9ac070ea-65c3-4dfa-93a6-8bad05b20410",
   "metadata": {},
   "source": [
    "## Logistic Regression"
   ]
  },
  {
   "cell_type": "code",
   "execution_count": 12,
   "id": "92dac921-dc29-4ceb-9c3f-f77a0328918f",
   "metadata": {},
   "outputs": [
    {
     "data": {
      "image/png": "[encoded data removed]",
      "text/plain": [
       "<Figure size 432x288 with 2 Axes>"
      ]
     },
     "metadata": {
      "needs_background": "light"
     },
     "output_type": "display_data"
    }
   ],
   "source": [
    "from sklearn.linear_model import LogisticRegression\n",
    "modelLog = LogisticRegression(multi_class='ovr')\n",
    "resultLog = modelLog.fit(featuresTrain, outcomeTrain)\n",
    "predLogTrain = modelLog.predict( featuresTrain )\n",
    "cmLogTrain = sklearn.metrics.confusion_matrix( outcomeTrain, predLogTrain  )\n",
    "temp = sklearn.metrics.ConfusionMatrixDisplay( cmLogTrain, display_labels=modelLog.classes_ ).plot()"
   ]
  },
  {
   "cell_type": "code",
   "execution_count": 13,
   "id": "c8b27a45-ee41-4378-b98e-5b73a71294db",
   "metadata": {},
   "outputs": [
    {
     "data": {
      "text/plain": [
       "0.95"
      ]
     },
     "execution_count": 13,
     "metadata": {},
     "output_type": "execute_result"
    }
   ],
   "source": [
    "sklearn.metrics.accuracy_score( outcomeTrain, predLogTrain )"
   ]
  },
  {
   "cell_type": "code",
   "execution_count": 14,
   "id": "4f4e2f62-8479-4621-b599-e87f16f0c630",
   "metadata": {},
   "outputs": [
    {
     "data": {
      "image/png": "[encoded data removed]",
      "text/plain": [
       "<Figure size 432x288 with 2 Axes>"
      ]
     },
     "metadata": {
      "needs_background": "light"
     },
     "output_type": "display_data"
    }
   ],
   "source": [
    "predLogTest = modelLog.predict(featuresTest)\n",
    "cmLogTest = sklearn.metrics.confusion_matrix( outcomeTest, predLogTest  )\n",
    "temp = sklearn.metrics.ConfusionMatrixDisplay( cmLogTest, display_labels=modelLog.classes_ ).plot()"
   ]
  },
  {
   "cell_type": "code",
   "execution_count": 15,
   "id": "ce4b4c58-8151-48e9-9b9d-0fd610249927",
   "metadata": {},
   "outputs": [
    {
     "data": {
      "text/plain": [
       "0.8"
      ]
     },
     "execution_count": 15,
     "metadata": {},
     "output_type": "execute_result"
    }
   ],
   "source": [
    "sklearn.metrics.accuracy_score( outcomeTest, predLogTest )"
   ]
  },
  {
   "cell_type": "markdown",
   "id": "a4433fc1-8918-441b-a650-97a87811aca5",
   "metadata": {},
   "source": [
    "## SVM"
   ]
  },
  {
   "cell_type": "code",
   "execution_count": 27,
   "id": "6c97999f-42d1-4ca2-9035-9417cc95126d",
   "metadata": {},
   "outputs": [
    {
     "name": "stderr",
     "output_type": "stream",
     "text": [
      "C:\\Users\\karpovsk\\Miniconda3\\lib\\site-packages\\sklearn\\svm\\_base.py:1206: ConvergenceWarning: Liblinear failed to converge, increase the number of iterations.\n",
      "  warnings.warn(\n"
     ]
    },
    {
     "data": {
      "image/png": "[encoded data removed]",
      "text/plain": [
       "<Figure size 432x288 with 2 Axes>"
      ]
     },
     "metadata": {
      "needs_background": "light"
     },
     "output_type": "display_data"
    }
   ],
   "source": [
    "from sklearn import svm\n",
    "modelSVM = svm.LinearSVC()\n",
    "resultSVM = modelSVM.fit(featuresTrain, outcomeTrain)\n",
    "predSVMTrain = modelSVM.predict( featuresTrain )\n",
    "cmSVMTrain = sklearn.metrics.confusion_matrix( outcomeTrain, predSVMTrain  )\n",
    "temp = sklearn.metrics.ConfusionMatrixDisplay( cmSVMTrain, display_labels=modelSVM.classes_ ).plot()"
   ]
  },
  {
   "cell_type": "code",
   "execution_count": 28,
   "id": "4e53db9a-a0c6-44de-8897-bb1d648de934",
   "metadata": {},
   "outputs": [
    {
     "data": {
      "text/plain": [
       "0.96"
      ]
     },
     "execution_count": 28,
     "metadata": {},
     "output_type": "execute_result"
    }
   ],
   "source": [
    "sklearn.metrics.accuracy_score( outcomeTrain, predSVMTrain )"
   ]
  },
  {
   "cell_type": "code",
   "execution_count": 30,
   "id": "ad1559af-4c93-479a-81d0-184364fedb4b",
   "metadata": {},
   "outputs": [
    {
     "data": {
      "image/png": "[encoded data removed]",
      "text/plain": [
       "<Figure size 432x288 with 2 Axes>"
      ]
     },
     "metadata": {
      "needs_background": "light"
     },
     "output_type": "display_data"
    }
   ],
   "source": [
    "predSVMTest = modelLog.predict(featuresTest)\n",
    "cmSVMTest = sklearn.metrics.confusion_matrix( outcomeTest, predSVMTest  )\n",
    "temp = sklearn.metrics.ConfusionMatrixDisplay( cmSVMTest, display_labels=modelSVM.classes_ ).plot()"
   ]
  },
  {
   "cell_type": "code",
   "execution_count": 31,
   "id": "54881a04-cf09-4bd4-b0f1-a595f4897422",
   "metadata": {},
   "outputs": [
    {
     "data": {
      "text/plain": [
       "0.8"
      ]
     },
     "execution_count": 31,
     "metadata": {},
     "output_type": "execute_result"
    }
   ],
   "source": [
    "sklearn.metrics.accuracy_score( outcomeTest, predSVMTest )"
   ]
  },
  {
   "cell_type": "markdown",
   "id": "73633394-f3b6-4d3b-a6ec-97217f9b7343",
   "metadata": {},
   "source": [
    "## Naive Bayes"
   ]
  },
  {
   "cell_type": "code",
   "execution_count": 20,
   "id": "9e75dfe6-de57-456d-8e89-54ac1ddb3662",
   "metadata": {},
   "outputs": [
    {
     "data": {
      "image/png": "[encoded data removed]",
      "text/plain": [
       "<Figure size 432x288 with 2 Axes>"
      ]
     },
     "metadata": {
      "needs_background": "light"
     },
     "output_type": "display_data"
    }
   ],
   "source": [
    "from sklearn.naive_bayes import GaussianNB\n",
    "modelNB = GaussianNB()\n",
    "resultNB = modelNB.fit(featuresTrain, outcomeTrain)\n",
    "predNBTrain = modelNB.predict( featuresTrain )\n",
    "cmNBTrain = sklearn.metrics.confusion_matrix( outcomeTrain, predNBTrain  )\n",
    "temp = sklearn.metrics.ConfusionMatrixDisplay( cmNBTrain, display_labels=modelNB.classes_ ).plot()"
   ]
  },
  {
   "cell_type": "code",
   "execution_count": 21,
   "id": "3657ab53-1561-495b-bb7b-91604ee46827",
   "metadata": {},
   "outputs": [
    {
     "data": {
      "text/plain": [
       "0.98"
      ]
     },
     "execution_count": 21,
     "metadata": {},
     "output_type": "execute_result"
    }
   ],
   "source": [
    "sklearn.metrics.accuracy_score( outcomeTrain, predNBTrain )"
   ]
  },
  {
   "cell_type": "code",
   "execution_count": 24,
   "id": "5b22dac7-1e68-4581-a31b-b21b4b995f64",
   "metadata": {},
   "outputs": [
    {
     "data": {
      "image/png": "[encoded data removed]",
      "text/plain": [
       "<Figure size 432x288 with 2 Axes>"
      ]
     },
     "metadata": {
      "needs_background": "light"
     },
     "output_type": "display_data"
    }
   ],
   "source": [
    "predNBTest = modelNB.predict(featuresTest)\n",
    "cmNBTest = sklearn.metrics.confusion_matrix( outcomeTest, predNBTest  )\n",
    "temp = sklearn.metrics.ConfusionMatrixDisplay( cmNBTest, display_labels=modelNB.classes_ ).plot()"
   ]
  },
  {
   "cell_type": "code",
   "execution_count": 25,
   "id": "25fa362a-798c-4460-a19d-bf64f78ef36e",
   "metadata": {},
   "outputs": [
    {
     "data": {
      "text/plain": [
       "0.9"
      ]
     },
     "execution_count": 25,
     "metadata": {},
     "output_type": "execute_result"
    }
   ],
   "source": [
    "sklearn.metrics.accuracy_score( outcomeTest, predNBTest )"
   ]
  },
  {
   "cell_type": "markdown",
   "id": "a97b403d-2010-4a2b-8bae-09661f1a7329",
   "metadata": {},
   "source": [
    "## Random Forest"
   ]
  },
  {
   "cell_type": "code",
   "execution_count": 59,
   "id": "ee378b65-3ea4-4bc7-b97f-17302191bb48",
   "metadata": {},
   "outputs": [],
   "source": [
    "import sklearn.ensemble \n",
    "modelForest = sklearn.ensemble.RandomForestClassifier()"
   ]
  },
  {
   "cell_type": "code",
   "execution_count": 60,
   "id": "8db84355-7f63-4201-87b0-e172603d8858",
   "metadata": {},
   "outputs": [],
   "source": [
    "resultForest = modelForest.fit( featuresTrain, outcomeTrain )"
   ]
  },
  {
   "cell_type": "code",
   "execution_count": 61,
   "id": "758904ca-1ad4-4f1e-9dc2-3c5f3d366d4b",
   "metadata": {},
   "outputs": [],
   "source": [
    "predForestTrain = modelForest.predict(featuresTrain)"
   ]
  },
  {
   "cell_type": "code",
   "execution_count": 62,
   "id": "36541366-e556-4c1d-94f7-8214d9a30e66",
   "metadata": {},
   "outputs": [],
   "source": [
    "cmForestTrain = sklearn.metrics.confusion_matrix( outcomeTrain, predForestTrain  )"
   ]
  },
  {
   "cell_type": "code",
   "execution_count": 63,
   "id": "364633e8-a382-4bb0-982f-93fe057364a0",
   "metadata": {},
   "outputs": [
    {
     "data": {
      "image/png": "[encoded data removed]",
      "text/plain": [
       "<Figure size 432x288 with 2 Axes>"
      ]
     },
     "metadata": {
      "needs_background": "light"
     },
     "output_type": "display_data"
    }
   ],
   "source": [
    "temp = sklearn.metrics.ConfusionMatrixDisplay( cmForestTrain, display_labels=modelForest.classes_ ).plot()"
   ]
  },
  {
   "cell_type": "code",
   "execution_count": 64,
   "id": "4584f4e4-5347-48e9-8cfb-c822a0b375b3",
   "metadata": {},
   "outputs": [
    {
     "data": {
      "image/png": "[encoded data removed]",
      "text/plain": [
       "<Figure size 432x288 with 2 Axes>"
      ]
     },
     "metadata": {
      "needs_background": "light"
     },
     "output_type": "display_data"
    }
   ],
   "source": [
    "sklearn.metrics.ConfusionMatrixDisplay( cmForestTrain, display_labels=modelForest.classes_ ).plot()\n",
    "matplotlib.pyplot.savefig( \"iris_ForestTest.pdf\", orientation='landscape', transparent=True, pad_inches=0.0 )"
   ]
  },
  {
   "cell_type": "code",
   "execution_count": 65,
   "id": "6d7445c8-e673-4507-9a4f-8258260f2489",
   "metadata": {},
   "outputs": [
    {
     "data": {
      "text/plain": [
       "1.0"
      ]
     },
     "execution_count": 65,
     "metadata": {},
     "output_type": "execute_result"
    }
   ],
   "source": [
    "sklearn.metrics.accuracy_score( outcomeTrain, predForestTrain )"
   ]
  },
  {
   "cell_type": "code",
   "execution_count": 66,
   "id": "857d7e83-8664-49f9-9964-6d9f1b32cc72",
   "metadata": {},
   "outputs": [],
   "source": [
    "predForestTest = modelForest.predict(featuresTest)"
   ]
  },
  {
   "cell_type": "code",
   "execution_count": 67,
   "id": "b424b1f8-9b02-4706-b7b7-6dbb61155cfe",
   "metadata": {},
   "outputs": [],
   "source": [
    "cmForestTest = sklearn.metrics.confusion_matrix( outcomeTest, predForestTest  )"
   ]
  },
  {
   "cell_type": "code",
   "execution_count": 68,
   "id": "1e81f290-e0af-4033-a5f7-bf78804bca5f",
   "metadata": {},
   "outputs": [
    {
     "data": {
      "image/png": "[encoded data removed]",
      "text/plain": [
       "<Figure size 432x288 with 2 Axes>"
      ]
     },
     "metadata": {
      "needs_background": "light"
     },
     "output_type": "display_data"
    }
   ],
   "source": [
    "temp = sklearn.metrics.ConfusionMatrixDisplay( cmForestTest, display_labels=modelForest.classes_ ).plot()"
   ]
  },
  {
   "cell_type": "code",
   "execution_count": 69,
   "id": "1d118c38-f89e-48e0-b945-316598fce53d",
   "metadata": {},
   "outputs": [
    {
     "data": {
      "text/plain": [
       "0.92"
      ]
     },
     "execution_count": 69,
     "metadata": {},
     "output_type": "execute_result"
    }
   ],
   "source": [
    "sklearn.metrics.accuracy_score( outcomeTest, predForestTest )"
   ]
  },
  {
   "cell_type": "markdown",
   "id": "fb82e73a-50d9-4d40-9126-2c0dd9f2b9b1",
   "metadata": {},
   "source": [
    "## Neural Net"
   ]
  },
  {
   "cell_type": "code",
   "execution_count": 70,
   "id": "cc5810e6-9691-4c1d-b5d8-60930de4bd7c",
   "metadata": {},
   "outputs": [],
   "source": [
    "import sklearn.neural_network "
   ]
  },
  {
   "cell_type": "code",
   "execution_count": 71,
   "id": "266ddfda-4bf5-4533-8319-7a121e9174c9",
   "metadata": {},
   "outputs": [],
   "source": [
    "modelNeural = sklearn.neural_network.MLPClassifier( hidden_layer_sizes=(10,5) )\n"
   ]
  },
  {
   "cell_type": "code",
   "execution_count": 72,
   "id": "93cfcaf7-0c41-495d-9124-bc0d510b3898",
   "metadata": {},
   "outputs": [
    {
     "name": "stderr",
     "output_type": "stream",
     "text": [
      "/Users/ransboth/opt/miniconda3/lib/python3.9/site-packages/sklearn/neural_network/_multilayer_perceptron.py:614: ConvergenceWarning: Stochastic Optimizer: Maximum iterations (200) reached and the optimization hasn't converged yet.\n",
      "  warnings.warn(\n"
     ]
    },
    {
     "data": {
      "text/plain": [
       "MLPClassifier(hidden_layer_sizes=(10, 5))"
      ]
     },
     "execution_count": 72,
     "metadata": {},
     "output_type": "execute_result"
    }
   ],
   "source": [
    "modelNeural.fit( featuresTrain, outcomeTrain )"
   ]
  },
  {
   "cell_type": "code",
   "execution_count": 73,
   "id": "338af1d3-9ee6-4394-817d-d2ac1696bb7b",
   "metadata": {},
   "outputs": [],
   "source": [
    "predNeuralTrain = modelNeural.predict(featuresTrain)"
   ]
  },
  {
   "cell_type": "code",
   "execution_count": 74,
   "id": "a202001e-07db-4727-9571-8619c6225ac5",
   "metadata": {},
   "outputs": [],
   "source": [
    "cmNeuralTrain = sklearn.metrics.confusion_matrix( outcomeTrain, predNeuralTrain  )"
   ]
  },
  {
   "cell_type": "code",
   "execution_count": 75,
   "id": "80cdbb01-1a28-4171-8fc8-f616491cdf91",
   "metadata": {},
   "outputs": [
    {
     "data": {
      "image/png": "[encoded data removed]",
      "text/plain": [
       "<Figure size 432x288 with 2 Axes>"
      ]
     },
     "metadata": {
      "needs_background": "light"
     },
     "output_type": "display_data"
    }
   ],
   "source": [
    "temp = sklearn.metrics.ConfusionMatrixDisplay( cmNeuralTrain, display_labels=modelNeural.classes_ ).plot()"
   ]
  },
  {
   "cell_type": "code",
   "execution_count": 76,
   "id": "7333d4e4-9ed9-4d20-ab93-f10e2f40c0a2",
   "metadata": {},
   "outputs": [
    {
     "data": {
      "image/png": "[encoded data removed]",
      "text/plain": [
       "<Figure size 432x288 with 2 Axes>"
      ]
     },
     "metadata": {
      "needs_background": "light"
     },
     "output_type": "display_data"
    }
   ],
   "source": [
    "sklearn.metrics.ConfusionMatrixDisplay( cmNeuralTrain, display_labels=modelNeural.classes_ ).plot()\n",
    "matplotlib.pyplot.savefig( \"iris_NeuralTrain.pdf\", orientation='landscape', transparent=True, pad_inches=0.0 )"
   ]
  },
  {
   "cell_type": "code",
   "execution_count": 77,
   "id": "ac222d2a-1ce6-4ebf-a490-5a2c17c8f14e",
   "metadata": {},
   "outputs": [
    {
     "data": {
      "text/plain": [
       "0.77"
      ]
     },
     "execution_count": 77,
     "metadata": {},
     "output_type": "execute_result"
    }
   ],
   "source": [
    "sklearn.metrics.accuracy_score( outcomeTrain, predNeuralTrain )"
   ]
  },
  {
   "cell_type": "code",
   "execution_count": 78,
   "id": "60bea1c9-3a87-4b51-b3cf-3c0ea4f5813e",
   "metadata": {},
   "outputs": [],
   "source": [
    "predNeuralTest = modelNeural.predict(featuresTest)"
   ]
  },
  {
   "cell_type": "code",
   "execution_count": 79,
   "id": "a16d9c97-c789-44a4-b2c7-2d4c0ecdff37",
   "metadata": {},
   "outputs": [],
   "source": [
    "cmNeuralTest = sklearn.metrics.confusion_matrix( outcomeTest, predNeuralTest  )"
   ]
  },
  {
   "cell_type": "code",
   "execution_count": 80,
   "id": "b99d6110-30e3-4fc6-ae6c-89a79760bc8c",
   "metadata": {},
   "outputs": [
    {
     "data": {
      "image/png": "[encoded data removed]",
      "text/plain": [
       "<Figure size 432x288 with 2 Axes>"
      ]
     },
     "metadata": {
      "needs_background": "light"
     },
     "output_type": "display_data"
    }
   ],
   "source": [
    "temp = sklearn.metrics.ConfusionMatrixDisplay( cmNeuralTest, display_labels=modelNeural.classes_ ).plot()"
   ]
  },
  {
   "cell_type": "code",
   "execution_count": 81,
   "id": "7b93db60-065b-4863-a97e-879580e4c668",
   "metadata": {},
   "outputs": [
    {
     "data": {
      "text/plain": [
       "0.74"
      ]
     },
     "execution_count": 81,
     "metadata": {},
     "output_type": "execute_result"
    }
   ],
   "source": [
    "sklearn.metrics.accuracy_score( outcomeTest, predNeuralTest )"
   ]
  },
  {
   "cell_type": "markdown",
   "id": "9aab6153-cc8b-4524-b46e-c4eb388571fe",
   "metadata": {},
   "source": [
    "## Comparing"
   ]
  },
  {
   "cell_type": "code",
   "execution_count": 82,
   "id": "2538917e-82ab-4345-81dd-defb6804f4eb",
   "metadata": {},
   "outputs": [
    {
     "data": {
      "text/plain": [
       "0.95"
      ]
     },
     "execution_count": 82,
     "metadata": {},
     "output_type": "execute_result"
    }
   ],
   "source": [
    "sklearn.metrics.accuracy_score( outcomeTrain, predKnnTrain ).round(3)"
   ]
  },
  {
   "cell_type": "code",
   "execution_count": 83,
   "id": "665efc2e-c147-4eba-874f-992b8d09c1fc",
   "metadata": {},
   "outputs": [
    {
     "data": {
      "text/plain": [
       "1.0"
      ]
     },
     "execution_count": 83,
     "metadata": {},
     "output_type": "execute_result"
    }
   ],
   "source": [
    "sklearn.metrics.accuracy_score( outcomeTrain, predTreeTrain ).round(3)"
   ]
  },
  {
   "cell_type": "code",
   "execution_count": 84,
   "id": "60ce0182-711d-4fb5-b147-7ec514b8954a",
   "metadata": {},
   "outputs": [
    {
     "data": {
      "text/plain": [
       "1.0"
      ]
     },
     "execution_count": 84,
     "metadata": {},
     "output_type": "execute_result"
    }
   ],
   "source": [
    "sklearn.metrics.accuracy_score( outcomeTrain, predForestTrain ).round(3)"
   ]
  },
  {
   "cell_type": "code",
   "execution_count": 85,
   "id": "9f2afda4-90f8-4172-b1a6-106035178bd7",
   "metadata": {},
   "outputs": [
    {
     "data": {
      "text/plain": [
       "0.77"
      ]
     },
     "execution_count": 85,
     "metadata": {},
     "output_type": "execute_result"
    }
   ],
   "source": [
    "sklearn.metrics.accuracy_score( outcomeTrain, predNeuralTrain ).round(3)"
   ]
  },
  {
   "cell_type": "code",
   "execution_count": 18,
   "id": "4b125514-99ee-4da6-90d5-d4f7d9eaf0af",
   "metadata": {},
   "outputs": [
    {
     "data": {
      "text/plain": [
       "0.95"
      ]
     },
     "execution_count": 18,
     "metadata": {},
     "output_type": "execute_result"
    }
   ],
   "source": [
    "sklearn.metrics.accuracy_score( outcomeTrain, predLogTrain ).round(3)"
   ]
  },
  {
   "cell_type": "code",
   "execution_count": 23,
   "id": "90cb07d9-24a7-44a9-a25f-8141de216129",
   "metadata": {},
   "outputs": [
    {
     "data": {
      "text/plain": [
       "0.98"
      ]
     },
     "execution_count": 23,
     "metadata": {},
     "output_type": "execute_result"
    }
   ],
   "source": [
    "sklearn.metrics.accuracy_score( outcomeTrain, predNBTrain )"
   ]
  },
  {
   "cell_type": "code",
   "execution_count": 29,
   "id": "1ff46a27-0cd1-438c-8835-6d9206bfe5c9",
   "metadata": {},
   "outputs": [
    {
     "data": {
      "text/plain": [
       "0.96"
      ]
     },
     "execution_count": 29,
     "metadata": {},
     "output_type": "execute_result"
    }
   ],
   "source": [
    "sklearn.metrics.accuracy_score( outcomeTrain, predSVMTrain )"
   ]
  },
  {
   "cell_type": "code",
   "execution_count": 86,
   "id": "336938fa-f815-44ea-9a2b-873deb38df02",
   "metadata": {},
   "outputs": [
    {
     "data": {
      "text/plain": [
       "0.9"
      ]
     },
     "execution_count": 86,
     "metadata": {},
     "output_type": "execute_result"
    }
   ],
   "source": [
    "sklearn.metrics.accuracy_score( outcomeTest, predKnnTest ).round(3)"
   ]
  },
  {
   "cell_type": "code",
   "execution_count": 87,
   "id": "1c519875-1f44-4bed-83c2-707a579cf76e",
   "metadata": {},
   "outputs": [
    {
     "data": {
      "text/plain": [
       "0.92"
      ]
     },
     "execution_count": 87,
     "metadata": {},
     "output_type": "execute_result"
    }
   ],
   "source": [
    "sklearn.metrics.accuracy_score( outcomeTest, predTreeTest ).round(3)"
   ]
  },
  {
   "cell_type": "code",
   "execution_count": 88,
   "id": "70f0b3df-75ef-44bd-8e4a-0b0ca09336d4",
   "metadata": {},
   "outputs": [
    {
     "data": {
      "text/plain": [
       "0.92"
      ]
     },
     "execution_count": 88,
     "metadata": {},
     "output_type": "execute_result"
    }
   ],
   "source": [
    "sklearn.metrics.accuracy_score( outcomeTest, predForestTest ).round(3)"
   ]
  },
  {
   "cell_type": "code",
   "execution_count": 89,
   "id": "e29b64fb-ab2b-451e-8ab1-b7e502e4d358",
   "metadata": {},
   "outputs": [
    {
     "data": {
      "text/plain": [
       "0.74"
      ]
     },
     "execution_count": 89,
     "metadata": {},
     "output_type": "execute_result"
    }
   ],
   "source": [
    "sklearn.metrics.accuracy_score( outcomeTest, predNeuralTest ).round(3)"
   ]
  },
  {
   "cell_type": "code",
   "execution_count": 19,
   "id": "ff847184-f6b0-4708-9aad-9564a3670e71",
   "metadata": {
    "tags": []
   },
   "outputs": [
    {
     "data": {
      "text/plain": [
       "0.8"
      ]
     },
     "execution_count": 19,
     "metadata": {},
     "output_type": "execute_result"
    }
   ],
   "source": [
    "sklearn.metrics.accuracy_score( outcomeTest, predLogTest ).round(3)"
   ]
  },
  {
   "cell_type": "code",
   "execution_count": 26,
   "id": "1a18fcc9-0a4d-4c07-9d70-94937b751540",
   "metadata": {},
   "outputs": [
    {
     "data": {
      "text/plain": [
       "0.9"
      ]
     },
     "execution_count": 26,
     "metadata": {},
     "output_type": "execute_result"
    }
   ],
   "source": [
    "sklearn.metrics.accuracy_score( outcomeTest, predNBTest )"
   ]
  },
  {
   "cell_type": "code",
   "execution_count": 33,
   "id": "e3ffe81b-b3cd-4367-9a39-7fdc068ef1b4",
   "metadata": {},
   "outputs": [
    {
     "data": {
      "text/plain": [
       "0.8"
      ]
     },
     "execution_count": 33,
     "metadata": {},
     "output_type": "execute_result"
    }
   ],
   "source": [
    "sklearn.metrics.accuracy_score( outcomeTest, predSVMTest )"
   ]
  }
 ],
 "metadata": {
  "kernelspec": {
   "display_name": "Python 3 (ipykernel)",
   "language": "python",
   "name": "python3"
  },
  "language_info": {
   "codemirror_mode": {
    "name": "ipython",
    "version": 3
   },
   "file_extension": ".py",
   "mimetype": "text/x-python",
   "name": "python",
   "nbconvert_exporter": "python",
   "pygments_lexer": "ipython3",
   "version": "3.9.5"
  }
 },
 "nbformat": 4,
 "nbformat_minor": 5
}
