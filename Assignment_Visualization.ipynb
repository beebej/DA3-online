{
 "cells": [
  {
   "cell_type": "code",
   "execution_count": null,
   "id": "cf28da6b-300e-45fe-9f86-0412372d8b57",
   "metadata": {},
   "outputs": [],
   "source": [
    "#Run the following code to print multiple outputs from a cell\n",
    "get_ipython().ast_node_interactivity = 'all'"
   ]
  },
  {
   "cell_type": "markdown",
   "id": "cc893957-2b69-4b76-86c8-46feca8b3ba8",
   "metadata": {},
   "source": [
    "# Assignment 4: Visualization\n",
    "\n",
    "In this assignment, you will get practice using Python to create some explanatory visualizations. You will use the updated version of the bike rental file, *dataSeoulBike_new.csv*, which includes the new and transformed variables you created in the feature engineering assignment.\n",
    "\n",
    "This dataset has the following columns:\n",
    "* 'Date': The date that the row of data is from.\n",
    "* 'RentedBikeCount': The total number of bike rentals for that day.\n",
    "* 'Forecast': The manager's rough, categorical forecast as to how much rental activity the day would have. 'Gold' is the highest expected rentals; 'Silver' is the second-highest; 'Normal' is all other days.\n",
    "* 'Temperature': The day's temperature (in degrees Celsius).\n",
    "* 'Humidity': The percent humidity\n",
    "* 'WindSpeed': The wind speed in meters per second.\n",
    "* 'RainfallNo0s': The amount of rain (in millimeters) for days on which there was rain.\n",
    "* 'Season': The season in which the date falls (Fall, Winter, Spring, or Summer)\n",
    "* 'RainfallCorrected': The amount of rain (in millimeters) for all days (including those with no rain.\n",
    "* 'Weekday': The day of the week\n",
    "* 'HighBikeCount': `True`=days on which the rented bike count was over the median, `False` otherwise\n",
    "* 'RainfallTranform': logged values of the 'RainfallNo0s' column"
   ]
  },
  {
   "cell_type": "markdown",
   "id": "1802a99a-ab9b-4b53-aa6e-042592343e28",
   "metadata": {},
   "source": [
    "Use the following code cell to read in the data set, *dataSeoulBike_new.csv* and to import the `plotnine` package:"
   ]
  },
  {
   "cell_type": "code",
   "execution_count": null,
   "id": "acd37056-8e4a-4ee3-9f3c-031d649b332f",
   "metadata": {},
   "outputs": [],
   "source": [
    "# Enter your code here\n",
    "\n"
   ]
  },
  {
   "cell_type": "markdown",
   "id": "1b388175-02f3-434e-ab7e-c2b3602b82bc",
   "metadata": {},
   "source": [
    "#### Q1. Using `plotnine`, create a scatter plot with the following elements:\n",
    "\n",
    "* \"Temperature\" on the x-axis and \"RentedBikeCount\" on the y-axis\n",
    "* Use an alpha of 0.2\n",
    "* Color the data points by \"Forecast\"\n",
    "* Add linear regression lines\n",
    "* Add this title: \"Relationship of Temperature to Bike Rentals\"\n",
    "* Label the x-axis: \"Temperature (in degrees Celsius)\"\n",
    "* Label the y-axis: \"# of Bikes Rented\"\n",
    "* Add this text annotation: \"Bike rentals increase with temperature\"\n",
    "     - position the text so that it is left-aligned at -20 degrees celsius and 3000 bikes rented -- to left-align text, add `ha=\"left\"` to your `annotate()` layer\n",
    "     - use blue text for the annotation\n",
    "\n",
    "No explanation needed for this question"
   ]
  },
  {
   "cell_type": "code",
   "execution_count": null,
   "id": "8e9bef35-0b86-4680-b025-2fbc86cec0db",
   "metadata": {},
   "outputs": [],
   "source": [
    "# Enter your code here\n",
    "\n"
   ]
  },
  {
   "cell_type": "markdown",
   "id": "690a3b68-bcff-4e07-898b-8384f75feaba",
   "metadata": {},
   "source": [
    "#### Q2. Create a boxplot with the following elements:\n",
    "\n",
    "* Displays distribution of \"RentedBikeCount\" horizontally broken out by \"Weekday\"\n",
    "    - Add the following code snippet to get the weekdays to print in the correct order: `+ scale_x_discrete(limits = [\"Sunday\", \"Monday\", \"Tuesday\", \"Wednesday, \"Thursday\", \"Friday\", \"Saturday])`\n",
    "* Add a title: \"Breakdown of Bike Rentals by Weekday\"\n",
    "* The axis with \"RentedBikeCount\" should be labeled: \"# of Rented Bikes\"\n",
    "\n",
    "No explanation needed for this question"
   ]
  },
  {
   "cell_type": "code",
   "execution_count": null,
   "id": "e324fec1-1dce-4000-9b59-9a77650a0108",
   "metadata": {},
   "outputs": [],
   "source": [
    "# Enter your code here\n",
    "\n"
   ]
  },
  {
   "cell_type": "markdown",
   "id": "f4a32865-39b6-4a60-96ad-49d1b78dfd89",
   "metadata": {},
   "source": [
    "#### Q3. Create a stacked bar chart with the following elements:\n",
    "\n",
    "* There should be 4 bars for each season, segmented by \"HighBikeCount\"\n",
    "* The bars should all extend to 100%\n",
    "* The seasons should display in this order: Winter, Spring, Summer, Fall\n",
    "    - Similar to Q2 above, you can specify the order of seasons by adding: `+ scale_x_discrete(limits = [\"Winter\", \"Spring\", \"Summer\", \"Fall\"])`\n",
    "* Add this title: \"High Bike Count Days by Season\"\n",
    "* The legend should be labeled: \"Bike Rentals\"\n",
    "     - The legend should display \"Less than Median\" for `False` and \"Greater than Median\" for `True`\n",
    "* The y-axis should be labeled: \"% of High Bike Count Days\"\n",
    "     - The y-axis labels should be \"0%\", \"25%\", \"50%\", \"75%\", and \"100%\"\n",
    "* There should be no x-axis label\n",
    "\n",
    "No explanation needed for this question"
   ]
  },
  {
   "cell_type": "code",
   "execution_count": null,
   "id": "7dcaa084-5043-4856-b1ba-a241fcedadf0",
   "metadata": {},
   "outputs": [],
   "source": [
    "# Enter your code here\n",
    "\n"
   ]
  }
 ],
 "metadata": {
  "kernelspec": {
   "display_name": "Python 3 (ipykernel)",
   "language": "python",
   "name": "python3"
  },
  "language_info": {
   "codemirror_mode": {
    "name": "ipython",
    "version": 3
   },
   "file_extension": ".py",
   "mimetype": "text/x-python",
   "name": "python",
   "nbconvert_exporter": "python",
   "pygments_lexer": "ipython3",
   "version": "3.10.10"
  }
 },
 "nbformat": 4,
 "nbformat_minor": 5
}
