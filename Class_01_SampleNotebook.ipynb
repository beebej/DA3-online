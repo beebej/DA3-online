{
 "cells": [
  {
   "cell_type": "markdown",
   "id": "44c16506-4d05-4591-98ab-b21b4799314f",
   "metadata": {},
   "source": [
    "# Getting to know Jupyter Notebooks"
   ]
  },
  {
   "cell_type": "markdown",
   "id": "29db4ae8-0ab4-44c3-9607-7bdeeb3ab191",
   "metadata": {},
   "source": [
    "Jupyter Notebooks help you do data analysis that others can read and replicate."
   ]
  },
  {
   "cell_type": "markdown",
   "id": "515b1ed4-91eb-4892-ae8f-564e6e582a26",
   "metadata": {},
   "source": [
    "## Simple Math"
   ]
  },
  {
   "cell_type": "code",
   "execution_count": 1,
   "id": "0039fa8b-7438-481e-b709-d8a76bf7a0ef",
   "metadata": {},
   "outputs": [
    {
     "data": {
      "text/plain": [
       "28"
      ]
     },
     "execution_count": 1,
     "metadata": {},
     "output_type": "execute_result"
    }
   ],
   "source": [
    "7 + 21"
   ]
  },
  {
   "cell_type": "markdown",
   "id": "8b73c375-6ba9-4736-9f85-0c3d4cc49fad",
   "metadata": {},
   "source": [
    "## Simple Functions"
   ]
  },
  {
   "cell_type": "code",
   "execution_count": 2,
   "id": "3ca732af-2d22-45c0-9e63-574646ca7a12",
   "metadata": {},
   "outputs": [
    {
     "name": "stdout",
     "output_type": "stream",
     "text": [
      "Sam!\n"
     ]
    }
   ],
   "source": [
    "print( \"Sam!\" )"
   ]
  },
  {
   "cell_type": "markdown",
   "id": "3b7c6d5c-99ed-4a43-9653-8e01cbb9ab1c",
   "metadata": {},
   "source": [
    "## Variables"
   ]
  },
  {
   "cell_type": "markdown",
   "id": "24b75ff1-009d-46d2-91b2-004bcbf6d5fe",
   "metadata": {},
   "source": [
    "#### Assignment statements\n",
    "variable_name = [value of variable]\n",
    "\n",
    "You create a variable by assigning a value to it."
   ]
  },
  {
   "cell_type": "code",
   "execution_count": 3,
   "id": "1900b6b8-03cf-40df-a654-62d1f8857a41",
   "metadata": {},
   "outputs": [
    {
     "data": {
      "text/plain": [
       "5"
      ]
     },
     "execution_count": 3,
     "metadata": {},
     "output_type": "execute_result"
    }
   ],
   "source": [
    "y = 5\n",
    "y"
   ]
  },
  {
   "cell_type": "markdown",
   "id": "861a43b5-ae09-48e8-805c-d3289e78d1f9",
   "metadata": {},
   "source": [
    "Case matters"
   ]
  },
  {
   "cell_type": "code",
   "execution_count": 4,
   "id": "601d14cc-7785-40dc-bc23-db6574ad7551",
   "metadata": {},
   "outputs": [
    {
     "ename": "NameError",
     "evalue": "name 'Y' is not defined",
     "output_type": "error",
     "traceback": [
      "\u001b[0;31m---------------------------------------------------------------------------\u001b[0m",
      "\u001b[0;31mNameError\u001b[0m                                 Traceback (most recent call last)",
      "\u001b[0;32m<ipython-input-4-c881daf1af41>\u001b[0m in \u001b[0;36m<module>\u001b[0;34m\u001b[0m\n\u001b[0;32m----> 1\u001b[0;31m \u001b[0mY\u001b[0m\u001b[0;34m\u001b[0m\u001b[0;34m\u001b[0m\u001b[0m\n\u001b[0m",
      "\u001b[0;31mNameError\u001b[0m: name 'Y' is not defined"
     ]
    }
   ],
   "source": [
    "Y"
   ]
  },
  {
   "cell_type": "markdown",
   "id": "d68f089c-6b22-4b38-95b2-2582339c4439",
   "metadata": {},
   "source": [
    "You can assign the result of functions to variables."
   ]
  },
  {
   "cell_type": "code",
   "execution_count": 6,
   "id": "fb7dfa84-a3ce-4be8-8f65-39695ed5c389",
   "metadata": {},
   "outputs": [
    {
     "data": {
      "text/plain": [
       "3"
      ]
     },
     "execution_count": 6,
     "metadata": {},
     "output_type": "execute_result"
    }
   ],
   "source": [
    "# Python will ignore any line of text in a code cell that starts with a hashtag.\n",
    "z1 = round( 3.14159 )\n",
    "z1"
   ]
  },
  {
   "cell_type": "code",
   "execution_count": null,
   "id": "88642fa3-acbd-40ee-911c-41455a1c32aa",
   "metadata": {
    "tags": []
   },
   "outputs": [],
   "source": []
  }
 ],
 "metadata": {
  "kernelspec": {
   "display_name": "Python 3",
   "language": "python",
   "name": "python3"
  },
  "language_info": {
   "codemirror_mode": {
    "name": "ipython",
    "version": 3
   },
   "file_extension": ".py",
   "mimetype": "text/x-python",
   "name": "python",
   "nbconvert_exporter": "python",
   "pygments_lexer": "ipython3",
   "version": "3.9.5"
  }
 },
 "nbformat": 4,
 "nbformat_minor": 5
}
