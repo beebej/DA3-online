{
 "cells": [
  {
   "cell_type": "code",
   "execution_count": null,
   "id": "cf28da6b-300e-45fe-9f86-0412372d8b57",
   "metadata": {},
   "outputs": [],
   "source": [
    "#Run the following code to print multiple outputs from a cell\n",
    "get_ipython().ast_node_interactivity = 'all'"
   ]
  },
  {
   "cell_type": "markdown",
   "id": "cc893957-2b69-4b76-86c8-46feca8b3ba8",
   "metadata": {},
   "source": [
    "# Assignment 2: Modeling\n",
    "\n",
    "In this assignment, you will get practice using Python to clean the data set, *dataSeoulBike.csv*, and build some inferential and predictive models.\n",
    "\n",
    "You have a dataset of daily rentals from a bike rental service in Seoul, Korea. The dataset has the following columns:\n",
    "* 'Date': The date that the row of data is from.\n",
    "* 'RentedBikeCount': The total number of bike rentals for that day.\n",
    "* 'Forecast': The manager's rough, categorical forecast as to how much rental activity the day would have. 'Gold' is the highest expected rentals; 'Silver' is the second-highest; 'Normal' is all other days.\n",
    "* 'Temperature': The day's temperature (in degrees Celsius).\n",
    "* 'Humidity': The percent humidity\n",
    "* 'WindSpeed': The wind speed in meters per second.\n",
    "* 'Rainfall': The amount of rain (in millimeters).\n",
    "* 'Season': The season in which the date falls (Fall, Winter, Spring, or Summer)"
   ]
  },
  {
   "cell_type": "markdown",
   "id": "1802a99a-ab9b-4b53-aa6e-042592343e28",
   "metadata": {},
   "source": [
    "Use the following code cell to read in the data set, *dataSeoulBike.csv*:"
   ]
  },
  {
   "cell_type": "code",
   "execution_count": null,
   "id": "acd37056-8e4a-4ee3-9f3c-031d649b332f",
   "metadata": {},
   "outputs": [],
   "source": [
    "# Enter your code here\n"
   ]
  },
  {
   "cell_type": "markdown",
   "id": "781066f4-b8ef-4ab9-ac2d-b610a9fdbfea",
   "metadata": {},
   "source": [
    "## Cleaning the Data Set"
   ]
  },
  {
   "cell_type": "markdown",
   "id": "76bced4c-b117-4e20-a9b3-2dc55afb03aa",
   "metadata": {},
   "source": [
    "#### Q1. Create a new column called `RainfallCorrected` that is a copy of the `Rainfall` column. You can use `.copy()` to do this (e.g., `df[\"columnname\"].copy()`).\n",
    "\n",
    "No explanation needed for this question"
   ]
  },
  {
   "cell_type": "code",
   "execution_count": null,
   "id": "18b76310-6927-4ee3-9f8c-75dc1843fff2",
   "metadata": {},
   "outputs": [],
   "source": [
    "# Enter your code here\n"
   ]
  },
  {
   "cell_type": "markdown",
   "id": "716fe042-c574-46d9-9d31-00b58ddeeb94",
   "metadata": {},
   "source": [
    "#### Q2. Workers failed to record the lack of rain. Update `RainfallCorrected` to replace any missing values with a 0.\n",
    "\n",
    "#### What is the mean of the `RainfallCorrected` variable after this change (round to 3 decimals)?\n",
    "\n",
    "*[Type your answer here]*"
   ]
  },
  {
   "cell_type": "code",
   "execution_count": null,
   "id": "2e8ffe4c-def7-44f1-9739-9601a217a5d1",
   "metadata": {},
   "outputs": [],
   "source": [
    "# Enter your code here\n"
   ]
  },
  {
   "cell_type": "markdown",
   "id": "d51fcabe-66f9-4f09-bfa8-6ef266e6044f",
   "metadata": {},
   "source": [
    "#### Q3. Rainfall of more than 13 mm is not valid and is likely a data entry error. Update `RainfallCorrected` to change any values above 13 mm to NA's. \n",
    "\n",
    "#### Now, what is the mean of `RainfallCorrected` (round to 3 decimals)?\n",
    "\n",
    "*[Type your answer here]*"
   ]
  },
  {
   "cell_type": "code",
   "execution_count": null,
   "id": "b5398146-5096-4d93-b6bd-5814fc92e85d",
   "metadata": {},
   "outputs": [],
   "source": [
    "# Enter your code here\n"
   ]
  },
  {
   "cell_type": "markdown",
   "id": "3dbf6ec0-f9b7-4276-ab74-e2b6e82ffd1e",
   "metadata": {},
   "source": [
    "#### Q4. Now rename the original `Rainfall` column to `RainfallNo0s`.\n",
    "\n",
    "No explanation needed for this question"
   ]
  },
  {
   "cell_type": "code",
   "execution_count": null,
   "id": "6251cb5b-89d0-45f8-9a26-2aced7a6f5bd",
   "metadata": {},
   "outputs": [],
   "source": [
    "# Enter your code here\n"
   ]
  },
  {
   "cell_type": "markdown",
   "id": "d3336756-930f-421f-8ebe-a7d8f5cfd3e2",
   "metadata": {},
   "source": [
    "#### Q5. All the Temperature readings before 2018-02-17 are 11 degrees too high in the data; correct these incorrect Temperature values.\n",
    "\n",
    "#### What is the mean of `Temperature` after making this change (round to 3 decimals)?\n",
    "\n",
    "*[Type your answer here]*"
   ]
  },
  {
   "cell_type": "code",
   "execution_count": null,
   "id": "24bb4291-dd7f-4109-9743-0ae5b46b6b3c",
   "metadata": {},
   "outputs": [],
   "source": [
    "# Enter your code here\n"
   ]
  },
  {
   "cell_type": "markdown",
   "id": "7cc263ba-3ae8-4af6-9f37-ec80db7b4668",
   "metadata": {},
   "source": [
    "## Adding New Features"
   ]
  },
  {
   "cell_type": "markdown",
   "id": "b6cf61a0-a827-45f2-8dee-d9fb4c58e217",
   "metadata": {},
   "source": [
    "#### Q6. Add a variable called `Weekday` that provides the weekday name for each row (e.g., Sunday, Monday, Tuesday, etc.) based on the `Date`.\n",
    "\n",
    "#### After making this change, how many rows in the data set are Tuesdays?\n",
    "\n",
    "*[Type your answer here]*"
   ]
  },
  {
   "cell_type": "code",
   "execution_count": null,
   "id": "933485dc-a8b6-40da-9673-73998049bdb7",
   "metadata": {},
   "outputs": [],
   "source": [
    "# Enter your code here\n"
   ]
  },
  {
   "cell_type": "markdown",
   "id": "e6fe35e3-4844-47a8-9c9e-d2bbf9a51cb3",
   "metadata": {},
   "source": [
    "#### Q7. Create a variable called `HighBikeCount` that is `True` if the `RentedBikeCount` is greater than the median and `False` otherwise.\n",
    "\n",
    "No explanation needed for this question"
   ]
  },
  {
   "cell_type": "code",
   "execution_count": null,
   "id": "9bcdddbd-7394-4f3e-9fb2-53ecd687eaaf",
   "metadata": {},
   "outputs": [],
   "source": [
    "# Enter your code here\n"
   ]
  },
  {
   "cell_type": "markdown",
   "id": "83864e65-8d4e-46e7-af4a-ac2ca6553982",
   "metadata": {},
   "source": [
    "## Inferential Modeling"
   ]
  },
  {
   "cell_type": "markdown",
   "id": "1b388175-02f3-434e-ab7e-c2b3602b82bc",
   "metadata": {},
   "source": [
    "#### Q8. Build an OLS model with `RentedBikeCount` as your dependent variable and `Temperature`, `Humidity`, `WindSpeed`, `RainfallCorrected`, and `Weekday` as your independent variables. \n",
    "\n",
    "No explanation needed for this question"
   ]
  },
  {
   "cell_type": "code",
   "execution_count": null,
   "id": "ce719a88-5b00-42e9-983b-f8ca567bf1a8",
   "metadata": {},
   "outputs": [],
   "source": [
    "# Enter your code here\n"
   ]
  },
  {
   "cell_type": "markdown",
   "id": "690a3b68-bcff-4e07-898b-8384f75feaba",
   "metadata": {},
   "source": [
    "#### Q9. Based on your OLS model, how strong is the model? Be sure to quantify the strength of the model, rather than just state that the model is \"strong\" or \"weak\".\n",
    "\n",
    "*[Type your answer here]*"
   ]
  },
  {
   "cell_type": "markdown",
   "id": "b3c0747c-c0e8-4ff4-9c0d-b7135ce02e31",
   "metadata": {},
   "source": [
    "#### Q10. Based on your OLS model, which day of the week is predicted to have the most bike rentals?\n",
    "\n",
    "*[Type your answer here]*"
   ]
  },
  {
   "cell_type": "markdown",
   "id": "90daa562-6a98-45b1-9763-d0dcf1b34743",
   "metadata": {},
   "source": [
    "#### Q11. Based on your OLS model, interpret the coefficient for `Temperature` using non-technical language.\n",
    "\n",
    "*[Type your answer here]*"
   ]
  },
  {
   "cell_type": "markdown",
   "id": "38a35271-524d-4b4c-b1b0-ffcd20f93cb5",
   "metadata": {},
   "source": [
    "## Predictive Modeling"
   ]
  },
  {
   "cell_type": "markdown",
   "id": "3ec5f692-0571-4b38-ba6e-4e628da3cd16",
   "metadata": {},
   "source": [
    "#### Q12. You will be creating a model to predict whether it was a HighBikeCount day. Create an `outcome` variable for `HighBikeCount` and create a `features` variable that includes `Temperature`, `Humidity`, `WindSpeed`, `Weekday`, and `Season`. Be sure to convert the `Weekday` and `Season` variables into a form that the models can interpret. \n",
    "\n",
    "No explanation needed for this question"
   ]
  },
  {
   "cell_type": "code",
   "execution_count": null,
   "id": "20f177c8-7184-4ca9-805e-6fe070d8249d",
   "metadata": {},
   "outputs": [],
   "source": [
    "# Enter your code here\n"
   ]
  },
  {
   "cell_type": "markdown",
   "id": "242c04b1-fe10-4203-b37b-ae65eea212df",
   "metadata": {},
   "source": [
    "#### Q13. Now partition your `outcome` and `features` variables into training and test data sets, with 70% training and 30% test. Set the `random_state` to a value of 42.\n",
    "\n",
    "No explanation needed for this question"
   ]
  },
  {
   "cell_type": "code",
   "execution_count": null,
   "id": "e2886cc3-d4a6-4eeb-b66f-a9fcbf9adbd8",
   "metadata": {},
   "outputs": [],
   "source": [
    "# Enter your code here\n"
   ]
  },
  {
   "cell_type": "markdown",
   "id": "7d8f108d-a297-4da7-8513-c484c103291b",
   "metadata": {},
   "source": [
    "#### Q14. Build a Random Forest model to predict your `outcome` variable from the `features`. (Again, set the `random_state` to 42.) Overall, how accurate is the model at predicting ***NEW DATA***? Be sure to quantify your answer.\n",
    "\n",
    "*[Type your answer here]*"
   ]
  },
  {
   "cell_type": "code",
   "execution_count": null,
   "id": "acc4aa49-8e85-49d6-bdce-43ff6caafcf2",
   "metadata": {},
   "outputs": [],
   "source": [
    "# Enter your code here\n"
   ]
  }
 ],
 "metadata": {
  "kernelspec": {
   "display_name": "Python 3 (ipykernel)",
   "language": "python",
   "name": "python3"
  },
  "language_info": {
   "codemirror_mode": {
    "name": "ipython",
    "version": 3
   },
   "file_extension": ".py",
   "mimetype": "text/x-python",
   "name": "python",
   "nbconvert_exporter": "python",
   "pygments_lexer": "ipython3",
   "version": "3.12.6"
  }
 },
 "nbformat": 4,
 "nbformat_minor": 5
}
