{
 "cells": [
  {
   "cell_type": "code",
   "execution_count": null,
   "id": "cf28da6b-300e-45fe-9f86-0412372d8b57",
   "metadata": {},
   "outputs": [],
   "source": [
    "#Run the following code to print multiple outputs from a cell\n",
    "get_ipython().ast_node_interactivity = 'all'"
   ]
  },
  {
   "cell_type": "markdown",
   "id": "cc893957-2b69-4b76-86c8-46feca8b3ba8",
   "metadata": {},
   "source": [
    "# Assignment 3: Modeling\n",
    "\n",
    "In this assignment, you will get practice using Python to build some inferential and predictive models. You will use an updated version of the bike rental file, *dataSeoulBike_new.csv* -- this file includes the new and transformed variables you created in the previous assignment.\n",
    "\n",
    "This new dataset has the following columns:\n",
    "* 'Date': The date that the row of data is from.\n",
    "* 'RentedBikeCount': The total number of bike rentals for that day.\n",
    "* 'Forecast': The manager's rough, categorical forecast as to how much rental activity the day would have. 'Gold' is the highest expected rentals; 'Silver' is the second-highest; 'Normal' is all other days.\n",
    "* 'Temperature': The day's temperature (in degrees Celsius).\n",
    "* 'Humidity': The percent humidity\n",
    "* 'WindSpeed': The wind speed in meters per second.\n",
    "* 'RainfallNo0s': The amount of rain (in millimeters) for days on which there was rain.\n",
    "* 'Season': The season in which the date falls (Fall, Winter, Spring, or Summer)\n",
    "* 'RainfallCorrected': The amount of rain (in millimeters) for all days (including those with no rain.\n",
    "* 'Weekday': The day of the week\n",
    "* 'HighBikeCount': `True`=days on which the rented bike count was over the median, `False` otherwise\n",
    "* 'RainfallTranform': logged values of the 'RainfallNo0s' column"
   ]
  },
  {
   "cell_type": "markdown",
   "id": "1802a99a-ab9b-4b53-aa6e-042592343e28",
   "metadata": {},
   "source": [
    "Use the following code cell to read in the data set, *dataSeoulBike_new.csv*:"
   ]
  },
  {
   "cell_type": "code",
   "execution_count": null,
   "id": "acd37056-8e4a-4ee3-9f3c-031d649b332f",
   "metadata": {},
   "outputs": [],
   "source": [
    "# Enter your code here\n"
   ]
  },
  {
   "cell_type": "markdown",
   "id": "83864e65-8d4e-46e7-af4a-ac2ca6553982",
   "metadata": {},
   "source": [
    "## Inferential Modeling"
   ]
  },
  {
   "cell_type": "markdown",
   "id": "1b388175-02f3-434e-ab7e-c2b3602b82bc",
   "metadata": {},
   "source": [
    "#### Q1. Build an OLS model with `RentedBikeCount` as your dependent variable and `Temperature`, `Humidity`, `WindSpeed`, `RainfallCorrected`, and `Weekday` as your independent variables. \n",
    "\n",
    "No explanation needed for this question"
   ]
  },
  {
   "cell_type": "code",
   "execution_count": null,
   "id": "ce719a88-5b00-42e9-983b-f8ca567bf1a8",
   "metadata": {},
   "outputs": [],
   "source": [
    "# Enter your code here\n"
   ]
  },
  {
   "cell_type": "markdown",
   "id": "690a3b68-bcff-4e07-898b-8384f75feaba",
   "metadata": {},
   "source": [
    "#### Q2. Based on your OLS model, how strong is the model? Be sure to quantify the strength of the model, rather than just state that the model is \"strong\" or \"weak\".\n",
    "\n",
    "*[Type your answer here]*"
   ]
  },
  {
   "cell_type": "markdown",
   "id": "f4a32865-39b6-4a60-96ad-49d1b78dfd89",
   "metadata": {},
   "source": [
    "#### Q3. Based on your OLS model, which variable(s) is/are ***not*** statistically significant (at a 0.05 level of significance)?\n",
    "\n",
    "*[Type your answer here]*"
   ]
  },
  {
   "cell_type": "markdown",
   "id": "b3c0747c-c0e8-4ff4-9c0d-b7135ce02e31",
   "metadata": {},
   "source": [
    "#### Q4. Based on your OLS model, which day of the week is predicted to have the most bike rentals?\n",
    "\n",
    "*[Type your answer here]*"
   ]
  },
  {
   "cell_type": "markdown",
   "id": "90daa562-6a98-45b1-9763-d0dcf1b34743",
   "metadata": {},
   "source": [
    "#### Q5. Based on your OLS model, interpret the coefficient for `Temperature` using non-technical language.\n",
    "\n",
    "*[Type your answer here]*"
   ]
  },
  {
   "cell_type": "markdown",
   "id": "2a8aa162-2b3d-44d1-a31b-916769948a66",
   "metadata": {},
   "source": [
    "#### Q6. Now run a poisson regression using the same dependent and independent variables as in Q1. Interpret the marginal effects for the `Temperature` variable and explain why this might be a better model than the OLS model.\n",
    "\n",
    "*[Type your answer here]*"
   ]
  },
  {
   "cell_type": "code",
   "execution_count": null,
   "id": "98fb0f19-7a13-41fe-9db7-65208b6c8e86",
   "metadata": {},
   "outputs": [],
   "source": [
    "# Enter your code here\n"
   ]
  },
  {
   "cell_type": "markdown",
   "id": "38a35271-524d-4b4c-b1b0-ffcd20f93cb5",
   "metadata": {},
   "source": [
    "## Predictive Modeling"
   ]
  },
  {
   "cell_type": "markdown",
   "id": "3ec5f692-0571-4b38-ba6e-4e628da3cd16",
   "metadata": {},
   "source": [
    "#### Q7. You will be creating a model to predict whether it was a HighBikeCount day. Create an `outcome` variable for `HighBikeCount` and create a `features` variable that includes `Temperature`, `Humidity`, `WindSpeed`, `Weekday`, and `Season`. Be sure to convert the `Weekday` and `Season` variables into a form that the models can interpret. \n",
    "\n",
    "No explanation needed for this question"
   ]
  },
  {
   "cell_type": "code",
   "execution_count": null,
   "id": "20f177c8-7184-4ca9-805e-6fe070d8249d",
   "metadata": {},
   "outputs": [],
   "source": [
    "# Enter your code here\n"
   ]
  },
  {
   "cell_type": "markdown",
   "id": "242c04b1-fe10-4203-b37b-ae65eea212df",
   "metadata": {},
   "source": [
    "#### Q8. Now partition your `outcome` and `features` variables into training and test data sets, with 70% training and 30% test. Set the `random_state` to a value of 42.\n",
    "\n",
    "No explanation needed for this question"
   ]
  },
  {
   "cell_type": "code",
   "execution_count": null,
   "id": "e2886cc3-d4a6-4eeb-b66f-a9fcbf9adbd8",
   "metadata": {},
   "outputs": [],
   "source": [
    "# Enter your code here\n"
   ]
  },
  {
   "cell_type": "markdown",
   "id": "7d8f108d-a297-4da7-8513-c484c103291b",
   "metadata": {},
   "source": [
    "#### Q9. Build a Random Forest model to predict your `outcome` variable from the `features`. (Again, set the `random_state` to 42.) Overall, how strong is the model? Be sure to quantify your answer.\n",
    "\n",
    "*[Type your answer here]*"
   ]
  },
  {
   "cell_type": "code",
   "execution_count": null,
   "id": "acc4aa49-8e85-49d6-bdce-43ff6caafcf2",
   "metadata": {},
   "outputs": [],
   "source": [
    "# Enter your code here\n"
   ]
  },
  {
   "cell_type": "markdown",
   "id": "ef19320d-565c-4755-8083-55ac429143e6",
   "metadata": {},
   "source": [
    "#### Q10. Now build a Support Vector Machine model using the same `outcome` variable but use normalized `features` for this model. I've provided code below to normalize your features. (Use a `random_state` of 42.) Why might you prefer this model vs. the Random Forest model?\n",
    "\n",
    "*[type your response here]*"
   ]
  },
  {
   "cell_type": "code",
   "execution_count": null,
   "id": "5c31e690-1333-4bc9-bf3f-da2c29cb7712",
   "metadata": {},
   "outputs": [],
   "source": [
    "# Run this code to normalize your features\n",
    "from sklearn.preprocessing import MinMaxScaler\n",
    "scaler = MinMaxScaler()\n",
    "featuresTrain_norm = scaler.fit_transform(featuresTrain)\n",
    "featuresTest_norm = scaler.transform(featuresTest)"
   ]
  },
  {
   "cell_type": "code",
   "execution_count": null,
   "id": "bcad6ccc-4e55-48fc-916d-fb2d896417d0",
   "metadata": {},
   "outputs": [],
   "source": [
    "# Enter your code here\n"
   ]
  }
 ],
 "metadata": {
  "kernelspec": {
   "display_name": "Python 3 (ipykernel)",
   "language": "python",
   "name": "python3"
  },
  "language_info": {
   "codemirror_mode": {
    "name": "ipython",
    "version": 3
   },
   "file_extension": ".py",
   "mimetype": "text/x-python",
   "name": "python",
   "nbconvert_exporter": "python",
   "pygments_lexer": "ipython3",
   "version": "3.10.10"
  }
 },
 "nbformat": 4,
 "nbformat_minor": 5
}
