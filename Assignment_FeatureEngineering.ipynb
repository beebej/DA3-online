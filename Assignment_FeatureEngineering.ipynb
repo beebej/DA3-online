{
 "cells": [
  {
   "cell_type": "code",
   "execution_count": null,
   "id": "cf28da6b-300e-45fe-9f86-0412372d8b57",
   "metadata": {},
   "outputs": [],
   "source": [
    "#Run the following code to print multiple outputs from a cell\n",
    "get_ipython().ast_node_interactivity = 'all'"
   ]
  },
  {
   "cell_type": "markdown",
   "id": "cc893957-2b69-4b76-86c8-46feca8b3ba8",
   "metadata": {},
   "source": [
    "# Assignment 2: Feature Engineering\n",
    "\n",
    "In this assignment, you will get practice using Python to clean the data set, *dataSeoulBike.csv*, and to create new features.\n",
    "\n",
    "You have a dataset of daily rentals from a bike rental service in Seoul, Korea. The dataset has the following columns:\n",
    "* 'Date': The date that the row of data is from.\n",
    "* 'RentedBikeCount': The total number of bike rentals for that day.\n",
    "* 'Forecast': The manager's rough, categorical forecast as to how much rental activity the day would have. 'Gold' is the highest expected rentals; 'Silver' is the second-highest; 'Normal' is all other days.\n",
    "* 'Temperature': The day's temperature (in degrees Celsius).\n",
    "* 'Humidity': The percent humidity\n",
    "* 'WindSpeed': The wind speed in meters per second.\n",
    "* 'Rainfall': The amount of rain (in millimeters).\n",
    "* 'Season': The season in which the date falls (Fall, Winter, Spring, or Summer)"
   ]
  },
  {
   "cell_type": "markdown",
   "id": "1802a99a-ab9b-4b53-aa6e-042592343e28",
   "metadata": {},
   "source": [
    "Use the following code cell to read in the data set:"
   ]
  },
  {
   "cell_type": "code",
   "execution_count": null,
   "id": "acd37056-8e4a-4ee3-9f3c-031d649b332f",
   "metadata": {},
   "outputs": [],
   "source": [
    "# Enter your code here\n"
   ]
  },
  {
   "cell_type": "markdown",
   "id": "83864e65-8d4e-46e7-af4a-ac2ca6553982",
   "metadata": {},
   "source": [
    "## Cleaning the Data Set"
   ]
  },
  {
   "cell_type": "markdown",
   "id": "1b388175-02f3-434e-ab7e-c2b3602b82bc",
   "metadata": {},
   "source": [
    "#### Q1. Create a new column called `RainfallCorrected` that is a copy of the `Rainfall` column. You can use `.copy()` to do this (e.g., `df[\"columnname\"].copy()`).\n",
    "\n",
    "No explanation needed for this question"
   ]
  },
  {
   "cell_type": "code",
   "execution_count": null,
   "id": "ce719a88-5b00-42e9-983b-f8ca567bf1a8",
   "metadata": {},
   "outputs": [],
   "source": [
    "# Enter your code here\n"
   ]
  },
  {
   "cell_type": "markdown",
   "id": "690a3b68-bcff-4e07-898b-8384f75feaba",
   "metadata": {},
   "source": [
    "#### Q2. Workers failed to record the lack of rain. Update `RainfallCorrected` to replace any missing values with a 0.\n",
    "\n",
    "#### What is the mean of the `RainfallCorrected` variable after this change (round to 3 decimals)?\n",
    "\n",
    "*[Type your answer here]*"
   ]
  },
  {
   "cell_type": "code",
   "execution_count": null,
   "id": "e0683c94-5828-455e-b11c-0dd688a056c8",
   "metadata": {},
   "outputs": [],
   "source": [
    "# Enter your code here\n"
   ]
  },
  {
   "cell_type": "markdown",
   "id": "f4a32865-39b6-4a60-96ad-49d1b78dfd89",
   "metadata": {},
   "source": [
    "#### Q3. Rainfall of more than 13 mm is not valid and is likely a data entry error. Update `RainfallCorrected` to change any values above 13 mm to NA's. \n",
    "\n",
    "#### Now, what is the mean of `RainfallCorrected` (round to 3 decimals)?\n",
    "\n",
    "*[Type your answer here]*"
   ]
  },
  {
   "cell_type": "code",
   "execution_count": null,
   "id": "2e4811bc-9144-4c74-ab47-2beb44f83201",
   "metadata": {},
   "outputs": [],
   "source": [
    "# Enter your code here\n"
   ]
  },
  {
   "cell_type": "markdown",
   "id": "b3c0747c-c0e8-4ff4-9c0d-b7135ce02e31",
   "metadata": {},
   "source": [
    "#### Q4. Now rename the original `Rainfall` column to `RainfallNo0s`.\n",
    "\n",
    "No explanation needed for this question"
   ]
  },
  {
   "cell_type": "code",
   "execution_count": null,
   "id": "a4893cc2-53fc-4ad5-a834-2f6e17cf32ff",
   "metadata": {},
   "outputs": [],
   "source": [
    "# Enter your code here\n"
   ]
  },
  {
   "cell_type": "markdown",
   "id": "90daa562-6a98-45b1-9763-d0dcf1b34743",
   "metadata": {},
   "source": [
    "#### Q5. All the Temperature readings before 2018-02-17 are 11 degrees too high in the data; correct these incorrect Temperature values.\n",
    "\n",
    "#### What is the mean of `Temperature` after making this change (round to 3 decimals)?\n",
    "\n",
    "*[Type your answer here]*"
   ]
  },
  {
   "cell_type": "code",
   "execution_count": null,
   "id": "69afc536-a9e8-4739-a980-dcfa56dcd072",
   "metadata": {},
   "outputs": [],
   "source": [
    "# Enter your code here\n"
   ]
  },
  {
   "cell_type": "markdown",
   "id": "bb563fd7-b4f1-451e-a25c-0e94675be041",
   "metadata": {},
   "source": [
    "## Adding New Features"
   ]
  },
  {
   "cell_type": "markdown",
   "id": "2a8aa162-2b3d-44d1-a31b-916769948a66",
   "metadata": {},
   "source": [
    "#### Q6. Add a variable called `Weekday` that provides the weekday name for each row (e.g., Sunday, Monday, Tuesday, etc.) based on the `Date`.\n",
    "\n",
    "#### After making this change, how many rows in the data set are Tuesdays?\n",
    "\n",
    "*[Type your answer here]*"
   ]
  },
  {
   "cell_type": "code",
   "execution_count": null,
   "id": "98fb0f19-7a13-41fe-9db7-65208b6c8e86",
   "metadata": {},
   "outputs": [],
   "source": [
    "# Enter your code here\n"
   ]
  },
  {
   "cell_type": "markdown",
   "id": "3ec5f692-0571-4b38-ba6e-4e628da3cd16",
   "metadata": {},
   "source": [
    "#### Q7. Create a variable called `HighBikeCount` that is `True` if the `RentedBikeCount` is greater than the median and `False` otherwise.\n",
    "\n",
    "No explanation needed for this question"
   ]
  },
  {
   "cell_type": "code",
   "execution_count": null,
   "id": "20f177c8-7184-4ca9-805e-6fe070d8249d",
   "metadata": {},
   "outputs": [],
   "source": [
    "# Enter your code here\n"
   ]
  },
  {
   "cell_type": "markdown",
   "id": "242c04b1-fe10-4203-b37b-ae65eea212df",
   "metadata": {},
   "source": [
    "#### Q8. Now create a stacked bar chart showing `HighBikeCount` on the x-axis split by `Season` as the color variable. The bars in the bar chart should show the proportion of each season, going up to 1.0 (or 100%).\n",
    "\n",
    "#### What does the stacked bar chart tell you about the relationship between bike count and season?\n",
    "\n",
    "*[type your response here]*"
   ]
  },
  {
   "cell_type": "code",
   "execution_count": null,
   "id": "e2886cc3-d4a6-4eeb-b66f-a9fcbf9adbd8",
   "metadata": {},
   "outputs": [],
   "source": [
    "# Enter your code here\n"
   ]
  },
  {
   "cell_type": "markdown",
   "id": "77080b75-e7f7-45b4-80e7-e8eb2fbc0234",
   "metadata": {},
   "source": [
    "## Transforming Features"
   ]
  },
  {
   "cell_type": "markdown",
   "id": "7d8f108d-a297-4da7-8513-c484c103291b",
   "metadata": {},
   "source": [
    "#### Q9. Most of the data for `RainfallCorrected` are 0's, but you want to understand the pattern of bike rentals specifically on days when there WAS rain. Therefore, for this question, we will use `RainfallNo0s`.\n",
    "\n",
    "#### First, correct the data in `RainfallNo0s` to change values over 13 mm to NA's (similar to what you did in Q3 above). \n",
    "\n",
    "#### Then create a histogram of the `RainfallNo0s` column.\n",
    "\n",
    "No explanation needed for this question"
   ]
  },
  {
   "cell_type": "code",
   "execution_count": null,
   "id": "acc4aa49-8e85-49d6-bdce-43ff6caafcf2",
   "metadata": {},
   "outputs": [],
   "source": [
    "# Enter your code here\n"
   ]
  },
  {
   "cell_type": "markdown",
   "id": "11b5fa98-3f6d-4eae-b3fc-bda91973995a",
   "metadata": {},
   "source": [
    "#### Q10. Based on what you see in the histogram for `RainfallNo0s`, transform the column so that the distribution is more symmetric. Call the transformed column `RainfallTransform`. \n",
    "\n",
    "#### Now create a histogram for the `RainfallTransform` column. Why will this column be better suited to a linear regression model?\n",
    "\n",
    "*[type your response here]*"
   ]
  },
  {
   "cell_type": "code",
   "execution_count": null,
   "id": "bcad6ccc-4e55-48fc-916d-fb2d896417d0",
   "metadata": {},
   "outputs": [],
   "source": [
    "# Enter your code here\n"
   ]
  }
 ],
 "metadata": {
  "kernelspec": {
   "display_name": "Python 3 (ipykernel)",
   "language": "python",
   "name": "python3"
  },
  "language_info": {
   "codemirror_mode": {
    "name": "ipython",
    "version": 3
   },
   "file_extension": ".py",
   "mimetype": "text/x-python",
   "name": "python",
   "nbconvert_exporter": "python",
   "pygments_lexer": "ipython3",
   "version": "3.10.10"
  }
 },
 "nbformat": 4,
 "nbformat_minor": 5
}
