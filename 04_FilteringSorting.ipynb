{
 "cells": [
  {
   "cell_type": "code",
   "execution_count": null,
   "id": "f2aba0b3-5f37-4149-9bfc-efbac051653f",
   "metadata": {
    "slideshow": {
     "slide_type": "slide"
    },
    "tags": []
   },
   "outputs": [],
   "source": [
    "#Run the following code to print multiple outputs from a cell\n",
    "get_ipython().ast_node_interactivity = 'all'"
   ]
  },
  {
   "cell_type": "markdown",
   "id": "45384cea-3009-4503-9db1-78c48280a728",
   "metadata": {},
   "source": [
    "# Filtering & Sorting\n",
    "\n",
    "## Import Data\n",
    "Import the file, \"dataUciOnlineRetail.xlsx\", and save it in a variable called `df`. Then, do some initial checks of the data based on what we covered last class. *Note: because it's an excel file, the function you should use is `read_excel()`.*\n",
    "\n",
    "What can you say about the data?"
   ]
  },
  {
   "cell_type": "code",
   "execution_count": null,
   "id": "d36e2bfe-56da-4520-84f6-7efe957670bf",
   "metadata": {},
   "outputs": [],
   "source": [
    "import pandas as pd\n",
    "df = pd.read_excel(\"dataUciOnlineRetail.xlsx\")\n",
    "df"
   ]
  },
  {
   "cell_type": "markdown",
   "id": "89bf112f-1f32-499d-a5fb-925a646a5097",
   "metadata": {},
   "source": [
    "## Data Profiling\n",
    "\n",
    "Take a look at the data types for the variables in the DataFrame and get summary statistics for the quantitative variables. Is there anything you can learn from the summary stats?"
   ]
  },
  {
   "cell_type": "code",
   "execution_count": null,
   "id": "e89d6a4d-d792-4efb-bf63-e63ff0a129f9",
   "metadata": {},
   "outputs": [],
   "source": []
  },
  {
   "cell_type": "markdown",
   "id": "977dfd43-964b-40c6-9aa2-84835cc54545",
   "metadata": {},
   "source": [
    "Are there missing values?"
   ]
  },
  {
   "cell_type": "code",
   "execution_count": null,
   "id": "e84d9d2b-da22-455f-b5b3-2a63979bebff",
   "metadata": {},
   "outputs": [],
   "source": []
  },
  {
   "cell_type": "markdown",
   "id": "e70af759-7e02-4dc8-af68-50ed943d1296",
   "metadata": {},
   "source": [
    "What countries are in the data?"
   ]
  },
  {
   "cell_type": "code",
   "execution_count": null,
   "id": "19b04121-6e36-4047-9177-f42c82ca1978",
   "metadata": {},
   "outputs": [],
   "source": []
  },
  {
   "cell_type": "markdown",
   "id": "6a133586-a583-4898-8a7a-2834976fc484",
   "metadata": {},
   "source": [
    "Create a histogram of Quantity:"
   ]
  },
  {
   "cell_type": "code",
   "execution_count": null,
   "id": "5310e208-3a27-48dc-bc64-15320d592ec5",
   "metadata": {},
   "outputs": [],
   "source": []
  },
  {
   "cell_type": "markdown",
   "id": "b65e0dc0-ddb7-4edd-b4a8-b396e9a43469",
   "metadata": {},
   "source": [
    "Create a histogram of UnitPrice:"
   ]
  },
  {
   "cell_type": "code",
   "execution_count": null,
   "id": "ae041d17-090d-44e1-8b35-8f36a3912656",
   "metadata": {},
   "outputs": [],
   "source": []
  },
  {
   "cell_type": "markdown",
   "id": "7de63144-a051-4cb1-a22f-506e995c13e5",
   "metadata": {},
   "source": [
    "Is there anything odd about the histograms? How useful are they?"
   ]
  },
  {
   "cell_type": "markdown",
   "id": "e0f24216-10e5-4de1-bb05-910ce2a1f7c4",
   "metadata": {},
   "source": [
    "## Selecting a Few Rows\n",
    "\n",
    "Data can overwhelm. Let's look at just a few rows instead of all of them. We'll use `.loc[]` to filter our data set. The general structure of the `.loc[]` command is:\n",
    "```\n",
    "dataFrame.loc[rowCriteria, columnCriteria]\n",
    "```\n",
    "Let's start by looking at the row criteria. One way you can filter is to simply list the rows you want to see as `starting#:ending#`, like this (remember that Python starts numbering at 0):"
   ]
  },
  {
   "cell_type": "code",
   "execution_count": null,
   "id": "f19b7892-bf28-4a03-9bec-800f2d998dd3",
   "metadata": {},
   "outputs": [],
   "source": [
    "df.loc[0:4]"
   ]
  },
  {
   "cell_type": "markdown",
   "id": "3aa10d2a-063c-4180-b61e-950b796b342e",
   "metadata": {},
   "source": [
    "Notice that, if you leave the column criteria empty, you will get all columns.\n",
    "\n",
    "While you can use `.loc[]` to view specific row #'s, we usually want to filter our data based on logical criteria. For example, if I wanted to see only rows with orders from Austria:"
   ]
  },
  {
   "cell_type": "code",
   "execution_count": null,
   "id": "b03261ec-775e-4697-b6c2-45613903af5d",
   "metadata": {},
   "outputs": [],
   "source": [
    "df.loc[df[\"Country\"] == \"Austria\"]"
   ]
  },
  {
   "cell_type": "markdown",
   "id": "41cf1d40-f62d-45d4-9092-c549cf0e98aa",
   "metadata": {},
   "source": [
    "Now, you try...view only the rows where the Quantity is more than 100:"
   ]
  },
  {
   "cell_type": "code",
   "execution_count": null,
   "id": "27512247-b4e4-483b-8930-b29155ba9ff2",
   "metadata": {},
   "outputs": [],
   "source": []
  },
  {
   "cell_type": "markdown",
   "id": "e3e68764-b7f3-44b7-aa83-dbedb1d15d1e",
   "metadata": {},
   "source": [
    "If you have multiple filters that you'd like to combine, you can either use `&` or separate them out into multiple `.loc[]` commands. The following 2 lines of code do the same thing:"
   ]
  },
  {
   "cell_type": "code",
   "execution_count": null,
   "id": "0b5b717a-8e3c-4728-836d-7850c679ea07",
   "metadata": {},
   "outputs": [],
   "source": [
    "df.loc[(df[\"Quantity\"] > 100) & (df[\"Country\"] == \"Austria\")]\n",
    "df.loc[df[\"Quantity\"] > 100].loc[df[\"Country\"] == \"Austria\"]"
   ]
  },
  {
   "cell_type": "markdown",
   "id": "fbe34afe-c1b3-4c1b-b532-0976cb1bb88e",
   "metadata": {},
   "source": [
    "Notice that you need to use ()s to separate multiple logical statements if you are including them in a single `.loc[]` command.\n",
    "\n",
    "If you want to combine 2 conditions with OR instead of AND, use `|` instead of `&`:"
   ]
  },
  {
   "cell_type": "code",
   "execution_count": null,
   "id": "c5571288-bab1-4530-8a4c-68b63e198e1d",
   "metadata": {},
   "outputs": [],
   "source": [
    "df.loc[(df[\"Quantity\"] > 100) | (df[\"Country\"] == \"Austria\")]"
   ]
  },
  {
   "cell_type": "markdown",
   "id": "6b7c1979-04f9-4f19-ad59-7593bb2e3a00",
   "metadata": {},
   "source": [
    "You try...show the rows where the Country is Belgium and the quantity is less than 3:"
   ]
  },
  {
   "cell_type": "code",
   "execution_count": null,
   "id": "53d0b0e0-591f-460f-b7b7-a3a2e26b2cb4",
   "metadata": {},
   "outputs": [],
   "source": []
  },
  {
   "cell_type": "markdown",
   "id": "c810353e-c5c5-4424-9181-ba8afb84e6c9",
   "metadata": {},
   "source": [
    "So far, we've returned all columns in our filtered commands. Now, let's use column criteria to select only a few columns. To do this, you just need to list the columns you'd like as the 2nd parameter in the `.loc[]` command:"
   ]
  },
  {
   "cell_type": "code",
   "execution_count": null,
   "id": "cfc91856-9143-446a-9817-172d169efea2",
   "metadata": {},
   "outputs": [],
   "source": [
    "df.loc[df[\"Quantity\"] > 100, \"Quantity\"]\n",
    "df.loc[df[\"Quantity\"] > 100, [\"Quantity\", \"UnitPrice\"]]"
   ]
  },
  {
   "cell_type": "markdown",
   "id": "e5918792-1622-49bd-9db2-d25c722b37c0",
   "metadata": {},
   "source": [
    "Modify your previous code to show the rows where the Country is Belgium and the quantity is less than 3, but only display the Country and Quantity columns:"
   ]
  },
  {
   "cell_type": "code",
   "execution_count": null,
   "id": "3ea3d860-318d-4f99-b1ab-82ce39503cfd",
   "metadata": {},
   "outputs": [],
   "source": []
  },
  {
   "cell_type": "markdown",
   "id": "0a7629a1-0e3a-4a7b-a901-59372d164c7c",
   "metadata": {},
   "source": [
    "## Combining for Statistics\n",
    "\n",
    "Now that we can filter our data, we can investigate it and summarize it in detail. In the next code block, write code to get the summary statistics for the Quantity and UnitPrice columns only, filtering for sales in the United Kingdom:"
   ]
  },
  {
   "cell_type": "code",
   "execution_count": null,
   "id": "9e33b586-4db4-48d9-a26d-5848b1c7a20b",
   "metadata": {},
   "outputs": [],
   "source": []
  },
  {
   "cell_type": "markdown",
   "id": "e69582c9-a898-47d7-8c27-9a4f23b4b78a",
   "metadata": {},
   "source": [
    "We can do the same thing with visualizations. Remember that this is the histogram for the Quantity column:"
   ]
  },
  {
   "cell_type": "code",
   "execution_count": null,
   "id": "7932b632-3051-4534-b5cb-6f19a814a5f3",
   "metadata": {},
   "outputs": [],
   "source": [
    "df[\"Quantity\"].plot.hist()"
   ]
  },
  {
   "cell_type": "markdown",
   "id": "b54bf242-c9a5-4d1a-8d2f-db3b3b86a0f2",
   "metadata": {},
   "source": [
    "Use the `.loc[]` command to display the histogram only for rows with a Quantity greater than 0 and less than 50:"
   ]
  },
  {
   "cell_type": "code",
   "execution_count": null,
   "id": "0cf6cd27-23a0-4666-b328-ec646efd0a12",
   "metadata": {},
   "outputs": [],
   "source": []
  },
  {
   "cell_type": "markdown",
   "id": "fb277c23-7bb4-4730-990c-c713ec78beb6",
   "metadata": {},
   "source": [
    "Why does this histogram look different from the original histogram of Quantity that we created up above? Which graph is more useful?"
   ]
  },
  {
   "cell_type": "markdown",
   "id": "0a5405ee-7ecb-438e-aabf-f6fa8e0cda62",
   "metadata": {},
   "source": [
    "## Ordering\n",
    "\n",
    "The `.sort_values()` method orders the results:"
   ]
  },
  {
   "cell_type": "code",
   "execution_count": null,
   "id": "e70486dc-67c0-4cd5-8814-b372055f05b4",
   "metadata": {},
   "outputs": [],
   "source": [
    "df.sort_values(\"UnitPrice\")"
   ]
  },
  {
   "cell_type": "markdown",
   "id": "b5f73284-00e1-4787-97ff-fc9cee2631bb",
   "metadata": {},
   "source": [
    "The default is to sort in ascending order (low to high). If you want to switch to descending order (high to low), add the `ascending=False` parameter:"
   ]
  },
  {
   "cell_type": "code",
   "execution_count": null,
   "id": "9b05458c-6042-4c39-a5db-4c4524e753df",
   "metadata": {},
   "outputs": [],
   "source": [
    "df.sort_values(\"UnitPrice\", ascending = False)"
   ]
  },
  {
   "cell_type": "markdown",
   "id": "42c8e06a-7aa3-427c-90b9-c998d06e4e12",
   "metadata": {},
   "source": [
    "If you want to sort by multiple columns, you can just list them within `.sort_values()`. For example, if I first want to sort by InvoiceDate and then by UnitPrice, I would do this:"
   ]
  },
  {
   "cell_type": "code",
   "execution_count": null,
   "id": "1cfe0225-10df-4061-b417-07bb3fbfe1ed",
   "metadata": {},
   "outputs": [],
   "source": [
    "df.sort_values([\"InvoiceDate\", \"UnitPrice\"])"
   ]
  },
  {
   "cell_type": "markdown",
   "id": "a8125820-c156-4f3f-92ef-f8e0ab523ba0",
   "metadata": {},
   "source": [
    "Now you try...filter the data to show only rows where the Quantity is less than 50 and sort the results by Quantity in ascending order (you can display all columns):"
   ]
  },
  {
   "cell_type": "code",
   "execution_count": null,
   "id": "0b6f54e1-9244-4466-ad26-fb648dc4ce7f",
   "metadata": {},
   "outputs": [],
   "source": []
  },
  {
   "cell_type": "markdown",
   "id": "7fee6c70-edea-423e-8d72-df8b4740d6ce",
   "metadata": {},
   "source": [
    "## Practice\n",
    "\n",
    "Show the InvoiceDate, Quantity, and UnitPrice for transactions from the United Kingdom where the StockCode is 84029G and order it by Quantity:"
   ]
  },
  {
   "cell_type": "code",
   "execution_count": null,
   "id": "c7b443ce-398c-485d-9e60-ed6d7fbee686",
   "metadata": {},
   "outputs": [],
   "source": []
  },
  {
   "cell_type": "markdown",
   "id": "bdf4d0a8-65f7-43ee-b576-08045298f192",
   "metadata": {},
   "source": [
    "Show the Country, StockCode, and Quantity for transactions from either Austria or Belgium where the UnitPrice is greater than 7 in descending order by Quantity:"
   ]
  },
  {
   "cell_type": "code",
   "execution_count": null,
   "id": "be912213-77f7-4640-bcde-b9915a7ff4f3",
   "metadata": {},
   "outputs": [],
   "source": []
  }
 ],
 "metadata": {
  "kernelspec": {
   "display_name": "Python 3 (ipykernel)",
   "language": "python",
   "name": "python3"
  },
  "language_info": {
   "codemirror_mode": {
    "name": "ipython",
    "version": 3
   },
   "file_extension": ".py",
   "mimetype": "text/x-python",
   "name": "python",
   "nbconvert_exporter": "python",
   "pygments_lexer": "ipython3",
   "version": "3.10.10"
  }
 },
 "nbformat": 4,
 "nbformat_minor": 5
}
