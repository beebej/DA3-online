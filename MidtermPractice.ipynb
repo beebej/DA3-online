{
 "cells": [
  {
   "cell_type": "code",
   "execution_count": null,
   "id": "84b5229d-35c7-48e3-a604-b3bc2d0d7b01",
   "metadata": {},
   "outputs": [],
   "source": [
    "#Run the following code to print multiple outputs from a cell\n",
    "get_ipython().ast_node_interactivity = 'all'"
   ]
  },
  {
   "cell_type": "markdown",
   "id": "74389b23-2a5e-4061-888e-b4daf15259a8",
   "metadata": {},
   "source": [
    "# Midterm Practice Problems\n",
    "\n",
    "## Section 1\n",
    "This section does not use data."
   ]
  },
  {
   "cell_type": "markdown",
   "id": "884450e0-910b-4eef-a1bb-72024fa4c2f4",
   "metadata": {},
   "source": [
    "#### Q: Round the number 3.14159265 to 3 decimal places."
   ]
  },
  {
   "cell_type": "code",
   "execution_count": null,
   "id": "3d6f8d97-253a-423a-9cac-31d01213b125",
   "metadata": {},
   "outputs": [],
   "source": []
  },
  {
   "cell_type": "markdown",
   "id": "3d391d5e-1229-40eb-a0c9-85dbfbe5c807",
   "metadata": {},
   "source": [
    "#### Q: \"factorial\" is a function in the math module. Find the factorial of 7."
   ]
  },
  {
   "cell_type": "code",
   "execution_count": null,
   "id": "79bb4662-554d-449e-8b4e-98a11c973d05",
   "metadata": {},
   "outputs": [],
   "source": []
  },
  {
   "cell_type": "markdown",
   "id": "aa253264-0043-48be-8b96-faeadc8182ec",
   "metadata": {},
   "source": [
    "#### Q: \"cos\" is a function in the math module to find the cosine of a number in radians. Find the cosine of 45 radians."
   ]
  },
  {
   "cell_type": "code",
   "execution_count": null,
   "id": "1b3bea61-8a41-403f-8a04-d1565a9dd451",
   "metadata": {},
   "outputs": [],
   "source": []
  },
  {
   "cell_type": "markdown",
   "id": "718efdc7-d554-40ee-9f2d-87c838bedb70",
   "metadata": {},
   "source": [
    "#### Q: Use the cdf function from the scipy package (the function is in the stats submodule) to find the probability a random value a normal distribtion will be less than 3 if the mean value is 7 and the standard deviation is 2."
   ]
  },
  {
   "cell_type": "code",
   "execution_count": null,
   "id": "7254241a-6ec3-4123-83e5-66d64c4faace",
   "metadata": {},
   "outputs": [],
   "source": []
  },
  {
   "cell_type": "markdown",
   "id": "bdd8e38e-c320-4a42-9bc4-dcad3af0545b",
   "metadata": {},
   "source": [
    "## Section 2\n",
    "This section uses the file, **Coupons.csv**, about customers using coupons. From the data source, the description is:\n",
    "\n",
    "* destination: No Urgent Place, Home, Work\n",
    "* passanger: Alone, Friend(s), Kid(s), Partner (who are the passengers in the car)\n",
    "* weather: Sunny, Rainy, Snowy\n",
    "* temperature:55, 80, 30\n",
    "* time: 2PM, 10AM, 6PM, 7AM, 10PM\n",
    "* coupon: Restaurant(<0 dollars), Coffee House, Carry out & Take away, Bar, Restaurant(0-50 dollars)\n",
    "* expiration: 1d, 2h (the coupon expires in 1 day or in 2 hours)\n",
    "* gender: Female, Male\n",
    "* age: 21, 46, 26, 31, 41, 50plus, 36, below21\n",
    "* maritalStatus: Unmarried partner, Single, Married partner, Divorced, Widowed\n",
    "* has_Children:1, 0\n",
    "* education: Some college - no degree, Bachelors degree, Associates degree, High School Graduate, Graduate degree (Masters or Doctorate), Some High School\n",
    "* occupation: list of occupations\n",
    "* income: (in dollars) 37500 - 49999, 62500 - 74999, 12500 - 4999, 75000 - 87499, 50000 - 62499, 5000 - 37499, 100000 or More, 87500 - 99999, Less than 12500\n",
    "* Bar: never, less1, 1-3, gt8, nan4-8 (feature meaning: how many times do you go to a bar every month?)\n",
    "* CoffeeHouse: never, less1, 4-8, 1-3, gt8, nan (feature meaning: how many times do you go to a coffeehouse every month?)\n",
    "* CarryAway:n4-8, 1-3, gt8, less1, never (feature meaning: how many times do you get take-away food every month?)\n",
    "* RestaurantLessThan20: 4-8, 1-3, less1, gt8, never (feature meaning: how many times do you go to a restaurant with an average expense per person of less than 0 dollars every month?)\n",
    "* Restaurant20To50: 1-3, less1, never, gt8, 4-8, nan (feature meaning: how many times do you go to a restaurant with average expense per person of 0 - 50 dollars every month?)\n",
    "* toCoupon_GEQ15min:0,1 (feature meaning: driving distance to the restaurant/bar for using the coupon is greater than 15 minutes)\n",
    "* toCoupon_GEQ25min:0, 1 (feature meaning: driving distance to the restaurant/bar for using the coupon is greater than 25 minutes)\n",
    "* direction_same:0, 1 (feature meaning: whether the restaurant/bar is in the same direction as your current destination)\n",
    "* direction_opp:1, 0 (feature meaning: whether the restaurant/bar is in the same direction as your current destination)\n",
    "* Accepted:1, 0 (whether the coupon is accepted)\n",
    "* ageActual: numeric Age"
   ]
  },
  {
   "cell_type": "markdown",
   "id": "04ec5f1a-9c02-4ad0-926c-cae19b7632c0",
   "metadata": {},
   "source": [
    "#### Q: How many rows and columns does the file contain?"
   ]
  },
  {
   "cell_type": "code",
   "execution_count": null,
   "id": "9f2bcc42-2363-4840-a991-ab5dd60d4542",
   "metadata": {},
   "outputs": [],
   "source": []
  },
  {
   "cell_type": "markdown",
   "id": "5a589381-4386-4020-a0f4-cf2f868c05df",
   "metadata": {},
   "source": [
    "#### Q: What data types are each of the columns in the file?"
   ]
  },
  {
   "cell_type": "code",
   "execution_count": null,
   "id": "88fb9e00-118c-4f99-84b1-f6f300328fa8",
   "metadata": {},
   "outputs": [],
   "source": []
  },
  {
   "cell_type": "markdown",
   "id": "60165747-2cf4-4bba-95d5-c64401ef5147",
   "metadata": {},
   "source": [
    "#### Q: Display the first few rows of data."
   ]
  },
  {
   "cell_type": "code",
   "execution_count": null,
   "id": "f0bebe0b-c730-4bc4-ab16-889f75c9d2c5",
   "metadata": {},
   "outputs": [],
   "source": []
  },
  {
   "cell_type": "markdown",
   "id": "7f115823-d1c3-4f55-bd7a-53a5b3ff64e8",
   "metadata": {},
   "source": [
    "#### Q: Display the last few rows of data."
   ]
  },
  {
   "cell_type": "code",
   "execution_count": null,
   "id": "bab92926-08ab-4e17-86aa-046cc6d8462e",
   "metadata": {},
   "outputs": [],
   "source": []
  },
  {
   "cell_type": "markdown",
   "id": "4e4bfe38-a237-4121-afea-528129feeb78",
   "metadata": {},
   "source": [
    "#### Q: How many rows are missing data for each column?"
   ]
  },
  {
   "cell_type": "code",
   "execution_count": null,
   "id": "0a6a7ad1-b23e-49c0-9f71-698f116e7a53",
   "metadata": {},
   "outputs": [],
   "source": []
  },
  {
   "cell_type": "markdown",
   "id": "6a08ebf4-a112-4266-9efb-f44e0498b2d8",
   "metadata": {},
   "source": [
    "#### Q: Display the number of rows for each \"destination\" value."
   ]
  },
  {
   "cell_type": "code",
   "execution_count": null,
   "id": "0c649608-25b7-4d80-a998-9ad7e4c96e34",
   "metadata": {},
   "outputs": [],
   "source": []
  },
  {
   "cell_type": "markdown",
   "id": "2de9b3e7-7395-45ee-a4cc-74827e098f6b",
   "metadata": {},
   "source": [
    "#### Q: Display the number of rows for each \"passanger\" [sic] type."
   ]
  },
  {
   "cell_type": "code",
   "execution_count": null,
   "id": "72a7be81-7f1a-4d05-9e07-21db91f60935",
   "metadata": {},
   "outputs": [],
   "source": []
  },
  {
   "cell_type": "markdown",
   "id": "ac5b0ebf-7fb2-4e2c-9a73-07b3f31a9b91",
   "metadata": {},
   "source": [
    "#### Q: Display the first few rows for only the \"weather\" column."
   ]
  },
  {
   "cell_type": "code",
   "execution_count": null,
   "id": "938c35b8-5a63-4684-9051-2f058d5c7af3",
   "metadata": {},
   "outputs": [],
   "source": []
  },
  {
   "cell_type": "markdown",
   "id": "8137ee98-6784-4fa7-8c7d-4af1be0c7a79",
   "metadata": {},
   "source": [
    "#### Q: Show summary statistics for the numeric columns."
   ]
  },
  {
   "cell_type": "code",
   "execution_count": null,
   "id": "3d423c4f-4ac9-486e-8f4a-1e2cd70ca445",
   "metadata": {},
   "outputs": [],
   "source": []
  },
  {
   "cell_type": "markdown",
   "id": "ab50378d-abd8-4f46-998b-ffae2ae33487",
   "metadata": {},
   "source": [
    "#### Q: Display the first few rows for only the \"weather\" and \"temperature\" columns."
   ]
  },
  {
   "cell_type": "code",
   "execution_count": null,
   "id": "59aa1d16-0467-480c-b030-6b40205fcdda",
   "metadata": {},
   "outputs": [],
   "source": []
  },
  {
   "cell_type": "markdown",
   "id": "0d9cdc69-87ae-4b86-8073-c9ceea91f003",
   "metadata": {},
   "source": [
    "#### Q: How many values are missing just from the \"CarryAway\" column?"
   ]
  },
  {
   "cell_type": "code",
   "execution_count": null,
   "id": "b065da42-1faf-458a-9b90-ed321ed5714e",
   "metadata": {},
   "outputs": [],
   "source": []
  },
  {
   "cell_type": "markdown",
   "id": "cdc95785-6266-4c1d-816b-0419dbbcbfdf",
   "metadata": {},
   "source": [
    "#### Q: What is the sum of the \"ageActual\" column for all records?"
   ]
  },
  {
   "cell_type": "code",
   "execution_count": null,
   "id": "6ac7c48d-a663-44a3-b413-cc2fab9366ed",
   "metadata": {},
   "outputs": [],
   "source": []
  },
  {
   "cell_type": "markdown",
   "id": "fb8ea280-219a-424d-b6c5-a934bfa650b3",
   "metadata": {},
   "source": [
    "#### Q: What is the percentage of the records have a \"Bar\" of \"never\" ignoring missing values?"
   ]
  },
  {
   "cell_type": "code",
   "execution_count": null,
   "id": "7003efcc-6d15-4458-b98b-e4a9356cb3af",
   "metadata": {},
   "outputs": [],
   "source": []
  },
  {
   "cell_type": "markdown",
   "id": "35dd3173-f021-49d4-814e-2045ab8f6521",
   "metadata": {},
   "source": [
    "#### Q: What is the percentage of the records have a \"Bar\" of \"never\" including missing values in the total number of records?"
   ]
  },
  {
   "cell_type": "code",
   "execution_count": null,
   "id": "ef67c2ab-9691-4351-86bf-dc636399fe03",
   "metadata": {},
   "outputs": [],
   "source": []
  },
  {
   "cell_type": "markdown",
   "id": "166dd6ed-c0bb-46c4-bc7b-2321edcef6cb",
   "metadata": {},
   "source": [
    "#### Q: What is the percentage of the records have a \"Bar\" of \"never\" including missing values in the total number of records, rounded to 2 decimals places"
   ]
  },
  {
   "cell_type": "code",
   "execution_count": null,
   "id": "f64741fe-828c-4752-9561-91921cbaef33",
   "metadata": {},
   "outputs": [],
   "source": []
  },
  {
   "cell_type": "markdown",
   "id": "2e0db83d-ef64-4e21-892e-bd045d4b96d0",
   "metadata": {},
   "source": [
    "#### Q: Create a contingency table with \"passanger\" [sic] and \"weather\"."
   ]
  },
  {
   "cell_type": "code",
   "execution_count": null,
   "id": "00bc387f-a228-42ba-9655-a6caf6dd215f",
   "metadata": {},
   "outputs": [],
   "source": []
  },
  {
   "cell_type": "markdown",
   "id": "82b36715-5dde-44a0-952c-ee17488df238",
   "metadata": {},
   "source": [
    "#### Q: Create a contingency table with \"passanger\" [sic] and \"weather\", including row and column totals."
   ]
  },
  {
   "cell_type": "code",
   "execution_count": null,
   "id": "4513741a-f99a-46cd-a297-7ffbc96c459b",
   "metadata": {},
   "outputs": [],
   "source": []
  },
  {
   "cell_type": "markdown",
   "id": "2a822a52-d279-41dc-98cc-acf3ed12cd6c",
   "metadata": {},
   "source": [
    "#### Q: Create a contingency table with \"passanger\" [sic] and \"weather\", including row and column totals, showing overall percentages."
   ]
  },
  {
   "cell_type": "code",
   "execution_count": null,
   "id": "2ff858af-9b99-40c3-9a73-8f28553e9d5b",
   "metadata": {},
   "outputs": [],
   "source": []
  },
  {
   "cell_type": "markdown",
   "id": "d1963eb9-2e73-46fb-b619-6c15410cabbc",
   "metadata": {},
   "source": [
    "#### Q: Create a contingency table with \"passanger\" [sic] and \"weather\", including row and column totals, showing percentages by row."
   ]
  },
  {
   "cell_type": "code",
   "execution_count": null,
   "id": "524b87f1-5f07-4fef-915d-5c16b670582c",
   "metadata": {},
   "outputs": [],
   "source": []
  },
  {
   "cell_type": "markdown",
   "id": "666bf985-57d9-4302-b9a9-95eaea6e74ae",
   "metadata": {},
   "source": [
    "#### Q: Create a contingency table with \"passanger\" [sic] and \"weather\", including row and column totals, showing percentages by columns."
   ]
  },
  {
   "cell_type": "code",
   "execution_count": null,
   "id": "c807d2cf-eede-4410-a04f-5124111f3e20",
   "metadata": {},
   "outputs": [],
   "source": []
  },
  {
   "cell_type": "markdown",
   "id": "bf517b3c-6f65-4d51-b2aa-37ecf4c9a3b0",
   "metadata": {},
   "source": [
    "#### Q: Show a histogram of the \"temperature\" column."
   ]
  },
  {
   "cell_type": "code",
   "execution_count": null,
   "id": "9427e4e0-bfc6-4239-a51f-277c25c2859f",
   "metadata": {},
   "outputs": [],
   "source": []
  },
  {
   "cell_type": "markdown",
   "id": "bb2a39bb-7875-4389-ad31-82e98b665d11",
   "metadata": {},
   "source": [
    "#### Q: Count the distinct values of each \"temperature\"."
   ]
  },
  {
   "cell_type": "code",
   "execution_count": null,
   "id": "2c470ac6-06ac-4f53-bae0-7eaa3fe2f42a",
   "metadata": {},
   "outputs": [],
   "source": []
  },
  {
   "cell_type": "markdown",
   "id": "f35dfd70-7b96-434e-85a8-55b3b7936240",
   "metadata": {},
   "source": [
    "#### Q: Show a histogram of the \"ageActual\" column."
   ]
  },
  {
   "cell_type": "code",
   "execution_count": null,
   "id": "abf1cc07-d8d8-44ea-85d7-a2a0ed2c98cd",
   "metadata": {},
   "outputs": [],
   "source": []
  },
  {
   "cell_type": "markdown",
   "id": "e3f674c4-3013-4091-b42a-b728c2b5e2a9",
   "metadata": {},
   "source": [
    "#### Q: Make a bar chart of the number of records by \"destination\"."
   ]
  },
  {
   "cell_type": "code",
   "execution_count": null,
   "id": "ce4019ef-f8c9-4bd9-b507-a0d2a041fc64",
   "metadata": {},
   "outputs": [],
   "source": []
  },
  {
   "cell_type": "markdown",
   "id": "e7c3844f-44fe-4790-b38a-6e2b6dc213ce",
   "metadata": {},
   "source": [
    "#### Q: Make a scatterplot of \"ageActual\" (y) by \"destination\" (x)."
   ]
  },
  {
   "cell_type": "code",
   "execution_count": null,
   "id": "4ed810dc-5ec5-4435-8747-1e0c60d77e59",
   "metadata": {},
   "outputs": [],
   "source": []
  },
  {
   "cell_type": "markdown",
   "id": "9d1eac21-10ce-4f7b-a40d-1435dc1e1a92",
   "metadata": {},
   "source": [
    "#### Q: Make a boxplot of \"ageActual\" by \"destination\""
   ]
  },
  {
   "cell_type": "code",
   "execution_count": null,
   "id": "b03b5b82-1990-489f-bc8b-3cde3059b19d",
   "metadata": {},
   "outputs": [],
   "source": []
  },
  {
   "cell_type": "markdown",
   "id": "803ef811-377c-4cd8-a546-188ba4bf49c8",
   "metadata": {},
   "source": [
    "#### Q: Make a stacked bar chart showing the breakdown of \"passanger\" (x) by \"coupon\" (color legend). Each bar should go up to 100%."
   ]
  },
  {
   "cell_type": "code",
   "execution_count": null,
   "id": "0063dd34-c7d6-45ca-86c5-595154abbbd9",
   "metadata": {},
   "outputs": [],
   "source": []
  },
  {
   "cell_type": "markdown",
   "id": "1113884e-4926-419d-a3f1-063f3777c604",
   "metadata": {},
   "source": [
    "#### Q: Find all the rows with the \"destination\" of \"Home\"."
   ]
  },
  {
   "cell_type": "code",
   "execution_count": null,
   "id": "7ee9714a-dc8a-46c3-afa8-e33e4ed612ab",
   "metadata": {},
   "outputs": [],
   "source": []
  },
  {
   "cell_type": "markdown",
   "id": "69fca0ad-8061-45a0-95c7-400312c906ed",
   "metadata": {},
   "source": [
    "#### Q: Find all the rows with the \"weather\" of \"Sunny\"."
   ]
  },
  {
   "cell_type": "code",
   "execution_count": null,
   "id": "3fae0bcb-0578-44ec-b48e-b3cd43f9c806",
   "metadata": {},
   "outputs": [],
   "source": []
  },
  {
   "cell_type": "markdown",
   "id": "bc229e08-fad1-4d70-8783-b45aa1047add",
   "metadata": {},
   "source": [
    "#### Q: Find all the rows with the \"destination\" of \"Home\" and the \"weather\" of \"Sunny\"."
   ]
  },
  {
   "cell_type": "code",
   "execution_count": null,
   "id": "3469e537-853a-4f10-b9de-6defdccecf9e",
   "metadata": {},
   "outputs": [],
   "source": []
  },
  {
   "cell_type": "markdown",
   "id": "5fe70097-89ff-4968-b3d5-fd57c93a8db3",
   "metadata": {},
   "source": [
    "#### Q: Find all the rows with the \"destination\" of \"Home\" OR the \"weather\" of \"Sunny\"."
   ]
  },
  {
   "cell_type": "code",
   "execution_count": null,
   "id": "203bf3b4-1844-429c-9e46-caf1550e8c5f",
   "metadata": {},
   "outputs": [],
   "source": []
  },
  {
   "cell_type": "markdown",
   "id": "195f19e8-84a8-4975-b05f-08aa6078f794",
   "metadata": {},
   "source": [
    "#### Q: Find all the rows with the \"destination\" of \"Home\" AND the \"weather\" of \"Sunny\" and only display the \"destination\" and \"weather\" rows."
   ]
  },
  {
   "cell_type": "code",
   "execution_count": null,
   "id": "289f6267-a2d0-413f-99ab-a82bb3c65e54",
   "metadata": {},
   "outputs": [],
   "source": []
  },
  {
   "cell_type": "markdown",
   "id": "ba684106-aff3-455c-b232-703cf6c93481",
   "metadata": {},
   "source": [
    "#### Q: Calculate summary statistics for \"destination\" of \"Home\" AND the \"weather\" of \"Sunny\"."
   ]
  },
  {
   "cell_type": "code",
   "execution_count": null,
   "id": "51d48285-68b9-4b32-8310-2260def3f6de",
   "metadata": {},
   "outputs": [],
   "source": []
  },
  {
   "cell_type": "markdown",
   "id": "b7040ffa-6ee1-4c26-a76c-367732b0eb4c",
   "metadata": {},
   "source": [
    "#### Q: Show a histogram of \"ageActual\" only for rows with \"destination\" of \"Home\" AND the \"weather\" of \"Sunny\"."
   ]
  },
  {
   "cell_type": "code",
   "execution_count": null,
   "id": "b63a28b5-ab2e-4ad0-a349-0178a1fd6d1e",
   "metadata": {},
   "outputs": [],
   "source": []
  },
  {
   "cell_type": "markdown",
   "id": "8d0f1da4-f4e1-414b-8208-cd900950238b",
   "metadata": {},
   "source": [
    "#### Q: Show the rows with \"destination\" of \"Home\" AND the \"weather\" of \"Sunny\" ordered by ascending \"ageActual\""
   ]
  },
  {
   "cell_type": "code",
   "execution_count": null,
   "id": "9e0a65f9-499a-4ec9-b4b0-a2ea1ec46e6b",
   "metadata": {},
   "outputs": [],
   "source": []
  },
  {
   "cell_type": "markdown",
   "id": "4d151da3-7f92-41a4-9d27-126d2ed17d0d",
   "metadata": {},
   "source": [
    "#### Q: Show the rows with \"destination\" of \"Home\" AND the \"weather\" of \"Sunny\" ordered by descending \"ageActual\""
   ]
  },
  {
   "cell_type": "code",
   "execution_count": null,
   "id": "e2a8e5a7-49a6-4b9a-aca9-df095584765f",
   "metadata": {},
   "outputs": [],
   "source": []
  },
  {
   "cell_type": "markdown",
   "id": "917a8d39-0f49-4e96-bb0f-b0496a82104f",
   "metadata": {},
   "source": [
    "## Section 3\n",
    "The following questions are examples of previous \"managerial\" types of questions:"
   ]
  },
  {
   "cell_type": "markdown",
   "id": "d6489a5d-931a-4249-badd-0a57528a4f41",
   "metadata": {},
   "source": [
    "#### Q: At several points this semester, I've brought up the idea of \"self-service\" analytics...the idea that more people today (vs. 15 years ago) have easier access to data and to the tools needed to analyze that data.  Discuss why this is a good thing as well as why this can sometimes lead to data quality issues. In your answer, provide at least 1 specific example of a data quality issue we discussed in class. (150 words max)"
   ]
  },
  {
   "cell_type": "markdown",
   "id": "9ee0ba00-bcdc-4ec4-801c-9d288bfebdec",
   "metadata": {},
   "source": [
    "#### Q: Explain how the increase in \"big data\" has contributed to the problem of analytics bias. In your answer, use 3 examples of analytics bias discussed in class. (500 words max)"
   ]
  },
  {
   "cell_type": "markdown",
   "id": "16ddd35c-208c-4ec7-acaf-f592323a80a5",
   "metadata": {},
   "source": [
    "#### Q: If you were given a large (millions of records) dataset, what could you do to understand the quality and limitations of the data? (500 words max)"
   ]
  },
  {
   "cell_type": "markdown",
   "id": "4fb7427e-8633-487a-aaf2-e52d19b5f10c",
   "metadata": {},
   "source": [
    "#### Q: Consider a hypothetical business that has both retail outlets and an ecommerce website. Assess the use of the three following potential sources of data for use in analytics to understand sales. (a) logs of website visitor traffic (web pages visited, time spent on each page, etc.); (b) census information from the government; and (c) video footage from in-store cameras. (500 words max)"
   ]
  }
 ],
 "metadata": {
  "kernelspec": {
   "display_name": "Python 3 (ipykernel)",
   "language": "python",
   "name": "python3"
  },
  "language_info": {
   "codemirror_mode": {
    "name": "ipython",
    "version": 3
   },
   "file_extension": ".py",
   "mimetype": "text/x-python",
   "name": "python",
   "nbconvert_exporter": "python",
   "pygments_lexer": "ipython3",
   "version": "3.10.10"
  }
 },
 "nbformat": 4,
 "nbformat_minor": 5
}
