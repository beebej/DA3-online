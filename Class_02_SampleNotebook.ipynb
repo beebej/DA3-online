{
 "cells": [
  {
   "cell_type": "markdown",
   "id": "44c16506-4d05-4591-98ab-b21b4799314f",
   "metadata": {},
   "source": [
    "# Class 2\n",
    "## Data Types"
   ]
  },
  {
   "cell_type": "markdown",
   "id": "29db4ae8-0ab4-44c3-9607-7bdeeb3ab191",
   "metadata": {},
   "source": [
    "Previously, our examples used numeric data (although I didn't explicitly talk about it.)"
   ]
  },
  {
   "cell_type": "code",
   "execution_count": 1,
   "id": "0039fa8b-7438-481e-b709-d8a76bf7a0ef",
   "metadata": {},
   "outputs": [
    {
     "data": {
      "text/plain": [
       "int"
      ]
     },
     "execution_count": 1,
     "metadata": {},
     "output_type": "execute_result"
    }
   ],
   "source": [
    "x = 5\n",
    "type(x)"
   ]
  },
  {
   "cell_type": "markdown",
   "id": "8b73c375-6ba9-4736-9f85-0c3d4cc49fad",
   "metadata": {},
   "source": [
    "Unsurprisingly, data will often contain more than just numbers."
   ]
  },
  {
   "cell_type": "markdown",
   "id": "3b7c6d5c-99ed-4a43-9653-8e01cbb9ab1c",
   "metadata": {},
   "source": [
    "### Numeric\n",
    "\n",
    "Numbers can be integer or contain decimals."
   ]
  },
  {
   "cell_type": "code",
   "execution_count": 2,
   "id": "1900b6b8-03cf-40df-a654-62d1f8857a41",
   "metadata": {},
   "outputs": [
    {
     "data": {
      "text/plain": [
       "int"
      ]
     },
     "execution_count": 2,
     "metadata": {},
     "output_type": "execute_result"
    }
   ],
   "source": [
    "x = 3\n",
    "type( x )"
   ]
  },
  {
   "cell_type": "code",
   "execution_count": 3,
   "id": "011a4cbc-8500-4a4c-8f71-7d54d39d39dd",
   "metadata": {},
   "outputs": [
    {
     "data": {
      "text/plain": [
       "float"
      ]
     },
     "execution_count": 3,
     "metadata": {},
     "output_type": "execute_result"
    }
   ],
   "source": [
    "y = 4.3\n",
    "type( y )"
   ]
  },
  {
   "cell_type": "markdown",
   "id": "3dd0c719-5a09-4395-ad92-86fe0980203a",
   "metadata": {},
   "source": [
    "Numeric data is data that we could do math with."
   ]
  },
  {
   "cell_type": "code",
   "execution_count": 4,
   "id": "195b615e-b2c1-4b64-b1fb-3640049750f0",
   "metadata": {},
   "outputs": [
    {
     "data": {
      "text/plain": [
       "7.3"
      ]
     },
     "execution_count": 4,
     "metadata": {},
     "output_type": "execute_result"
    }
   ],
   "source": [
    "x + y"
   ]
  },
  {
   "cell_type": "code",
   "execution_count": 5,
   "id": "dd253040-2b0e-441d-8795-d9cbc7421cda",
   "metadata": {},
   "outputs": [
    {
     "data": {
      "text/plain": [
       "-1.2999999999999998"
      ]
     },
     "execution_count": 5,
     "metadata": {},
     "output_type": "execute_result"
    }
   ],
   "source": [
    "x - y"
   ]
  },
  {
   "cell_type": "code",
   "execution_count": 6,
   "id": "28109ff5-8925-4711-a860-314b440f7022",
   "metadata": {},
   "outputs": [
    {
     "data": {
      "text/plain": [
       "12.899999999999999"
      ]
     },
     "execution_count": 6,
     "metadata": {},
     "output_type": "execute_result"
    }
   ],
   "source": [
    "x * y"
   ]
  },
  {
   "cell_type": "code",
   "execution_count": 7,
   "id": "d7e236a1-2795-4ac8-8ca1-5a9aa203069f",
   "metadata": {},
   "outputs": [
    {
     "data": {
      "text/plain": [
       "0.6976744186046512"
      ]
     },
     "execution_count": 7,
     "metadata": {},
     "output_type": "execute_result"
    }
   ],
   "source": [
    "x / y"
   ]
  },
  {
   "cell_type": "markdown",
   "id": "8db37f07-a8b7-469a-a804-317ea2fc7c17",
   "metadata": {},
   "source": [
    "But not all data with the label \"number\" is a number."
   ]
  },
  {
   "cell_type": "code",
   "execution_count": 8,
   "id": "24f347af-8f91-430f-809b-e98a8d17841e",
   "metadata": {},
   "outputs": [
    {
     "ename": "SyntaxError",
     "evalue": "leading zeros in decimal integer literals are not permitted; use an 0o prefix for octal integers (<ipython-input-8-d6184abb5dee>, line 1)",
     "output_type": "error",
     "traceback": [
      "\u001b[0;36m  File \u001b[0;32m\"<ipython-input-8-d6184abb5dee>\"\u001b[0;36m, line \u001b[0;32m1\u001b[0m\n\u001b[0;31m    zip = 02467  # with a leading zero\u001b[0m\n\u001b[0m              ^\u001b[0m\n\u001b[0;31mSyntaxError\u001b[0m\u001b[0;31m:\u001b[0m leading zeros in decimal integer literals are not permitted; use an 0o prefix for octal integers\n"
     ]
    }
   ],
   "source": [
    "zip = 02467  # with a leading zero"
   ]
  },
  {
   "cell_type": "markdown",
   "id": "99e28ad8-d8c7-4ee7-8d1b-372bd128697b",
   "metadata": {},
   "source": [
    "### Strings\n",
    "\n",
    "Data can also contain characters other than numbers.  This \"string\" or \"character\" data must be in single or double quotes."
   ]
  },
  {
   "cell_type": "code",
   "execution_count": null,
   "id": "d73647d2-3095-4bb2-9129-8b065355ab65",
   "metadata": {},
   "outputs": [],
   "source": [
    "x = \"test\" # assigns a string to the variable x\n",
    "x = 'test' # assigns a string to the variable x"
   ]
  },
  {
   "cell_type": "markdown",
   "id": "57022af2-dee1-4541-8156-0b00377b22d1",
   "metadata": {},
   "source": [
    "But without quotes is not a string!"
   ]
  },
  {
   "cell_type": "code",
   "execution_count": null,
   "id": "754c64eb-0ba9-4bbe-bd27-1bfe926704b1",
   "metadata": {},
   "outputs": [],
   "source": [
    "y = test"
   ]
  },
  {
   "cell_type": "markdown",
   "id": "37e74a81-924c-4cdc-9e23-3e64b05ab30a",
   "metadata": {},
   "source": [
    "You can't do math (or much analytics in general) with strings directly."
   ]
  },
  {
   "cell_type": "code",
   "execution_count": null,
   "id": "9d3b3f9e-d867-4ae6-99ee-0e82c3afb8c2",
   "metadata": {},
   "outputs": [],
   "source": [
    "x = \"test\"\n",
    "x * 2"
   ]
  },
  {
   "cell_type": "code",
   "execution_count": null,
   "id": "3f60ceea-79ae-43d5-ad42-403edd42f68c",
   "metadata": {},
   "outputs": [],
   "source": [
    "x = \"3\"  \n",
    "x * 2  # probably NOT what you expect"
   ]
  },
  {
   "cell_type": "markdown",
   "id": "abc05a9e-2f46-4857-b316-5f0bb8a8a8aa",
   "metadata": {},
   "source": [
    "Strings need a starting \" or ' and a matching ending \" or '.  This incorrect command starts a string with the \" but never finishes it."
   ]
  },
  {
   "cell_type": "code",
   "execution_count": null,
   "id": "e4984df9-7b6f-460a-a018-79526bd9fa57",
   "metadata": {},
   "outputs": [],
   "source": [
    "x = \"test "
   ]
  },
  {
   "cell_type": "markdown",
   "id": "a3497765-9567-4d53-be56-da582f7dac13",
   "metadata": {},
   "source": [
    "### Logical\n",
    "\n",
    "Logical (Boolean) values are either True or False"
   ]
  },
  {
   "cell_type": "code",
   "execution_count": null,
   "id": "684a609a-60b7-4c29-9c23-8670e87b063d",
   "metadata": {},
   "outputs": [],
   "source": [
    "x = True\n",
    "type( x )"
   ]
  },
  {
   "cell_type": "markdown",
   "id": "b8fe7817-2fd3-4350-b67c-0e2023fc8c6d",
   "metadata": {},
   "source": [
    "Value can be explicitly True or False. But they can also be the result of a logical expression."
   ]
  },
  {
   "cell_type": "code",
   "execution_count": null,
   "id": "736f1b72-83d9-4ff6-83ee-98ad047e5db4",
   "metadata": {},
   "outputs": [],
   "source": [
    "x = 1\n",
    "( x == 2 ) "
   ]
  },
  {
   "cell_type": "code",
   "execution_count": null,
   "id": "09ce9f65-5b2e-49af-bdec-ee0c965cf86f",
   "metadata": {},
   "outputs": [],
   "source": [
    "( x != 2 ) "
   ]
  },
  {
   "cell_type": "markdown",
   "id": "047ad238-aad5-4ee4-b76e-02978dc2bfcd",
   "metadata": {},
   "source": [
    "### Dates\n",
    "\n",
    "What does 4/1/2021 mean? Is this 4 January 2021 or 1 April 2021? "
   ]
  },
  {
   "cell_type": "code",
   "execution_count": null,
   "id": "83a49858-d566-4ec6-ab10-5632a084266a",
   "metadata": {},
   "outputs": [],
   "source": [
    "import datetime\n",
    "x = datetime.date( 2021, 4, 21 )\n",
    "x"
   ]
  },
  {
   "cell_type": "code",
   "execution_count": null,
   "id": "428a62c3-49d4-479d-af38-216a44f82791",
   "metadata": {},
   "outputs": [],
   "source": [
    "print( x )"
   ]
  },
  {
   "cell_type": "code",
   "execution_count": null,
   "id": "2a817149-1b3b-47ed-baa4-af347785ee03",
   "metadata": {},
   "outputs": [],
   "source": [
    "x.month"
   ]
  },
  {
   "cell_type": "code",
   "execution_count": null,
   "id": "96ad795b-ff0c-41d8-bfea-c3e9207bb789",
   "metadata": {},
   "outputs": [],
   "source": [
    "x.weekday() # Monday is 0"
   ]
  },
  {
   "cell_type": "markdown",
   "id": "fce66770-5dad-4c47-b3b2-494d896d1fe2",
   "metadata": {},
   "source": [
    "We can use functions to create dates from strings."
   ]
  },
  {
   "cell_type": "code",
   "execution_count": null,
   "id": "7c5acc9e-9cbf-40d1-b78b-c92a995648c5",
   "metadata": {},
   "outputs": [],
   "source": [
    "from dateutil import parser\n",
    "x = parser.parse( \"4/1/2021\" )\n",
    "x.month"
   ]
  },
  {
   "cell_type": "code",
   "execution_count": null,
   "id": "2e7d1da4-981a-4806-a976-1735cb340e51",
   "metadata": {},
   "outputs": [],
   "source": [
    "x = parser.parse( \"4/1/2021\", dayfirst = True )\n",
    "x.month"
   ]
  },
  {
   "cell_type": "markdown",
   "id": "15525a4c-3cb9-4531-887b-f7939ecd0a0e",
   "metadata": {},
   "source": [
    "Practice with dates: For 25 December 2021"
   ]
  },
  {
   "cell_type": "code",
   "execution_count": null,
   "id": "63fb6bc1-0ffd-4422-9580-1c091ab13d16",
   "metadata": {},
   "outputs": [],
   "source": [
    "import datetime\n",
    "x = datetime.date( 2021, 12, 25 )\n",
    "print( x )"
   ]
  },
  {
   "cell_type": "code",
   "execution_count": null,
   "id": "cb369057-fcb1-48e8-91dd-357ebab52895",
   "metadata": {},
   "outputs": [],
   "source": [
    "x.month"
   ]
  },
  {
   "cell_type": "code",
   "execution_count": null,
   "id": "cca39014-ddd8-43b9-a7dc-077536ab4616",
   "metadata": {},
   "outputs": [],
   "source": [
    "x.weekday()"
   ]
  },
  {
   "cell_type": "code",
   "execution_count": null,
   "id": "26cb8104-219b-4148-99a8-7b0e55002e31",
   "metadata": {},
   "outputs": [],
   "source": [
    "x.strftime(\"%A\")"
   ]
  },
  {
   "cell_type": "code",
   "execution_count": null,
   "id": "44e1b3cf-2e00-41ef-be77-1bd657b40f0d",
   "metadata": {},
   "outputs": [],
   "source": [
    "x - datetime.date( 2021, 9, 8 )"
   ]
  },
  {
   "cell_type": "code",
   "execution_count": null,
   "id": "c7daf961-80b6-4b01-850e-257b9b60a4b7",
   "metadata": {},
   "outputs": [],
   "source": [
    "x - datetime.date.today()"
   ]
  },
  {
   "cell_type": "markdown",
   "id": "74c6a6f0-ab57-4a10-84f0-2b2016ee0cf8",
   "metadata": {},
   "source": [
    "## Importing Data"
   ]
  },
  {
   "cell_type": "markdown",
   "id": "3561a0d3-957c-486d-a16b-0af144479e19",
   "metadata": {},
   "source": [
    "pandas is a fast, powerful, flexible and easy to use open source data analysis and manipulation tool."
   ]
  },
  {
   "cell_type": "markdown",
   "id": "07338257-3715-459f-8129-ad27564b3d6b",
   "metadata": {},
   "source": [
    "### CSV files"
   ]
  },
  {
   "cell_type": "code",
   "execution_count": null,
   "id": "fd123454-75f6-4b7b-8da5-9fac78dbdc61",
   "metadata": {},
   "outputs": [],
   "source": [
    "import pandas\n",
    "df = pandas.read_csv( \"02_Sample.csv\" )"
   ]
  },
  {
   "cell_type": "code",
   "execution_count": null,
   "id": "4c16beec-eb70-4738-ab99-761e12d27307",
   "metadata": {},
   "outputs": [],
   "source": [
    "df.shape    "
   ]
  },
  {
   "cell_type": "code",
   "execution_count": null,
   "id": "6e17e21a-6d04-44dd-9ae3-838af5e90f27",
   "metadata": {},
   "outputs": [],
   "source": [
    "df.dtypes"
   ]
  },
  {
   "cell_type": "code",
   "execution_count": null,
   "id": "9223c362-e218-4399-b528-5fe83bcc94a3",
   "metadata": {},
   "outputs": [],
   "source": [
    "df.head()"
   ]
  },
  {
   "cell_type": "code",
   "execution_count": null,
   "id": "eb8ef0a9-8275-454d-86b9-dc6d243bb369",
   "metadata": {},
   "outputs": [],
   "source": [
    "df"
   ]
  },
  {
   "cell_type": "code",
   "execution_count": null,
   "id": "345654c8-74e7-4864-a52c-012167e91090",
   "metadata": {},
   "outputs": [],
   "source": [
    "df.describe() "
   ]
  },
  {
   "cell_type": "markdown",
   "id": "a3f24730-d4b5-4ec8-a585-e4456093b5f4",
   "metadata": {},
   "source": [
    "### Excel"
   ]
  },
  {
   "cell_type": "code",
   "execution_count": null,
   "id": "73507d03-23d5-4f6f-b5a1-2de7ee607634",
   "metadata": {},
   "outputs": [],
   "source": [
    "df = pandas.read_excel( \"02_Sample.xlsx\" )"
   ]
  },
  {
   "cell_type": "code",
   "execution_count": null,
   "id": "4999a2dd-cf06-4931-a1ce-b103fa9aef12",
   "metadata": {},
   "outputs": [],
   "source": [
    "df.shape"
   ]
  },
  {
   "cell_type": "code",
   "execution_count": null,
   "id": "0d75efc5-b7d6-4fcf-a693-2cee1d76a045",
   "metadata": {},
   "outputs": [],
   "source": []
  }
 ],
 "metadata": {
  "kernelspec": {
   "display_name": "Python 3",
   "language": "python",
   "name": "python3"
  },
  "language_info": {
   "codemirror_mode": {
    "name": "ipython",
    "version": 3
   },
   "file_extension": ".py",
   "mimetype": "text/x-python",
   "name": "python",
   "nbconvert_exporter": "python",
   "pygments_lexer": "ipython3",
   "version": "3.9.5"
  }
 },
 "nbformat": 4,
 "nbformat_minor": 5
}
