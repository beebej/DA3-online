{
 "cells": [
  {
   "cell_type": "code",
   "execution_count": 1,
   "id": "c0c8aae0-ce52-4653-b64e-7211da5d37b2",
   "metadata": {},
   "outputs": [],
   "source": [
    "import pandas"
   ]
  },
  {
   "cell_type": "code",
   "execution_count": 2,
   "id": "9789c782-abe5-4c15-b8d5-b7ec88908093",
   "metadata": {},
   "outputs": [],
   "source": [
    "df = pandas.read_csv(\"creditCardDefaultReduced.csv\")"
   ]
  },
  {
   "cell_type": "code",
   "execution_count": 74,
   "id": "4684a598-7fdd-4e89-8ba7-b28ebe7d3f71",
   "metadata": {
    "tags": []
   },
   "outputs": [
    {
     "data": {
      "text/plain": [
       "(30000, 9)"
      ]
     },
     "execution_count": 74,
     "metadata": {},
     "output_type": "execute_result"
    }
   ],
   "source": [
    "df.shape"
   ]
  },
  {
   "cell_type": "code",
   "execution_count": 75,
   "id": "6a13274c-60c9-4363-a699-962d924896c6",
   "metadata": {
    "tags": []
   },
   "outputs": [
    {
     "data": {
      "text/plain": [
       "Limit_Bal     int64\n",
       "Education    object\n",
       "Marriage     object\n",
       "Age           int64\n",
       "Pay_0        object\n",
       "Bill_Amt1     int64\n",
       "Pay_Amt1      int64\n",
       "Payment      object\n",
       "Card         object\n",
       "dtype: object"
      ]
     },
     "execution_count": 75,
     "metadata": {},
     "output_type": "execute_result"
    }
   ],
   "source": [
    "df.dtypes"
   ]
  },
  {
   "cell_type": "code",
   "execution_count": 76,
   "id": "071b54af-8f04-4b0c-9bbc-ca48585bcfc0",
   "metadata": {
    "tags": []
   },
   "outputs": [
    {
     "data": {
      "text/html": [
       "<div>\n",
       "<style scoped>\n",
       "    .dataframe tbody tr th:only-of-type {\n",
       "        vertical-align: middle;\n",
       "    }\n",
       "\n",
       "    .dataframe tbody tr th {\n",
       "        vertical-align: top;\n",
       "    }\n",
       "\n",
       "    .dataframe thead th {\n",
       "        text-align: right;\n",
       "    }\n",
       "</style>\n",
       "<table border=\"1\" class=\"dataframe\">\n",
       "  <thead>\n",
       "    <tr style=\"text-align: right;\">\n",
       "      <th></th>\n",
       "      <th>Limit_Bal</th>\n",
       "      <th>Education</th>\n",
       "      <th>Marriage</th>\n",
       "      <th>Age</th>\n",
       "      <th>Pay_0</th>\n",
       "      <th>Bill_Amt1</th>\n",
       "      <th>Pay_Amt1</th>\n",
       "      <th>Payment</th>\n",
       "      <th>Card</th>\n",
       "    </tr>\n",
       "  </thead>\n",
       "  <tbody>\n",
       "    <tr>\n",
       "      <th>0</th>\n",
       "      <td>20000</td>\n",
       "      <td>University</td>\n",
       "      <td>married</td>\n",
       "      <td>24</td>\n",
       "      <td>Delay2</td>\n",
       "      <td>3913</td>\n",
       "      <td>0</td>\n",
       "      <td>Missed</td>\n",
       "      <td>Normal</td>\n",
       "    </tr>\n",
       "    <tr>\n",
       "      <th>1</th>\n",
       "      <td>120000</td>\n",
       "      <td>University</td>\n",
       "      <td>single</td>\n",
       "      <td>26</td>\n",
       "      <td>ontime</td>\n",
       "      <td>2682</td>\n",
       "      <td>0</td>\n",
       "      <td>Missed</td>\n",
       "      <td>Normal</td>\n",
       "    </tr>\n",
       "    <tr>\n",
       "      <th>2</th>\n",
       "      <td>90000</td>\n",
       "      <td>University</td>\n",
       "      <td>single</td>\n",
       "      <td>34</td>\n",
       "      <td>Delay0</td>\n",
       "      <td>29239</td>\n",
       "      <td>1518</td>\n",
       "      <td>Paid</td>\n",
       "      <td>Normal</td>\n",
       "    </tr>\n",
       "    <tr>\n",
       "      <th>3</th>\n",
       "      <td>50000</td>\n",
       "      <td>University</td>\n",
       "      <td>married</td>\n",
       "      <td>37</td>\n",
       "      <td>Delay0</td>\n",
       "      <td>46990</td>\n",
       "      <td>2000</td>\n",
       "      <td>Paid</td>\n",
       "      <td>Normal</td>\n",
       "    </tr>\n",
       "    <tr>\n",
       "      <th>4</th>\n",
       "      <td>50000</td>\n",
       "      <td>University</td>\n",
       "      <td>married</td>\n",
       "      <td>57</td>\n",
       "      <td>ontime</td>\n",
       "      <td>8617</td>\n",
       "      <td>2000</td>\n",
       "      <td>Paid</td>\n",
       "      <td>Gold</td>\n",
       "    </tr>\n",
       "  </tbody>\n",
       "</table>\n",
       "</div>"
      ],
      "text/plain": [
       "   Limit_Bal   Education Marriage  Age   Pay_0  Bill_Amt1  Pay_Amt1 Payment  \\\n",
       "0      20000  University  married   24  Delay2       3913         0  Missed   \n",
       "1     120000  University   single   26  ontime       2682         0  Missed   \n",
       "2      90000  University   single   34  Delay0      29239      1518    Paid   \n",
       "3      50000  University  married   37  Delay0      46990      2000    Paid   \n",
       "4      50000  University  married   57  ontime       8617      2000    Paid   \n",
       "\n",
       "     Card  \n",
       "0  Normal  \n",
       "1  Normal  \n",
       "2  Normal  \n",
       "3  Normal  \n",
       "4    Gold  "
      ]
     },
     "execution_count": 76,
     "metadata": {},
     "output_type": "execute_result"
    }
   ],
   "source": [
    "df.head()"
   ]
  },
  {
   "cell_type": "code",
   "execution_count": 77,
   "id": "77af330c-c4c5-49cc-8465-290be9615f5e",
   "metadata": {
    "tags": []
   },
   "outputs": [
    {
     "data": {
      "text/html": [
       "<div>\n",
       "<style scoped>\n",
       "    .dataframe tbody tr th:only-of-type {\n",
       "        vertical-align: middle;\n",
       "    }\n",
       "\n",
       "    .dataframe tbody tr th {\n",
       "        vertical-align: top;\n",
       "    }\n",
       "\n",
       "    .dataframe thead th {\n",
       "        text-align: right;\n",
       "    }\n",
       "</style>\n",
       "<table border=\"1\" class=\"dataframe\">\n",
       "  <thead>\n",
       "    <tr style=\"text-align: right;\">\n",
       "      <th></th>\n",
       "      <th>Limit_Bal</th>\n",
       "      <th>Education</th>\n",
       "      <th>Marriage</th>\n",
       "      <th>Age</th>\n",
       "      <th>Pay_0</th>\n",
       "      <th>Bill_Amt1</th>\n",
       "      <th>Pay_Amt1</th>\n",
       "      <th>Payment</th>\n",
       "      <th>Card</th>\n",
       "    </tr>\n",
       "  </thead>\n",
       "  <tbody>\n",
       "    <tr>\n",
       "      <th>29995</th>\n",
       "      <td>220000</td>\n",
       "      <td>High school</td>\n",
       "      <td>married</td>\n",
       "      <td>39</td>\n",
       "      <td>Delay0</td>\n",
       "      <td>188948</td>\n",
       "      <td>8500</td>\n",
       "      <td>Paid</td>\n",
       "      <td>Gold</td>\n",
       "    </tr>\n",
       "    <tr>\n",
       "      <th>29996</th>\n",
       "      <td>150000</td>\n",
       "      <td>High school</td>\n",
       "      <td>single</td>\n",
       "      <td>43</td>\n",
       "      <td>ontime</td>\n",
       "      <td>1683</td>\n",
       "      <td>1837</td>\n",
       "      <td>Paid</td>\n",
       "      <td>Gold</td>\n",
       "    </tr>\n",
       "    <tr>\n",
       "      <th>29997</th>\n",
       "      <td>30000</td>\n",
       "      <td>University</td>\n",
       "      <td>single</td>\n",
       "      <td>37</td>\n",
       "      <td>Delay4</td>\n",
       "      <td>3565</td>\n",
       "      <td>0</td>\n",
       "      <td>Missed</td>\n",
       "      <td>Gold</td>\n",
       "    </tr>\n",
       "    <tr>\n",
       "      <th>29998</th>\n",
       "      <td>80000</td>\n",
       "      <td>High school</td>\n",
       "      <td>married</td>\n",
       "      <td>41</td>\n",
       "      <td>Delay1</td>\n",
       "      <td>-1645</td>\n",
       "      <td>85900</td>\n",
       "      <td>Missed</td>\n",
       "      <td>Gold</td>\n",
       "    </tr>\n",
       "    <tr>\n",
       "      <th>29999</th>\n",
       "      <td>50000</td>\n",
       "      <td>University</td>\n",
       "      <td>married</td>\n",
       "      <td>46</td>\n",
       "      <td>Delay0</td>\n",
       "      <td>47929</td>\n",
       "      <td>2078</td>\n",
       "      <td>Missed</td>\n",
       "      <td>Gold</td>\n",
       "    </tr>\n",
       "  </tbody>\n",
       "</table>\n",
       "</div>"
      ],
      "text/plain": [
       "       Limit_Bal    Education Marriage  Age   Pay_0  Bill_Amt1  Pay_Amt1  \\\n",
       "29995     220000  High school  married   39  Delay0     188948      8500   \n",
       "29996     150000  High school   single   43  ontime       1683      1837   \n",
       "29997      30000   University   single   37  Delay4       3565         0   \n",
       "29998      80000  High school  married   41  Delay1      -1645     85900   \n",
       "29999      50000   University  married   46  Delay0      47929      2078   \n",
       "\n",
       "      Payment  Card  \n",
       "29995    Paid  Gold  \n",
       "29996    Paid  Gold  \n",
       "29997  Missed  Gold  \n",
       "29998  Missed  Gold  \n",
       "29999  Missed  Gold  "
      ]
     },
     "execution_count": 77,
     "metadata": {},
     "output_type": "execute_result"
    }
   ],
   "source": [
    "df.tail()"
   ]
  },
  {
   "cell_type": "code",
   "execution_count": 78,
   "id": "4fd53c70-17d8-465b-879a-feb8e61670a0",
   "metadata": {
    "tags": []
   },
   "outputs": [
    {
     "data": {
      "text/plain": [
       "Limit_Bal    0\n",
       "Education    0\n",
       "Marriage     0\n",
       "Age          0\n",
       "Pay_0        0\n",
       "Bill_Amt1    0\n",
       "Pay_Amt1     0\n",
       "Payment      0\n",
       "Card         0\n",
       "dtype: int64"
      ]
     },
     "execution_count": 78,
     "metadata": {},
     "output_type": "execute_result"
    }
   ],
   "source": [
    "df.isna().sum()"
   ]
  },
  {
   "cell_type": "code",
   "execution_count": 79,
   "id": "94f4bf3e-e474-49f7-b611-f95893460b66",
   "metadata": {
    "tags": []
   },
   "outputs": [
    {
     "data": {
      "text/html": [
       "<div>\n",
       "<style scoped>\n",
       "    .dataframe tbody tr th:only-of-type {\n",
       "        vertical-align: middle;\n",
       "    }\n",
       "\n",
       "    .dataframe tbody tr th {\n",
       "        vertical-align: top;\n",
       "    }\n",
       "\n",
       "    .dataframe thead th {\n",
       "        text-align: right;\n",
       "    }\n",
       "</style>\n",
       "<table border=\"1\" class=\"dataframe\">\n",
       "  <thead>\n",
       "    <tr style=\"text-align: right;\">\n",
       "      <th></th>\n",
       "      <th>Limit_Bal</th>\n",
       "      <th>Age</th>\n",
       "      <th>Bill_Amt1</th>\n",
       "      <th>Pay_Amt1</th>\n",
       "    </tr>\n",
       "  </thead>\n",
       "  <tbody>\n",
       "    <tr>\n",
       "      <th>count</th>\n",
       "      <td>30000.000000</td>\n",
       "      <td>30000.000000</td>\n",
       "      <td>30000.000000</td>\n",
       "      <td>30000.000000</td>\n",
       "    </tr>\n",
       "    <tr>\n",
       "      <th>mean</th>\n",
       "      <td>167484.322667</td>\n",
       "      <td>35.485500</td>\n",
       "      <td>51223.330900</td>\n",
       "      <td>5663.580500</td>\n",
       "    </tr>\n",
       "    <tr>\n",
       "      <th>std</th>\n",
       "      <td>129747.661567</td>\n",
       "      <td>9.217904</td>\n",
       "      <td>73635.860576</td>\n",
       "      <td>16563.280354</td>\n",
       "    </tr>\n",
       "    <tr>\n",
       "      <th>min</th>\n",
       "      <td>10000.000000</td>\n",
       "      <td>21.000000</td>\n",
       "      <td>-165580.000000</td>\n",
       "      <td>0.000000</td>\n",
       "    </tr>\n",
       "    <tr>\n",
       "      <th>25%</th>\n",
       "      <td>50000.000000</td>\n",
       "      <td>28.000000</td>\n",
       "      <td>3558.750000</td>\n",
       "      <td>1000.000000</td>\n",
       "    </tr>\n",
       "    <tr>\n",
       "      <th>50%</th>\n",
       "      <td>140000.000000</td>\n",
       "      <td>34.000000</td>\n",
       "      <td>22381.500000</td>\n",
       "      <td>2100.000000</td>\n",
       "    </tr>\n",
       "    <tr>\n",
       "      <th>75%</th>\n",
       "      <td>240000.000000</td>\n",
       "      <td>41.000000</td>\n",
       "      <td>67091.000000</td>\n",
       "      <td>5006.000000</td>\n",
       "    </tr>\n",
       "    <tr>\n",
       "      <th>max</th>\n",
       "      <td>1000000.000000</td>\n",
       "      <td>79.000000</td>\n",
       "      <td>964511.000000</td>\n",
       "      <td>873552.000000</td>\n",
       "    </tr>\n",
       "  </tbody>\n",
       "</table>\n",
       "</div>"
      ],
      "text/plain": [
       "            Limit_Bal           Age      Bill_Amt1       Pay_Amt1\n",
       "count    30000.000000  30000.000000   30000.000000   30000.000000\n",
       "mean    167484.322667     35.485500   51223.330900    5663.580500\n",
       "std     129747.661567      9.217904   73635.860576   16563.280354\n",
       "min      10000.000000     21.000000 -165580.000000       0.000000\n",
       "25%      50000.000000     28.000000    3558.750000    1000.000000\n",
       "50%     140000.000000     34.000000   22381.500000    2100.000000\n",
       "75%     240000.000000     41.000000   67091.000000    5006.000000\n",
       "max    1000000.000000     79.000000  964511.000000  873552.000000"
      ]
     },
     "execution_count": 79,
     "metadata": {},
     "output_type": "execute_result"
    }
   ],
   "source": [
    "df.describe()"
   ]
  },
  {
   "cell_type": "code",
   "execution_count": 3,
   "id": "7879ad93-2f90-4465-b0dd-daefc9b9ecee",
   "metadata": {},
   "outputs": [],
   "source": [
    "import sklearn"
   ]
  },
  {
   "cell_type": "code",
   "execution_count": 4,
   "id": "f9776861-e5dc-484b-8257-1cddbabe179e",
   "metadata": {},
   "outputs": [],
   "source": [
    "import sklearn.model_selection"
   ]
  },
  {
   "cell_type": "code",
   "execution_count": 5,
   "id": "cc77ad38-0bc3-4c95-8d20-4b117178bd16",
   "metadata": {},
   "outputs": [],
   "source": [
    "import sklearn.metrics"
   ]
  },
  {
   "cell_type": "code",
   "execution_count": 6,
   "id": "12aa35a6-b34b-4143-9aef-61a5de1980de",
   "metadata": {},
   "outputs": [],
   "source": [
    "import numpy"
   ]
  },
  {
   "cell_type": "code",
   "execution_count": 7,
   "id": "2f8f9d16-8d34-487a-8c9b-a84404547483",
   "metadata": {},
   "outputs": [],
   "source": [
    "numpy.random.seed(28)"
   ]
  },
  {
   "cell_type": "code",
   "execution_count": 8,
   "id": "d5562ff2-ae68-40a7-ae21-581c8cf4c5cc",
   "metadata": {},
   "outputs": [],
   "source": [
    "outcome = df['Payment']"
   ]
  },
  {
   "cell_type": "code",
   "execution_count": 86,
   "id": "9de16e4e-add2-44ed-ae08-bc029d328f0e",
   "metadata": {},
   "outputs": [
    {
     "data": {
      "text/plain": [
       "0        Missed\n",
       "1        Missed\n",
       "2          Paid\n",
       "3          Paid\n",
       "4          Paid\n",
       "          ...  \n",
       "29995      Paid\n",
       "29996      Paid\n",
       "29997    Missed\n",
       "29998    Missed\n",
       "29999    Missed\n",
       "Name: Payment, Length: 30000, dtype: object"
      ]
     },
     "execution_count": 86,
     "metadata": {},
     "output_type": "execute_result"
    }
   ],
   "source": [
    "outcome"
   ]
  },
  {
   "cell_type": "code",
   "execution_count": 9,
   "id": "f8fef045-f539-4b09-b80d-d23f6fd067df",
   "metadata": {},
   "outputs": [
    {
     "data": {
      "text/html": [
       "<div>\n",
       "<style scoped>\n",
       "    .dataframe tbody tr th:only-of-type {\n",
       "        vertical-align: middle;\n",
       "    }\n",
       "\n",
       "    .dataframe tbody tr th {\n",
       "        vertical-align: top;\n",
       "    }\n",
       "\n",
       "    .dataframe thead th {\n",
       "        text-align: right;\n",
       "    }\n",
       "</style>\n",
       "<table border=\"1\" class=\"dataframe\">\n",
       "  <thead>\n",
       "    <tr style=\"text-align: right;\">\n",
       "      <th></th>\n",
       "      <th>Limit_Bal</th>\n",
       "      <th>Bill_Amt1</th>\n",
       "      <th>Pay_Amt1</th>\n",
       "      <th>Age</th>\n",
       "    </tr>\n",
       "  </thead>\n",
       "  <tbody>\n",
       "    <tr>\n",
       "      <th>0</th>\n",
       "      <td>20000</td>\n",
       "      <td>3913</td>\n",
       "      <td>0</td>\n",
       "      <td>24</td>\n",
       "    </tr>\n",
       "    <tr>\n",
       "      <th>1</th>\n",
       "      <td>120000</td>\n",
       "      <td>2682</td>\n",
       "      <td>0</td>\n",
       "      <td>26</td>\n",
       "    </tr>\n",
       "    <tr>\n",
       "      <th>2</th>\n",
       "      <td>90000</td>\n",
       "      <td>29239</td>\n",
       "      <td>1518</td>\n",
       "      <td>34</td>\n",
       "    </tr>\n",
       "    <tr>\n",
       "      <th>3</th>\n",
       "      <td>50000</td>\n",
       "      <td>46990</td>\n",
       "      <td>2000</td>\n",
       "      <td>37</td>\n",
       "    </tr>\n",
       "    <tr>\n",
       "      <th>4</th>\n",
       "      <td>50000</td>\n",
       "      <td>8617</td>\n",
       "      <td>2000</td>\n",
       "      <td>57</td>\n",
       "    </tr>\n",
       "    <tr>\n",
       "      <th>...</th>\n",
       "      <td>...</td>\n",
       "      <td>...</td>\n",
       "      <td>...</td>\n",
       "      <td>...</td>\n",
       "    </tr>\n",
       "    <tr>\n",
       "      <th>29995</th>\n",
       "      <td>220000</td>\n",
       "      <td>188948</td>\n",
       "      <td>8500</td>\n",
       "      <td>39</td>\n",
       "    </tr>\n",
       "    <tr>\n",
       "      <th>29996</th>\n",
       "      <td>150000</td>\n",
       "      <td>1683</td>\n",
       "      <td>1837</td>\n",
       "      <td>43</td>\n",
       "    </tr>\n",
       "    <tr>\n",
       "      <th>29997</th>\n",
       "      <td>30000</td>\n",
       "      <td>3565</td>\n",
       "      <td>0</td>\n",
       "      <td>37</td>\n",
       "    </tr>\n",
       "    <tr>\n",
       "      <th>29998</th>\n",
       "      <td>80000</td>\n",
       "      <td>-1645</td>\n",
       "      <td>85900</td>\n",
       "      <td>41</td>\n",
       "    </tr>\n",
       "    <tr>\n",
       "      <th>29999</th>\n",
       "      <td>50000</td>\n",
       "      <td>47929</td>\n",
       "      <td>2078</td>\n",
       "      <td>46</td>\n",
       "    </tr>\n",
       "  </tbody>\n",
       "</table>\n",
       "<p>30000 rows × 4 columns</p>\n",
       "</div>"
      ],
      "text/plain": [
       "       Limit_Bal  Bill_Amt1  Pay_Amt1  Age\n",
       "0          20000       3913         0   24\n",
       "1         120000       2682         0   26\n",
       "2          90000      29239      1518   34\n",
       "3          50000      46990      2000   37\n",
       "4          50000       8617      2000   57\n",
       "...          ...        ...       ...  ...\n",
       "29995     220000     188948      8500   39\n",
       "29996     150000       1683      1837   43\n",
       "29997      30000       3565         0   37\n",
       "29998      80000      -1645     85900   41\n",
       "29999      50000      47929      2078   46\n",
       "\n",
       "[30000 rows x 4 columns]"
      ]
     },
     "execution_count": 9,
     "metadata": {},
     "output_type": "execute_result"
    }
   ],
   "source": [
    "numericFeatures = df [ ['Limit_Bal', 'Bill_Amt1', 'Pay_Amt1', 'Age']  ]\n",
    "numericFeatures"
   ]
  },
  {
   "cell_type": "code",
   "execution_count": 89,
   "id": "478911a9-f492-46d9-98c1-e9ca465b62e9",
   "metadata": {
    "tags": []
   },
   "outputs": [
    {
     "data": {
      "text/html": [
       "<div>\n",
       "<style scoped>\n",
       "    .dataframe tbody tr th:only-of-type {\n",
       "        vertical-align: middle;\n",
       "    }\n",
       "\n",
       "    .dataframe tbody tr th {\n",
       "        vertical-align: top;\n",
       "    }\n",
       "\n",
       "    .dataframe thead th {\n",
       "        text-align: right;\n",
       "    }\n",
       "</style>\n",
       "<table border=\"1\" class=\"dataframe\">\n",
       "  <thead>\n",
       "    <tr style=\"text-align: right;\">\n",
       "      <th></th>\n",
       "      <th>Limit_Bal</th>\n",
       "      <th>Education</th>\n",
       "      <th>Marriage</th>\n",
       "      <th>Age</th>\n",
       "      <th>Pay_0</th>\n",
       "      <th>Bill_Amt1</th>\n",
       "      <th>Pay_Amt1</th>\n",
       "      <th>Payment</th>\n",
       "      <th>Card</th>\n",
       "    </tr>\n",
       "  </thead>\n",
       "  <tbody>\n",
       "    <tr>\n",
       "      <th>0</th>\n",
       "      <td>20000</td>\n",
       "      <td>University</td>\n",
       "      <td>married</td>\n",
       "      <td>24</td>\n",
       "      <td>Delay2</td>\n",
       "      <td>3913</td>\n",
       "      <td>0</td>\n",
       "      <td>Missed</td>\n",
       "      <td>Normal</td>\n",
       "    </tr>\n",
       "    <tr>\n",
       "      <th>1</th>\n",
       "      <td>120000</td>\n",
       "      <td>University</td>\n",
       "      <td>single</td>\n",
       "      <td>26</td>\n",
       "      <td>ontime</td>\n",
       "      <td>2682</td>\n",
       "      <td>0</td>\n",
       "      <td>Missed</td>\n",
       "      <td>Normal</td>\n",
       "    </tr>\n",
       "    <tr>\n",
       "      <th>2</th>\n",
       "      <td>90000</td>\n",
       "      <td>University</td>\n",
       "      <td>single</td>\n",
       "      <td>34</td>\n",
       "      <td>Delay0</td>\n",
       "      <td>29239</td>\n",
       "      <td>1518</td>\n",
       "      <td>Paid</td>\n",
       "      <td>Normal</td>\n",
       "    </tr>\n",
       "    <tr>\n",
       "      <th>3</th>\n",
       "      <td>50000</td>\n",
       "      <td>University</td>\n",
       "      <td>married</td>\n",
       "      <td>37</td>\n",
       "      <td>Delay0</td>\n",
       "      <td>46990</td>\n",
       "      <td>2000</td>\n",
       "      <td>Paid</td>\n",
       "      <td>Normal</td>\n",
       "    </tr>\n",
       "    <tr>\n",
       "      <th>4</th>\n",
       "      <td>50000</td>\n",
       "      <td>University</td>\n",
       "      <td>married</td>\n",
       "      <td>57</td>\n",
       "      <td>ontime</td>\n",
       "      <td>8617</td>\n",
       "      <td>2000</td>\n",
       "      <td>Paid</td>\n",
       "      <td>Gold</td>\n",
       "    </tr>\n",
       "  </tbody>\n",
       "</table>\n",
       "</div>"
      ],
      "text/plain": [
       "   Limit_Bal   Education Marriage  Age   Pay_0  Bill_Amt1  Pay_Amt1 Payment  \\\n",
       "0      20000  University  married   24  Delay2       3913         0  Missed   \n",
       "1     120000  University   single   26  ontime       2682         0  Missed   \n",
       "2      90000  University   single   34  Delay0      29239      1518    Paid   \n",
       "3      50000  University  married   37  Delay0      46990      2000    Paid   \n",
       "4      50000  University  married   57  ontime       8617      2000    Paid   \n",
       "\n",
       "     Card  \n",
       "0  Normal  \n",
       "1  Normal  \n",
       "2  Normal  \n",
       "3  Normal  \n",
       "4    Gold  "
      ]
     },
     "execution_count": 89,
     "metadata": {},
     "output_type": "execute_result"
    }
   ],
   "source": [
    "df.head()"
   ]
  },
  {
   "cell_type": "code",
   "execution_count": 10,
   "id": "da345773-d38d-4f4a-89a7-9e330e230c44",
   "metadata": {
    "tags": []
   },
   "outputs": [
    {
     "data": {
      "text/plain": [
       "single     15964\n",
       "married    13659\n",
       "other        323\n",
       "unknown       54\n",
       "Name: Marriage, dtype: int64"
      ]
     },
     "execution_count": 10,
     "metadata": {},
     "output_type": "execute_result"
    }
   ],
   "source": [
    "df['Marriage'].value_counts()"
   ]
  },
  {
   "cell_type": "code",
   "execution_count": 11,
   "id": "37ed058f-07eb-45ee-b9fd-96d3fb1089f3",
   "metadata": {},
   "outputs": [],
   "source": [
    "dummiesMarriage = pandas.get_dummies(df['Marriage'], prefix=\"Marriage\", drop_first=True)"
   ]
  },
  {
   "cell_type": "code",
   "execution_count": 91,
   "id": "7757a302-3073-49fe-916c-6708bcc0ba7b",
   "metadata": {
    "tags": []
   },
   "outputs": [
    {
     "data": {
      "text/plain": [
       "0        married\n",
       "1         single\n",
       "2         single\n",
       "3        married\n",
       "4        married\n",
       "          ...   \n",
       "29995    married\n",
       "29996     single\n",
       "29997     single\n",
       "29998    married\n",
       "29999    married\n",
       "Name: Marriage, Length: 30000, dtype: object"
      ]
     },
     "execution_count": 91,
     "metadata": {},
     "output_type": "execute_result"
    }
   ],
   "source": [
    "df['Marriage']"
   ]
  },
  {
   "cell_type": "code",
   "execution_count": 92,
   "id": "e4c7af08-998c-45b3-9b04-74047213feff",
   "metadata": {
    "tags": []
   },
   "outputs": [
    {
     "data": {
      "text/html": [
       "<div>\n",
       "<style scoped>\n",
       "    .dataframe tbody tr th:only-of-type {\n",
       "        vertical-align: middle;\n",
       "    }\n",
       "\n",
       "    .dataframe tbody tr th {\n",
       "        vertical-align: top;\n",
       "    }\n",
       "\n",
       "    .dataframe thead th {\n",
       "        text-align: right;\n",
       "    }\n",
       "</style>\n",
       "<table border=\"1\" class=\"dataframe\">\n",
       "  <thead>\n",
       "    <tr style=\"text-align: right;\">\n",
       "      <th></th>\n",
       "      <th>Marriage_other</th>\n",
       "      <th>Marriage_single</th>\n",
       "      <th>Marriage_unknown</th>\n",
       "    </tr>\n",
       "  </thead>\n",
       "  <tbody>\n",
       "    <tr>\n",
       "      <th>0</th>\n",
       "      <td>0</td>\n",
       "      <td>0</td>\n",
       "      <td>0</td>\n",
       "    </tr>\n",
       "    <tr>\n",
       "      <th>1</th>\n",
       "      <td>0</td>\n",
       "      <td>1</td>\n",
       "      <td>0</td>\n",
       "    </tr>\n",
       "    <tr>\n",
       "      <th>2</th>\n",
       "      <td>0</td>\n",
       "      <td>1</td>\n",
       "      <td>0</td>\n",
       "    </tr>\n",
       "    <tr>\n",
       "      <th>3</th>\n",
       "      <td>0</td>\n",
       "      <td>0</td>\n",
       "      <td>0</td>\n",
       "    </tr>\n",
       "    <tr>\n",
       "      <th>4</th>\n",
       "      <td>0</td>\n",
       "      <td>0</td>\n",
       "      <td>0</td>\n",
       "    </tr>\n",
       "    <tr>\n",
       "      <th>...</th>\n",
       "      <td>...</td>\n",
       "      <td>...</td>\n",
       "      <td>...</td>\n",
       "    </tr>\n",
       "    <tr>\n",
       "      <th>29995</th>\n",
       "      <td>0</td>\n",
       "      <td>0</td>\n",
       "      <td>0</td>\n",
       "    </tr>\n",
       "    <tr>\n",
       "      <th>29996</th>\n",
       "      <td>0</td>\n",
       "      <td>1</td>\n",
       "      <td>0</td>\n",
       "    </tr>\n",
       "    <tr>\n",
       "      <th>29997</th>\n",
       "      <td>0</td>\n",
       "      <td>1</td>\n",
       "      <td>0</td>\n",
       "    </tr>\n",
       "    <tr>\n",
       "      <th>29998</th>\n",
       "      <td>0</td>\n",
       "      <td>0</td>\n",
       "      <td>0</td>\n",
       "    </tr>\n",
       "    <tr>\n",
       "      <th>29999</th>\n",
       "      <td>0</td>\n",
       "      <td>0</td>\n",
       "      <td>0</td>\n",
       "    </tr>\n",
       "  </tbody>\n",
       "</table>\n",
       "<p>30000 rows × 3 columns</p>\n",
       "</div>"
      ],
      "text/plain": [
       "       Marriage_other  Marriage_single  Marriage_unknown\n",
       "0                   0                0                 0\n",
       "1                   0                1                 0\n",
       "2                   0                1                 0\n",
       "3                   0                0                 0\n",
       "4                   0                0                 0\n",
       "...               ...              ...               ...\n",
       "29995               0                0                 0\n",
       "29996               0                1                 0\n",
       "29997               0                1                 0\n",
       "29998               0                0                 0\n",
       "29999               0                0                 0\n",
       "\n",
       "[30000 rows x 3 columns]"
      ]
     },
     "execution_count": 92,
     "metadata": {},
     "output_type": "execute_result"
    }
   ],
   "source": [
    "dummiesMarriage"
   ]
  },
  {
   "cell_type": "code",
   "execution_count": 12,
   "id": "0997a2fb-4deb-4522-bdb2-7f9496c04925",
   "metadata": {},
   "outputs": [],
   "source": [
    "dummiesCard = pandas.get_dummies(df['Card'], prefix=\"Card\", drop_first=True)"
   ]
  },
  {
   "cell_type": "code",
   "execution_count": 94,
   "id": "ea7bdf83-334d-47f1-8f6d-c7f79c54fc6e",
   "metadata": {
    "tags": []
   },
   "outputs": [
    {
     "data": {
      "text/plain": [
       "Normal    18112\n",
       "Gold      11888\n",
       "Name: Card, dtype: int64"
      ]
     },
     "execution_count": 94,
     "metadata": {},
     "output_type": "execute_result"
    }
   ],
   "source": [
    "df['Card'].value_counts()"
   ]
  },
  {
   "cell_type": "code",
   "execution_count": 95,
   "id": "314c7157-a8b3-40be-a75e-081a945b6552",
   "metadata": {
    "tags": []
   },
   "outputs": [
    {
     "data": {
      "text/html": [
       "<div>\n",
       "<style scoped>\n",
       "    .dataframe tbody tr th:only-of-type {\n",
       "        vertical-align: middle;\n",
       "    }\n",
       "\n",
       "    .dataframe tbody tr th {\n",
       "        vertical-align: top;\n",
       "    }\n",
       "\n",
       "    .dataframe thead th {\n",
       "        text-align: right;\n",
       "    }\n",
       "</style>\n",
       "<table border=\"1\" class=\"dataframe\">\n",
       "  <thead>\n",
       "    <tr style=\"text-align: right;\">\n",
       "      <th></th>\n",
       "      <th>Card_Normal</th>\n",
       "    </tr>\n",
       "  </thead>\n",
       "  <tbody>\n",
       "    <tr>\n",
       "      <th>0</th>\n",
       "      <td>1</td>\n",
       "    </tr>\n",
       "    <tr>\n",
       "      <th>1</th>\n",
       "      <td>1</td>\n",
       "    </tr>\n",
       "    <tr>\n",
       "      <th>2</th>\n",
       "      <td>1</td>\n",
       "    </tr>\n",
       "    <tr>\n",
       "      <th>3</th>\n",
       "      <td>1</td>\n",
       "    </tr>\n",
       "    <tr>\n",
       "      <th>4</th>\n",
       "      <td>0</td>\n",
       "    </tr>\n",
       "    <tr>\n",
       "      <th>...</th>\n",
       "      <td>...</td>\n",
       "    </tr>\n",
       "    <tr>\n",
       "      <th>29995</th>\n",
       "      <td>0</td>\n",
       "    </tr>\n",
       "    <tr>\n",
       "      <th>29996</th>\n",
       "      <td>0</td>\n",
       "    </tr>\n",
       "    <tr>\n",
       "      <th>29997</th>\n",
       "      <td>0</td>\n",
       "    </tr>\n",
       "    <tr>\n",
       "      <th>29998</th>\n",
       "      <td>0</td>\n",
       "    </tr>\n",
       "    <tr>\n",
       "      <th>29999</th>\n",
       "      <td>0</td>\n",
       "    </tr>\n",
       "  </tbody>\n",
       "</table>\n",
       "<p>30000 rows × 1 columns</p>\n",
       "</div>"
      ],
      "text/plain": [
       "       Card_Normal\n",
       "0                1\n",
       "1                1\n",
       "2                1\n",
       "3                1\n",
       "4                0\n",
       "...            ...\n",
       "29995            0\n",
       "29996            0\n",
       "29997            0\n",
       "29998            0\n",
       "29999            0\n",
       "\n",
       "[30000 rows x 1 columns]"
      ]
     },
     "execution_count": 95,
     "metadata": {},
     "output_type": "execute_result"
    }
   ],
   "source": [
    "dummiesCard"
   ]
  },
  {
   "cell_type": "code",
   "execution_count": 96,
   "id": "188baae4-b3fb-427b-af68-d6ad40160f53",
   "metadata": {
    "tags": []
   },
   "outputs": [
    {
     "data": {
      "text/plain": [
       "0        Normal\n",
       "1        Normal\n",
       "2        Normal\n",
       "3        Normal\n",
       "4          Gold\n",
       "          ...  \n",
       "29995      Gold\n",
       "29996      Gold\n",
       "29997      Gold\n",
       "29998      Gold\n",
       "29999      Gold\n",
       "Name: Card, Length: 30000, dtype: object"
      ]
     },
     "execution_count": 96,
     "metadata": {},
     "output_type": "execute_result"
    }
   ],
   "source": [
    "df['Card']"
   ]
  },
  {
   "cell_type": "code",
   "execution_count": 13,
   "id": "ad72ffb4-f588-4941-8d2b-654f6013cadd",
   "metadata": {},
   "outputs": [],
   "source": [
    "dummiesPay_0 = pandas.get_dummies(df['Pay_0'], prefix=\"Pay_0\", drop_first=True)"
   ]
  },
  {
   "cell_type": "code",
   "execution_count": 98,
   "id": "673cd88b-e7a1-4ba4-a4c0-ef8d501e4560",
   "metadata": {},
   "outputs": [
    {
     "data": {
      "text/plain": [
       "Delay0     14737\n",
       "ontime      5686\n",
       "Delay1      3688\n",
       "unknown     2759\n",
       "Delay2      2667\n",
       "Delay3       322\n",
       "Delay4        76\n",
       "Delay5        26\n",
       "Delay8+       19\n",
       "Delay6        11\n",
       "Delay7         9\n",
       "Name: Pay_0, dtype: int64"
      ]
     },
     "execution_count": 98,
     "metadata": {},
     "output_type": "execute_result"
    }
   ],
   "source": [
    "df['Pay_0'].value_counts()"
   ]
  },
  {
   "cell_type": "code",
   "execution_count": 99,
   "id": "5541a66d-d249-4c04-b0da-8f3bf1c45966",
   "metadata": {},
   "outputs": [
    {
     "data": {
      "text/plain": [
       "(30000, 10)"
      ]
     },
     "execution_count": 99,
     "metadata": {},
     "output_type": "execute_result"
    }
   ],
   "source": [
    "dummiesPay_0.shape"
   ]
  },
  {
   "cell_type": "code",
   "execution_count": 14,
   "id": "7fb5adc8-b622-4ce8-b13c-eb7186697045",
   "metadata": {},
   "outputs": [],
   "source": [
    "features = pandas.concat([numericFeatures, dummiesMarriage, dummiesCard, dummiesPay_0], axis = 1)"
   ]
  },
  {
   "cell_type": "code",
   "execution_count": 101,
   "id": "269a6f43-c8d1-4bcf-ae91-09d45e258eec",
   "metadata": {},
   "outputs": [
    {
     "data": {
      "text/html": [
       "<div>\n",
       "<style scoped>\n",
       "    .dataframe tbody tr th:only-of-type {\n",
       "        vertical-align: middle;\n",
       "    }\n",
       "\n",
       "    .dataframe tbody tr th {\n",
       "        vertical-align: top;\n",
       "    }\n",
       "\n",
       "    .dataframe thead th {\n",
       "        text-align: right;\n",
       "    }\n",
       "</style>\n",
       "<table border=\"1\" class=\"dataframe\">\n",
       "  <thead>\n",
       "    <tr style=\"text-align: right;\">\n",
       "      <th></th>\n",
       "      <th>Limit_Bal</th>\n",
       "      <th>Bill_Amt1</th>\n",
       "      <th>Pay_Amt1</th>\n",
       "      <th>Age</th>\n",
       "      <th>Marriage_other</th>\n",
       "      <th>Marriage_single</th>\n",
       "      <th>Marriage_unknown</th>\n",
       "      <th>Card_Normal</th>\n",
       "      <th>Pay_0_Delay1</th>\n",
       "      <th>Pay_0_Delay2</th>\n",
       "      <th>Pay_0_Delay3</th>\n",
       "      <th>Pay_0_Delay4</th>\n",
       "      <th>Pay_0_Delay5</th>\n",
       "      <th>Pay_0_Delay6</th>\n",
       "      <th>Pay_0_Delay7</th>\n",
       "      <th>Pay_0_Delay8+</th>\n",
       "      <th>Pay_0_ontime</th>\n",
       "      <th>Pay_0_unknown</th>\n",
       "    </tr>\n",
       "  </thead>\n",
       "  <tbody>\n",
       "    <tr>\n",
       "      <th>0</th>\n",
       "      <td>20000</td>\n",
       "      <td>3913</td>\n",
       "      <td>0</td>\n",
       "      <td>24</td>\n",
       "      <td>0</td>\n",
       "      <td>0</td>\n",
       "      <td>0</td>\n",
       "      <td>1</td>\n",
       "      <td>0</td>\n",
       "      <td>1</td>\n",
       "      <td>0</td>\n",
       "      <td>0</td>\n",
       "      <td>0</td>\n",
       "      <td>0</td>\n",
       "      <td>0</td>\n",
       "      <td>0</td>\n",
       "      <td>0</td>\n",
       "      <td>0</td>\n",
       "    </tr>\n",
       "    <tr>\n",
       "      <th>1</th>\n",
       "      <td>120000</td>\n",
       "      <td>2682</td>\n",
       "      <td>0</td>\n",
       "      <td>26</td>\n",
       "      <td>0</td>\n",
       "      <td>1</td>\n",
       "      <td>0</td>\n",
       "      <td>1</td>\n",
       "      <td>0</td>\n",
       "      <td>0</td>\n",
       "      <td>0</td>\n",
       "      <td>0</td>\n",
       "      <td>0</td>\n",
       "      <td>0</td>\n",
       "      <td>0</td>\n",
       "      <td>0</td>\n",
       "      <td>1</td>\n",
       "      <td>0</td>\n",
       "    </tr>\n",
       "    <tr>\n",
       "      <th>2</th>\n",
       "      <td>90000</td>\n",
       "      <td>29239</td>\n",
       "      <td>1518</td>\n",
       "      <td>34</td>\n",
       "      <td>0</td>\n",
       "      <td>1</td>\n",
       "      <td>0</td>\n",
       "      <td>1</td>\n",
       "      <td>0</td>\n",
       "      <td>0</td>\n",
       "      <td>0</td>\n",
       "      <td>0</td>\n",
       "      <td>0</td>\n",
       "      <td>0</td>\n",
       "      <td>0</td>\n",
       "      <td>0</td>\n",
       "      <td>0</td>\n",
       "      <td>0</td>\n",
       "    </tr>\n",
       "    <tr>\n",
       "      <th>3</th>\n",
       "      <td>50000</td>\n",
       "      <td>46990</td>\n",
       "      <td>2000</td>\n",
       "      <td>37</td>\n",
       "      <td>0</td>\n",
       "      <td>0</td>\n",
       "      <td>0</td>\n",
       "      <td>1</td>\n",
       "      <td>0</td>\n",
       "      <td>0</td>\n",
       "      <td>0</td>\n",
       "      <td>0</td>\n",
       "      <td>0</td>\n",
       "      <td>0</td>\n",
       "      <td>0</td>\n",
       "      <td>0</td>\n",
       "      <td>0</td>\n",
       "      <td>0</td>\n",
       "    </tr>\n",
       "    <tr>\n",
       "      <th>4</th>\n",
       "      <td>50000</td>\n",
       "      <td>8617</td>\n",
       "      <td>2000</td>\n",
       "      <td>57</td>\n",
       "      <td>0</td>\n",
       "      <td>0</td>\n",
       "      <td>0</td>\n",
       "      <td>0</td>\n",
       "      <td>0</td>\n",
       "      <td>0</td>\n",
       "      <td>0</td>\n",
       "      <td>0</td>\n",
       "      <td>0</td>\n",
       "      <td>0</td>\n",
       "      <td>0</td>\n",
       "      <td>0</td>\n",
       "      <td>1</td>\n",
       "      <td>0</td>\n",
       "    </tr>\n",
       "    <tr>\n",
       "      <th>...</th>\n",
       "      <td>...</td>\n",
       "      <td>...</td>\n",
       "      <td>...</td>\n",
       "      <td>...</td>\n",
       "      <td>...</td>\n",
       "      <td>...</td>\n",
       "      <td>...</td>\n",
       "      <td>...</td>\n",
       "      <td>...</td>\n",
       "      <td>...</td>\n",
       "      <td>...</td>\n",
       "      <td>...</td>\n",
       "      <td>...</td>\n",
       "      <td>...</td>\n",
       "      <td>...</td>\n",
       "      <td>...</td>\n",
       "      <td>...</td>\n",
       "      <td>...</td>\n",
       "    </tr>\n",
       "    <tr>\n",
       "      <th>29995</th>\n",
       "      <td>220000</td>\n",
       "      <td>188948</td>\n",
       "      <td>8500</td>\n",
       "      <td>39</td>\n",
       "      <td>0</td>\n",
       "      <td>0</td>\n",
       "      <td>0</td>\n",
       "      <td>0</td>\n",
       "      <td>0</td>\n",
       "      <td>0</td>\n",
       "      <td>0</td>\n",
       "      <td>0</td>\n",
       "      <td>0</td>\n",
       "      <td>0</td>\n",
       "      <td>0</td>\n",
       "      <td>0</td>\n",
       "      <td>0</td>\n",
       "      <td>0</td>\n",
       "    </tr>\n",
       "    <tr>\n",
       "      <th>29996</th>\n",
       "      <td>150000</td>\n",
       "      <td>1683</td>\n",
       "      <td>1837</td>\n",
       "      <td>43</td>\n",
       "      <td>0</td>\n",
       "      <td>1</td>\n",
       "      <td>0</td>\n",
       "      <td>0</td>\n",
       "      <td>0</td>\n",
       "      <td>0</td>\n",
       "      <td>0</td>\n",
       "      <td>0</td>\n",
       "      <td>0</td>\n",
       "      <td>0</td>\n",
       "      <td>0</td>\n",
       "      <td>0</td>\n",
       "      <td>1</td>\n",
       "      <td>0</td>\n",
       "    </tr>\n",
       "    <tr>\n",
       "      <th>29997</th>\n",
       "      <td>30000</td>\n",
       "      <td>3565</td>\n",
       "      <td>0</td>\n",
       "      <td>37</td>\n",
       "      <td>0</td>\n",
       "      <td>1</td>\n",
       "      <td>0</td>\n",
       "      <td>0</td>\n",
       "      <td>0</td>\n",
       "      <td>0</td>\n",
       "      <td>0</td>\n",
       "      <td>1</td>\n",
       "      <td>0</td>\n",
       "      <td>0</td>\n",
       "      <td>0</td>\n",
       "      <td>0</td>\n",
       "      <td>0</td>\n",
       "      <td>0</td>\n",
       "    </tr>\n",
       "    <tr>\n",
       "      <th>29998</th>\n",
       "      <td>80000</td>\n",
       "      <td>-1645</td>\n",
       "      <td>85900</td>\n",
       "      <td>41</td>\n",
       "      <td>0</td>\n",
       "      <td>0</td>\n",
       "      <td>0</td>\n",
       "      <td>0</td>\n",
       "      <td>1</td>\n",
       "      <td>0</td>\n",
       "      <td>0</td>\n",
       "      <td>0</td>\n",
       "      <td>0</td>\n",
       "      <td>0</td>\n",
       "      <td>0</td>\n",
       "      <td>0</td>\n",
       "      <td>0</td>\n",
       "      <td>0</td>\n",
       "    </tr>\n",
       "    <tr>\n",
       "      <th>29999</th>\n",
       "      <td>50000</td>\n",
       "      <td>47929</td>\n",
       "      <td>2078</td>\n",
       "      <td>46</td>\n",
       "      <td>0</td>\n",
       "      <td>0</td>\n",
       "      <td>0</td>\n",
       "      <td>0</td>\n",
       "      <td>0</td>\n",
       "      <td>0</td>\n",
       "      <td>0</td>\n",
       "      <td>0</td>\n",
       "      <td>0</td>\n",
       "      <td>0</td>\n",
       "      <td>0</td>\n",
       "      <td>0</td>\n",
       "      <td>0</td>\n",
       "      <td>0</td>\n",
       "    </tr>\n",
       "  </tbody>\n",
       "</table>\n",
       "<p>30000 rows × 18 columns</p>\n",
       "</div>"
      ],
      "text/plain": [
       "       Limit_Bal  Bill_Amt1  Pay_Amt1  Age  Marriage_other  Marriage_single  \\\n",
       "0          20000       3913         0   24               0                0   \n",
       "1         120000       2682         0   26               0                1   \n",
       "2          90000      29239      1518   34               0                1   \n",
       "3          50000      46990      2000   37               0                0   \n",
       "4          50000       8617      2000   57               0                0   \n",
       "...          ...        ...       ...  ...             ...              ...   \n",
       "29995     220000     188948      8500   39               0                0   \n",
       "29996     150000       1683      1837   43               0                1   \n",
       "29997      30000       3565         0   37               0                1   \n",
       "29998      80000      -1645     85900   41               0                0   \n",
       "29999      50000      47929      2078   46               0                0   \n",
       "\n",
       "       Marriage_unknown  Card_Normal  Pay_0_Delay1  Pay_0_Delay2  \\\n",
       "0                     0            1             0             1   \n",
       "1                     0            1             0             0   \n",
       "2                     0            1             0             0   \n",
       "3                     0            1             0             0   \n",
       "4                     0            0             0             0   \n",
       "...                 ...          ...           ...           ...   \n",
       "29995                 0            0             0             0   \n",
       "29996                 0            0             0             0   \n",
       "29997                 0            0             0             0   \n",
       "29998                 0            0             1             0   \n",
       "29999                 0            0             0             0   \n",
       "\n",
       "       Pay_0_Delay3  Pay_0_Delay4  Pay_0_Delay5  Pay_0_Delay6  Pay_0_Delay7  \\\n",
       "0                 0             0             0             0             0   \n",
       "1                 0             0             0             0             0   \n",
       "2                 0             0             0             0             0   \n",
       "3                 0             0             0             0             0   \n",
       "4                 0             0             0             0             0   \n",
       "...             ...           ...           ...           ...           ...   \n",
       "29995             0             0             0             0             0   \n",
       "29996             0             0             0             0             0   \n",
       "29997             0             1             0             0             0   \n",
       "29998             0             0             0             0             0   \n",
       "29999             0             0             0             0             0   \n",
       "\n",
       "       Pay_0_Delay8+  Pay_0_ontime  Pay_0_unknown  \n",
       "0                  0             0              0  \n",
       "1                  0             1              0  \n",
       "2                  0             0              0  \n",
       "3                  0             0              0  \n",
       "4                  0             1              0  \n",
       "...              ...           ...            ...  \n",
       "29995              0             0              0  \n",
       "29996              0             1              0  \n",
       "29997              0             0              0  \n",
       "29998              0             0              0  \n",
       "29999              0             0              0  \n",
       "\n",
       "[30000 rows x 18 columns]"
      ]
     },
     "execution_count": 101,
     "metadata": {},
     "output_type": "execute_result"
    }
   ],
   "source": [
    "features"
   ]
  },
  {
   "cell_type": "code",
   "execution_count": 15,
   "id": "89e4f432-f616-4661-8ed0-f673547e1057",
   "metadata": {},
   "outputs": [],
   "source": [
    "featuresTrain, featuresTest, outcomeTrain, outcomeTest = sklearn.model_selection.train_test_split(\n",
    "    features, outcome, test_size = 0.33)"
   ]
  },
  {
   "cell_type": "code",
   "execution_count": 103,
   "id": "22c1a452-7d43-4e9a-9f5a-74703d639aee",
   "metadata": {
    "tags": []
   },
   "outputs": [
    {
     "data": {
      "text/plain": [
       "(20100, 18)"
      ]
     },
     "execution_count": 103,
     "metadata": {},
     "output_type": "execute_result"
    }
   ],
   "source": [
    "featuresTrain.shape"
   ]
  },
  {
   "cell_type": "code",
   "execution_count": 104,
   "id": "6ef5e9a5-7b0a-404b-a137-899b413e9ffe",
   "metadata": {
    "tags": []
   },
   "outputs": [
    {
     "data": {
      "text/plain": [
       "(9900, 18)"
      ]
     },
     "execution_count": 104,
     "metadata": {},
     "output_type": "execute_result"
    }
   ],
   "source": [
    "featuresTest.shape"
   ]
  },
  {
   "cell_type": "code",
   "execution_count": 105,
   "id": "f978b9db-e48e-489f-a3d7-42a3515cc146",
   "metadata": {
    "tags": []
   },
   "outputs": [
    {
     "data": {
      "text/plain": [
       "(20100,)"
      ]
     },
     "execution_count": 105,
     "metadata": {},
     "output_type": "execute_result"
    }
   ],
   "source": [
    "outcomeTrain.shape"
   ]
  },
  {
   "cell_type": "code",
   "execution_count": 106,
   "id": "b5628d8b-22ac-4379-ad0e-227541d8e776",
   "metadata": {
    "tags": []
   },
   "outputs": [
    {
     "data": {
      "text/plain": [
       "(9900,)"
      ]
     },
     "execution_count": 106,
     "metadata": {},
     "output_type": "execute_result"
    }
   ],
   "source": [
    "outcomeTest.shape"
   ]
  },
  {
   "cell_type": "code",
   "execution_count": 107,
   "id": "b8b57825-af0a-447b-9e24-f22180f29454",
   "metadata": {},
   "outputs": [],
   "source": [
    "from sklearn.linear_model import LogisticRegression"
   ]
  },
  {
   "cell_type": "code",
   "execution_count": 108,
   "id": "5e15a6cd-6b21-4a02-a775-cec69d7675a6",
   "metadata": {},
   "outputs": [],
   "source": [
    "modelLog = LogisticRegression()"
   ]
  },
  {
   "cell_type": "code",
   "execution_count": 109,
   "id": "9c8dcfdf-918e-4201-a641-44f9cd367991",
   "metadata": {},
   "outputs": [],
   "source": [
    "resultLog = modelLog.fit(featuresTrain, outcomeTrain)"
   ]
  },
  {
   "cell_type": "code",
   "execution_count": 110,
   "id": "ed998470-28ca-40fa-86b9-40f80e3aea4a",
   "metadata": {},
   "outputs": [],
   "source": [
    "predLogTrain = modelLog.predict(featuresTrain)"
   ]
  },
  {
   "cell_type": "code",
   "execution_count": 111,
   "id": "25c1e764-df30-4e84-a95e-21cdd1ff5d72",
   "metadata": {},
   "outputs": [
    {
     "data": {
      "text/plain": [
       "LogisticRegression()"
      ]
     },
     "execution_count": 111,
     "metadata": {},
     "output_type": "execute_result"
    }
   ],
   "source": [
    "resultLog"
   ]
  },
  {
   "cell_type": "code",
   "execution_count": 112,
   "id": "b888ec7b-cf57-4ebc-b5e5-11c5532d2b39",
   "metadata": {},
   "outputs": [
    {
     "data": {
      "text/plain": [
       "array(['Paid', 'Paid', 'Paid', ..., 'Paid', 'Paid', 'Paid'], dtype=object)"
      ]
     },
     "execution_count": 112,
     "metadata": {},
     "output_type": "execute_result"
    }
   ],
   "source": [
    "predLogTrain"
   ]
  },
  {
   "cell_type": "code",
   "execution_count": 113,
   "id": "648d90aa-4d69-4936-84fd-39d8f2f1fcc7",
   "metadata": {},
   "outputs": [],
   "source": [
    "cmLogTrain = sklearn.metrics.confusion_matrix(outcomeTrain, predLogTrain)"
   ]
  },
  {
   "cell_type": "code",
   "execution_count": 122,
   "id": "3ceb9ab7-3af4-42b1-9904-779fc6a48eff",
   "metadata": {},
   "outputs": [
    {
     "name": "stdout",
     "output_type": "stream",
     "text": [
      "[[    0  4491]\n",
      " [    0 15609]]\n"
     ]
    }
   ],
   "source": [
    "print(cmLogTrain)"
   ]
  },
  {
   "cell_type": "code",
   "execution_count": 123,
   "id": "cd393598-314c-4d67-afaa-9c859dae52e8",
   "metadata": {},
   "outputs": [
    {
     "data": {
      "text/plain": [
       "<sklearn.metrics._plot.confusion_matrix.ConfusionMatrixDisplay at 0x1df3e762460>"
      ]
     },
     "execution_count": 123,
     "metadata": {},
     "output_type": "execute_result"
    },
    {
     "data": {
      "image/png": "[encoded data removed]",
      "text/plain": [
       "<Figure size 432x288 with 2 Axes>"
      ]
     },
     "metadata": {
      "needs_background": "light"
     },
     "output_type": "display_data"
    }
   ],
   "source": [
    "sklearn.metrics.ConfusionMatrixDisplay(cmLogTrain, display_labels = modelLog.classes_).plot()"
   ]
  },
  {
   "cell_type": "code",
   "execution_count": 116,
   "id": "1beff548-7380-4e33-ba47-836b5fe87ae0",
   "metadata": {},
   "outputs": [
    {
     "data": {
      "text/plain": [
       "0.7765671641791044"
      ]
     },
     "execution_count": 116,
     "metadata": {},
     "output_type": "execute_result"
    }
   ],
   "source": [
    "(15609+0)/20100"
   ]
  },
  {
   "cell_type": "code",
   "execution_count": 117,
   "id": "70864400-082f-44e3-8921-b4d87be194ce",
   "metadata": {},
   "outputs": [
    {
     "data": {
      "text/plain": [
       "0.7765671641791044"
      ]
     },
     "execution_count": 117,
     "metadata": {},
     "output_type": "execute_result"
    }
   ],
   "source": [
    "sklearn.metrics.accuracy_score(outcomeTrain, predLogTrain)"
   ]
  },
  {
   "cell_type": "code",
   "execution_count": 118,
   "id": "89b22928-2866-46de-8e44-db95ab07e5f6",
   "metadata": {},
   "outputs": [],
   "source": [
    "predLogTest = modelLog.predict(featuresTest)"
   ]
  },
  {
   "cell_type": "code",
   "execution_count": 119,
   "id": "e782ed5c-976a-4a71-88aa-d60b1041ad48",
   "metadata": {},
   "outputs": [],
   "source": [
    "cmLogTest = sklearn.metrics.confusion_matrix(outcomeTest, predLogTest)"
   ]
  },
  {
   "cell_type": "code",
   "execution_count": 120,
   "id": "a7f037af-0ac7-4e8e-9d9f-f307b59f52e7",
   "metadata": {},
   "outputs": [
    {
     "data": {
      "text/plain": [
       "<sklearn.metrics._plot.confusion_matrix.ConfusionMatrixDisplay at 0x1df3e762b80>"
      ]
     },
     "execution_count": 120,
     "metadata": {},
     "output_type": "execute_result"
    },
    {
     "data": {
      "image/png": "[encoded data removed]",
      "text/plain": [
       "<Figure size 432x288 with 2 Axes>"
      ]
     },
     "metadata": {
      "needs_background": "light"
     },
     "output_type": "display_data"
    }
   ],
   "source": [
    "sklearn.metrics.ConfusionMatrixDisplay(cmLogTest, display_labels = modelLog.classes_).plot()"
   ]
  },
  {
   "cell_type": "code",
   "execution_count": 121,
   "id": "6e675fc9-a78e-4149-8673-53ee0f057402",
   "metadata": {},
   "outputs": [
    {
     "data": {
      "text/plain": [
       "0.7833333333333333"
      ]
     },
     "execution_count": 121,
     "metadata": {},
     "output_type": "execute_result"
    }
   ],
   "source": [
    "sklearn.metrics.accuracy_score(outcomeTest, predLogTest)"
   ]
  },
  {
   "cell_type": "code",
   "execution_count": 16,
   "id": "40d59f8b-4f14-4e42-aed4-b6a706319073",
   "metadata": {},
   "outputs": [],
   "source": [
    "from sklearn.naive_bayes import GaussianNB"
   ]
  },
  {
   "cell_type": "code",
   "execution_count": 17,
   "id": "5896644b-3b87-4e50-9002-3c69770ce0d0",
   "metadata": {},
   "outputs": [],
   "source": [
    "modelNB = GaussianNB()"
   ]
  },
  {
   "cell_type": "code",
   "execution_count": 18,
   "id": "ee10d7a9-7e9e-4b78-a145-133a0c25c9f7",
   "metadata": {},
   "outputs": [],
   "source": [
    "resultNB = modelNB.fit(featuresTrain, outcomeTrain)"
   ]
  },
  {
   "cell_type": "code",
   "execution_count": 19,
   "id": "b65db6e3-447d-452c-b69a-cae29368592c",
   "metadata": {},
   "outputs": [],
   "source": [
    "predictNB = resultNB.predict(featuresTrain)"
   ]
  },
  {
   "cell_type": "code",
   "execution_count": 22,
   "id": "a8b27165-ba8a-447e-87aa-2b0c7c66d29a",
   "metadata": {},
   "outputs": [],
   "source": [
    "cmNBTrain = sklearn.metrics.confusion_matrix(outcomeTrain, predictNB)"
   ]
  },
  {
   "cell_type": "code",
   "execution_count": 23,
   "id": "0ab1608f-f5e5-4921-a18e-ef9031cba6ef",
   "metadata": {},
   "outputs": [
    {
     "data": {
      "text/plain": [
       "<sklearn.metrics._plot.confusion_matrix.ConfusionMatrixDisplay at 0x1d470fd2a60>"
      ]
     },
     "execution_count": 23,
     "metadata": {},
     "output_type": "execute_result"
    },
    {
     "data": {
      "image/png": "[encoded data removed]",
      "text/plain": [
       "<Figure size 432x288 with 2 Axes>"
      ]
     },
     "metadata": {
      "needs_background": "light"
     },
     "output_type": "display_data"
    }
   ],
   "source": [
    "sklearn.metrics.ConfusionMatrixDisplay(cmNBTrain, display_labels = modelNB.classes_).plot()"
   ]
  },
  {
   "cell_type": "code",
   "execution_count": 24,
   "id": "d61bc18f-6c24-4e0e-9881-d7798b7be381",
   "metadata": {},
   "outputs": [
    {
     "data": {
      "text/plain": [
       "0.7730845771144279"
      ]
     },
     "execution_count": 24,
     "metadata": {},
     "output_type": "execute_result"
    }
   ],
   "source": [
    "sklearn.metrics.accuracy_score(outcomeTrain, predictNB)"
   ]
  },
  {
   "cell_type": "code",
   "execution_count": 25,
   "id": "70f2f26e-547f-4a75-837a-9a6acb837b7d",
   "metadata": {},
   "outputs": [],
   "source": [
    "predNBTest = modelNB.predict(featuresTest)"
   ]
  },
  {
   "cell_type": "code",
   "execution_count": 26,
   "id": "4b5f6f14-8dd6-4755-b86c-e7e89abf92e0",
   "metadata": {},
   "outputs": [
    {
     "data": {
      "text/plain": [
       "0.778080808080808"
      ]
     },
     "execution_count": 26,
     "metadata": {},
     "output_type": "execute_result"
    }
   ],
   "source": [
    "sklearn.metrics.accuracy_score(outcomeTest, predNBTest)"
   ]
  },
  {
   "cell_type": "code",
   "execution_count": null,
   "id": "c1b4dd4b-235b-48f8-ade6-be7b9d317797",
   "metadata": {},
   "outputs": [],
   "source": []
  }
 ],
 "metadata": {
  "kernelspec": {
   "display_name": "Python 3 (ipykernel)",
   "language": "python",
   "name": "python3"
  },
  "language_info": {
   "codemirror_mode": {
    "name": "ipython",
    "version": 3
   },
   "file_extension": ".py",
   "mimetype": "text/x-python",
   "name": "python",
   "nbconvert_exporter": "python",
   "pygments_lexer": "ipython3",
   "version": "3.9.5"
  }
 },
 "nbformat": 4,
 "nbformat_minor": 5
}
